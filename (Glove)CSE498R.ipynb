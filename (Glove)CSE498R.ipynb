{
  "nbformat": 4,
  "nbformat_minor": 0,
  "metadata": {
    "colab": {
      "name": " (Glove)CSE498R.ipynb",
      "provenance": [],
      "collapsed_sections": [],
      "include_colab_link": true
    },
    "kernelspec": {
      "name": "python3",
      "display_name": "Python 3"
    },
    "language_info": {
      "name": "python"
    },
    "accelerator": "GPU"
  },
  "cells": [
    {
      "cell_type": "markdown",
      "metadata": {
        "id": "view-in-github",
        "colab_type": "text"
      },
      "source": [
        "<a href=\"https://colab.research.google.com/github/MohdIstiaqHossainJunaid/Bangla-Food-Review-Sentimental-Analysis-using-Machine-Learning/blob/main/(Glove)CSE498R.ipynb\" target=\"_parent\"><img src=\"https://colab.research.google.com/assets/colab-badge.svg\" alt=\"Open In Colab\"/></a>"
      ]
    },
    {
      "cell_type": "markdown",
      "metadata": {
        "id": "J69WX2fmwvm3"
      },
      "source": [
        "**A Sentiment Analysis Model of Food Reviews in Bengali Texts Based on Deep Learning techniques.**\n",
        "\n",
        "Supervisor- **Afn1**\n",
        "\n"
      ]
    },
    {
      "cell_type": "markdown",
      "metadata": {
        "id": "jlflorw21K8X"
      },
      "source": [
        "**Members:**\n",
        "\n",
        "1.   Mohd. Istiaq Hossain Junaid,1821577642\n",
        "2.   Faisal Hossain\n",
        "3.   Udayan shah Upal\n",
        "4.   Anjana tameem(Unofficial)\n",
        "\n",
        "\n",
        "\n"
      ]
    },
    {
      "cell_type": "markdown",
      "source": [
        "#**Preprocessing**\n"
      ],
      "metadata": {
        "id": "MqMoFUWzyfK7"
      }
    },
    {
      "cell_type": "markdown",
      "source": [
        "**Step 01 - Punctuation Removal**\n"
      ],
      "metadata": {
        "id": "Bu2WfOYKyp-a"
      }
    },
    {
      "cell_type": "code",
      "metadata": {
        "colab": {
          "base_uri": "https://localhost:8080/"
        },
        "id": "i9PM0tK85wUu",
        "outputId": "0ef44055-3916-47da-ee7d-fc1f7e8b28c9"
      },
      "source": [
        "from google.colab import drive\n",
        "drive.mount('/content/drive')"
      ],
      "execution_count": null,
      "outputs": [
        {
          "output_type": "stream",
          "name": "stdout",
          "text": [
            "Mounted at /content/drive\n"
          ]
        }
      ]
    },
    {
      "cell_type": "code",
      "metadata": {
        "colab": {
          "base_uri": "https://localhost:8080/",
          "height": 90
        },
        "id": "ZmZHWveSzFEg",
        "outputId": "8c01cb60-31cc-496d-e898-057fb7e6950d"
      },
      "source": [
        "import tensorflow as tf\n",
        "import pandas as pd\n",
        "import matplotlib.pyplot as plt\n",
        "import random\n",
        "\n",
        "\n",
        "\n",
        "import keras\n",
        "from keras.layers import LSTM, Activation, Dropout, Dense, Input, Conv1D, MaxPooling1D, GlobalMaxPooling1D\n",
        "from keras.layers.embeddings import Embedding\n",
        "from keras.models import Model\n",
        "import string\n",
        "import re\n",
        "from keras.preprocessing.text import Tokenizer\n",
        "from sklearn.preprocessing import LabelBinarizer\n",
        "from keras.preprocessing.sequence import pad_sequences\n",
        "from sklearn.model_selection import train_test_split\n",
        "import matplotlib.pyplot as plt\n",
        "import seaborn as sns\n",
        "\n",
        "\n",
        "\n",
        "\n",
        "import string \n",
        "import cufflinks as cf\n",
        "import seaborn as sns\n",
        "from plotly.offline import download_plotlyjs,init_notebook_mode,plot,iplot\n",
        "%matplotlib inline\n",
        "init_notebook_mode(connected=True)\n",
        "cf.go_offline()\n",
        "import numpy as np\n",
        "import pandas as pd\n",
        "import matplotlib.pyplot as plt\n",
        "%matplotlib inline\n",
        "import re\n",
        "import nltk\n",
        "from nltk.stem import PorterStemmer\n",
        "from nltk.sentiment.vader import SentimentIntensityAnalyzer\n",
        "from sklearn.metrics import accuracy_score,classification_report,confusion_matrix\n",
        "from sklearn.feature_extraction.text import CountVectorizer\n",
        "from sklearn.feature_extraction.text import TfidfTransformer\n",
        "from sklearn.pipeline import Pipeline\n",
        "from sklearn.model_selection import train_test_split\n",
        "from sklearn.feature_extraction.text import TfidfVectorizer\n",
        "from sklearn.svm import LinearSVC\n",
        "from sklearn import metrics\n",
        "from sklearn.naive_bayes import MultinomialNB\n",
        "from sklearn.svm import SVC\n",
        "from sklearn import tree\n",
        "import warnings\n",
        "warnings.filterwarnings(\"ignore\")\n",
        "from os import path\n",
        "from PIL import Image\n",
        "from wordcloud import WordCloud, STOPWORDS, ImageColorGenerator\n",
        "\n",
        "from numpy.random import seed\n",
        "seed(1)\n",
        "\n",
        "import tensorflow\n",
        "tensorflow.random.set_seed(1)"
      ],
      "execution_count": null,
      "outputs": [
        {
          "output_type": "display_data",
          "data": {
            "text/html": [
              "        <script type=\"text/javascript\">\n",
              "        window.PlotlyConfig = {MathJaxConfig: 'local'};\n",
              "        if (window.MathJax) {MathJax.Hub.Config({SVG: {font: \"STIX-Web\"}});}\n",
              "        if (typeof require !== 'undefined') {\n",
              "        require.undef(\"plotly\");\n",
              "        requirejs.config({\n",
              "            paths: {\n",
              "                'plotly': ['https://cdn.plot.ly/plotly-latest.min']\n",
              "            }\n",
              "        });\n",
              "        require(['plotly'], function(Plotly) {\n",
              "            window._Plotly = Plotly;\n",
              "        });\n",
              "        }\n",
              "        </script>\n",
              "        "
            ]
          },
          "metadata": {}
        },
        {
          "output_type": "display_data",
          "data": {
            "text/html": [
              "        <script type=\"text/javascript\">\n",
              "        window.PlotlyConfig = {MathJaxConfig: 'local'};\n",
              "        if (window.MathJax) {MathJax.Hub.Config({SVG: {font: \"STIX-Web\"}});}\n",
              "        if (typeof require !== 'undefined') {\n",
              "        require.undef(\"plotly\");\n",
              "        requirejs.config({\n",
              "            paths: {\n",
              "                'plotly': ['https://cdn.plot.ly/plotly-latest.min']\n",
              "            }\n",
              "        });\n",
              "        require(['plotly'], function(Plotly) {\n",
              "            window._Plotly = Plotly;\n",
              "        });\n",
              "        }\n",
              "        </script>\n",
              "        "
            ]
          },
          "metadata": {}
        },
        {
          "output_type": "stream",
          "name": "stderr",
          "text": [
            "/usr/local/lib/python3.7/dist-packages/nltk/twitter/__init__.py:20: UserWarning:\n",
            "\n",
            "The twython library has not been installed. Some functionality from the twitter package will not be available.\n",
            "\n"
          ]
        }
      ]
    },
    {
      "cell_type": "code",
      "metadata": {
        "id": "4Rcs0u9g520C",
        "colab": {
          "base_uri": "https://localhost:8080/",
          "height": 206
        },
        "outputId": "8907382e-9cc3-4b54-faec-a648a49252f3"
      },
      "source": [
        "import pandas as pd\n",
        "import io\n",
        "df = pd.read_csv(\"/content/drive/MyDrive/Playing with Data/Food Review - Food Review.csv\")\n",
        "df.head()"
      ],
      "execution_count": null,
      "outputs": [
        {
          "output_type": "execute_result",
          "data": {
            "text/html": [
              "\n",
              "  <div id=\"df-ae635f86-8449-4c66-a497-6341560d3d8b\">\n",
              "    <div class=\"colab-df-container\">\n",
              "      <div>\n",
              "<style scoped>\n",
              "    .dataframe tbody tr th:only-of-type {\n",
              "        vertical-align: middle;\n",
              "    }\n",
              "\n",
              "    .dataframe tbody tr th {\n",
              "        vertical-align: top;\n",
              "    }\n",
              "\n",
              "    .dataframe thead th {\n",
              "        text-align: right;\n",
              "    }\n",
              "</style>\n",
              "<table border=\"1\" class=\"dataframe\">\n",
              "  <thead>\n",
              "    <tr style=\"text-align: right;\">\n",
              "      <th></th>\n",
              "      <th>Speech</th>\n",
              "      <th>Label</th>\n",
              "    </tr>\n",
              "  </thead>\n",
              "  <tbody>\n",
              "    <tr>\n",
              "      <th>0</th>\n",
              "      <td>ব্যাস্ততম  জীবনের  একটু মনরম পরিবেশে  সময় কাটা...</td>\n",
              "      <td>1</td>\n",
              "    </tr>\n",
              "    <tr>\n",
              "      <th>1</th>\n",
              "      <td>অসাধারণ পরিবেশ! খুব সুন্দর মার্জিত এবং আন্তরিক...</td>\n",
              "      <td>1</td>\n",
              "    </tr>\n",
              "    <tr>\n",
              "      <th>2</th>\n",
              "      <td>খাবারের মান যথেষ্ট খারাপ। দামের তুলনায় পরিমান ...</td>\n",
              "      <td>0</td>\n",
              "    </tr>\n",
              "    <tr>\n",
              "      <th>3</th>\n",
              "      <td>ভালো বহুত খেয়েছি আমার বাসা থেকে একটু দূরে</td>\n",
              "      <td>1</td>\n",
              "    </tr>\n",
              "    <tr>\n",
              "      <th>4</th>\n",
              "      <td>আমি খাইসি খুবই মজার</td>\n",
              "      <td>1</td>\n",
              "    </tr>\n",
              "  </tbody>\n",
              "</table>\n",
              "</div>\n",
              "      <button class=\"colab-df-convert\" onclick=\"convertToInteractive('df-ae635f86-8449-4c66-a497-6341560d3d8b')\"\n",
              "              title=\"Convert this dataframe to an interactive table.\"\n",
              "              style=\"display:none;\">\n",
              "        \n",
              "  <svg xmlns=\"http://www.w3.org/2000/svg\" height=\"24px\"viewBox=\"0 0 24 24\"\n",
              "       width=\"24px\">\n",
              "    <path d=\"M0 0h24v24H0V0z\" fill=\"none\"/>\n",
              "    <path d=\"M18.56 5.44l.94 2.06.94-2.06 2.06-.94-2.06-.94-.94-2.06-.94 2.06-2.06.94zm-11 1L8.5 8.5l.94-2.06 2.06-.94-2.06-.94L8.5 2.5l-.94 2.06-2.06.94zm10 10l.94 2.06.94-2.06 2.06-.94-2.06-.94-.94-2.06-.94 2.06-2.06.94z\"/><path d=\"M17.41 7.96l-1.37-1.37c-.4-.4-.92-.59-1.43-.59-.52 0-1.04.2-1.43.59L10.3 9.45l-7.72 7.72c-.78.78-.78 2.05 0 2.83L4 21.41c.39.39.9.59 1.41.59.51 0 1.02-.2 1.41-.59l7.78-7.78 2.81-2.81c.8-.78.8-2.07 0-2.86zM5.41 20L4 18.59l7.72-7.72 1.47 1.35L5.41 20z\"/>\n",
              "  </svg>\n",
              "      </button>\n",
              "      \n",
              "  <style>\n",
              "    .colab-df-container {\n",
              "      display:flex;\n",
              "      flex-wrap:wrap;\n",
              "      gap: 12px;\n",
              "    }\n",
              "\n",
              "    .colab-df-convert {\n",
              "      background-color: #E8F0FE;\n",
              "      border: none;\n",
              "      border-radius: 50%;\n",
              "      cursor: pointer;\n",
              "      display: none;\n",
              "      fill: #1967D2;\n",
              "      height: 32px;\n",
              "      padding: 0 0 0 0;\n",
              "      width: 32px;\n",
              "    }\n",
              "\n",
              "    .colab-df-convert:hover {\n",
              "      background-color: #E2EBFA;\n",
              "      box-shadow: 0px 1px 2px rgba(60, 64, 67, 0.3), 0px 1px 3px 1px rgba(60, 64, 67, 0.15);\n",
              "      fill: #174EA6;\n",
              "    }\n",
              "\n",
              "    [theme=dark] .colab-df-convert {\n",
              "      background-color: #3B4455;\n",
              "      fill: #D2E3FC;\n",
              "    }\n",
              "\n",
              "    [theme=dark] .colab-df-convert:hover {\n",
              "      background-color: #434B5C;\n",
              "      box-shadow: 0px 1px 3px 1px rgba(0, 0, 0, 0.15);\n",
              "      filter: drop-shadow(0px 1px 2px rgba(0, 0, 0, 0.3));\n",
              "      fill: #FFFFFF;\n",
              "    }\n",
              "  </style>\n",
              "\n",
              "      <script>\n",
              "        const buttonEl =\n",
              "          document.querySelector('#df-ae635f86-8449-4c66-a497-6341560d3d8b button.colab-df-convert');\n",
              "        buttonEl.style.display =\n",
              "          google.colab.kernel.accessAllowed ? 'block' : 'none';\n",
              "\n",
              "        async function convertToInteractive(key) {\n",
              "          const element = document.querySelector('#df-ae635f86-8449-4c66-a497-6341560d3d8b');\n",
              "          const dataTable =\n",
              "            await google.colab.kernel.invokeFunction('convertToInteractive',\n",
              "                                                     [key], {});\n",
              "          if (!dataTable) return;\n",
              "\n",
              "          const docLinkHtml = 'Like what you see? Visit the ' +\n",
              "            '<a target=\"_blank\" href=https://colab.research.google.com/notebooks/data_table.ipynb>data table notebook</a>'\n",
              "            + ' to learn more about interactive tables.';\n",
              "          element.innerHTML = '';\n",
              "          dataTable['output_type'] = 'display_data';\n",
              "          await google.colab.output.renderOutput(dataTable, element);\n",
              "          const docLink = document.createElement('div');\n",
              "          docLink.innerHTML = docLinkHtml;\n",
              "          element.appendChild(docLink);\n",
              "        }\n",
              "      </script>\n",
              "    </div>\n",
              "  </div>\n",
              "  "
            ],
            "text/plain": [
              "                                              Speech  Label\n",
              "0  ব্যাস্ততম  জীবনের  একটু মনরম পরিবেশে  সময় কাটা...      1\n",
              "1  অসাধারণ পরিবেশ! খুব সুন্দর মার্জিত এবং আন্তরিক...      1\n",
              "2  খাবারের মান যথেষ্ট খারাপ। দামের তুলনায় পরিমান ...      0\n",
              "3          ভালো বহুত খেয়েছি আমার বাসা থেকে একটু দূরে      1\n",
              "4                                আমি খাইসি খুবই মজার      1"
            ]
          },
          "metadata": {},
          "execution_count": 3
        }
      ]
    },
    {
      "cell_type": "code",
      "metadata": {
        "colab": {
          "base_uri": "https://localhost:8080/"
        },
        "id": "cwRxlSzfX2wk",
        "outputId": "a81df279-00ae-4bc5-80c4-ed162a8bff7f"
      },
      "source": [
        "df['Label'].value_counts()"
      ],
      "execution_count": null,
      "outputs": [
        {
          "output_type": "execute_result",
          "data": {
            "text/plain": [
              "1    520\n",
              "0    520\n",
              "Name: Label, dtype: int64"
            ]
          },
          "metadata": {},
          "execution_count": 4
        }
      ]
    },
    {
      "cell_type": "code",
      "metadata": {
        "colab": {
          "base_uri": "https://localhost:8080/"
        },
        "id": "OuF3qTr8Y8Fz",
        "outputId": "b3385414-0c53-46ea-c10c-468db71de52e"
      },
      "source": [
        "df.duplicated().sum()"
      ],
      "execution_count": null,
      "outputs": [
        {
          "output_type": "execute_result",
          "data": {
            "text/plain": [
              "0"
            ]
          },
          "metadata": {},
          "execution_count": 5
        }
      ]
    },
    {
      "cell_type": "markdown",
      "metadata": {
        "id": "cicXS5nBzPES"
      },
      "source": [
        "# Data Pre-Processing"
      ]
    },
    {
      "cell_type": "markdown",
      "metadata": {
        "id": "Coe9Po-gzVbT"
      },
      "source": [
        "\n",
        "\n",
        "*   Punctuation Removal\n",
        "*   Tokenization\n",
        "*   Stopword Removal\n",
        "*   Stemming\n",
        "*   Join\n",
        "\n",
        "\n"
      ]
    },
    {
      "cell_type": "code",
      "metadata": {
        "colab": {
          "base_uri": "https://localhost:8080/",
          "height": 36
        },
        "id": "OLQlSxeJzM_q",
        "outputId": "ba904c3d-1061-4c80-dfe7-757e925659ee"
      },
      "source": [
        "string.punctuation"
      ],
      "execution_count": null,
      "outputs": [
        {
          "output_type": "execute_result",
          "data": {
            "application/vnd.google.colaboratory.intrinsic+json": {
              "type": "string"
            },
            "text/plain": [
              "'!\"#$%&\\'()*+,-./:;<=>?@[\\\\]^_`{|}~'"
            ]
          },
          "metadata": {},
          "execution_count": 6
        }
      ]
    },
    {
      "cell_type": "code",
      "metadata": {
        "id": "X7KJzE3G0P0p"
      },
      "source": [
        "def remove_punctuation(txt):\n",
        "    punctuation_list = str(string.punctuation) + \"।\"\n",
        "    txt_nopunct = \"\".join([c for c in txt if c not in punctuation_list])\n",
        "    return txt_nopunct"
      ],
      "execution_count": null,
      "outputs": []
    },
    {
      "cell_type": "code",
      "source": [
        "a = \"দেশের রাজনীতি দিনকে দিন৫৪৪৫৬৪ পচে যাচ্ছে।78 frg पैरेनकाइमाজখজখজক  कोशिकाएं . what a shame. সুস্থ থাকা দায় ।👋≧◉ᴥ◉≦\"\n",
        "\n",
        "a = \"\".join(i for i in a if i in [\"।\"] or 2432 <= ord(i) <= 2559 or ord(i)== 32)\n",
        "a=\" \".join(a.split())\n",
        "print(a)"
      ],
      "metadata": {
        "colab": {
          "base_uri": "https://localhost:8080/"
        },
        "id": "6huE2C03wEuz",
        "outputId": "341f378f-e48e-4528-96ea-7cea31154921"
      },
      "execution_count": null,
      "outputs": [
        {
          "output_type": "stream",
          "name": "stdout",
          "text": [
            "দেশের রাজনীতি দিনকে দিন৫৪৪৫৬৪ পচে যাচ্ছে। জখজখজক সুস্থ থাকা দায় ।\n"
          ]
        }
      ]
    },
    {
      "cell_type": "code",
      "source": [
        "def remove_garbage(a):\n",
        "  a= \"\".join(i for i in a if i in [\"।\"] or 2432 <= ord(i) <= 2559 or ord(i)== 32)\n",
        "  removed=\" \".join(a.split())\n",
        "  return removed\n"
      ],
      "metadata": {
        "id": "vW8PiXvKwbW5"
      },
      "execution_count": null,
      "outputs": []
    },
    {
      "cell_type": "code",
      "metadata": {
        "colab": {
          "base_uri": "https://localhost:8080/",
          "height": 206
        },
        "id": "iT3kGomq0S2C",
        "outputId": "5016ea1c-d7ee-40a3-b266-cf519374555b"
      },
      "source": [
        "df['Removed Puncutation'] = df['Speech'].apply(lambda x:remove_punctuation(x))\n",
        "df.head()"
      ],
      "execution_count": null,
      "outputs": [
        {
          "output_type": "execute_result",
          "data": {
            "text/html": [
              "\n",
              "  <div id=\"df-edd23cd4-06a4-4723-a31c-f26faca33168\">\n",
              "    <div class=\"colab-df-container\">\n",
              "      <div>\n",
              "<style scoped>\n",
              "    .dataframe tbody tr th:only-of-type {\n",
              "        vertical-align: middle;\n",
              "    }\n",
              "\n",
              "    .dataframe tbody tr th {\n",
              "        vertical-align: top;\n",
              "    }\n",
              "\n",
              "    .dataframe thead th {\n",
              "        text-align: right;\n",
              "    }\n",
              "</style>\n",
              "<table border=\"1\" class=\"dataframe\">\n",
              "  <thead>\n",
              "    <tr style=\"text-align: right;\">\n",
              "      <th></th>\n",
              "      <th>Speech</th>\n",
              "      <th>Label</th>\n",
              "      <th>Removed Puncutation</th>\n",
              "    </tr>\n",
              "  </thead>\n",
              "  <tbody>\n",
              "    <tr>\n",
              "      <th>0</th>\n",
              "      <td>ব্যাস্ততম  জীবনের  একটু মনরম পরিবেশে  সময় কাটা...</td>\n",
              "      <td>1</td>\n",
              "      <td>ব্যাস্ততম  জীবনের  একটু মনরম পরিবেশে  সময় কাটা...</td>\n",
              "    </tr>\n",
              "    <tr>\n",
              "      <th>1</th>\n",
              "      <td>অসাধারণ পরিবেশ! খুব সুন্দর মার্জিত এবং আন্তরিক...</td>\n",
              "      <td>1</td>\n",
              "      <td>অসাধারণ পরিবেশ খুব সুন্দর মার্জিত এবং আন্তরিক ...</td>\n",
              "    </tr>\n",
              "    <tr>\n",
              "      <th>2</th>\n",
              "      <td>খাবারের মান যথেষ্ট খারাপ। দামের তুলনায় পরিমান ...</td>\n",
              "      <td>0</td>\n",
              "      <td>খাবারের মান যথেষ্ট খারাপ দামের তুলনায় পরিমান অ...</td>\n",
              "    </tr>\n",
              "    <tr>\n",
              "      <th>3</th>\n",
              "      <td>ভালো বহুত খেয়েছি আমার বাসা থেকে একটু দূরে</td>\n",
              "      <td>1</td>\n",
              "      <td>ভালো বহুত খেয়েছি আমার বাসা থেকে একটু দূরে</td>\n",
              "    </tr>\n",
              "    <tr>\n",
              "      <th>4</th>\n",
              "      <td>আমি খাইসি খুবই মজার</td>\n",
              "      <td>1</td>\n",
              "      <td>আমি খাইসি খুবই মজার</td>\n",
              "    </tr>\n",
              "  </tbody>\n",
              "</table>\n",
              "</div>\n",
              "      <button class=\"colab-df-convert\" onclick=\"convertToInteractive('df-edd23cd4-06a4-4723-a31c-f26faca33168')\"\n",
              "              title=\"Convert this dataframe to an interactive table.\"\n",
              "              style=\"display:none;\">\n",
              "        \n",
              "  <svg xmlns=\"http://www.w3.org/2000/svg\" height=\"24px\"viewBox=\"0 0 24 24\"\n",
              "       width=\"24px\">\n",
              "    <path d=\"M0 0h24v24H0V0z\" fill=\"none\"/>\n",
              "    <path d=\"M18.56 5.44l.94 2.06.94-2.06 2.06-.94-2.06-.94-.94-2.06-.94 2.06-2.06.94zm-11 1L8.5 8.5l.94-2.06 2.06-.94-2.06-.94L8.5 2.5l-.94 2.06-2.06.94zm10 10l.94 2.06.94-2.06 2.06-.94-2.06-.94-.94-2.06-.94 2.06-2.06.94z\"/><path d=\"M17.41 7.96l-1.37-1.37c-.4-.4-.92-.59-1.43-.59-.52 0-1.04.2-1.43.59L10.3 9.45l-7.72 7.72c-.78.78-.78 2.05 0 2.83L4 21.41c.39.39.9.59 1.41.59.51 0 1.02-.2 1.41-.59l7.78-7.78 2.81-2.81c.8-.78.8-2.07 0-2.86zM5.41 20L4 18.59l7.72-7.72 1.47 1.35L5.41 20z\"/>\n",
              "  </svg>\n",
              "      </button>\n",
              "      \n",
              "  <style>\n",
              "    .colab-df-container {\n",
              "      display:flex;\n",
              "      flex-wrap:wrap;\n",
              "      gap: 12px;\n",
              "    }\n",
              "\n",
              "    .colab-df-convert {\n",
              "      background-color: #E8F0FE;\n",
              "      border: none;\n",
              "      border-radius: 50%;\n",
              "      cursor: pointer;\n",
              "      display: none;\n",
              "      fill: #1967D2;\n",
              "      height: 32px;\n",
              "      padding: 0 0 0 0;\n",
              "      width: 32px;\n",
              "    }\n",
              "\n",
              "    .colab-df-convert:hover {\n",
              "      background-color: #E2EBFA;\n",
              "      box-shadow: 0px 1px 2px rgba(60, 64, 67, 0.3), 0px 1px 3px 1px rgba(60, 64, 67, 0.15);\n",
              "      fill: #174EA6;\n",
              "    }\n",
              "\n",
              "    [theme=dark] .colab-df-convert {\n",
              "      background-color: #3B4455;\n",
              "      fill: #D2E3FC;\n",
              "    }\n",
              "\n",
              "    [theme=dark] .colab-df-convert:hover {\n",
              "      background-color: #434B5C;\n",
              "      box-shadow: 0px 1px 3px 1px rgba(0, 0, 0, 0.15);\n",
              "      filter: drop-shadow(0px 1px 2px rgba(0, 0, 0, 0.3));\n",
              "      fill: #FFFFFF;\n",
              "    }\n",
              "  </style>\n",
              "\n",
              "      <script>\n",
              "        const buttonEl =\n",
              "          document.querySelector('#df-edd23cd4-06a4-4723-a31c-f26faca33168 button.colab-df-convert');\n",
              "        buttonEl.style.display =\n",
              "          google.colab.kernel.accessAllowed ? 'block' : 'none';\n",
              "\n",
              "        async function convertToInteractive(key) {\n",
              "          const element = document.querySelector('#df-edd23cd4-06a4-4723-a31c-f26faca33168');\n",
              "          const dataTable =\n",
              "            await google.colab.kernel.invokeFunction('convertToInteractive',\n",
              "                                                     [key], {});\n",
              "          if (!dataTable) return;\n",
              "\n",
              "          const docLinkHtml = 'Like what you see? Visit the ' +\n",
              "            '<a target=\"_blank\" href=https://colab.research.google.com/notebooks/data_table.ipynb>data table notebook</a>'\n",
              "            + ' to learn more about interactive tables.';\n",
              "          element.innerHTML = '';\n",
              "          dataTable['output_type'] = 'display_data';\n",
              "          await google.colab.output.renderOutput(dataTable, element);\n",
              "          const docLink = document.createElement('div');\n",
              "          docLink.innerHTML = docLinkHtml;\n",
              "          element.appendChild(docLink);\n",
              "        }\n",
              "      </script>\n",
              "    </div>\n",
              "  </div>\n",
              "  "
            ],
            "text/plain": [
              "                                              Speech  ...                                Removed Puncutation\n",
              "0  ব্যাস্ততম  জীবনের  একটু মনরম পরিবেশে  সময় কাটা...  ...  ব্যাস্ততম  জীবনের  একটু মনরম পরিবেশে  সময় কাটা...\n",
              "1  অসাধারণ পরিবেশ! খুব সুন্দর মার্জিত এবং আন্তরিক...  ...  অসাধারণ পরিবেশ খুব সুন্দর মার্জিত এবং আন্তরিক ...\n",
              "2  খাবারের মান যথেষ্ট খারাপ। দামের তুলনায় পরিমান ...  ...  খাবারের মান যথেষ্ট খারাপ দামের তুলনায় পরিমান অ...\n",
              "3          ভালো বহুত খেয়েছি আমার বাসা থেকে একটু দূরে  ...          ভালো বহুত খেয়েছি আমার বাসা থেকে একটু দূরে\n",
              "4                                আমি খাইসি খুবই মজার  ...                                আমি খাইসি খুবই মজার\n",
              "\n",
              "[5 rows x 3 columns]"
            ]
          },
          "metadata": {},
          "execution_count": 10
        }
      ]
    },
    {
      "cell_type": "code",
      "source": [
        "df['remove Eng'] = df['Removed Puncutation'].apply(lambda x:remove_garbage(x))\n",
        "df"
      ],
      "metadata": {
        "colab": {
          "base_uri": "https://localhost:8080/",
          "height": 423
        },
        "id": "5zUcbxKFw3Fo",
        "outputId": "e400edcb-2f9a-4c11-e6f9-d929c972b96c"
      },
      "execution_count": null,
      "outputs": [
        {
          "output_type": "execute_result",
          "data": {
            "text/html": [
              "\n",
              "  <div id=\"df-a3582c96-c967-4f29-a529-3fd0633b0740\">\n",
              "    <div class=\"colab-df-container\">\n",
              "      <div>\n",
              "<style scoped>\n",
              "    .dataframe tbody tr th:only-of-type {\n",
              "        vertical-align: middle;\n",
              "    }\n",
              "\n",
              "    .dataframe tbody tr th {\n",
              "        vertical-align: top;\n",
              "    }\n",
              "\n",
              "    .dataframe thead th {\n",
              "        text-align: right;\n",
              "    }\n",
              "</style>\n",
              "<table border=\"1\" class=\"dataframe\">\n",
              "  <thead>\n",
              "    <tr style=\"text-align: right;\">\n",
              "      <th></th>\n",
              "      <th>Speech</th>\n",
              "      <th>Label</th>\n",
              "      <th>Removed Puncutation</th>\n",
              "      <th>remove Eng</th>\n",
              "    </tr>\n",
              "  </thead>\n",
              "  <tbody>\n",
              "    <tr>\n",
              "      <th>0</th>\n",
              "      <td>ব্যাস্ততম  জীবনের  একটু মনরম পরিবেশে  সময় কাটা...</td>\n",
              "      <td>1</td>\n",
              "      <td>ব্যাস্ততম  জীবনের  একটু মনরম পরিবেশে  সময় কাটা...</td>\n",
              "      <td>ব্যাস্ততম জীবনের একটু মনরম পরিবেশে সময় কাটানোর...</td>\n",
              "    </tr>\n",
              "    <tr>\n",
              "      <th>1</th>\n",
              "      <td>অসাধারণ পরিবেশ! খুব সুন্দর মার্জিত এবং আন্তরিক...</td>\n",
              "      <td>1</td>\n",
              "      <td>অসাধারণ পরিবেশ খুব সুন্দর মার্জিত এবং আন্তরিক ...</td>\n",
              "      <td>অসাধারণ পরিবেশ খুব সুন্দর মার্জিত এবং আন্তরিক ...</td>\n",
              "    </tr>\n",
              "    <tr>\n",
              "      <th>2</th>\n",
              "      <td>খাবারের মান যথেষ্ট খারাপ। দামের তুলনায় পরিমান ...</td>\n",
              "      <td>0</td>\n",
              "      <td>খাবারের মান যথেষ্ট খারাপ দামের তুলনায় পরিমান অ...</td>\n",
              "      <td>খাবারের মান যথেষ্ট খারাপ দামের তুলনায় পরিমান অ...</td>\n",
              "    </tr>\n",
              "    <tr>\n",
              "      <th>3</th>\n",
              "      <td>ভালো বহুত খেয়েছি আমার বাসা থেকে একটু দূরে</td>\n",
              "      <td>1</td>\n",
              "      <td>ভালো বহুত খেয়েছি আমার বাসা থেকে একটু দূরে</td>\n",
              "      <td>ভালো বহুত খেয়েছি আমার বাসা থেকে একটু দূরে</td>\n",
              "    </tr>\n",
              "    <tr>\n",
              "      <th>4</th>\n",
              "      <td>আমি খাইসি খুবই মজার</td>\n",
              "      <td>1</td>\n",
              "      <td>আমি খাইসি খুবই মজার</td>\n",
              "      <td>আমি খাইসি খুবই মজার</td>\n",
              "    </tr>\n",
              "    <tr>\n",
              "      <th>...</th>\n",
              "      <td>...</td>\n",
              "      <td>...</td>\n",
              "      <td>...</td>\n",
              "      <td>...</td>\n",
              "    </tr>\n",
              "    <tr>\n",
              "      <th>1035</th>\n",
              "      <td>দেখেই খেয়ে ফেলতে ইচ্ছা হচ্ছে 😋😋</td>\n",
              "      <td>1</td>\n",
              "      <td>দেখেই খেয়ে ফেলতে ইচ্ছা হচ্ছে 😋😋</td>\n",
              "      <td>দেখেই খেয়ে ফেলতে ইচ্ছা হচ্ছে</td>\n",
              "    </tr>\n",
              "    <tr>\n",
              "      <th>1036</th>\n",
              "      <td>সবসময়ই অসাধারণ রান্না ভাই।😍😍🥰</td>\n",
              "      <td>1</td>\n",
              "      <td>সবসময়ই অসাধারণ রান্না ভাই😍😍🥰</td>\n",
              "      <td>সবসময়ই অসাধারণ রান্না ভাই</td>\n",
              "    </tr>\n",
              "    <tr>\n",
              "      <th>1037</th>\n",
              "      <td>চিকেন  বিরিয়ানিটা অনেক   মজা  হবে  দেখে মনে হচ...</td>\n",
              "      <td>1</td>\n",
              "      <td>চিকেন  বিরিয়ানিটা অনেক   মজা  হবে  দেখে মনে হচ...</td>\n",
              "      <td>চিকেন বিরিয়ানিটা অনেক মজা হবে দেখে মনে হচ্ছে এ...</td>\n",
              "    </tr>\n",
              "    <tr>\n",
              "      <th>1038</th>\n",
              "      <td>অসম্ভব সুন্দর বিরানি রেসিপি 👌👌</td>\n",
              "      <td>1</td>\n",
              "      <td>অসম্ভব সুন্দর বিরানি রেসিপি 👌👌</td>\n",
              "      <td>অসম্ভব সুন্দর বিরানি রেসিপি</td>\n",
              "    </tr>\n",
              "    <tr>\n",
              "      <th>1039</th>\n",
              "      <td>দুধ চা,রং চা,কফি দারুণ হয়েছে</td>\n",
              "      <td>1</td>\n",
              "      <td>দুধ চারং চাকফি দারুণ হয়েছে</td>\n",
              "      <td>দুধ চারং চাকফি দারুণ হয়েছে</td>\n",
              "    </tr>\n",
              "  </tbody>\n",
              "</table>\n",
              "<p>1040 rows × 4 columns</p>\n",
              "</div>\n",
              "      <button class=\"colab-df-convert\" onclick=\"convertToInteractive('df-a3582c96-c967-4f29-a529-3fd0633b0740')\"\n",
              "              title=\"Convert this dataframe to an interactive table.\"\n",
              "              style=\"display:none;\">\n",
              "        \n",
              "  <svg xmlns=\"http://www.w3.org/2000/svg\" height=\"24px\"viewBox=\"0 0 24 24\"\n",
              "       width=\"24px\">\n",
              "    <path d=\"M0 0h24v24H0V0z\" fill=\"none\"/>\n",
              "    <path d=\"M18.56 5.44l.94 2.06.94-2.06 2.06-.94-2.06-.94-.94-2.06-.94 2.06-2.06.94zm-11 1L8.5 8.5l.94-2.06 2.06-.94-2.06-.94L8.5 2.5l-.94 2.06-2.06.94zm10 10l.94 2.06.94-2.06 2.06-.94-2.06-.94-.94-2.06-.94 2.06-2.06.94z\"/><path d=\"M17.41 7.96l-1.37-1.37c-.4-.4-.92-.59-1.43-.59-.52 0-1.04.2-1.43.59L10.3 9.45l-7.72 7.72c-.78.78-.78 2.05 0 2.83L4 21.41c.39.39.9.59 1.41.59.51 0 1.02-.2 1.41-.59l7.78-7.78 2.81-2.81c.8-.78.8-2.07 0-2.86zM5.41 20L4 18.59l7.72-7.72 1.47 1.35L5.41 20z\"/>\n",
              "  </svg>\n",
              "      </button>\n",
              "      \n",
              "  <style>\n",
              "    .colab-df-container {\n",
              "      display:flex;\n",
              "      flex-wrap:wrap;\n",
              "      gap: 12px;\n",
              "    }\n",
              "\n",
              "    .colab-df-convert {\n",
              "      background-color: #E8F0FE;\n",
              "      border: none;\n",
              "      border-radius: 50%;\n",
              "      cursor: pointer;\n",
              "      display: none;\n",
              "      fill: #1967D2;\n",
              "      height: 32px;\n",
              "      padding: 0 0 0 0;\n",
              "      width: 32px;\n",
              "    }\n",
              "\n",
              "    .colab-df-convert:hover {\n",
              "      background-color: #E2EBFA;\n",
              "      box-shadow: 0px 1px 2px rgba(60, 64, 67, 0.3), 0px 1px 3px 1px rgba(60, 64, 67, 0.15);\n",
              "      fill: #174EA6;\n",
              "    }\n",
              "\n",
              "    [theme=dark] .colab-df-convert {\n",
              "      background-color: #3B4455;\n",
              "      fill: #D2E3FC;\n",
              "    }\n",
              "\n",
              "    [theme=dark] .colab-df-convert:hover {\n",
              "      background-color: #434B5C;\n",
              "      box-shadow: 0px 1px 3px 1px rgba(0, 0, 0, 0.15);\n",
              "      filter: drop-shadow(0px 1px 2px rgba(0, 0, 0, 0.3));\n",
              "      fill: #FFFFFF;\n",
              "    }\n",
              "  </style>\n",
              "\n",
              "      <script>\n",
              "        const buttonEl =\n",
              "          document.querySelector('#df-a3582c96-c967-4f29-a529-3fd0633b0740 button.colab-df-convert');\n",
              "        buttonEl.style.display =\n",
              "          google.colab.kernel.accessAllowed ? 'block' : 'none';\n",
              "\n",
              "        async function convertToInteractive(key) {\n",
              "          const element = document.querySelector('#df-a3582c96-c967-4f29-a529-3fd0633b0740');\n",
              "          const dataTable =\n",
              "            await google.colab.kernel.invokeFunction('convertToInteractive',\n",
              "                                                     [key], {});\n",
              "          if (!dataTable) return;\n",
              "\n",
              "          const docLinkHtml = 'Like what you see? Visit the ' +\n",
              "            '<a target=\"_blank\" href=https://colab.research.google.com/notebooks/data_table.ipynb>data table notebook</a>'\n",
              "            + ' to learn more about interactive tables.';\n",
              "          element.innerHTML = '';\n",
              "          dataTable['output_type'] = 'display_data';\n",
              "          await google.colab.output.renderOutput(dataTable, element);\n",
              "          const docLink = document.createElement('div');\n",
              "          docLink.innerHTML = docLinkHtml;\n",
              "          element.appendChild(docLink);\n",
              "        }\n",
              "      </script>\n",
              "    </div>\n",
              "  </div>\n",
              "  "
            ],
            "text/plain": [
              "                                                 Speech  ...                                         remove Eng\n",
              "0     ব্যাস্ততম  জীবনের  একটু মনরম পরিবেশে  সময় কাটা...  ...  ব্যাস্ততম জীবনের একটু মনরম পরিবেশে সময় কাটানোর...\n",
              "1     অসাধারণ পরিবেশ! খুব সুন্দর মার্জিত এবং আন্তরিক...  ...  অসাধারণ পরিবেশ খুব সুন্দর মার্জিত এবং আন্তরিক ...\n",
              "2     খাবারের মান যথেষ্ট খারাপ। দামের তুলনায় পরিমান ...  ...  খাবারের মান যথেষ্ট খারাপ দামের তুলনায় পরিমান অ...\n",
              "3             ভালো বহুত খেয়েছি আমার বাসা থেকে একটু দূরে  ...          ভালো বহুত খেয়েছি আমার বাসা থেকে একটু দূরে\n",
              "4                                   আমি খাইসি খুবই মজার  ...                                আমি খাইসি খুবই মজার\n",
              "...                                                 ...  ...                                                ...\n",
              "1035                    দেখেই খেয়ে ফেলতে ইচ্ছা হচ্ছে 😋😋  ...                       দেখেই খেয়ে ফেলতে ইচ্ছা হচ্ছে\n",
              "1036                      সবসময়ই অসাধারণ রান্না ভাই।😍😍🥰  ...                          সবসময়ই অসাধারণ রান্না ভাই\n",
              "1037  চিকেন  বিরিয়ানিটা অনেক   মজা  হবে  দেখে মনে হচ...  ...  চিকেন বিরিয়ানিটা অনেক মজা হবে দেখে মনে হচ্ছে এ...\n",
              "1038                     অসম্ভব সুন্দর বিরানি রেসিপি 👌👌  ...                        অসম্ভব সুন্দর বিরানি রেসিপি\n",
              "1039                       দুধ চা,রং চা,কফি দারুণ হয়েছে  ...                         দুধ চারং চাকফি দারুণ হয়েছে\n",
              "\n",
              "[1040 rows x 4 columns]"
            ]
          },
          "metadata": {},
          "execution_count": 11
        }
      ]
    },
    {
      "cell_type": "markdown",
      "metadata": {
        "id": "GQhbyDfbsdxd"
      },
      "source": [
        "**2.Bangla Tokenization and Bangla Stopword Removing**\n",
        "\n",
        "\n"
      ]
    },
    {
      "cell_type": "code",
      "metadata": {
        "colab": {
          "base_uri": "https://localhost:8080/"
        },
        "id": "GxHzWpXK2cMY",
        "outputId": "97ef2767-2776-4a04-80b4-a26399ed628c"
      },
      "source": [
        "pip install bnlp_toolkit"
      ],
      "execution_count": null,
      "outputs": [
        {
          "output_type": "stream",
          "name": "stdout",
          "text": [
            "Collecting bnlp_toolkit\n",
            "  Downloading bnlp_toolkit-3.1.2-py3-none-any.whl (17 kB)\n",
            "Requirement already satisfied: wasabi in /usr/local/lib/python3.7/dist-packages (from bnlp_toolkit) (0.8.2)\n",
            "Collecting sklearn-crfsuite\n",
            "  Downloading sklearn_crfsuite-0.3.6-py2.py3-none-any.whl (12 kB)\n",
            "Collecting sentencepiece\n",
            "  Downloading sentencepiece-0.1.96-cp37-cp37m-manylinux_2_17_x86_64.manylinux2014_x86_64.whl (1.2 MB)\n",
            "\u001b[K     |████████████████████████████████| 1.2 MB 3.6 MB/s \n",
            "\u001b[?25hRequirement already satisfied: scipy in /usr/local/lib/python3.7/dist-packages (from bnlp_toolkit) (1.4.1)\n",
            "Collecting gensim==4.0.1\n",
            "  Downloading gensim-4.0.1-cp37-cp37m-manylinux1_x86_64.whl (23.9 MB)\n",
            "\u001b[K     |████████████████████████████████| 23.9 MB 2.0 MB/s \n",
            "\u001b[?25hRequirement already satisfied: numpy in /usr/local/lib/python3.7/dist-packages (from bnlp_toolkit) (1.19.5)\n",
            "Requirement already satisfied: nltk in /usr/local/lib/python3.7/dist-packages (from bnlp_toolkit) (3.2.5)\n",
            "Requirement already satisfied: smart-open>=1.8.1 in /usr/local/lib/python3.7/dist-packages (from gensim==4.0.1->bnlp_toolkit) (5.2.1)\n",
            "Requirement already satisfied: six in /usr/local/lib/python3.7/dist-packages (from nltk->bnlp_toolkit) (1.15.0)\n",
            "Collecting python-crfsuite>=0.8.3\n",
            "  Downloading python_crfsuite-0.9.7-cp37-cp37m-manylinux1_x86_64.whl (743 kB)\n",
            "\u001b[K     |████████████████████████████████| 743 kB 25.8 MB/s \n",
            "\u001b[?25hRequirement already satisfied: tqdm>=2.0 in /usr/local/lib/python3.7/dist-packages (from sklearn-crfsuite->bnlp_toolkit) (4.62.3)\n",
            "Requirement already satisfied: tabulate in /usr/local/lib/python3.7/dist-packages (from sklearn-crfsuite->bnlp_toolkit) (0.8.9)\n",
            "Installing collected packages: python-crfsuite, sklearn-crfsuite, sentencepiece, gensim, bnlp-toolkit\n",
            "  Attempting uninstall: gensim\n",
            "    Found existing installation: gensim 3.6.0\n",
            "    Uninstalling gensim-3.6.0:\n",
            "      Successfully uninstalled gensim-3.6.0\n",
            "Successfully installed bnlp-toolkit-3.1.2 gensim-4.0.1 python-crfsuite-0.9.7 sentencepiece-0.1.96 sklearn-crfsuite-0.3.6\n"
          ]
        }
      ]
    },
    {
      "cell_type": "code",
      "metadata": {
        "colab": {
          "base_uri": "https://localhost:8080/",
          "height": 478
        },
        "id": "YXSZFasslWHm",
        "outputId": "70635ca3-4127-4dc5-f76f-bd0be001a45e"
      },
      "source": [
        "from bnlp.corpus import stopwords\n",
        "from bnlp.corpus.util import remove_stopwords\n",
        "\n",
        "df['Removed Stopped word'] = df['remove Eng'].apply(lambda x: remove_stopwords(x,stopwords))\n",
        "df "
      ],
      "execution_count": null,
      "outputs": [
        {
          "output_type": "stream",
          "name": "stdout",
          "text": [
            "punkt not found. downloading...\n",
            "[nltk_data] Downloading package punkt to /root/nltk_data...\n",
            "[nltk_data]   Unzipping tokenizers/punkt.zip.\n"
          ]
        },
        {
          "output_type": "execute_result",
          "data": {
            "text/html": [
              "\n",
              "  <div id=\"df-422a2a85-fe3a-403c-8e4c-7b547b091902\">\n",
              "    <div class=\"colab-df-container\">\n",
              "      <div>\n",
              "<style scoped>\n",
              "    .dataframe tbody tr th:only-of-type {\n",
              "        vertical-align: middle;\n",
              "    }\n",
              "\n",
              "    .dataframe tbody tr th {\n",
              "        vertical-align: top;\n",
              "    }\n",
              "\n",
              "    .dataframe thead th {\n",
              "        text-align: right;\n",
              "    }\n",
              "</style>\n",
              "<table border=\"1\" class=\"dataframe\">\n",
              "  <thead>\n",
              "    <tr style=\"text-align: right;\">\n",
              "      <th></th>\n",
              "      <th>Speech</th>\n",
              "      <th>Label</th>\n",
              "      <th>Removed Puncutation</th>\n",
              "      <th>remove Eng</th>\n",
              "      <th>Removed Stopped word</th>\n",
              "    </tr>\n",
              "  </thead>\n",
              "  <tbody>\n",
              "    <tr>\n",
              "      <th>0</th>\n",
              "      <td>ব্যাস্ততম  জীবনের  একটু মনরম পরিবেশে  সময় কাটা...</td>\n",
              "      <td>1</td>\n",
              "      <td>ব্যাস্ততম  জীবনের  একটু মনরম পরিবেশে  সময় কাটা...</td>\n",
              "      <td>ব্যাস্ততম জীবনের একটু মনরম পরিবেশে সময় কাটানোর...</td>\n",
              "      <td>[ব্যাস্ততম, জীবনের, একটু, মনরম, পরিবেশে, সময়, ...</td>\n",
              "    </tr>\n",
              "    <tr>\n",
              "      <th>1</th>\n",
              "      <td>অসাধারণ পরিবেশ! খুব সুন্দর মার্জিত এবং আন্তরিক...</td>\n",
              "      <td>1</td>\n",
              "      <td>অসাধারণ পরিবেশ খুব সুন্দর মার্জিত এবং আন্তরিক ...</td>\n",
              "      <td>অসাধারণ পরিবেশ খুব সুন্দর মার্জিত এবং আন্তরিক ...</td>\n",
              "      <td>[অসাধারণ, পরিবেশ, সুন্দর, মার্জিত, আন্তরিক]</td>\n",
              "    </tr>\n",
              "    <tr>\n",
              "      <th>2</th>\n",
              "      <td>খাবারের মান যথেষ্ট খারাপ। দামের তুলনায় পরিমান ...</td>\n",
              "      <td>0</td>\n",
              "      <td>খাবারের মান যথেষ্ট খারাপ দামের তুলনায় পরিমান অ...</td>\n",
              "      <td>খাবারের মান যথেষ্ট খারাপ দামের তুলনায় পরিমান অ...</td>\n",
              "      <td>[খাবারের, মান, খারাপ, দামের, তুলনায়, পরিমান, ক...</td>\n",
              "    </tr>\n",
              "    <tr>\n",
              "      <th>3</th>\n",
              "      <td>ভালো বহুত খেয়েছি আমার বাসা থেকে একটু দূরে</td>\n",
              "      <td>1</td>\n",
              "      <td>ভালো বহুত খেয়েছি আমার বাসা থেকে একটু দূরে</td>\n",
              "      <td>ভালো বহুত খেয়েছি আমার বাসা থেকে একটু দূরে</td>\n",
              "      <td>[ভালো, বহুত, খেয়েছি, বাসা, একটু, দূরে]</td>\n",
              "    </tr>\n",
              "    <tr>\n",
              "      <th>4</th>\n",
              "      <td>আমি খাইসি খুবই মজার</td>\n",
              "      <td>1</td>\n",
              "      <td>আমি খাইসি খুবই মজার</td>\n",
              "      <td>আমি খাইসি খুবই মজার</td>\n",
              "      <td>[খাইসি, খুবই, মজার]</td>\n",
              "    </tr>\n",
              "    <tr>\n",
              "      <th>...</th>\n",
              "      <td>...</td>\n",
              "      <td>...</td>\n",
              "      <td>...</td>\n",
              "      <td>...</td>\n",
              "      <td>...</td>\n",
              "    </tr>\n",
              "    <tr>\n",
              "      <th>1035</th>\n",
              "      <td>দেখেই খেয়ে ফেলতে ইচ্ছা হচ্ছে 😋😋</td>\n",
              "      <td>1</td>\n",
              "      <td>দেখেই খেয়ে ফেলতে ইচ্ছা হচ্ছে 😋😋</td>\n",
              "      <td>দেখেই খেয়ে ফেলতে ইচ্ছা হচ্ছে</td>\n",
              "      <td>[দেখেই, খেয়ে, ফেলতে, ইচ্ছা]</td>\n",
              "    </tr>\n",
              "    <tr>\n",
              "      <th>1036</th>\n",
              "      <td>সবসময়ই অসাধারণ রান্না ভাই।😍😍🥰</td>\n",
              "      <td>1</td>\n",
              "      <td>সবসময়ই অসাধারণ রান্না ভাই😍😍🥰</td>\n",
              "      <td>সবসময়ই অসাধারণ রান্না ভাই</td>\n",
              "      <td>[সবসময়ই, অসাধারণ, রান্না, ভাই]</td>\n",
              "    </tr>\n",
              "    <tr>\n",
              "      <th>1037</th>\n",
              "      <td>চিকেন  বিরিয়ানিটা অনেক   মজা  হবে  দেখে মনে হচ...</td>\n",
              "      <td>1</td>\n",
              "      <td>চিকেন  বিরিয়ানিটা অনেক   মজা  হবে  দেখে মনে হচ...</td>\n",
              "      <td>চিকেন বিরিয়ানিটা অনেক মজা হবে দেখে মনে হচ্ছে এ...</td>\n",
              "      <td>[চিকেন, বিরিয়ানিটা, মজা, একটু, খেয়ে, দেখি]</td>\n",
              "    </tr>\n",
              "    <tr>\n",
              "      <th>1038</th>\n",
              "      <td>অসম্ভব সুন্দর বিরানি রেসিপি 👌👌</td>\n",
              "      <td>1</td>\n",
              "      <td>অসম্ভব সুন্দর বিরানি রেসিপি 👌👌</td>\n",
              "      <td>অসম্ভব সুন্দর বিরানি রেসিপি</td>\n",
              "      <td>[অসম্ভব, সুন্দর, বিরানি, রেসিপি]</td>\n",
              "    </tr>\n",
              "    <tr>\n",
              "      <th>1039</th>\n",
              "      <td>দুধ চা,রং চা,কফি দারুণ হয়েছে</td>\n",
              "      <td>1</td>\n",
              "      <td>দুধ চারং চাকফি দারুণ হয়েছে</td>\n",
              "      <td>দুধ চারং চাকফি দারুণ হয়েছে</td>\n",
              "      <td>[দুধ, চারং, চাকফি, দারুণ, হয়েছে]</td>\n",
              "    </tr>\n",
              "  </tbody>\n",
              "</table>\n",
              "<p>1040 rows × 5 columns</p>\n",
              "</div>\n",
              "      <button class=\"colab-df-convert\" onclick=\"convertToInteractive('df-422a2a85-fe3a-403c-8e4c-7b547b091902')\"\n",
              "              title=\"Convert this dataframe to an interactive table.\"\n",
              "              style=\"display:none;\">\n",
              "        \n",
              "  <svg xmlns=\"http://www.w3.org/2000/svg\" height=\"24px\"viewBox=\"0 0 24 24\"\n",
              "       width=\"24px\">\n",
              "    <path d=\"M0 0h24v24H0V0z\" fill=\"none\"/>\n",
              "    <path d=\"M18.56 5.44l.94 2.06.94-2.06 2.06-.94-2.06-.94-.94-2.06-.94 2.06-2.06.94zm-11 1L8.5 8.5l.94-2.06 2.06-.94-2.06-.94L8.5 2.5l-.94 2.06-2.06.94zm10 10l.94 2.06.94-2.06 2.06-.94-2.06-.94-.94-2.06-.94 2.06-2.06.94z\"/><path d=\"M17.41 7.96l-1.37-1.37c-.4-.4-.92-.59-1.43-.59-.52 0-1.04.2-1.43.59L10.3 9.45l-7.72 7.72c-.78.78-.78 2.05 0 2.83L4 21.41c.39.39.9.59 1.41.59.51 0 1.02-.2 1.41-.59l7.78-7.78 2.81-2.81c.8-.78.8-2.07 0-2.86zM5.41 20L4 18.59l7.72-7.72 1.47 1.35L5.41 20z\"/>\n",
              "  </svg>\n",
              "      </button>\n",
              "      \n",
              "  <style>\n",
              "    .colab-df-container {\n",
              "      display:flex;\n",
              "      flex-wrap:wrap;\n",
              "      gap: 12px;\n",
              "    }\n",
              "\n",
              "    .colab-df-convert {\n",
              "      background-color: #E8F0FE;\n",
              "      border: none;\n",
              "      border-radius: 50%;\n",
              "      cursor: pointer;\n",
              "      display: none;\n",
              "      fill: #1967D2;\n",
              "      height: 32px;\n",
              "      padding: 0 0 0 0;\n",
              "      width: 32px;\n",
              "    }\n",
              "\n",
              "    .colab-df-convert:hover {\n",
              "      background-color: #E2EBFA;\n",
              "      box-shadow: 0px 1px 2px rgba(60, 64, 67, 0.3), 0px 1px 3px 1px rgba(60, 64, 67, 0.15);\n",
              "      fill: #174EA6;\n",
              "    }\n",
              "\n",
              "    [theme=dark] .colab-df-convert {\n",
              "      background-color: #3B4455;\n",
              "      fill: #D2E3FC;\n",
              "    }\n",
              "\n",
              "    [theme=dark] .colab-df-convert:hover {\n",
              "      background-color: #434B5C;\n",
              "      box-shadow: 0px 1px 3px 1px rgba(0, 0, 0, 0.15);\n",
              "      filter: drop-shadow(0px 1px 2px rgba(0, 0, 0, 0.3));\n",
              "      fill: #FFFFFF;\n",
              "    }\n",
              "  </style>\n",
              "\n",
              "      <script>\n",
              "        const buttonEl =\n",
              "          document.querySelector('#df-422a2a85-fe3a-403c-8e4c-7b547b091902 button.colab-df-convert');\n",
              "        buttonEl.style.display =\n",
              "          google.colab.kernel.accessAllowed ? 'block' : 'none';\n",
              "\n",
              "        async function convertToInteractive(key) {\n",
              "          const element = document.querySelector('#df-422a2a85-fe3a-403c-8e4c-7b547b091902');\n",
              "          const dataTable =\n",
              "            await google.colab.kernel.invokeFunction('convertToInteractive',\n",
              "                                                     [key], {});\n",
              "          if (!dataTable) return;\n",
              "\n",
              "          const docLinkHtml = 'Like what you see? Visit the ' +\n",
              "            '<a target=\"_blank\" href=https://colab.research.google.com/notebooks/data_table.ipynb>data table notebook</a>'\n",
              "            + ' to learn more about interactive tables.';\n",
              "          element.innerHTML = '';\n",
              "          dataTable['output_type'] = 'display_data';\n",
              "          await google.colab.output.renderOutput(dataTable, element);\n",
              "          const docLink = document.createElement('div');\n",
              "          docLink.innerHTML = docLinkHtml;\n",
              "          element.appendChild(docLink);\n",
              "        }\n",
              "      </script>\n",
              "    </div>\n",
              "  </div>\n",
              "  "
            ],
            "text/plain": [
              "                                                 Speech  ...                               Removed Stopped word\n",
              "0     ব্যাস্ততম  জীবনের  একটু মনরম পরিবেশে  সময় কাটা...  ...  [ব্যাস্ততম, জীবনের, একটু, মনরম, পরিবেশে, সময়, ...\n",
              "1     অসাধারণ পরিবেশ! খুব সুন্দর মার্জিত এবং আন্তরিক...  ...        [অসাধারণ, পরিবেশ, সুন্দর, মার্জিত, আন্তরিক]\n",
              "2     খাবারের মান যথেষ্ট খারাপ। দামের তুলনায় পরিমান ...  ...  [খাবারের, মান, খারাপ, দামের, তুলনায়, পরিমান, ক...\n",
              "3             ভালো বহুত খেয়েছি আমার বাসা থেকে একটু দূরে  ...             [ভালো, বহুত, খেয়েছি, বাসা, একটু, দূরে]\n",
              "4                                   আমি খাইসি খুবই মজার  ...                                [খাইসি, খুবই, মজার]\n",
              "...                                                 ...  ...                                                ...\n",
              "1035                    দেখেই খেয়ে ফেলতে ইচ্ছা হচ্ছে 😋😋  ...                        [দেখেই, খেয়ে, ফেলতে, ইচ্ছা]\n",
              "1036                      সবসময়ই অসাধারণ রান্না ভাই।😍😍🥰  ...                     [সবসময়ই, অসাধারণ, রান্না, ভাই]\n",
              "1037  চিকেন  বিরিয়ানিটা অনেক   মজা  হবে  দেখে মনে হচ...  ...         [চিকেন, বিরিয়ানিটা, মজা, একটু, খেয়ে, দেখি]\n",
              "1038                     অসম্ভব সুন্দর বিরানি রেসিপি 👌👌  ...                   [অসম্ভব, সুন্দর, বিরানি, রেসিপি]\n",
              "1039                       দুধ চা,রং চা,কফি দারুণ হয়েছে  ...                   [দুধ, চারং, চাকফি, দারুণ, হয়েছে]\n",
              "\n",
              "[1040 rows x 5 columns]"
            ]
          },
          "metadata": {},
          "execution_count": 13
        }
      ]
    },
    {
      "cell_type": "markdown",
      "metadata": {
        "id": "i7WzCiqyKboW"
      },
      "source": [
        "**3. Stemming**"
      ]
    },
    {
      "cell_type": "code",
      "metadata": {
        "colab": {
          "base_uri": "https://localhost:8080/"
        },
        "id": "R8CSkYAd-Jia",
        "outputId": "4d8b0ffe-3637-4241-f8ed-40d81a6759f1"
      },
      "source": [
        "pip install bangla-stemmer"
      ],
      "execution_count": null,
      "outputs": [
        {
          "output_type": "stream",
          "name": "stdout",
          "text": [
            "Collecting bangla-stemmer\n",
            "  Downloading bangla_stemmer-1.0-py3-none-any.whl (9.1 kB)\n",
            "Installing collected packages: bangla-stemmer\n",
            "Successfully installed bangla-stemmer-1.0\n"
          ]
        }
      ]
    },
    {
      "cell_type": "code",
      "metadata": {
        "colab": {
          "base_uri": "https://localhost:8080/"
        },
        "id": "pK2buVn1IwRF",
        "outputId": "1745ee55-3c1b-426a-dbed-25010762afde"
      },
      "source": [
        "from bangla_stemmer.stemmer import stemmer\n",
        "wordlist = ['কবিরগুলিকে', 'আমাকে', 'নামাবার']\n",
        "stmr = stemmer.BanglaStemmer()\n",
        "stm = stmr.stem(wordlist)\n",
        "print(stm)"
      ],
      "execution_count": null,
      "outputs": [
        {
          "output_type": "stream",
          "name": "stdout",
          "text": [
            "applied first rules..\n",
            "applied third rules..\n",
            "applied first rules..\n",
            "applied fourth rules..\n",
            "['কবির', 'আমা', 'নামা']\n"
          ]
        }
      ]
    },
    {
      "cell_type": "code",
      "metadata": {
        "id": "0mdPZ8ff-aGw"
      },
      "source": [
        "from bangla_stemmer.stemmer import stemmer\n",
        "stmr = stemmer.BanglaStemmer()"
      ],
      "execution_count": null,
      "outputs": []
    },
    {
      "cell_type": "code",
      "metadata": {
        "id": "bjTh8OYB-uPK"
      },
      "source": [
        "df['stemmed'] = df['Removed Stopped word'].apply(lambda x:stmr.stem(x))"
      ],
      "execution_count": null,
      "outputs": []
    },
    {
      "cell_type": "code",
      "metadata": {
        "colab": {
          "base_uri": "https://localhost:8080/",
          "height": 319
        },
        "id": "C8gQH0qDJShI",
        "outputId": "9608b55e-6717-4879-b375-9a8ac31dac85"
      },
      "source": [
        "df.head()"
      ],
      "execution_count": null,
      "outputs": [
        {
          "output_type": "execute_result",
          "data": {
            "text/html": [
              "\n",
              "  <div id=\"df-29772195-9529-4567-b992-d3aa7d927f96\">\n",
              "    <div class=\"colab-df-container\">\n",
              "      <div>\n",
              "<style scoped>\n",
              "    .dataframe tbody tr th:only-of-type {\n",
              "        vertical-align: middle;\n",
              "    }\n",
              "\n",
              "    .dataframe tbody tr th {\n",
              "        vertical-align: top;\n",
              "    }\n",
              "\n",
              "    .dataframe thead th {\n",
              "        text-align: right;\n",
              "    }\n",
              "</style>\n",
              "<table border=\"1\" class=\"dataframe\">\n",
              "  <thead>\n",
              "    <tr style=\"text-align: right;\">\n",
              "      <th></th>\n",
              "      <th>Speech</th>\n",
              "      <th>Label</th>\n",
              "      <th>Removed Puncutation</th>\n",
              "      <th>remove Eng</th>\n",
              "      <th>Removed Stopped word</th>\n",
              "      <th>stemmed</th>\n",
              "    </tr>\n",
              "  </thead>\n",
              "  <tbody>\n",
              "    <tr>\n",
              "      <th>0</th>\n",
              "      <td>ব্যাস্ততম  জীবনের  একটু মনরম পরিবেশে  সময় কাটা...</td>\n",
              "      <td>1</td>\n",
              "      <td>ব্যাস্ততম  জীবনের  একটু মনরম পরিবেশে  সময় কাটা...</td>\n",
              "      <td>ব্যাস্ততম জীবনের একটু মনরম পরিবেশে সময় কাটানোর...</td>\n",
              "      <td>[ব্যাস্ততম, জীবনের, একটু, মনরম, পরিবেশে, সময়, ...</td>\n",
              "      <td>[ব্যাস্ততম, জীবন, একটু, মনরম, পরিবেশ, সময়, কাট...</td>\n",
              "    </tr>\n",
              "    <tr>\n",
              "      <th>1</th>\n",
              "      <td>অসাধারণ পরিবেশ! খুব সুন্দর মার্জিত এবং আন্তরিক...</td>\n",
              "      <td>1</td>\n",
              "      <td>অসাধারণ পরিবেশ খুব সুন্দর মার্জিত এবং আন্তরিক ...</td>\n",
              "      <td>অসাধারণ পরিবেশ খুব সুন্দর মার্জিত এবং আন্তরিক ...</td>\n",
              "      <td>[অসাধারণ, পরিবেশ, সুন্দর, মার্জিত, আন্তরিক]</td>\n",
              "      <td>[অসাধারণ, পরিবেশ, সুন্দর, মার্জিত, আন্তরিক]</td>\n",
              "    </tr>\n",
              "    <tr>\n",
              "      <th>2</th>\n",
              "      <td>খাবারের মান যথেষ্ট খারাপ। দামের তুলনায় পরিমান ...</td>\n",
              "      <td>0</td>\n",
              "      <td>খাবারের মান যথেষ্ট খারাপ দামের তুলনায় পরিমান অ...</td>\n",
              "      <td>খাবারের মান যথেষ্ট খারাপ দামের তুলনায় পরিমান অ...</td>\n",
              "      <td>[খাবারের, মান, খারাপ, দামের, তুলনায়, পরিমান, ক...</td>\n",
              "      <td>[খাবারের, মান, খারাপ, দাম, তুলনায়, পরিমান, কম,...</td>\n",
              "    </tr>\n",
              "    <tr>\n",
              "      <th>3</th>\n",
              "      <td>ভালো বহুত খেয়েছি আমার বাসা থেকে একটু দূরে</td>\n",
              "      <td>1</td>\n",
              "      <td>ভালো বহুত খেয়েছি আমার বাসা থেকে একটু দূরে</td>\n",
              "      <td>ভালো বহুত খেয়েছি আমার বাসা থেকে একটু দূরে</td>\n",
              "      <td>[ভালো, বহুত, খেয়েছি, বাসা, একটু, দূরে]</td>\n",
              "      <td>[ভালো, বহুত, খেয়েছি, বাসা, একটু, দূরে]</td>\n",
              "    </tr>\n",
              "    <tr>\n",
              "      <th>4</th>\n",
              "      <td>আমি খাইসি খুবই মজার</td>\n",
              "      <td>1</td>\n",
              "      <td>আমি খাইসি খুবই মজার</td>\n",
              "      <td>আমি খাইসি খুবই মজার</td>\n",
              "      <td>[খাইসি, খুবই, মজার]</td>\n",
              "      <td>[খাইসি, খুব, মজ]</td>\n",
              "    </tr>\n",
              "  </tbody>\n",
              "</table>\n",
              "</div>\n",
              "      <button class=\"colab-df-convert\" onclick=\"convertToInteractive('df-29772195-9529-4567-b992-d3aa7d927f96')\"\n",
              "              title=\"Convert this dataframe to an interactive table.\"\n",
              "              style=\"display:none;\">\n",
              "        \n",
              "  <svg xmlns=\"http://www.w3.org/2000/svg\" height=\"24px\"viewBox=\"0 0 24 24\"\n",
              "       width=\"24px\">\n",
              "    <path d=\"M0 0h24v24H0V0z\" fill=\"none\"/>\n",
              "    <path d=\"M18.56 5.44l.94 2.06.94-2.06 2.06-.94-2.06-.94-.94-2.06-.94 2.06-2.06.94zm-11 1L8.5 8.5l.94-2.06 2.06-.94-2.06-.94L8.5 2.5l-.94 2.06-2.06.94zm10 10l.94 2.06.94-2.06 2.06-.94-2.06-.94-.94-2.06-.94 2.06-2.06.94z\"/><path d=\"M17.41 7.96l-1.37-1.37c-.4-.4-.92-.59-1.43-.59-.52 0-1.04.2-1.43.59L10.3 9.45l-7.72 7.72c-.78.78-.78 2.05 0 2.83L4 21.41c.39.39.9.59 1.41.59.51 0 1.02-.2 1.41-.59l7.78-7.78 2.81-2.81c.8-.78.8-2.07 0-2.86zM5.41 20L4 18.59l7.72-7.72 1.47 1.35L5.41 20z\"/>\n",
              "  </svg>\n",
              "      </button>\n",
              "      \n",
              "  <style>\n",
              "    .colab-df-container {\n",
              "      display:flex;\n",
              "      flex-wrap:wrap;\n",
              "      gap: 12px;\n",
              "    }\n",
              "\n",
              "    .colab-df-convert {\n",
              "      background-color: #E8F0FE;\n",
              "      border: none;\n",
              "      border-radius: 50%;\n",
              "      cursor: pointer;\n",
              "      display: none;\n",
              "      fill: #1967D2;\n",
              "      height: 32px;\n",
              "      padding: 0 0 0 0;\n",
              "      width: 32px;\n",
              "    }\n",
              "\n",
              "    .colab-df-convert:hover {\n",
              "      background-color: #E2EBFA;\n",
              "      box-shadow: 0px 1px 2px rgba(60, 64, 67, 0.3), 0px 1px 3px 1px rgba(60, 64, 67, 0.15);\n",
              "      fill: #174EA6;\n",
              "    }\n",
              "\n",
              "    [theme=dark] .colab-df-convert {\n",
              "      background-color: #3B4455;\n",
              "      fill: #D2E3FC;\n",
              "    }\n",
              "\n",
              "    [theme=dark] .colab-df-convert:hover {\n",
              "      background-color: #434B5C;\n",
              "      box-shadow: 0px 1px 3px 1px rgba(0, 0, 0, 0.15);\n",
              "      filter: drop-shadow(0px 1px 2px rgba(0, 0, 0, 0.3));\n",
              "      fill: #FFFFFF;\n",
              "    }\n",
              "  </style>\n",
              "\n",
              "      <script>\n",
              "        const buttonEl =\n",
              "          document.querySelector('#df-29772195-9529-4567-b992-d3aa7d927f96 button.colab-df-convert');\n",
              "        buttonEl.style.display =\n",
              "          google.colab.kernel.accessAllowed ? 'block' : 'none';\n",
              "\n",
              "        async function convertToInteractive(key) {\n",
              "          const element = document.querySelector('#df-29772195-9529-4567-b992-d3aa7d927f96');\n",
              "          const dataTable =\n",
              "            await google.colab.kernel.invokeFunction('convertToInteractive',\n",
              "                                                     [key], {});\n",
              "          if (!dataTable) return;\n",
              "\n",
              "          const docLinkHtml = 'Like what you see? Visit the ' +\n",
              "            '<a target=\"_blank\" href=https://colab.research.google.com/notebooks/data_table.ipynb>data table notebook</a>'\n",
              "            + ' to learn more about interactive tables.';\n",
              "          element.innerHTML = '';\n",
              "          dataTable['output_type'] = 'display_data';\n",
              "          await google.colab.output.renderOutput(dataTable, element);\n",
              "          const docLink = document.createElement('div');\n",
              "          docLink.innerHTML = docLinkHtml;\n",
              "          element.appendChild(docLink);\n",
              "        }\n",
              "      </script>\n",
              "    </div>\n",
              "  </div>\n",
              "  "
            ],
            "text/plain": [
              "                                              Speech  ...                                            stemmed\n",
              "0  ব্যাস্ততম  জীবনের  একটু মনরম পরিবেশে  সময় কাটা...  ...  [ব্যাস্ততম, জীবন, একটু, মনরম, পরিবেশ, সময়, কাট...\n",
              "1  অসাধারণ পরিবেশ! খুব সুন্দর মার্জিত এবং আন্তরিক...  ...        [অসাধারণ, পরিবেশ, সুন্দর, মার্জিত, আন্তরিক]\n",
              "2  খাবারের মান যথেষ্ট খারাপ। দামের তুলনায় পরিমান ...  ...  [খাবারের, মান, খারাপ, দাম, তুলনায়, পরিমান, কম,...\n",
              "3          ভালো বহুত খেয়েছি আমার বাসা থেকে একটু দূরে  ...             [ভালো, বহুত, খেয়েছি, বাসা, একটু, দূরে]\n",
              "4                                আমি খাইসি খুবই মজার  ...                                   [খাইসি, খুব, মজ]\n",
              "\n",
              "[5 rows x 6 columns]"
            ]
          },
          "metadata": {},
          "execution_count": 18
        }
      ]
    },
    {
      "cell_type": "markdown",
      "metadata": {
        "id": "cZ4NW6WJKti4"
      },
      "source": [
        "**4.Join**"
      ]
    },
    {
      "cell_type": "code",
      "metadata": {
        "colab": {
          "base_uri": "https://localhost:8080/",
          "height": 319
        },
        "id": "YfTHV3UhJ8If",
        "outputId": "597bef4c-52c2-451d-de92-cd9303d7458a"
      },
      "source": [
        "df['sentence']=df['stemmed'].apply(' '.join)\n",
        "df.head()"
      ],
      "execution_count": null,
      "outputs": [
        {
          "output_type": "execute_result",
          "data": {
            "text/html": [
              "\n",
              "  <div id=\"df-59d3b064-f421-404c-b789-0c9eb4caee60\">\n",
              "    <div class=\"colab-df-container\">\n",
              "      <div>\n",
              "<style scoped>\n",
              "    .dataframe tbody tr th:only-of-type {\n",
              "        vertical-align: middle;\n",
              "    }\n",
              "\n",
              "    .dataframe tbody tr th {\n",
              "        vertical-align: top;\n",
              "    }\n",
              "\n",
              "    .dataframe thead th {\n",
              "        text-align: right;\n",
              "    }\n",
              "</style>\n",
              "<table border=\"1\" class=\"dataframe\">\n",
              "  <thead>\n",
              "    <tr style=\"text-align: right;\">\n",
              "      <th></th>\n",
              "      <th>Speech</th>\n",
              "      <th>Label</th>\n",
              "      <th>Removed Puncutation</th>\n",
              "      <th>remove Eng</th>\n",
              "      <th>Removed Stopped word</th>\n",
              "      <th>stemmed</th>\n",
              "      <th>sentence</th>\n",
              "    </tr>\n",
              "  </thead>\n",
              "  <tbody>\n",
              "    <tr>\n",
              "      <th>0</th>\n",
              "      <td>ব্যাস্ততম  জীবনের  একটু মনরম পরিবেশে  সময় কাটা...</td>\n",
              "      <td>1</td>\n",
              "      <td>ব্যাস্ততম  জীবনের  একটু মনরম পরিবেশে  সময় কাটা...</td>\n",
              "      <td>ব্যাস্ততম জীবনের একটু মনরম পরিবেশে সময় কাটানোর...</td>\n",
              "      <td>[ব্যাস্ততম, জীবনের, একটু, মনরম, পরিবেশে, সময়, ...</td>\n",
              "      <td>[ব্যাস্ততম, জীবন, একটু, মনরম, পরিবেশ, সময়, কাট...</td>\n",
              "      <td>ব্যাস্ততম জীবন একটু মনরম পরিবেশ সময় কাটানোর ঘু...</td>\n",
              "    </tr>\n",
              "    <tr>\n",
              "      <th>1</th>\n",
              "      <td>অসাধারণ পরিবেশ! খুব সুন্দর মার্জিত এবং আন্তরিক...</td>\n",
              "      <td>1</td>\n",
              "      <td>অসাধারণ পরিবেশ খুব সুন্দর মার্জিত এবং আন্তরিক ...</td>\n",
              "      <td>অসাধারণ পরিবেশ খুব সুন্দর মার্জিত এবং আন্তরিক ...</td>\n",
              "      <td>[অসাধারণ, পরিবেশ, সুন্দর, মার্জিত, আন্তরিক]</td>\n",
              "      <td>[অসাধারণ, পরিবেশ, সুন্দর, মার্জিত, আন্তরিক]</td>\n",
              "      <td>অসাধারণ পরিবেশ সুন্দর মার্জিত আন্তরিক</td>\n",
              "    </tr>\n",
              "    <tr>\n",
              "      <th>2</th>\n",
              "      <td>খাবারের মান যথেষ্ট খারাপ। দামের তুলনায় পরিমান ...</td>\n",
              "      <td>0</td>\n",
              "      <td>খাবারের মান যথেষ্ট খারাপ দামের তুলনায় পরিমান অ...</td>\n",
              "      <td>খাবারের মান যথেষ্ট খারাপ দামের তুলনায় পরিমান অ...</td>\n",
              "      <td>[খাবারের, মান, খারাপ, দামের, তুলনায়, পরিমান, ক...</td>\n",
              "      <td>[খাবারের, মান, খারাপ, দাম, তুলনায়, পরিমান, কম,...</td>\n",
              "      <td>খাবারের মান খারাপ দাম তুলনায় পরিমান কম ইফত প্ল...</td>\n",
              "    </tr>\n",
              "    <tr>\n",
              "      <th>3</th>\n",
              "      <td>ভালো বহুত খেয়েছি আমার বাসা থেকে একটু দূরে</td>\n",
              "      <td>1</td>\n",
              "      <td>ভালো বহুত খেয়েছি আমার বাসা থেকে একটু দূরে</td>\n",
              "      <td>ভালো বহুত খেয়েছি আমার বাসা থেকে একটু দূরে</td>\n",
              "      <td>[ভালো, বহুত, খেয়েছি, বাসা, একটু, দূরে]</td>\n",
              "      <td>[ভালো, বহুত, খেয়েছি, বাসা, একটু, দূরে]</td>\n",
              "      <td>ভালো বহুত খেয়েছি বাসা একটু দূরে</td>\n",
              "    </tr>\n",
              "    <tr>\n",
              "      <th>4</th>\n",
              "      <td>আমি খাইসি খুবই মজার</td>\n",
              "      <td>1</td>\n",
              "      <td>আমি খাইসি খুবই মজার</td>\n",
              "      <td>আমি খাইসি খুবই মজার</td>\n",
              "      <td>[খাইসি, খুবই, মজার]</td>\n",
              "      <td>[খাইসি, খুব, মজ]</td>\n",
              "      <td>খাইসি খুব মজ</td>\n",
              "    </tr>\n",
              "  </tbody>\n",
              "</table>\n",
              "</div>\n",
              "      <button class=\"colab-df-convert\" onclick=\"convertToInteractive('df-59d3b064-f421-404c-b789-0c9eb4caee60')\"\n",
              "              title=\"Convert this dataframe to an interactive table.\"\n",
              "              style=\"display:none;\">\n",
              "        \n",
              "  <svg xmlns=\"http://www.w3.org/2000/svg\" height=\"24px\"viewBox=\"0 0 24 24\"\n",
              "       width=\"24px\">\n",
              "    <path d=\"M0 0h24v24H0V0z\" fill=\"none\"/>\n",
              "    <path d=\"M18.56 5.44l.94 2.06.94-2.06 2.06-.94-2.06-.94-.94-2.06-.94 2.06-2.06.94zm-11 1L8.5 8.5l.94-2.06 2.06-.94-2.06-.94L8.5 2.5l-.94 2.06-2.06.94zm10 10l.94 2.06.94-2.06 2.06-.94-2.06-.94-.94-2.06-.94 2.06-2.06.94z\"/><path d=\"M17.41 7.96l-1.37-1.37c-.4-.4-.92-.59-1.43-.59-.52 0-1.04.2-1.43.59L10.3 9.45l-7.72 7.72c-.78.78-.78 2.05 0 2.83L4 21.41c.39.39.9.59 1.41.59.51 0 1.02-.2 1.41-.59l7.78-7.78 2.81-2.81c.8-.78.8-2.07 0-2.86zM5.41 20L4 18.59l7.72-7.72 1.47 1.35L5.41 20z\"/>\n",
              "  </svg>\n",
              "      </button>\n",
              "      \n",
              "  <style>\n",
              "    .colab-df-container {\n",
              "      display:flex;\n",
              "      flex-wrap:wrap;\n",
              "      gap: 12px;\n",
              "    }\n",
              "\n",
              "    .colab-df-convert {\n",
              "      background-color: #E8F0FE;\n",
              "      border: none;\n",
              "      border-radius: 50%;\n",
              "      cursor: pointer;\n",
              "      display: none;\n",
              "      fill: #1967D2;\n",
              "      height: 32px;\n",
              "      padding: 0 0 0 0;\n",
              "      width: 32px;\n",
              "    }\n",
              "\n",
              "    .colab-df-convert:hover {\n",
              "      background-color: #E2EBFA;\n",
              "      box-shadow: 0px 1px 2px rgba(60, 64, 67, 0.3), 0px 1px 3px 1px rgba(60, 64, 67, 0.15);\n",
              "      fill: #174EA6;\n",
              "    }\n",
              "\n",
              "    [theme=dark] .colab-df-convert {\n",
              "      background-color: #3B4455;\n",
              "      fill: #D2E3FC;\n",
              "    }\n",
              "\n",
              "    [theme=dark] .colab-df-convert:hover {\n",
              "      background-color: #434B5C;\n",
              "      box-shadow: 0px 1px 3px 1px rgba(0, 0, 0, 0.15);\n",
              "      filter: drop-shadow(0px 1px 2px rgba(0, 0, 0, 0.3));\n",
              "      fill: #FFFFFF;\n",
              "    }\n",
              "  </style>\n",
              "\n",
              "      <script>\n",
              "        const buttonEl =\n",
              "          document.querySelector('#df-59d3b064-f421-404c-b789-0c9eb4caee60 button.colab-df-convert');\n",
              "        buttonEl.style.display =\n",
              "          google.colab.kernel.accessAllowed ? 'block' : 'none';\n",
              "\n",
              "        async function convertToInteractive(key) {\n",
              "          const element = document.querySelector('#df-59d3b064-f421-404c-b789-0c9eb4caee60');\n",
              "          const dataTable =\n",
              "            await google.colab.kernel.invokeFunction('convertToInteractive',\n",
              "                                                     [key], {});\n",
              "          if (!dataTable) return;\n",
              "\n",
              "          const docLinkHtml = 'Like what you see? Visit the ' +\n",
              "            '<a target=\"_blank\" href=https://colab.research.google.com/notebooks/data_table.ipynb>data table notebook</a>'\n",
              "            + ' to learn more about interactive tables.';\n",
              "          element.innerHTML = '';\n",
              "          dataTable['output_type'] = 'display_data';\n",
              "          await google.colab.output.renderOutput(dataTable, element);\n",
              "          const docLink = document.createElement('div');\n",
              "          docLink.innerHTML = docLinkHtml;\n",
              "          element.appendChild(docLink);\n",
              "        }\n",
              "      </script>\n",
              "    </div>\n",
              "  </div>\n",
              "  "
            ],
            "text/plain": [
              "                                              Speech  ...                                           sentence\n",
              "0  ব্যাস্ততম  জীবনের  একটু মনরম পরিবেশে  সময় কাটা...  ...  ব্যাস্ততম জীবন একটু মনরম পরিবেশ সময় কাটানোর ঘু...\n",
              "1  অসাধারণ পরিবেশ! খুব সুন্দর মার্জিত এবং আন্তরিক...  ...              অসাধারণ পরিবেশ সুন্দর মার্জিত আন্তরিক\n",
              "2  খাবারের মান যথেষ্ট খারাপ। দামের তুলনায় পরিমান ...  ...  খাবারের মান খারাপ দাম তুলনায় পরিমান কম ইফত প্ল...\n",
              "3          ভালো বহুত খেয়েছি আমার বাসা থেকে একটু দূরে  ...                    ভালো বহুত খেয়েছি বাসা একটু দূরে\n",
              "4                                আমি খাইসি খুবই মজার  ...                                       খাইসি খুব মজ\n",
              "\n",
              "[5 rows x 7 columns]"
            ]
          },
          "metadata": {},
          "execution_count": 19
        }
      ]
    },
    {
      "cell_type": "code",
      "source": [
        "from bnlp import BengaliGlove\n",
        "\n",
        "bng = BengaliGlove()\n",
        "glove_path = \"/content/drive/MyDrive/Playing with Data/bn_glove.39M.300d.txt\"\n",
        "#word = \"গ্রাম\"\n",
        "#res = bng.closest_word(glove_path, word)\n",
        "#print(res)\n",
        "#vec = bng.word2vec(glove_path, word)\n",
        "#print(vec)"
      ],
      "metadata": {
        "id": "2oXK1618TlV5"
      },
      "execution_count": null,
      "outputs": []
    },
    {
      "cell_type": "code",
      "source": [
        "reviews = df['sentence']\n"
      ],
      "metadata": {
        "id": "hwP1FAc0-FXW"
      },
      "execution_count": null,
      "outputs": []
    },
    {
      "cell_type": "code",
      "source": [
        "reviews_list = []\n",
        "for i in range(len(reviews)):\n",
        "    reviews_list.append(reviews[i])"
      ],
      "metadata": {
        "id": "XhIw58pA-K7X"
      },
      "execution_count": null,
      "outputs": []
    },
    {
      "cell_type": "code",
      "source": [
        "sentiment = df['Label']\n",
        "y = np.array(list(map(lambda x: 1 if x == 1 else 0, sentiment)))\n",
        "\n",
        "\n",
        "xtrain, xtest, ytrain, ytest = train_test_split(df['sentence'],y, shuffle=True, test_size=0.2,stratify= y)\n",
        "# find the length of the largest sentence in training data\n",
        "max_len = xtrain.apply(lambda x: len(x)).max()\n",
        "print(f'Max number of words in a text in training data: {max_len}')"
      ],
      "metadata": {
        "colab": {
          "base_uri": "https://localhost:8080/"
        },
        "id": "4OonGsCg8r58",
        "outputId": "67b1c809-206c-482e-9623-b43c6ede9f9f"
      },
      "execution_count": null,
      "outputs": [
        {
          "output_type": "stream",
          "name": "stdout",
          "text": [
            "Max number of words in a text in training data: 363\n"
          ]
        }
      ]
    },
    {
      "cell_type": "code",
      "source": [
        "#for data analysis and modeling\n",
        "import tensorflow as tf\n",
        "from tensorflow.keras.layers import LSTM, GRU, Dense, Embedding, Dropout\n",
        "from tensorflow.keras.preprocessing import text, sequence \n",
        "from tensorflow.keras.models import Sequential\n",
        "from sklearn.model_selection import train_test_split\n",
        "import pandas as pd\n",
        "import numpy as np\n",
        "#for text cleaning\n",
        "import string\n",
        "import re\n",
        "import nltk\n",
        "from nltk.tokenize import word_tokenize\n",
        "from nltk.corpus import stopwords\n",
        "#for visualization\n",
        "import matplotlib.pyplot as plt\n"
      ],
      "metadata": {
        "id": "riUag0kF-i5K"
      },
      "execution_count": null,
      "outputs": []
    },
    {
      "cell_type": "code",
      "source": [
        "max_words = 10000\n",
        "tokenizer = text.Tokenizer(num_words = max_words)\n",
        "# create the vocabulary by fitting on x_train text\n",
        "tokenizer.fit_on_texts(xtrain)\n",
        "# generate the sequence of tokens\n",
        "xtrain_seq = tokenizer.texts_to_sequences(xtrain)\n",
        "xtest_seq = tokenizer.texts_to_sequences(xtest)\n",
        "\n",
        "# pad the sequences\n",
        "xtrain_pad = sequence.pad_sequences(xtrain_seq, maxlen=max_len)\n",
        "xtest_pad = sequence.pad_sequences(xtest_seq, maxlen=max_len)\n",
        "word_index = tokenizer.word_index\n",
        "\n",
        "print('text example:', xtrain[0])\n",
        "print('sequence of indices(before padding):', xtrain_seq[2])\n",
        "print('sequence of indices(after padding):', xtrain_pad[2])"
      ],
      "metadata": {
        "colab": {
          "base_uri": "https://localhost:8080/"
        },
        "id": "-20GVdwc-YcI",
        "outputId": "b5f4c2f2-d2ec-47b2-d8ed-221ab4d7d6bb"
      },
      "execution_count": null,
      "outputs": [
        {
          "output_type": "stream",
          "name": "stdout",
          "text": [
            "text example: ব্যাস্ততম জীবন একটু মনরম পরিবেশ সময় কাটানোর ঘুরে মন খারাপ ভাল লাগা এক জায়গা\n",
            "sequence of indices(before padding): [441, 60, 741, 7, 3, 99, 49]\n",
            "sequence of indices(after padding): [  0   0   0   0   0   0   0   0   0   0   0   0   0   0   0   0   0   0\n",
            "   0   0   0   0   0   0   0   0   0   0   0   0   0   0   0   0   0   0\n",
            "   0   0   0   0   0   0   0   0   0   0   0   0   0   0   0   0   0   0\n",
            "   0   0   0   0   0   0   0   0   0   0   0   0   0   0   0   0   0   0\n",
            "   0   0   0   0   0   0   0   0   0   0   0   0   0   0   0   0   0   0\n",
            "   0   0   0   0   0   0   0   0   0   0   0   0   0   0   0   0   0   0\n",
            "   0   0   0   0   0   0   0   0   0   0   0   0   0   0   0   0   0   0\n",
            "   0   0   0   0   0   0   0   0   0   0   0   0   0   0   0   0   0   0\n",
            "   0   0   0   0   0   0   0   0   0   0   0   0   0   0   0   0   0   0\n",
            "   0   0   0   0   0   0   0   0   0   0   0   0   0   0   0   0   0   0\n",
            "   0   0   0   0   0   0   0   0   0   0   0   0   0   0   0   0   0   0\n",
            "   0   0   0   0   0   0   0   0   0   0   0   0   0   0   0   0   0   0\n",
            "   0   0   0   0   0   0   0   0   0   0   0   0   0   0   0   0   0   0\n",
            "   0   0   0   0   0   0   0   0   0   0   0   0   0   0   0   0   0   0\n",
            "   0   0   0   0   0   0   0   0   0   0   0   0   0   0   0   0   0   0\n",
            "   0   0   0   0   0   0   0   0   0   0   0   0   0   0   0   0   0   0\n",
            "   0   0   0   0   0   0   0   0   0   0   0   0   0   0   0   0   0   0\n",
            "   0   0   0   0   0   0   0   0   0   0   0   0   0   0   0   0   0   0\n",
            "   0   0   0   0   0   0   0   0   0   0   0   0   0   0   0   0   0   0\n",
            "   0   0   0   0   0   0   0   0   0   0   0   0   0   0 441  60 741   7\n",
            "   3  99  49]\n"
          ]
        }
      ]
    },
    {
      "cell_type": "code",
      "source": [
        "%%time\n",
        "embedding_vectors = {}\n",
        "# with open('/kaggle/input/glove6b100d/glove.6B.100d.txt','r',encoding='utf-8') as file:\n",
        "with open('/content/drive/MyDrive/Playing with Data/bn_glove.39M.300d.txt','r',encoding='utf-8') as file:\n",
        "    for row in file:\n",
        "        values = row.split(' ')\n",
        "        word = values[0]\n",
        "        weights = np.asarray([float(val) for val in values[1:]])\n",
        "        embedding_vectors[word] = weights\n",
        "print(f\"Size of vocabulary in GloVe: {len(embedding_vectors)}\")   "
      ],
      "metadata": {
        "colab": {
          "base_uri": "https://localhost:8080/"
        },
        "id": "_d2D_jxH-sy6",
        "outputId": "80074011-43a6-4c75-8028-02e892076a24"
      },
      "execution_count": null,
      "outputs": [
        {
          "output_type": "stream",
          "name": "stdout",
          "text": [
            "Size of vocabulary in GloVe: 178153\n",
            "CPU times: user 26.2 s, sys: 1.11 s, total: 27.3 s\n",
            "Wall time: 36.6 s\n"
          ]
        }
      ]
    },
    {
      "cell_type": "code",
      "source": [
        "#initialize the embedding_matrix with zeros\n",
        "emb_dim = 300\n",
        "if max_words is not None: \n",
        "    vocab_len = max_words \n",
        "else:\n",
        "    vocab_len = len(word_index)+1\n",
        "embedding_matrix = np.zeros((vocab_len, emb_dim))\n",
        "oov_count = 0\n",
        "oov_words = []\n",
        "for word, idx in word_index.items():\n",
        "    if idx < vocab_len:\n",
        "        embedding_vector = embedding_vectors.get(word)\n",
        "        if embedding_vector is not None:\n",
        "            embedding_matrix[idx] = embedding_vector\n",
        "        else:\n",
        "            oov_count += 1 \n",
        "            oov_words.append(word)\n",
        "#print some of the out of vocabulary words\n",
        "print(f'Some out of valubulary words: {oov_words[0:5]}')"
      ],
      "metadata": {
        "colab": {
          "base_uri": "https://localhost:8080/"
        },
        "id": "aiqEpYhb-4FK",
        "outputId": "00c53462-89a4-4bbf-bc21-fa39aad6abbd"
      },
      "execution_count": null,
      "outputs": [
        {
          "output_type": "stream",
          "name": "stdout",
          "text": [
            "Some out of valubulary words: ['খাবা', 'দিছ', 'মজ', 'মোটামু', 'দিয়']\n"
          ]
        }
      ]
    },
    {
      "cell_type": "code",
      "source": [
        "print(f'{oov_count} out of {vocab_len} words were OOV.')"
      ],
      "metadata": {
        "colab": {
          "base_uri": "https://localhost:8080/"
        },
        "id": "TXTVudqn-8Kb",
        "outputId": "bfa7269a-46ce-409d-e710-0ab5fc6d263c"
      },
      "execution_count": null,
      "outputs": [
        {
          "output_type": "stream",
          "name": "stdout",
          "text": [
            "599 out of 10000 words were OOV.\n"
          ]
        }
      ]
    },
    {
      "cell_type": "markdown",
      "source": [
        "**LSTM**"
      ],
      "metadata": {
        "id": "WpNaKfZfEOTT"
      }
    },
    {
      "cell_type": "code",
      "source": [
        "\n",
        "lstm_model = Sequential()\n",
        "lstm_model.add(Embedding(vocab_len, emb_dim, trainable = False, weights=[embedding_matrix]))\n",
        "lstm_model.add(LSTM(128, return_sequences=False))\n",
        "lstm_model.add(Dropout(0.5))\n",
        "lstm_model.add(Dense(1, activation = 'sigmoid'))\n",
        "lstm_model.compile(loss='binary_crossentropy', optimizer=tf.optimizers.Adam (learning_rate = 0.0001), metrics=['accuracy'])\n",
        "print(lstm_model.summary())"
      ],
      "metadata": {
        "colab": {
          "base_uri": "https://localhost:8080/"
        },
        "id": "HR7QtW9-_AvZ",
        "outputId": "62466fde-b0cc-4f71-8c38-eb86bec2e470"
      },
      "execution_count": null,
      "outputs": [
        {
          "output_type": "stream",
          "name": "stdout",
          "text": [
            "Model: \"sequential\"\n",
            "_________________________________________________________________\n",
            " Layer (type)                Output Shape              Param #   \n",
            "=================================================================\n",
            " embedding (Embedding)       (None, None, 300)         3000000   \n",
            "                                                                 \n",
            " lstm (LSTM)                 (None, 128)               219648    \n",
            "                                                                 \n",
            " dropout (Dropout)           (None, 128)               0         \n",
            "                                                                 \n",
            " dense (Dense)               (None, 1)                 129       \n",
            "                                                                 \n",
            "=================================================================\n",
            "Total params: 3,219,777\n",
            "Trainable params: 219,777\n",
            "Non-trainable params: 3,000,000\n",
            "_________________________________________________________________\n",
            "None\n"
          ]
        }
      ]
    },
    {
      "cell_type": "code",
      "source": [
        "%%time\n",
        "batch_size = 64\n",
        "epochs  = 50\n",
        "history = lstm_model.fit(xtrain_pad, np.asarray(ytrain), validation_data=(xtest_pad, np.asarray(ytest)), batch_size = batch_size, epochs = epochs)\n"
      ],
      "metadata": {
        "colab": {
          "base_uri": "https://localhost:8080/"
        },
        "id": "IxEmP1wY_Dz6",
        "outputId": "6ff8d7c0-646b-4748-b2a7-9c5add10e1ff"
      },
      "execution_count": null,
      "outputs": [
        {
          "output_type": "stream",
          "name": "stdout",
          "text": [
            "Epoch 1/50\n",
            "13/13 [==============================] - 10s 214ms/step - loss: 0.6837 - accuracy: 0.5481 - val_loss: 0.6719 - val_accuracy: 0.6154\n",
            "Epoch 2/50\n",
            "13/13 [==============================] - 1s 97ms/step - loss: 0.6710 - accuracy: 0.5962 - val_loss: 0.6583 - val_accuracy: 0.6923\n",
            "Epoch 3/50\n",
            "13/13 [==============================] - 1s 92ms/step - loss: 0.6528 - accuracy: 0.6526 - val_loss: 0.6448 - val_accuracy: 0.7067\n",
            "Epoch 4/50\n",
            "13/13 [==============================] - 1s 92ms/step - loss: 0.6368 - accuracy: 0.7127 - val_loss: 0.6311 - val_accuracy: 0.6971\n",
            "Epoch 5/50\n",
            "13/13 [==============================] - 1s 88ms/step - loss: 0.6186 - accuracy: 0.7067 - val_loss: 0.6168 - val_accuracy: 0.7212\n",
            "Epoch 6/50\n",
            "13/13 [==============================] - 1s 86ms/step - loss: 0.6012 - accuracy: 0.7476 - val_loss: 0.6013 - val_accuracy: 0.7308\n",
            "Epoch 7/50\n",
            "13/13 [==============================] - 1s 85ms/step - loss: 0.5805 - accuracy: 0.7632 - val_loss: 0.5835 - val_accuracy: 0.7548\n",
            "Epoch 8/50\n",
            "13/13 [==============================] - 1s 85ms/step - loss: 0.5570 - accuracy: 0.7776 - val_loss: 0.5645 - val_accuracy: 0.7837\n",
            "Epoch 9/50\n",
            "13/13 [==============================] - 1s 86ms/step - loss: 0.5411 - accuracy: 0.7861 - val_loss: 0.5442 - val_accuracy: 0.7885\n",
            "Epoch 10/50\n",
            "13/13 [==============================] - 1s 87ms/step - loss: 0.5185 - accuracy: 0.7837 - val_loss: 0.5227 - val_accuracy: 0.7981\n",
            "Epoch 11/50\n",
            "13/13 [==============================] - 1s 86ms/step - loss: 0.5007 - accuracy: 0.7921 - val_loss: 0.5035 - val_accuracy: 0.8077\n",
            "Epoch 12/50\n",
            "13/13 [==============================] - 1s 86ms/step - loss: 0.4822 - accuracy: 0.7981 - val_loss: 0.4902 - val_accuracy: 0.8029\n",
            "Epoch 13/50\n",
            "13/13 [==============================] - 1s 86ms/step - loss: 0.4684 - accuracy: 0.8197 - val_loss: 0.4773 - val_accuracy: 0.8125\n",
            "Epoch 14/50\n",
            "13/13 [==============================] - 1s 86ms/step - loss: 0.4515 - accuracy: 0.8257 - val_loss: 0.4603 - val_accuracy: 0.8221\n",
            "Epoch 15/50\n",
            "13/13 [==============================] - 1s 85ms/step - loss: 0.4402 - accuracy: 0.8221 - val_loss: 0.4475 - val_accuracy: 0.8317\n",
            "Epoch 16/50\n",
            "13/13 [==============================] - 1s 85ms/step - loss: 0.4260 - accuracy: 0.8365 - val_loss: 0.4375 - val_accuracy: 0.8269\n",
            "Epoch 17/50\n",
            "13/13 [==============================] - 1s 85ms/step - loss: 0.4157 - accuracy: 0.8329 - val_loss: 0.4281 - val_accuracy: 0.8317\n",
            "Epoch 18/50\n",
            "13/13 [==============================] - 1s 86ms/step - loss: 0.4052 - accuracy: 0.8353 - val_loss: 0.4270 - val_accuracy: 0.8269\n",
            "Epoch 19/50\n",
            "13/13 [==============================] - 1s 86ms/step - loss: 0.4006 - accuracy: 0.8365 - val_loss: 0.4199 - val_accuracy: 0.8365\n",
            "Epoch 20/50\n",
            "13/13 [==============================] - 1s 84ms/step - loss: 0.3901 - accuracy: 0.8462 - val_loss: 0.4060 - val_accuracy: 0.8510\n",
            "Epoch 21/50\n",
            "13/13 [==============================] - 1s 85ms/step - loss: 0.3776 - accuracy: 0.8510 - val_loss: 0.4144 - val_accuracy: 0.8365\n",
            "Epoch 22/50\n",
            "13/13 [==============================] - 1s 85ms/step - loss: 0.3691 - accuracy: 0.8606 - val_loss: 0.4089 - val_accuracy: 0.8365\n",
            "Epoch 23/50\n",
            "13/13 [==============================] - 1s 85ms/step - loss: 0.3681 - accuracy: 0.8678 - val_loss: 0.3989 - val_accuracy: 0.8413\n",
            "Epoch 24/50\n",
            "13/13 [==============================] - 1s 84ms/step - loss: 0.3569 - accuracy: 0.8618 - val_loss: 0.3967 - val_accuracy: 0.8510\n",
            "Epoch 25/50\n",
            "13/13 [==============================] - 1s 86ms/step - loss: 0.3481 - accuracy: 0.8666 - val_loss: 0.3946 - val_accuracy: 0.8510\n",
            "Epoch 26/50\n",
            "13/13 [==============================] - 1s 86ms/step - loss: 0.3433 - accuracy: 0.8678 - val_loss: 0.3941 - val_accuracy: 0.8462\n",
            "Epoch 27/50\n",
            "13/13 [==============================] - 1s 84ms/step - loss: 0.3375 - accuracy: 0.8798 - val_loss: 0.3871 - val_accuracy: 0.8558\n",
            "Epoch 28/50\n",
            "13/13 [==============================] - 1s 84ms/step - loss: 0.3283 - accuracy: 0.8762 - val_loss: 0.3905 - val_accuracy: 0.8558\n",
            "Epoch 29/50\n",
            "13/13 [==============================] - 1s 91ms/step - loss: 0.3245 - accuracy: 0.8786 - val_loss: 0.3830 - val_accuracy: 0.8558\n",
            "Epoch 30/50\n",
            "13/13 [==============================] - 1s 85ms/step - loss: 0.3178 - accuracy: 0.8798 - val_loss: 0.3747 - val_accuracy: 0.8558\n",
            "Epoch 31/50\n",
            "13/13 [==============================] - 1s 85ms/step - loss: 0.3111 - accuracy: 0.8822 - val_loss: 0.3774 - val_accuracy: 0.8558\n",
            "Epoch 32/50\n",
            "13/13 [==============================] - 1s 84ms/step - loss: 0.3057 - accuracy: 0.9002 - val_loss: 0.3732 - val_accuracy: 0.8510\n",
            "Epoch 33/50\n",
            "13/13 [==============================] - 1s 86ms/step - loss: 0.2986 - accuracy: 0.8834 - val_loss: 0.3731 - val_accuracy: 0.8606\n",
            "Epoch 34/50\n",
            "13/13 [==============================] - 1s 87ms/step - loss: 0.2962 - accuracy: 0.8942 - val_loss: 0.3794 - val_accuracy: 0.8702\n",
            "Epoch 35/50\n",
            "13/13 [==============================] - 1s 85ms/step - loss: 0.2947 - accuracy: 0.8870 - val_loss: 0.3802 - val_accuracy: 0.8654\n",
            "Epoch 36/50\n",
            "13/13 [==============================] - 1s 85ms/step - loss: 0.2839 - accuracy: 0.8918 - val_loss: 0.3642 - val_accuracy: 0.8606\n",
            "Epoch 37/50\n",
            "13/13 [==============================] - 1s 85ms/step - loss: 0.3002 - accuracy: 0.8990 - val_loss: 0.3755 - val_accuracy: 0.8654\n",
            "Epoch 38/50\n",
            "13/13 [==============================] - 1s 91ms/step - loss: 0.2780 - accuracy: 0.9002 - val_loss: 0.3587 - val_accuracy: 0.8702\n",
            "Epoch 39/50\n",
            "13/13 [==============================] - 1s 86ms/step - loss: 0.2826 - accuracy: 0.8930 - val_loss: 0.3704 - val_accuracy: 0.8558\n",
            "Epoch 40/50\n",
            "13/13 [==============================] - 1s 86ms/step - loss: 0.2760 - accuracy: 0.9026 - val_loss: 0.3605 - val_accuracy: 0.8750\n",
            "Epoch 41/50\n",
            "13/13 [==============================] - 1s 91ms/step - loss: 0.2680 - accuracy: 0.9026 - val_loss: 0.3777 - val_accuracy: 0.8654\n",
            "Epoch 42/50\n",
            "13/13 [==============================] - 1s 86ms/step - loss: 0.2677 - accuracy: 0.9002 - val_loss: 0.3565 - val_accuracy: 0.8702\n",
            "Epoch 43/50\n",
            "13/13 [==============================] - 1s 87ms/step - loss: 0.2697 - accuracy: 0.9038 - val_loss: 0.3492 - val_accuracy: 0.8654\n",
            "Epoch 44/50\n",
            "13/13 [==============================] - 1s 85ms/step - loss: 0.2589 - accuracy: 0.9014 - val_loss: 0.3613 - val_accuracy: 0.8702\n",
            "Epoch 45/50\n",
            "13/13 [==============================] - 1s 84ms/step - loss: 0.2590 - accuracy: 0.9099 - val_loss: 0.3623 - val_accuracy: 0.8702\n",
            "Epoch 46/50\n",
            "13/13 [==============================] - 1s 87ms/step - loss: 0.2531 - accuracy: 0.9099 - val_loss: 0.3594 - val_accuracy: 0.8702\n",
            "Epoch 47/50\n",
            "13/13 [==============================] - 1s 86ms/step - loss: 0.2480 - accuracy: 0.9026 - val_loss: 0.3613 - val_accuracy: 0.8750\n",
            "Epoch 48/50\n",
            "13/13 [==============================] - 1s 86ms/step - loss: 0.2445 - accuracy: 0.9147 - val_loss: 0.3606 - val_accuracy: 0.8702\n",
            "Epoch 49/50\n",
            "13/13 [==============================] - 1s 85ms/step - loss: 0.2398 - accuracy: 0.9050 - val_loss: 0.3630 - val_accuracy: 0.8750\n",
            "Epoch 50/50\n",
            "13/13 [==============================] - 1s 84ms/step - loss: 0.2383 - accuracy: 0.9195 - val_loss: 0.3645 - val_accuracy: 0.8750\n",
            "CPU times: user 56.2 s, sys: 1.7 s, total: 57.9 s\n",
            "Wall time: 1min 5s\n"
          ]
        }
      ]
    },
    {
      "cell_type": "code",
      "source": [
        "#plot accuracy\n",
        "plt.figure(figsize=(15, 7))\n",
        "plt.plot(range(epochs), history.history['accuracy'])\n",
        "plt.plot(range(epochs), history.history['val_accuracy'])\n",
        "plt.legend(['training_acc', 'validation_acc'])\n",
        "plt.title('Accuracy')"
      ],
      "metadata": {
        "id": "Cl22iAnf_MXs",
        "colab": {
          "base_uri": "https://localhost:8080/",
          "height": 462
        },
        "outputId": "8c3b3775-3a61-4c16-e273-09efacceb50d"
      },
      "execution_count": null,
      "outputs": [
        {
          "output_type": "execute_result",
          "data": {
            "text/plain": [
              "Text(0.5, 1.0, 'Accuracy')"
            ]
          },
          "metadata": {},
          "execution_count": 31
        },
        {
          "output_type": "display_data",
          "data": {
            "image/png": "[encoded data removed]",
            "text/plain": [
              "<Figure size 1080x504 with 1 Axes>"
            ]
          },
          "metadata": {
            "needs_background": "light"
          }
        }
      ]
    },
    {
      "cell_type": "code",
      "source": [
        "train_lstm_results = lstm_model.evaluate(xtrain_pad, np.asarray(ytrain), verbose=0, batch_size=256)\n",
        "test_lstm_results = lstm_model.evaluate(xtest_pad, np.asarray(ytest), verbose=0, batch_size=256)\n",
        "print(f'Train accuracy: {train_lstm_results[1]*100:0.2f}')\n",
        "print(f'Test accuracy: {test_lstm_results[1]*100:0.2f}')"
      ],
      "metadata": {
        "id": "v6eZBEHn_QxE",
        "colab": {
          "base_uri": "https://localhost:8080/"
        },
        "outputId": "784f7855-a3b9-4b6a-87db-aa6188c0f809"
      },
      "execution_count": null,
      "outputs": [
        {
          "output_type": "stream",
          "name": "stdout",
          "text": [
            "Train accuracy: 91.95\n",
            "Test accuracy: 87.50\n"
          ]
        }
      ]
    },
    {
      "cell_type": "markdown",
      "source": [
        "**GRU**"
      ],
      "metadata": {
        "id": "l7mWp6MwE040"
      }
    },
    {
      "cell_type": "code",
      "source": [
        "emb_dim = embedding_matrix.shape[1]\n",
        "gru_model = Sequential()\n",
        "gru_model.add(Embedding(vocab_len, emb_dim, trainable = False, weights=[embedding_matrix]))\n",
        "gru_model.add(GRU(128, return_sequences=False))\n",
        "gru_model.add(Dropout(0.5))\n",
        "gru_model.add(Dense(1, activation = 'sigmoid'))\n",
        "gru_model.compile(loss='binary_crossentropy',optimizer=tf.optimizers.Adam (learning_rate = 0.0001), metrics=['accuracy'])\n",
        "print(gru_model.summary())"
      ],
      "metadata": {
        "id": "BvXE1q-T_V3F",
        "colab": {
          "base_uri": "https://localhost:8080/"
        },
        "outputId": "27e99103-462f-409f-89c1-b1d4b5948064"
      },
      "execution_count": null,
      "outputs": [
        {
          "output_type": "stream",
          "name": "stdout",
          "text": [
            "Model: \"sequential_1\"\n",
            "_________________________________________________________________\n",
            " Layer (type)                Output Shape              Param #   \n",
            "=================================================================\n",
            " embedding_1 (Embedding)     (None, None, 300)         3000000   \n",
            "                                                                 \n",
            " gru (GRU)                   (None, 128)               165120    \n",
            "                                                                 \n",
            " dropout_1 (Dropout)         (None, 128)               0         \n",
            "                                                                 \n",
            " dense_1 (Dense)             (None, 1)                 129       \n",
            "                                                                 \n",
            "=================================================================\n",
            "Total params: 3,165,249\n",
            "Trainable params: 165,249\n",
            "Non-trainable params: 3,000,000\n",
            "_________________________________________________________________\n",
            "None\n"
          ]
        }
      ]
    },
    {
      "cell_type": "code",
      "source": [
        "\n",
        "batch_size = 64\n",
        "epochs  = 50\n",
        "history = gru_model.fit(xtrain_pad, np.asarray(ytrain), validation_data=(xtest_pad, np.asarray(ytest)), batch_size = batch_size, epochs = epochs)\n"
      ],
      "metadata": {
        "id": "3MoEn164_YMB",
        "colab": {
          "base_uri": "https://localhost:8080/"
        },
        "outputId": "37545e93-ff0c-4cc4-c990-1cc34435cb86"
      },
      "execution_count": null,
      "outputs": [
        {
          "output_type": "stream",
          "name": "stdout",
          "text": [
            "Epoch 1/50\n",
            "13/13 [==============================] - 3s 122ms/step - loss: 0.6842 - accuracy: 0.5589 - val_loss: 0.6784 - val_accuracy: 0.5913\n",
            "Epoch 2/50\n",
            "13/13 [==============================] - 1s 79ms/step - loss: 0.6755 - accuracy: 0.5901 - val_loss: 0.6629 - val_accuracy: 0.6106\n",
            "Epoch 3/50\n",
            "13/13 [==============================] - 1s 80ms/step - loss: 0.6592 - accuracy: 0.6118 - val_loss: 0.6492 - val_accuracy: 0.6538\n",
            "Epoch 4/50\n",
            "13/13 [==============================] - 1s 79ms/step - loss: 0.6486 - accuracy: 0.6382 - val_loss: 0.6365 - val_accuracy: 0.6683\n",
            "Epoch 5/50\n",
            "13/13 [==============================] - 1s 79ms/step - loss: 0.6330 - accuracy: 0.6791 - val_loss: 0.6241 - val_accuracy: 0.6731\n",
            "Epoch 6/50\n",
            "13/13 [==============================] - 1s 80ms/step - loss: 0.6181 - accuracy: 0.7115 - val_loss: 0.6130 - val_accuracy: 0.6779\n",
            "Epoch 7/50\n",
            "13/13 [==============================] - 1s 79ms/step - loss: 0.6106 - accuracy: 0.7055 - val_loss: 0.6016 - val_accuracy: 0.6731\n",
            "Epoch 8/50\n",
            "13/13 [==============================] - 1s 80ms/step - loss: 0.5955 - accuracy: 0.7248 - val_loss: 0.5904 - val_accuracy: 0.6827\n",
            "Epoch 9/50\n",
            "13/13 [==============================] - 1s 78ms/step - loss: 0.5834 - accuracy: 0.7428 - val_loss: 0.5787 - val_accuracy: 0.6971\n",
            "Epoch 10/50\n",
            "13/13 [==============================] - 1s 79ms/step - loss: 0.5725 - accuracy: 0.7452 - val_loss: 0.5659 - val_accuracy: 0.7212\n",
            "Epoch 11/50\n",
            "13/13 [==============================] - 1s 79ms/step - loss: 0.5571 - accuracy: 0.7632 - val_loss: 0.5528 - val_accuracy: 0.7356\n",
            "Epoch 12/50\n",
            "13/13 [==============================] - 1s 78ms/step - loss: 0.5465 - accuracy: 0.7692 - val_loss: 0.5387 - val_accuracy: 0.7452\n",
            "Epoch 13/50\n",
            "13/13 [==============================] - 1s 79ms/step - loss: 0.5257 - accuracy: 0.7812 - val_loss: 0.5249 - val_accuracy: 0.7548\n",
            "Epoch 14/50\n",
            "13/13 [==============================] - 1s 80ms/step - loss: 0.5108 - accuracy: 0.7897 - val_loss: 0.5081 - val_accuracy: 0.7596\n",
            "Epoch 15/50\n",
            "13/13 [==============================] - 1s 78ms/step - loss: 0.4886 - accuracy: 0.7957 - val_loss: 0.4900 - val_accuracy: 0.7596\n",
            "Epoch 16/50\n",
            "13/13 [==============================] - 1s 80ms/step - loss: 0.4645 - accuracy: 0.8089 - val_loss: 0.4715 - val_accuracy: 0.7692\n",
            "Epoch 17/50\n",
            "13/13 [==============================] - 1s 79ms/step - loss: 0.4420 - accuracy: 0.8053 - val_loss: 0.4520 - val_accuracy: 0.7788\n",
            "Epoch 18/50\n",
            "13/13 [==============================] - 1s 80ms/step - loss: 0.4223 - accuracy: 0.8257 - val_loss: 0.4329 - val_accuracy: 0.7837\n",
            "Epoch 19/50\n",
            "13/13 [==============================] - 1s 80ms/step - loss: 0.3983 - accuracy: 0.8365 - val_loss: 0.4234 - val_accuracy: 0.8029\n",
            "Epoch 20/50\n",
            "13/13 [==============================] - 1s 79ms/step - loss: 0.3919 - accuracy: 0.8389 - val_loss: 0.4083 - val_accuracy: 0.8173\n",
            "Epoch 21/50\n",
            "13/13 [==============================] - 1s 79ms/step - loss: 0.3823 - accuracy: 0.8353 - val_loss: 0.3998 - val_accuracy: 0.8173\n",
            "Epoch 22/50\n",
            "13/13 [==============================] - 1s 79ms/step - loss: 0.3718 - accuracy: 0.8389 - val_loss: 0.3971 - val_accuracy: 0.8173\n",
            "Epoch 23/50\n",
            "13/13 [==============================] - 1s 80ms/step - loss: 0.3636 - accuracy: 0.8498 - val_loss: 0.3916 - val_accuracy: 0.8125\n",
            "Epoch 24/50\n",
            "13/13 [==============================] - 1s 80ms/step - loss: 0.3563 - accuracy: 0.8486 - val_loss: 0.3864 - val_accuracy: 0.8221\n",
            "Epoch 25/50\n",
            "13/13 [==============================] - 1s 80ms/step - loss: 0.3552 - accuracy: 0.8642 - val_loss: 0.3855 - val_accuracy: 0.8365\n",
            "Epoch 26/50\n",
            "13/13 [==============================] - 1s 79ms/step - loss: 0.3543 - accuracy: 0.8714 - val_loss: 0.3849 - val_accuracy: 0.8221\n",
            "Epoch 27/50\n",
            "13/13 [==============================] - 1s 81ms/step - loss: 0.3377 - accuracy: 0.8678 - val_loss: 0.3835 - val_accuracy: 0.8221\n",
            "Epoch 28/50\n",
            "13/13 [==============================] - 1s 81ms/step - loss: 0.3323 - accuracy: 0.8678 - val_loss: 0.3762 - val_accuracy: 0.8317\n",
            "Epoch 29/50\n",
            "13/13 [==============================] - 1s 85ms/step - loss: 0.3214 - accuracy: 0.8762 - val_loss: 0.3760 - val_accuracy: 0.8365\n",
            "Epoch 30/50\n",
            "13/13 [==============================] - 1s 77ms/step - loss: 0.3174 - accuracy: 0.8678 - val_loss: 0.3745 - val_accuracy: 0.8606\n",
            "Epoch 31/50\n",
            "13/13 [==============================] - 1s 79ms/step - loss: 0.3137 - accuracy: 0.8810 - val_loss: 0.3727 - val_accuracy: 0.8413\n",
            "Epoch 32/50\n",
            "13/13 [==============================] - 1s 80ms/step - loss: 0.3087 - accuracy: 0.8798 - val_loss: 0.3693 - val_accuracy: 0.8413\n",
            "Epoch 33/50\n",
            "13/13 [==============================] - 1s 80ms/step - loss: 0.3031 - accuracy: 0.8798 - val_loss: 0.3679 - val_accuracy: 0.8413\n",
            "Epoch 34/50\n",
            "13/13 [==============================] - 1s 80ms/step - loss: 0.3018 - accuracy: 0.8834 - val_loss: 0.3691 - val_accuracy: 0.8221\n",
            "Epoch 35/50\n",
            "13/13 [==============================] - 1s 87ms/step - loss: 0.2954 - accuracy: 0.8822 - val_loss: 0.3633 - val_accuracy: 0.8558\n",
            "Epoch 36/50\n",
            "13/13 [==============================] - 1s 93ms/step - loss: 0.2937 - accuracy: 0.8834 - val_loss: 0.3644 - val_accuracy: 0.8462\n",
            "Epoch 37/50\n",
            "13/13 [==============================] - 1s 83ms/step - loss: 0.2928 - accuracy: 0.8906 - val_loss: 0.3670 - val_accuracy: 0.8510\n",
            "Epoch 38/50\n",
            "13/13 [==============================] - 1s 80ms/step - loss: 0.2865 - accuracy: 0.8846 - val_loss: 0.3617 - val_accuracy: 0.8558\n",
            "Epoch 39/50\n",
            "13/13 [==============================] - 1s 80ms/step - loss: 0.2795 - accuracy: 0.8870 - val_loss: 0.3604 - val_accuracy: 0.8558\n",
            "Epoch 40/50\n",
            "13/13 [==============================] - 1s 79ms/step - loss: 0.2865 - accuracy: 0.8918 - val_loss: 0.3643 - val_accuracy: 0.8510\n",
            "Epoch 41/50\n",
            "13/13 [==============================] - 1s 80ms/step - loss: 0.2773 - accuracy: 0.8978 - val_loss: 0.3616 - val_accuracy: 0.8462\n",
            "Epoch 42/50\n",
            "13/13 [==============================] - 1s 78ms/step - loss: 0.2687 - accuracy: 0.9038 - val_loss: 0.3608 - val_accuracy: 0.8510\n",
            "Epoch 43/50\n",
            "13/13 [==============================] - 1s 80ms/step - loss: 0.2674 - accuracy: 0.8954 - val_loss: 0.3546 - val_accuracy: 0.8365\n",
            "Epoch 44/50\n",
            "13/13 [==============================] - 1s 80ms/step - loss: 0.2661 - accuracy: 0.9026 - val_loss: 0.3562 - val_accuracy: 0.8510\n",
            "Epoch 45/50\n",
            "13/13 [==============================] - 1s 79ms/step - loss: 0.2621 - accuracy: 0.9026 - val_loss: 0.3609 - val_accuracy: 0.8558\n",
            "Epoch 46/50\n",
            "13/13 [==============================] - 1s 79ms/step - loss: 0.2563 - accuracy: 0.9099 - val_loss: 0.3572 - val_accuracy: 0.8413\n",
            "Epoch 47/50\n",
            "13/13 [==============================] - 1s 81ms/step - loss: 0.2559 - accuracy: 0.9014 - val_loss: 0.3643 - val_accuracy: 0.8654\n",
            "Epoch 48/50\n",
            "13/13 [==============================] - 1s 79ms/step - loss: 0.2459 - accuracy: 0.9026 - val_loss: 0.3600 - val_accuracy: 0.8558\n",
            "Epoch 49/50\n",
            "13/13 [==============================] - 1s 80ms/step - loss: 0.2412 - accuracy: 0.9026 - val_loss: 0.3613 - val_accuracy: 0.8606\n",
            "Epoch 50/50\n",
            "13/13 [==============================] - 1s 81ms/step - loss: 0.2410 - accuracy: 0.9050 - val_loss: 0.3678 - val_accuracy: 0.8702\n"
          ]
        }
      ]
    },
    {
      "cell_type": "code",
      "source": [
        "#plot accuracy\n",
        "plt.figure(figsize=(15, 7))\n",
        "plt.plot(range(epochs), history.history['accuracy'])\n",
        "plt.plot(range(epochs), history.history['val_accuracy'])\n",
        "plt.legend(['training_acc', 'validation_acc'])\n",
        "plt.title('Accuracy')"
      ],
      "metadata": {
        "colab": {
          "base_uri": "https://localhost:8080/",
          "height": 462
        },
        "id": "nn99mA50_bvA",
        "outputId": "24c9e7cb-12f8-44fd-8a3c-d80210c8676e"
      },
      "execution_count": null,
      "outputs": [
        {
          "output_type": "execute_result",
          "data": {
            "text/plain": [
              "Text(0.5, 1.0, 'Accuracy')"
            ]
          },
          "metadata": {},
          "execution_count": 35
        },
        {
          "output_type": "display_data",
          "data": {
            "image/png": "[encoded data removed]",
            "text/plain": [
              "<Figure size 1080x504 with 1 Axes>"
            ]
          },
          "metadata": {
            "needs_background": "light"
          }
        }
      ]
    },
    {
      "cell_type": "code",
      "source": [
        "train_gru_results = gru_model.evaluate(xtrain_pad, np.asarray(ytrain), verbose=0, batch_size=256)\n",
        "test_gru_results = gru_model.evaluate(xtest_pad, np.asarray(ytest), verbose=0, batch_size=256)\n",
        "print(f'Train accuracy: {train_gru_results[1]*100:0.2f}')\n",
        "print(f'Test accuracy: {test_gru_results[1]*100:0.2f}')"
      ],
      "metadata": {
        "id": "tbkYDTyl_gUj",
        "colab": {
          "base_uri": "https://localhost:8080/"
        },
        "outputId": "700f4179-9ad2-4432-92af-6f460cd24ead"
      },
      "execution_count": null,
      "outputs": [
        {
          "output_type": "stream",
          "name": "stdout",
          "text": [
            "Train accuracy: 90.26\n",
            "Test accuracy: 87.02\n"
          ]
        }
      ]
    },
    {
      "cell_type": "markdown",
      "source": [
        "**RRN**"
      ],
      "metadata": {
        "id": "Uoa_JfX7EboN"
      }
    },
    {
      "cell_type": "code",
      "source": [
        "from tensorflow.python.keras.layers.recurrent import SimpleRNN\n",
        "emb_dim = embedding_matrix.shape[1]\n",
        "RRN_model = Sequential()\n",
        "RRN_model.add(Embedding(vocab_len, emb_dim, trainable = False, weights=[embedding_matrix]))\n",
        "RRN_model.add(SimpleRNN(128, return_sequences=False))\n",
        "RRN_model.add(Dropout(0.5))\n",
        "RRN_model.add(Dense(1, activation = 'sigmoid'))\n",
        "RRN_model.compile(loss='binary_crossentropy',optimizer=tf.optimizers.Adam (learning_rate = 0.0001), metrics=['accuracy'])\n",
        "print(RRN_model.summary())"
      ],
      "metadata": {
        "id": "crcZYHrPEbCR",
        "colab": {
          "base_uri": "https://localhost:8080/"
        },
        "outputId": "fc262d2a-1641-436c-9a4c-94924d818fcd"
      },
      "execution_count": null,
      "outputs": [
        {
          "output_type": "stream",
          "name": "stdout",
          "text": [
            "Model: \"sequential_2\"\n",
            "_________________________________________________________________\n",
            " Layer (type)                Output Shape              Param #   \n",
            "=================================================================\n",
            " embedding_2 (Embedding)     (None, None, 300)         3000000   \n",
            "                                                                 \n",
            " module_wrapper (ModuleWrapp  (None, 128)              54912     \n",
            " er)                                                             \n",
            "                                                                 \n",
            " dropout_2 (Dropout)         (None, 128)               0         \n",
            "                                                                 \n",
            " dense_2 (Dense)             (None, 1)                 129       \n",
            "                                                                 \n",
            "=================================================================\n",
            "Total params: 3,055,041\n",
            "Trainable params: 55,041\n",
            "Non-trainable params: 3,000,000\n",
            "_________________________________________________________________\n",
            "None\n"
          ]
        }
      ]
    },
    {
      "cell_type": "code",
      "source": [
        "batch_size = 64\n",
        "epochs  = 50\n",
        "history = RRN_model.fit(xtrain_pad, np.asarray(ytrain), validation_data=(xtest_pad, np.asarray(ytest)), batch_size = batch_size, epochs = epochs)"
      ],
      "metadata": {
        "id": "mYNKaQF4E8Dx",
        "colab": {
          "base_uri": "https://localhost:8080/"
        },
        "outputId": "bdbcb07b-02e4-43d0-8bec-6b74ffca348c"
      },
      "execution_count": null,
      "outputs": [
        {
          "output_type": "stream",
          "name": "stdout",
          "text": [
            "Epoch 1/50\n",
            "13/13 [==============================] - 6s 391ms/step - loss: 0.7698 - accuracy: 0.4940 - val_loss: 0.7249 - val_accuracy: 0.5385\n",
            "Epoch 2/50\n",
            "13/13 [==============================] - 5s 366ms/step - loss: 0.7431 - accuracy: 0.5312 - val_loss: 0.7092 - val_accuracy: 0.5865\n",
            "Epoch 3/50\n",
            "13/13 [==============================] - 5s 359ms/step - loss: 0.7155 - accuracy: 0.5745 - val_loss: 0.6961 - val_accuracy: 0.5865\n",
            "Epoch 4/50\n",
            "13/13 [==============================] - 5s 365ms/step - loss: 0.6918 - accuracy: 0.6010 - val_loss: 0.6848 - val_accuracy: 0.5913\n",
            "Epoch 5/50\n",
            "13/13 [==============================] - 6s 453ms/step - loss: 0.6585 - accuracy: 0.6214 - val_loss: 0.6740 - val_accuracy: 0.6058\n",
            "Epoch 6/50\n",
            "13/13 [==============================] - 5s 350ms/step - loss: 0.6511 - accuracy: 0.6358 - val_loss: 0.6639 - val_accuracy: 0.6058\n",
            "Epoch 7/50\n",
            "13/13 [==============================] - 4s 338ms/step - loss: 0.6338 - accuracy: 0.6490 - val_loss: 0.6551 - val_accuracy: 0.6202\n",
            "Epoch 8/50\n",
            "13/13 [==============================] - 4s 346ms/step - loss: 0.6239 - accuracy: 0.6659 - val_loss: 0.6456 - val_accuracy: 0.6394\n",
            "Epoch 9/50\n",
            "13/13 [==============================] - 4s 347ms/step - loss: 0.6007 - accuracy: 0.6731 - val_loss: 0.6382 - val_accuracy: 0.6587\n",
            "Epoch 10/50\n",
            "13/13 [==============================] - 5s 351ms/step - loss: 0.5993 - accuracy: 0.6743 - val_loss: 0.6267 - val_accuracy: 0.6683\n",
            "Epoch 11/50\n",
            "13/13 [==============================] - 4s 341ms/step - loss: 0.5661 - accuracy: 0.6863 - val_loss: 0.6134 - val_accuracy: 0.6731\n",
            "Epoch 12/50\n",
            "13/13 [==============================] - 4s 340ms/step - loss: 0.5583 - accuracy: 0.7296 - val_loss: 0.6095 - val_accuracy: 0.6779\n",
            "Epoch 13/50\n",
            "13/13 [==============================] - 5s 359ms/step - loss: 0.5300 - accuracy: 0.7404 - val_loss: 0.5964 - val_accuracy: 0.6875\n",
            "Epoch 14/50\n",
            "13/13 [==============================] - 5s 347ms/step - loss: 0.5229 - accuracy: 0.7440 - val_loss: 0.5823 - val_accuracy: 0.7019\n",
            "Epoch 15/50\n",
            "13/13 [==============================] - 5s 356ms/step - loss: 0.5021 - accuracy: 0.7548 - val_loss: 0.5722 - val_accuracy: 0.6971\n",
            "Epoch 16/50\n",
            "13/13 [==============================] - 5s 345ms/step - loss: 0.4946 - accuracy: 0.7644 - val_loss: 0.5740 - val_accuracy: 0.7163\n",
            "Epoch 17/50\n",
            "13/13 [==============================] - 5s 376ms/step - loss: 0.4929 - accuracy: 0.7776 - val_loss: 0.5723 - val_accuracy: 0.7067\n",
            "Epoch 18/50\n",
            "13/13 [==============================] - 5s 348ms/step - loss: 0.5028 - accuracy: 0.7716 - val_loss: 0.5668 - val_accuracy: 0.7019\n",
            "Epoch 19/50\n",
            "13/13 [==============================] - 4s 334ms/step - loss: 0.4768 - accuracy: 0.7776 - val_loss: 0.5604 - val_accuracy: 0.7260\n",
            "Epoch 20/50\n",
            "13/13 [==============================] - 5s 350ms/step - loss: 0.4603 - accuracy: 0.7957 - val_loss: 0.5551 - val_accuracy: 0.7308\n",
            "Epoch 21/50\n",
            "13/13 [==============================] - 4s 338ms/step - loss: 0.4653 - accuracy: 0.7776 - val_loss: 0.5511 - val_accuracy: 0.7308\n",
            "Epoch 22/50\n",
            "13/13 [==============================] - 5s 353ms/step - loss: 0.4505 - accuracy: 0.8041 - val_loss: 0.5467 - val_accuracy: 0.7404\n",
            "Epoch 23/50\n",
            "13/13 [==============================] - 5s 349ms/step - loss: 0.4400 - accuracy: 0.7969 - val_loss: 0.5434 - val_accuracy: 0.7308\n",
            "Epoch 24/50\n",
            "13/13 [==============================] - 5s 354ms/step - loss: 0.4337 - accuracy: 0.8161 - val_loss: 0.5381 - val_accuracy: 0.7212\n",
            "Epoch 25/50\n",
            "13/13 [==============================] - 5s 363ms/step - loss: 0.4208 - accuracy: 0.8209 - val_loss: 0.5333 - val_accuracy: 0.7404\n",
            "Epoch 26/50\n",
            "13/13 [==============================] - 5s 350ms/step - loss: 0.4344 - accuracy: 0.8041 - val_loss: 0.5274 - val_accuracy: 0.7356\n",
            "Epoch 27/50\n",
            "13/13 [==============================] - 4s 348ms/step - loss: 0.4090 - accuracy: 0.8125 - val_loss: 0.5211 - val_accuracy: 0.7404\n",
            "Epoch 28/50\n",
            "13/13 [==============================] - 4s 343ms/step - loss: 0.3918 - accuracy: 0.8450 - val_loss: 0.5146 - val_accuracy: 0.7404\n",
            "Epoch 29/50\n",
            "13/13 [==============================] - 4s 342ms/step - loss: 0.3821 - accuracy: 0.8510 - val_loss: 0.5101 - val_accuracy: 0.7404\n",
            "Epoch 30/50\n",
            "13/13 [==============================] - 4s 342ms/step - loss: 0.3920 - accuracy: 0.8293 - val_loss: 0.5059 - val_accuracy: 0.7452\n",
            "Epoch 31/50\n",
            "13/13 [==============================] - 4s 341ms/step - loss: 0.3732 - accuracy: 0.8389 - val_loss: 0.5002 - val_accuracy: 0.7452\n",
            "Epoch 32/50\n",
            "13/13 [==============================] - 5s 354ms/step - loss: 0.3721 - accuracy: 0.8546 - val_loss: 0.4952 - val_accuracy: 0.7452\n",
            "Epoch 33/50\n",
            "13/13 [==============================] - 5s 363ms/step - loss: 0.3694 - accuracy: 0.8438 - val_loss: 0.4919 - val_accuracy: 0.7500\n",
            "Epoch 34/50\n",
            "13/13 [==============================] - 4s 344ms/step - loss: 0.3688 - accuracy: 0.8401 - val_loss: 0.4873 - val_accuracy: 0.7596\n",
            "Epoch 35/50\n",
            "13/13 [==============================] - 5s 363ms/step - loss: 0.3389 - accuracy: 0.8666 - val_loss: 0.4820 - val_accuracy: 0.7548\n",
            "Epoch 36/50\n",
            "13/13 [==============================] - 4s 345ms/step - loss: 0.3300 - accuracy: 0.8726 - val_loss: 0.4815 - val_accuracy: 0.7500\n",
            "Epoch 37/50\n",
            "13/13 [==============================] - 5s 363ms/step - loss: 0.3348 - accuracy: 0.8798 - val_loss: 0.4754 - val_accuracy: 0.7596\n",
            "Epoch 38/50\n",
            "13/13 [==============================] - 5s 350ms/step - loss: 0.3380 - accuracy: 0.8666 - val_loss: 0.4721 - val_accuracy: 0.7644\n",
            "Epoch 39/50\n",
            "13/13 [==============================] - 4s 345ms/step - loss: 0.3266 - accuracy: 0.8774 - val_loss: 0.4668 - val_accuracy: 0.7788\n",
            "Epoch 40/50\n",
            "13/13 [==============================] - 4s 329ms/step - loss: 0.3494 - accuracy: 0.8450 - val_loss: 0.5051 - val_accuracy: 0.7404\n",
            "Epoch 41/50\n",
            "13/13 [==============================] - 5s 345ms/step - loss: 0.3244 - accuracy: 0.8798 - val_loss: 0.4838 - val_accuracy: 0.7596\n",
            "Epoch 42/50\n",
            "13/13 [==============================] - 5s 351ms/step - loss: 0.3223 - accuracy: 0.8642 - val_loss: 0.4724 - val_accuracy: 0.7644\n",
            "Epoch 43/50\n",
            "13/13 [==============================] - 5s 352ms/step - loss: 0.3063 - accuracy: 0.8786 - val_loss: 0.4702 - val_accuracy: 0.7740\n",
            "Epoch 44/50\n",
            "13/13 [==============================] - 5s 357ms/step - loss: 0.2931 - accuracy: 0.9075 - val_loss: 0.4629 - val_accuracy: 0.7885\n",
            "Epoch 45/50\n",
            "13/13 [==============================] - 4s 345ms/step - loss: 0.3082 - accuracy: 0.8858 - val_loss: 0.4605 - val_accuracy: 0.7837\n",
            "Epoch 46/50\n",
            "13/13 [==============================] - 5s 351ms/step - loss: 0.2907 - accuracy: 0.8774 - val_loss: 0.4651 - val_accuracy: 0.7885\n",
            "Epoch 47/50\n",
            "13/13 [==============================] - 5s 353ms/step - loss: 0.2868 - accuracy: 0.8954 - val_loss: 0.4529 - val_accuracy: 0.7981\n",
            "Epoch 48/50\n",
            "13/13 [==============================] - 5s 364ms/step - loss: 0.2751 - accuracy: 0.9111 - val_loss: 0.4499 - val_accuracy: 0.8029\n",
            "Epoch 49/50\n",
            "13/13 [==============================] - 5s 366ms/step - loss: 0.2772 - accuracy: 0.8930 - val_loss: 0.4488 - val_accuracy: 0.7885\n",
            "Epoch 50/50\n",
            "13/13 [==============================] - 5s 348ms/step - loss: 0.2689 - accuracy: 0.9026 - val_loss: 0.4482 - val_accuracy: 0.7933\n"
          ]
        }
      ]
    },
    {
      "cell_type": "code",
      "source": [
        "#plot accuracy\n",
        "plt.figure(figsize=(15, 7))\n",
        "plt.plot(range(epochs), history.history['accuracy'])\n",
        "plt.plot(range(epochs), history.history['val_accuracy'])\n",
        "plt.legend(['training_acc', 'validation_acc'])\n",
        "plt.title('Accuracy')"
      ],
      "metadata": {
        "id": "jWURdQFCFBVJ",
        "colab": {
          "base_uri": "https://localhost:8080/",
          "height": 462
        },
        "outputId": "21a52d8d-3ee2-4f5e-f335-47cde1579ee4"
      },
      "execution_count": null,
      "outputs": [
        {
          "output_type": "execute_result",
          "data": {
            "text/plain": [
              "Text(0.5, 1.0, 'Accuracy')"
            ]
          },
          "metadata": {},
          "execution_count": 39
        },
        {
          "output_type": "display_data",
          "data": {
            "image/png": "[encoded data removed]",
            "text/plain": [
              "<Figure size 1080x504 with 1 Axes>"
            ]
          },
          "metadata": {
            "needs_background": "light"
          }
        }
      ]
    },
    {
      "cell_type": "code",
      "source": [
        "train_gru_results = RRN_model.evaluate(xtrain_pad, np.asarray(ytrain), verbose=0, batch_size=256)\n",
        "test_gru_results = RRN_model.evaluate(xtest_pad, np.asarray(ytest), verbose=0, batch_size=256)\n",
        "print(f'Train accuracy: {train_gru_results[1]*100:0.2f}')\n",
        "print(f'Test accuracy: {test_gru_results[1]*100:0.2f}')"
      ],
      "metadata": {
        "id": "SF_6UFGyFD21",
        "colab": {
          "base_uri": "https://localhost:8080/"
        },
        "outputId": "11f9c3cc-0757-47d6-97a9-8676984ec93d"
      },
      "execution_count": null,
      "outputs": [
        {
          "output_type": "stream",
          "name": "stdout",
          "text": [
            "Train accuracy: 92.91\n",
            "Test accuracy: 79.33\n"
          ]
        }
      ]
    },
    {
      "cell_type": "markdown",
      "source": [
        "**ROC Curves**"
      ],
      "metadata": {
        "id": "39FsjWf6iKMp"
      }
    },
    {
      "cell_type": "code",
      "source": [
        "    predictions = RRN_model.predict(xtest_pad).ravel()\n",
        "    fpr_keras, tpr_keras, thresholds_keras = metrics.roc_curve(ytest, predictions)\n",
        "    auc_keras = metrics.auc(fpr_keras, tpr_keras)\n",
        "    \n",
        "    plt.figure(1)\n",
        "    plt.plot(fpr_keras, tpr_keras, 'b', label = 'AUC = %0.2f' % auc_keras)\n",
        "    plt.legend(loc = 'lower right')\n",
        "    plt.plot([0, 1], [0, 1], 'r--')\n",
        "    plt.xlim([0, 1])\n",
        "    plt.ylim([0, 1])\n",
        "    plt.xlabel('False positive rate')\n",
        "    plt.ylabel('True positive rate')\n",
        "    plt.title('ROC Curve for RNN ')\n",
        "    plt.show()"
      ],
      "metadata": {
        "id": "oKHfY9FOfyEL",
        "colab": {
          "base_uri": "https://localhost:8080/",
          "height": 295
        },
        "outputId": "d303a74c-f1d9-4e6c-9e42-810f41162ee0"
      },
      "execution_count": null,
      "outputs": [
        {
          "output_type": "display_data",
          "data": {
            "image/png": "[encoded data removed]",
            "text/plain": [
              "<Figure size 432x288 with 1 Axes>"
            ]
          },
          "metadata": {
            "needs_background": "light"
          }
        }
      ]
    },
    {
      "cell_type": "code",
      "source": [
        "    predictions = gru_model.predict(xtest_pad).ravel()\n",
        "    fpr_keras, tpr_keras, thresholds_keras = metrics.roc_curve(ytest, predictions)\n",
        "    auc_keras = metrics.auc(fpr_keras, tpr_keras)\n",
        "    \n",
        "    plt.figure(1)\n",
        "    plt.plot(fpr_keras, tpr_keras, 'b', label = 'AUC = %0.2f' % auc_keras)\n",
        "    plt.legend(loc = 'lower right')\n",
        "    plt.plot([0, 1], [0, 1], 'r--')\n",
        "    plt.xlim([0, 1])\n",
        "    plt.ylim([0, 1])\n",
        "    plt.xlabel('False positive rate')\n",
        "    plt.ylabel('True positive rate')\n",
        "    plt.title('ROC Curve for GRU ')\n",
        "    plt.show()"
      ],
      "metadata": {
        "id": "otZWssApiYom",
        "colab": {
          "base_uri": "https://localhost:8080/",
          "height": 295
        },
        "outputId": "37319fc9-33dc-4309-8ca4-4fd5372fa7d3"
      },
      "execution_count": null,
      "outputs": [
        {
          "output_type": "display_data",
          "data": {
            "image/png": "[encoded data removed]",
            "text/plain": [
              "<Figure size 432x288 with 1 Axes>"
            ]
          },
          "metadata": {
            "needs_background": "light"
          }
        }
      ]
    },
    {
      "cell_type": "code",
      "source": [
        "  predictions = lstm_model.predict(xtest_pad).ravel()\n",
        "  fpr_keras, tpr_keras, thresholds_keras = metrics.roc_curve(ytest, predictions)\n",
        "  auc_keras = metrics.auc(fpr_keras, tpr_keras)\n",
        "  \n",
        "  plt.figure(1)\n",
        "  plt.plot(fpr_keras, tpr_keras, 'b', label = 'AUC = %0.2f' % auc_keras)\n",
        "  plt.legend(loc = 'lower right')\n",
        "  plt.plot([0, 1], [0, 1], 'r--')\n",
        "  plt.xlim([0, 1])\n",
        "  plt.ylim([0, 1])\n",
        "  plt.xlabel('False positive rate')\n",
        "  plt.ylabel('True positive rate')\n",
        "  plt.title('ROC Curve for LSTM ')\n",
        "  plt.show()"
      ],
      "metadata": {
        "id": "yILp9abYimZf",
        "colab": {
          "base_uri": "https://localhost:8080/",
          "height": 295
        },
        "outputId": "43c03007-c168-49ba-d6a9-fbb76514b9f7"
      },
      "execution_count": null,
      "outputs": [
        {
          "output_type": "display_data",
          "data": {
            "image/png": "[encoded data removed]",
            "text/plain": [
              "<Figure size 432x288 with 1 Axes>"
            ]
          },
          "metadata": {
            "needs_background": "light"
          }
        }
      ]
    }
  ]
}