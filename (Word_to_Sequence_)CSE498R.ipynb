{
  "nbformat": 4,
  "nbformat_minor": 0,
  "metadata": {
    "colab": {
      "name": "(Word to Sequence )CSE498R.ipynb",
      "provenance": [],
      "authorship_tag": "ABX9TyOSG5+JBnLvMmfnCQw9tVWJ",
      "include_colab_link": true
    },
    "kernelspec": {
      "name": "python3",
      "display_name": "Python 3"
    },
    "language_info": {
      "name": "python"
    }
  },
  "cells": [
    {
      "cell_type": "markdown",
      "metadata": {
        "id": "view-in-github",
        "colab_type": "text"
      },
      "source": [
        "<a href=\"https://colab.research.google.com/github/MohdIstiaqHossainJunaid/Bangla-Food-Review-Sentimental-Analysis-using-Machine-Learning/blob/main/(Word_to_Sequence_)CSE498R.ipynb\" target=\"_parent\"><img src=\"https://colab.research.google.com/assets/colab-badge.svg\" alt=\"Open In Colab\"/></a>"
      ]
    },
    {
      "cell_type": "markdown",
      "metadata": {
        "id": "J69WX2fmwvm3"
      },
      "source": [
        "**A Sentiment Analysis Model of Food Reviews in Bengali Texts Based on Deep Learning techniques.**\n",
        "\n",
        "Supervisor- **Afn1**\n",
        "\n"
      ]
    },
    {
      "cell_type": "markdown",
      "metadata": {
        "id": "jlflorw21K8X"
      },
      "source": [
        "**Memebers:**\n",
        "\n",
        "1.   Mohd. Istiaq Hossain Junaid,1821577642\n",
        "2.   Faisal Hossain\n",
        "3.   Udayan shah Upal\n",
        "4.   Anjana tameem(Unofficial)\n",
        "\n",
        "\n",
        "\n"
      ]
    },
    {
      "cell_type": "markdown",
      "source": [
        "#**Preprocessing**\n"
      ],
      "metadata": {
        "id": "MqMoFUWzyfK7"
      }
    },
    {
      "cell_type": "markdown",
      "source": [
        "**Step 01 - Punctuation Removal**\n",
        "**Step 02 -**"
      ],
      "metadata": {
        "id": "Bu2WfOYKyp-a"
      }
    },
    {
      "cell_type": "code",
      "metadata": {
        "colab": {
          "base_uri": "https://localhost:8080/"
        },
        "id": "i9PM0tK85wUu",
        "outputId": "aab8f855-2b47-4b98-ec50-abbb2f19fde7"
      },
      "source": [
        "from google.colab import drive\n",
        "drive.mount('/content/drive')"
      ],
      "execution_count": 92,
      "outputs": [
        {
          "output_type": "stream",
          "name": "stdout",
          "text": [
            "Drive already mounted at /content/drive; to attempt to forcibly remount, call drive.mount(\"/content/drive\", force_remount=True).\n"
          ]
        }
      ]
    },
    {
      "cell_type": "code",
      "metadata": {
        "colab": {
          "base_uri": "https://localhost:8080/",
          "height": 17
        },
        "id": "ZmZHWveSzFEg",
        "outputId": "b0c0958d-6c42-4135-8fb1-87078a410d71"
      },
      "source": [
        "import tensorflow as tf\n",
        "import pandas as pd\n",
        "import matplotlib.pyplot as plt\n",
        "import random\n",
        "\n",
        "import string \n",
        "import cufflinks as cf\n",
        "import seaborn as sns\n",
        "from plotly.offline import download_plotlyjs,init_notebook_mode,plot,iplot\n",
        "%matplotlib inline\n",
        "init_notebook_mode(connected=True)\n",
        "cf.go_offline()\n",
        "import numpy as np\n",
        "import pandas as pd\n",
        "import matplotlib.pyplot as plt\n",
        "%matplotlib inline\n",
        "import re\n",
        "import nltk\n",
        "from nltk.stem import PorterStemmer\n",
        "from nltk.sentiment.vader import SentimentIntensityAnalyzer\n",
        "from sklearn.metrics import accuracy_score,classification_report,confusion_matrix\n",
        "from sklearn.feature_extraction.text import CountVectorizer\n",
        "from sklearn.feature_extraction.text import TfidfTransformer\n",
        "from sklearn.pipeline import Pipeline\n",
        "from sklearn.model_selection import train_test_split\n",
        "from sklearn.feature_extraction.text import TfidfVectorizer\n",
        "from sklearn.svm import LinearSVC\n",
        "from sklearn import metrics\n",
        "from sklearn.naive_bayes import MultinomialNB\n",
        "from sklearn.svm import SVC\n",
        "from sklearn import tree\n",
        "import warnings\n",
        "warnings.filterwarnings(\"ignore\")\n",
        "from os import path\n",
        "from PIL import Image\n",
        "from wordcloud import WordCloud, STOPWORDS, ImageColorGenerator\n",
        "\n",
        "from numpy.random import seed\n",
        "seed(1)\n",
        "\n",
        "import tensorflow\n",
        "tensorflow.random.set_seed(1)"
      ],
      "execution_count": 93,
      "outputs": [
        {
          "output_type": "display_data",
          "data": {
            "text/html": [
              "        <script type=\"text/javascript\">\n",
              "        window.PlotlyConfig = {MathJaxConfig: 'local'};\n",
              "        if (window.MathJax) {MathJax.Hub.Config({SVG: {font: \"STIX-Web\"}});}\n",
              "        if (typeof require !== 'undefined') {\n",
              "        require.undef(\"plotly\");\n",
              "        requirejs.config({\n",
              "            paths: {\n",
              "                'plotly': ['https://cdn.plot.ly/plotly-latest.min']\n",
              "            }\n",
              "        });\n",
              "        require(['plotly'], function(Plotly) {\n",
              "            window._Plotly = Plotly;\n",
              "        });\n",
              "        }\n",
              "        </script>\n",
              "        "
            ]
          },
          "metadata": {}
        },
        {
          "output_type": "display_data",
          "data": {
            "text/html": [
              "        <script type=\"text/javascript\">\n",
              "        window.PlotlyConfig = {MathJaxConfig: 'local'};\n",
              "        if (window.MathJax) {MathJax.Hub.Config({SVG: {font: \"STIX-Web\"}});}\n",
              "        if (typeof require !== 'undefined') {\n",
              "        require.undef(\"plotly\");\n",
              "        requirejs.config({\n",
              "            paths: {\n",
              "                'plotly': ['https://cdn.plot.ly/plotly-latest.min']\n",
              "            }\n",
              "        });\n",
              "        require(['plotly'], function(Plotly) {\n",
              "            window._Plotly = Plotly;\n",
              "        });\n",
              "        }\n",
              "        </script>\n",
              "        "
            ]
          },
          "metadata": {}
        }
      ]
    },
    {
      "cell_type": "code",
      "metadata": {
        "id": "4Rcs0u9g520C",
        "colab": {
          "base_uri": "https://localhost:8080/",
          "height": 206
        },
        "outputId": "911abd26-a9a5-4d7c-8e5b-6929a5922864"
      },
      "source": [
        "import pandas as pd\n",
        "import io\n",
        "df = pd.read_csv(\"/content/drive/MyDrive/Playing with Data/Food Review - Food Review.csv\")\n",
        "df.head()"
      ],
      "execution_count": 94,
      "outputs": [
        {
          "output_type": "execute_result",
          "data": {
            "text/html": [
              "\n",
              "  <div id=\"df-910ae200-5d3c-44a0-aa32-3cd4ae88964a\">\n",
              "    <div class=\"colab-df-container\">\n",
              "      <div>\n",
              "<style scoped>\n",
              "    .dataframe tbody tr th:only-of-type {\n",
              "        vertical-align: middle;\n",
              "    }\n",
              "\n",
              "    .dataframe tbody tr th {\n",
              "        vertical-align: top;\n",
              "    }\n",
              "\n",
              "    .dataframe thead th {\n",
              "        text-align: right;\n",
              "    }\n",
              "</style>\n",
              "<table border=\"1\" class=\"dataframe\">\n",
              "  <thead>\n",
              "    <tr style=\"text-align: right;\">\n",
              "      <th></th>\n",
              "      <th>Speech</th>\n",
              "      <th>Label</th>\n",
              "    </tr>\n",
              "  </thead>\n",
              "  <tbody>\n",
              "    <tr>\n",
              "      <th>0</th>\n",
              "      <td>ব্যাস্ততম  জীবনের  একটু মনরম পরিবেশে  সময় কাটা...</td>\n",
              "      <td>1</td>\n",
              "    </tr>\n",
              "    <tr>\n",
              "      <th>1</th>\n",
              "      <td>অসাধারণ পরিবেশ! খুব সুন্দর মার্জিত এবং আন্তরিক...</td>\n",
              "      <td>1</td>\n",
              "    </tr>\n",
              "    <tr>\n",
              "      <th>2</th>\n",
              "      <td>খাবারের মান যথেষ্ট খারাপ। দামের তুলনায় পরিমান ...</td>\n",
              "      <td>0</td>\n",
              "    </tr>\n",
              "    <tr>\n",
              "      <th>3</th>\n",
              "      <td>ভালো বহুত খেয়েছি আমার বাসা থেকে একটু দূরে</td>\n",
              "      <td>1</td>\n",
              "    </tr>\n",
              "    <tr>\n",
              "      <th>4</th>\n",
              "      <td>আমি খাইসি খুবই মজার</td>\n",
              "      <td>1</td>\n",
              "    </tr>\n",
              "  </tbody>\n",
              "</table>\n",
              "</div>\n",
              "      <button class=\"colab-df-convert\" onclick=\"convertToInteractive('df-910ae200-5d3c-44a0-aa32-3cd4ae88964a')\"\n",
              "              title=\"Convert this dataframe to an interactive table.\"\n",
              "              style=\"display:none;\">\n",
              "        \n",
              "  <svg xmlns=\"http://www.w3.org/2000/svg\" height=\"24px\"viewBox=\"0 0 24 24\"\n",
              "       width=\"24px\">\n",
              "    <path d=\"M0 0h24v24H0V0z\" fill=\"none\"/>\n",
              "    <path d=\"M18.56 5.44l.94 2.06.94-2.06 2.06-.94-2.06-.94-.94-2.06-.94 2.06-2.06.94zm-11 1L8.5 8.5l.94-2.06 2.06-.94-2.06-.94L8.5 2.5l-.94 2.06-2.06.94zm10 10l.94 2.06.94-2.06 2.06-.94-2.06-.94-.94-2.06-.94 2.06-2.06.94z\"/><path d=\"M17.41 7.96l-1.37-1.37c-.4-.4-.92-.59-1.43-.59-.52 0-1.04.2-1.43.59L10.3 9.45l-7.72 7.72c-.78.78-.78 2.05 0 2.83L4 21.41c.39.39.9.59 1.41.59.51 0 1.02-.2 1.41-.59l7.78-7.78 2.81-2.81c.8-.78.8-2.07 0-2.86zM5.41 20L4 18.59l7.72-7.72 1.47 1.35L5.41 20z\"/>\n",
              "  </svg>\n",
              "      </button>\n",
              "      \n",
              "  <style>\n",
              "    .colab-df-container {\n",
              "      display:flex;\n",
              "      flex-wrap:wrap;\n",
              "      gap: 12px;\n",
              "    }\n",
              "\n",
              "    .colab-df-convert {\n",
              "      background-color: #E8F0FE;\n",
              "      border: none;\n",
              "      border-radius: 50%;\n",
              "      cursor: pointer;\n",
              "      display: none;\n",
              "      fill: #1967D2;\n",
              "      height: 32px;\n",
              "      padding: 0 0 0 0;\n",
              "      width: 32px;\n",
              "    }\n",
              "\n",
              "    .colab-df-convert:hover {\n",
              "      background-color: #E2EBFA;\n",
              "      box-shadow: 0px 1px 2px rgba(60, 64, 67, 0.3), 0px 1px 3px 1px rgba(60, 64, 67, 0.15);\n",
              "      fill: #174EA6;\n",
              "    }\n",
              "\n",
              "    [theme=dark] .colab-df-convert {\n",
              "      background-color: #3B4455;\n",
              "      fill: #D2E3FC;\n",
              "    }\n",
              "\n",
              "    [theme=dark] .colab-df-convert:hover {\n",
              "      background-color: #434B5C;\n",
              "      box-shadow: 0px 1px 3px 1px rgba(0, 0, 0, 0.15);\n",
              "      filter: drop-shadow(0px 1px 2px rgba(0, 0, 0, 0.3));\n",
              "      fill: #FFFFFF;\n",
              "    }\n",
              "  </style>\n",
              "\n",
              "      <script>\n",
              "        const buttonEl =\n",
              "          document.querySelector('#df-910ae200-5d3c-44a0-aa32-3cd4ae88964a button.colab-df-convert');\n",
              "        buttonEl.style.display =\n",
              "          google.colab.kernel.accessAllowed ? 'block' : 'none';\n",
              "\n",
              "        async function convertToInteractive(key) {\n",
              "          const element = document.querySelector('#df-910ae200-5d3c-44a0-aa32-3cd4ae88964a');\n",
              "          const dataTable =\n",
              "            await google.colab.kernel.invokeFunction('convertToInteractive',\n",
              "                                                     [key], {});\n",
              "          if (!dataTable) return;\n",
              "\n",
              "          const docLinkHtml = 'Like what you see? Visit the ' +\n",
              "            '<a target=\"_blank\" href=https://colab.research.google.com/notebooks/data_table.ipynb>data table notebook</a>'\n",
              "            + ' to learn more about interactive tables.';\n",
              "          element.innerHTML = '';\n",
              "          dataTable['output_type'] = 'display_data';\n",
              "          await google.colab.output.renderOutput(dataTable, element);\n",
              "          const docLink = document.createElement('div');\n",
              "          docLink.innerHTML = docLinkHtml;\n",
              "          element.appendChild(docLink);\n",
              "        }\n",
              "      </script>\n",
              "    </div>\n",
              "  </div>\n",
              "  "
            ],
            "text/plain": [
              "                                              Speech  Label\n",
              "0  ব্যাস্ততম  জীবনের  একটু মনরম পরিবেশে  সময় কাটা...      1\n",
              "1  অসাধারণ পরিবেশ! খুব সুন্দর মার্জিত এবং আন্তরিক...      1\n",
              "2  খাবারের মান যথেষ্ট খারাপ। দামের তুলনায় পরিমান ...      0\n",
              "3          ভালো বহুত খেয়েছি আমার বাসা থেকে একটু দূরে      1\n",
              "4                                আমি খাইসি খুবই মজার      1"
            ]
          },
          "metadata": {},
          "execution_count": 94
        }
      ]
    },
    {
      "cell_type": "code",
      "metadata": {
        "colab": {
          "base_uri": "https://localhost:8080/"
        },
        "id": "cwRxlSzfX2wk",
        "outputId": "812cf432-f0de-4418-e66d-5f388ba34599"
      },
      "source": [
        "df['Label'].value_counts()"
      ],
      "execution_count": 95,
      "outputs": [
        {
          "output_type": "execute_result",
          "data": {
            "text/plain": [
              "1    520\n",
              "0    520\n",
              "Name: Label, dtype: int64"
            ]
          },
          "metadata": {},
          "execution_count": 95
        }
      ]
    },
    {
      "cell_type": "code",
      "metadata": {
        "colab": {
          "base_uri": "https://localhost:8080/"
        },
        "id": "OuF3qTr8Y8Fz",
        "outputId": "ba430f7a-36b8-4ec0-8af1-94e60d566729"
      },
      "source": [
        "df.duplicated().sum()"
      ],
      "execution_count": 96,
      "outputs": [
        {
          "output_type": "execute_result",
          "data": {
            "text/plain": [
              "0"
            ]
          },
          "metadata": {},
          "execution_count": 96
        }
      ]
    },
    {
      "cell_type": "markdown",
      "metadata": {
        "id": "cicXS5nBzPES"
      },
      "source": [
        "# Data Pre-Processing"
      ]
    },
    {
      "cell_type": "markdown",
      "metadata": {
        "id": "Coe9Po-gzVbT"
      },
      "source": [
        "\n",
        "\n",
        "*   Punctuation Removal\n",
        "*   Tokenization\n",
        "*   Stopword Removal\n",
        "*   Stemming\n",
        "*   Join\n",
        "\n",
        "\n"
      ]
    },
    {
      "cell_type": "code",
      "metadata": {
        "colab": {
          "base_uri": "https://localhost:8080/",
          "height": 35
        },
        "id": "OLQlSxeJzM_q",
        "outputId": "af430f98-4c3d-4072-ac52-8a63fee7c308"
      },
      "source": [
        "string.punctuation"
      ],
      "execution_count": 97,
      "outputs": [
        {
          "output_type": "execute_result",
          "data": {
            "application/vnd.google.colaboratory.intrinsic+json": {
              "type": "string"
            },
            "text/plain": [
              "'!\"#$%&\\'()*+,-./:;<=>?@[\\\\]^_`{|}~'"
            ]
          },
          "metadata": {},
          "execution_count": 97
        }
      ]
    },
    {
      "cell_type": "code",
      "metadata": {
        "id": "X7KJzE3G0P0p"
      },
      "source": [
        "def remove_punctuation(txt):\n",
        "    punctuation_list = str(string.punctuation) + \"।\"\n",
        "    txt_nopunct = \"\".join([c for c in txt if c not in punctuation_list])\n",
        "    return txt_nopunct"
      ],
      "execution_count": 98,
      "outputs": []
    },
    {
      "cell_type": "code",
      "source": [
        "def remove_garbage(a):\n",
        "  a= \"\".join(i for i in a if i in [\"।\"] or 2432 <= ord(i) <= 2559 or ord(i)== 32)\n",
        "  removed=\" \".join(a.split())\n",
        "  return removed"
      ],
      "metadata": {
        "id": "dwKCmr-39JpI"
      },
      "execution_count": 99,
      "outputs": []
    },
    {
      "cell_type": "code",
      "metadata": {
        "colab": {
          "base_uri": "https://localhost:8080/",
          "height": 206
        },
        "id": "iT3kGomq0S2C",
        "outputId": "16d6ca35-a492-4b62-92e4-02b2624709bd"
      },
      "source": [
        "df['Removed Puncutation'] = df['Speech'].apply(lambda x:remove_punctuation(x))\n",
        "df.head()"
      ],
      "execution_count": 100,
      "outputs": [
        {
          "output_type": "execute_result",
          "data": {
            "text/html": [
              "\n",
              "  <div id=\"df-096fba9f-095f-4085-ab13-974a0a711be0\">\n",
              "    <div class=\"colab-df-container\">\n",
              "      <div>\n",
              "<style scoped>\n",
              "    .dataframe tbody tr th:only-of-type {\n",
              "        vertical-align: middle;\n",
              "    }\n",
              "\n",
              "    .dataframe tbody tr th {\n",
              "        vertical-align: top;\n",
              "    }\n",
              "\n",
              "    .dataframe thead th {\n",
              "        text-align: right;\n",
              "    }\n",
              "</style>\n",
              "<table border=\"1\" class=\"dataframe\">\n",
              "  <thead>\n",
              "    <tr style=\"text-align: right;\">\n",
              "      <th></th>\n",
              "      <th>Speech</th>\n",
              "      <th>Label</th>\n",
              "      <th>Removed Puncutation</th>\n",
              "    </tr>\n",
              "  </thead>\n",
              "  <tbody>\n",
              "    <tr>\n",
              "      <th>0</th>\n",
              "      <td>ব্যাস্ততম  জীবনের  একটু মনরম পরিবেশে  সময় কাটা...</td>\n",
              "      <td>1</td>\n",
              "      <td>ব্যাস্ততম  জীবনের  একটু মনরম পরিবেশে  সময় কাটা...</td>\n",
              "    </tr>\n",
              "    <tr>\n",
              "      <th>1</th>\n",
              "      <td>অসাধারণ পরিবেশ! খুব সুন্দর মার্জিত এবং আন্তরিক...</td>\n",
              "      <td>1</td>\n",
              "      <td>অসাধারণ পরিবেশ খুব সুন্দর মার্জিত এবং আন্তরিক ...</td>\n",
              "    </tr>\n",
              "    <tr>\n",
              "      <th>2</th>\n",
              "      <td>খাবারের মান যথেষ্ট খারাপ। দামের তুলনায় পরিমান ...</td>\n",
              "      <td>0</td>\n",
              "      <td>খাবারের মান যথেষ্ট খারাপ দামের তুলনায় পরিমান অ...</td>\n",
              "    </tr>\n",
              "    <tr>\n",
              "      <th>3</th>\n",
              "      <td>ভালো বহুত খেয়েছি আমার বাসা থেকে একটু দূরে</td>\n",
              "      <td>1</td>\n",
              "      <td>ভালো বহুত খেয়েছি আমার বাসা থেকে একটু দূরে</td>\n",
              "    </tr>\n",
              "    <tr>\n",
              "      <th>4</th>\n",
              "      <td>আমি খাইসি খুবই মজার</td>\n",
              "      <td>1</td>\n",
              "      <td>আমি খাইসি খুবই মজার</td>\n",
              "    </tr>\n",
              "  </tbody>\n",
              "</table>\n",
              "</div>\n",
              "      <button class=\"colab-df-convert\" onclick=\"convertToInteractive('df-096fba9f-095f-4085-ab13-974a0a711be0')\"\n",
              "              title=\"Convert this dataframe to an interactive table.\"\n",
              "              style=\"display:none;\">\n",
              "        \n",
              "  <svg xmlns=\"http://www.w3.org/2000/svg\" height=\"24px\"viewBox=\"0 0 24 24\"\n",
              "       width=\"24px\">\n",
              "    <path d=\"M0 0h24v24H0V0z\" fill=\"none\"/>\n",
              "    <path d=\"M18.56 5.44l.94 2.06.94-2.06 2.06-.94-2.06-.94-.94-2.06-.94 2.06-2.06.94zm-11 1L8.5 8.5l.94-2.06 2.06-.94-2.06-.94L8.5 2.5l-.94 2.06-2.06.94zm10 10l.94 2.06.94-2.06 2.06-.94-2.06-.94-.94-2.06-.94 2.06-2.06.94z\"/><path d=\"M17.41 7.96l-1.37-1.37c-.4-.4-.92-.59-1.43-.59-.52 0-1.04.2-1.43.59L10.3 9.45l-7.72 7.72c-.78.78-.78 2.05 0 2.83L4 21.41c.39.39.9.59 1.41.59.51 0 1.02-.2 1.41-.59l7.78-7.78 2.81-2.81c.8-.78.8-2.07 0-2.86zM5.41 20L4 18.59l7.72-7.72 1.47 1.35L5.41 20z\"/>\n",
              "  </svg>\n",
              "      </button>\n",
              "      \n",
              "  <style>\n",
              "    .colab-df-container {\n",
              "      display:flex;\n",
              "      flex-wrap:wrap;\n",
              "      gap: 12px;\n",
              "    }\n",
              "\n",
              "    .colab-df-convert {\n",
              "      background-color: #E8F0FE;\n",
              "      border: none;\n",
              "      border-radius: 50%;\n",
              "      cursor: pointer;\n",
              "      display: none;\n",
              "      fill: #1967D2;\n",
              "      height: 32px;\n",
              "      padding: 0 0 0 0;\n",
              "      width: 32px;\n",
              "    }\n",
              "\n",
              "    .colab-df-convert:hover {\n",
              "      background-color: #E2EBFA;\n",
              "      box-shadow: 0px 1px 2px rgba(60, 64, 67, 0.3), 0px 1px 3px 1px rgba(60, 64, 67, 0.15);\n",
              "      fill: #174EA6;\n",
              "    }\n",
              "\n",
              "    [theme=dark] .colab-df-convert {\n",
              "      background-color: #3B4455;\n",
              "      fill: #D2E3FC;\n",
              "    }\n",
              "\n",
              "    [theme=dark] .colab-df-convert:hover {\n",
              "      background-color: #434B5C;\n",
              "      box-shadow: 0px 1px 3px 1px rgba(0, 0, 0, 0.15);\n",
              "      filter: drop-shadow(0px 1px 2px rgba(0, 0, 0, 0.3));\n",
              "      fill: #FFFFFF;\n",
              "    }\n",
              "  </style>\n",
              "\n",
              "      <script>\n",
              "        const buttonEl =\n",
              "          document.querySelector('#df-096fba9f-095f-4085-ab13-974a0a711be0 button.colab-df-convert');\n",
              "        buttonEl.style.display =\n",
              "          google.colab.kernel.accessAllowed ? 'block' : 'none';\n",
              "\n",
              "        async function convertToInteractive(key) {\n",
              "          const element = document.querySelector('#df-096fba9f-095f-4085-ab13-974a0a711be0');\n",
              "          const dataTable =\n",
              "            await google.colab.kernel.invokeFunction('convertToInteractive',\n",
              "                                                     [key], {});\n",
              "          if (!dataTable) return;\n",
              "\n",
              "          const docLinkHtml = 'Like what you see? Visit the ' +\n",
              "            '<a target=\"_blank\" href=https://colab.research.google.com/notebooks/data_table.ipynb>data table notebook</a>'\n",
              "            + ' to learn more about interactive tables.';\n",
              "          element.innerHTML = '';\n",
              "          dataTable['output_type'] = 'display_data';\n",
              "          await google.colab.output.renderOutput(dataTable, element);\n",
              "          const docLink = document.createElement('div');\n",
              "          docLink.innerHTML = docLinkHtml;\n",
              "          element.appendChild(docLink);\n",
              "        }\n",
              "      </script>\n",
              "    </div>\n",
              "  </div>\n",
              "  "
            ],
            "text/plain": [
              "                                              Speech  ...                                Removed Puncutation\n",
              "0  ব্যাস্ততম  জীবনের  একটু মনরম পরিবেশে  সময় কাটা...  ...  ব্যাস্ততম  জীবনের  একটু মনরম পরিবেশে  সময় কাটা...\n",
              "1  অসাধারণ পরিবেশ! খুব সুন্দর মার্জিত এবং আন্তরিক...  ...  অসাধারণ পরিবেশ খুব সুন্দর মার্জিত এবং আন্তরিক ...\n",
              "2  খাবারের মান যথেষ্ট খারাপ। দামের তুলনায় পরিমান ...  ...  খাবারের মান যথেষ্ট খারাপ দামের তুলনায় পরিমান অ...\n",
              "3          ভালো বহুত খেয়েছি আমার বাসা থেকে একটু দূরে  ...          ভালো বহুত খেয়েছি আমার বাসা থেকে একটু দূরে\n",
              "4                                আমি খাইসি খুবই মজার  ...                                আমি খাইসি খুবই মজার\n",
              "\n",
              "[5 rows x 3 columns]"
            ]
          },
          "metadata": {},
          "execution_count": 100
        }
      ]
    },
    {
      "cell_type": "code",
      "source": [
        "df['remove Eng'] = df['Removed Puncutation'].apply(lambda x:remove_garbage(x))\n",
        "df"
      ],
      "metadata": {
        "colab": {
          "base_uri": "https://localhost:8080/",
          "height": 502
        },
        "id": "B0VTKn3y9O-v",
        "outputId": "03738265-534e-420e-fc55-d50971717228"
      },
      "execution_count": 101,
      "outputs": [
        {
          "output_type": "execute_result",
          "data": {
            "text/html": [
              "\n",
              "  <div id=\"df-5725bddc-8e6e-41ae-b070-33d9c27e89d7\">\n",
              "    <div class=\"colab-df-container\">\n",
              "      <div>\n",
              "<style scoped>\n",
              "    .dataframe tbody tr th:only-of-type {\n",
              "        vertical-align: middle;\n",
              "    }\n",
              "\n",
              "    .dataframe tbody tr th {\n",
              "        vertical-align: top;\n",
              "    }\n",
              "\n",
              "    .dataframe thead th {\n",
              "        text-align: right;\n",
              "    }\n",
              "</style>\n",
              "<table border=\"1\" class=\"dataframe\">\n",
              "  <thead>\n",
              "    <tr style=\"text-align: right;\">\n",
              "      <th></th>\n",
              "      <th>Speech</th>\n",
              "      <th>Label</th>\n",
              "      <th>Removed Puncutation</th>\n",
              "      <th>remove Eng</th>\n",
              "    </tr>\n",
              "  </thead>\n",
              "  <tbody>\n",
              "    <tr>\n",
              "      <th>0</th>\n",
              "      <td>ব্যাস্ততম  জীবনের  একটু মনরম পরিবেশে  সময় কাটা...</td>\n",
              "      <td>1</td>\n",
              "      <td>ব্যাস্ততম  জীবনের  একটু মনরম পরিবেশে  সময় কাটা...</td>\n",
              "      <td>ব্যাস্ততম জীবনের একটু মনরম পরিবেশে সময় কাটানোর...</td>\n",
              "    </tr>\n",
              "    <tr>\n",
              "      <th>1</th>\n",
              "      <td>অসাধারণ পরিবেশ! খুব সুন্দর মার্জিত এবং আন্তরিক...</td>\n",
              "      <td>1</td>\n",
              "      <td>অসাধারণ পরিবেশ খুব সুন্দর মার্জিত এবং আন্তরিক ...</td>\n",
              "      <td>অসাধারণ পরিবেশ খুব সুন্দর মার্জিত এবং আন্তরিক ...</td>\n",
              "    </tr>\n",
              "    <tr>\n",
              "      <th>2</th>\n",
              "      <td>খাবারের মান যথেষ্ট খারাপ। দামের তুলনায় পরিমান ...</td>\n",
              "      <td>0</td>\n",
              "      <td>খাবারের মান যথেষ্ট খারাপ দামের তুলনায় পরিমান অ...</td>\n",
              "      <td>খাবারের মান যথেষ্ট খারাপ দামের তুলনায় পরিমান অ...</td>\n",
              "    </tr>\n",
              "    <tr>\n",
              "      <th>3</th>\n",
              "      <td>ভালো বহুত খেয়েছি আমার বাসা থেকে একটু দূরে</td>\n",
              "      <td>1</td>\n",
              "      <td>ভালো বহুত খেয়েছি আমার বাসা থেকে একটু দূরে</td>\n",
              "      <td>ভালো বহুত খেয়েছি আমার বাসা থেকে একটু দূরে</td>\n",
              "    </tr>\n",
              "    <tr>\n",
              "      <th>4</th>\n",
              "      <td>আমি খাইসি খুবই মজার</td>\n",
              "      <td>1</td>\n",
              "      <td>আমি খাইসি খুবই মজার</td>\n",
              "      <td>আমি খাইসি খুবই মজার</td>\n",
              "    </tr>\n",
              "    <tr>\n",
              "      <th>...</th>\n",
              "      <td>...</td>\n",
              "      <td>...</td>\n",
              "      <td>...</td>\n",
              "      <td>...</td>\n",
              "    </tr>\n",
              "    <tr>\n",
              "      <th>1035</th>\n",
              "      <td>দেখেই খেয়ে ফেলতে ইচ্ছা হচ্ছে 😋😋</td>\n",
              "      <td>1</td>\n",
              "      <td>দেখেই খেয়ে ফেলতে ইচ্ছা হচ্ছে 😋😋</td>\n",
              "      <td>দেখেই খেয়ে ফেলতে ইচ্ছা হচ্ছে</td>\n",
              "    </tr>\n",
              "    <tr>\n",
              "      <th>1036</th>\n",
              "      <td>সবসময়ই অসাধারণ রান্না ভাই।😍😍🥰</td>\n",
              "      <td>1</td>\n",
              "      <td>সবসময়ই অসাধারণ রান্না ভাই😍😍🥰</td>\n",
              "      <td>সবসময়ই অসাধারণ রান্না ভাই</td>\n",
              "    </tr>\n",
              "    <tr>\n",
              "      <th>1037</th>\n",
              "      <td>চিকেন  বিরিয়ানিটা অনেক   মজা  হবে  দেখে মনে হচ...</td>\n",
              "      <td>1</td>\n",
              "      <td>চিকেন  বিরিয়ানিটা অনেক   মজা  হবে  দেখে মনে হচ...</td>\n",
              "      <td>চিকেন বিরিয়ানিটা অনেক মজা হবে দেখে মনে হচ্ছে এ...</td>\n",
              "    </tr>\n",
              "    <tr>\n",
              "      <th>1038</th>\n",
              "      <td>অসম্ভব সুন্দর বিরানি রেসিপি 👌👌</td>\n",
              "      <td>1</td>\n",
              "      <td>অসম্ভব সুন্দর বিরানি রেসিপি 👌👌</td>\n",
              "      <td>অসম্ভব সুন্দর বিরানি রেসিপি</td>\n",
              "    </tr>\n",
              "    <tr>\n",
              "      <th>1039</th>\n",
              "      <td>দুধ চা,রং চা,কফি দারুণ হয়েছে</td>\n",
              "      <td>1</td>\n",
              "      <td>দুধ চারং চাকফি দারুণ হয়েছে</td>\n",
              "      <td>দুধ চারং চাকফি দারুণ হয়েছে</td>\n",
              "    </tr>\n",
              "  </tbody>\n",
              "</table>\n",
              "<p>1040 rows × 4 columns</p>\n",
              "</div>\n",
              "      <button class=\"colab-df-convert\" onclick=\"convertToInteractive('df-5725bddc-8e6e-41ae-b070-33d9c27e89d7')\"\n",
              "              title=\"Convert this dataframe to an interactive table.\"\n",
              "              style=\"display:none;\">\n",
              "        \n",
              "  <svg xmlns=\"http://www.w3.org/2000/svg\" height=\"24px\"viewBox=\"0 0 24 24\"\n",
              "       width=\"24px\">\n",
              "    <path d=\"M0 0h24v24H0V0z\" fill=\"none\"/>\n",
              "    <path d=\"M18.56 5.44l.94 2.06.94-2.06 2.06-.94-2.06-.94-.94-2.06-.94 2.06-2.06.94zm-11 1L8.5 8.5l.94-2.06 2.06-.94-2.06-.94L8.5 2.5l-.94 2.06-2.06.94zm10 10l.94 2.06.94-2.06 2.06-.94-2.06-.94-.94-2.06-.94 2.06-2.06.94z\"/><path d=\"M17.41 7.96l-1.37-1.37c-.4-.4-.92-.59-1.43-.59-.52 0-1.04.2-1.43.59L10.3 9.45l-7.72 7.72c-.78.78-.78 2.05 0 2.83L4 21.41c.39.39.9.59 1.41.59.51 0 1.02-.2 1.41-.59l7.78-7.78 2.81-2.81c.8-.78.8-2.07 0-2.86zM5.41 20L4 18.59l7.72-7.72 1.47 1.35L5.41 20z\"/>\n",
              "  </svg>\n",
              "      </button>\n",
              "      \n",
              "  <style>\n",
              "    .colab-df-container {\n",
              "      display:flex;\n",
              "      flex-wrap:wrap;\n",
              "      gap: 12px;\n",
              "    }\n",
              "\n",
              "    .colab-df-convert {\n",
              "      background-color: #E8F0FE;\n",
              "      border: none;\n",
              "      border-radius: 50%;\n",
              "      cursor: pointer;\n",
              "      display: none;\n",
              "      fill: #1967D2;\n",
              "      height: 32px;\n",
              "      padding: 0 0 0 0;\n",
              "      width: 32px;\n",
              "    }\n",
              "\n",
              "    .colab-df-convert:hover {\n",
              "      background-color: #E2EBFA;\n",
              "      box-shadow: 0px 1px 2px rgba(60, 64, 67, 0.3), 0px 1px 3px 1px rgba(60, 64, 67, 0.15);\n",
              "      fill: #174EA6;\n",
              "    }\n",
              "\n",
              "    [theme=dark] .colab-df-convert {\n",
              "      background-color: #3B4455;\n",
              "      fill: #D2E3FC;\n",
              "    }\n",
              "\n",
              "    [theme=dark] .colab-df-convert:hover {\n",
              "      background-color: #434B5C;\n",
              "      box-shadow: 0px 1px 3px 1px rgba(0, 0, 0, 0.15);\n",
              "      filter: drop-shadow(0px 1px 2px rgba(0, 0, 0, 0.3));\n",
              "      fill: #FFFFFF;\n",
              "    }\n",
              "  </style>\n",
              "\n",
              "      <script>\n",
              "        const buttonEl =\n",
              "          document.querySelector('#df-5725bddc-8e6e-41ae-b070-33d9c27e89d7 button.colab-df-convert');\n",
              "        buttonEl.style.display =\n",
              "          google.colab.kernel.accessAllowed ? 'block' : 'none';\n",
              "\n",
              "        async function convertToInteractive(key) {\n",
              "          const element = document.querySelector('#df-5725bddc-8e6e-41ae-b070-33d9c27e89d7');\n",
              "          const dataTable =\n",
              "            await google.colab.kernel.invokeFunction('convertToInteractive',\n",
              "                                                     [key], {});\n",
              "          if (!dataTable) return;\n",
              "\n",
              "          const docLinkHtml = 'Like what you see? Visit the ' +\n",
              "            '<a target=\"_blank\" href=https://colab.research.google.com/notebooks/data_table.ipynb>data table notebook</a>'\n",
              "            + ' to learn more about interactive tables.';\n",
              "          element.innerHTML = '';\n",
              "          dataTable['output_type'] = 'display_data';\n",
              "          await google.colab.output.renderOutput(dataTable, element);\n",
              "          const docLink = document.createElement('div');\n",
              "          docLink.innerHTML = docLinkHtml;\n",
              "          element.appendChild(docLink);\n",
              "        }\n",
              "      </script>\n",
              "    </div>\n",
              "  </div>\n",
              "  "
            ],
            "text/plain": [
              "                                                 Speech  ...                                         remove Eng\n",
              "0     ব্যাস্ততম  জীবনের  একটু মনরম পরিবেশে  সময় কাটা...  ...  ব্যাস্ততম জীবনের একটু মনরম পরিবেশে সময় কাটানোর...\n",
              "1     অসাধারণ পরিবেশ! খুব সুন্দর মার্জিত এবং আন্তরিক...  ...  অসাধারণ পরিবেশ খুব সুন্দর মার্জিত এবং আন্তরিক ...\n",
              "2     খাবারের মান যথেষ্ট খারাপ। দামের তুলনায় পরিমান ...  ...  খাবারের মান যথেষ্ট খারাপ দামের তুলনায় পরিমান অ...\n",
              "3             ভালো বহুত খেয়েছি আমার বাসা থেকে একটু দূরে  ...          ভালো বহুত খেয়েছি আমার বাসা থেকে একটু দূরে\n",
              "4                                   আমি খাইসি খুবই মজার  ...                                আমি খাইসি খুবই মজার\n",
              "...                                                 ...  ...                                                ...\n",
              "1035                    দেখেই খেয়ে ফেলতে ইচ্ছা হচ্ছে 😋😋  ...                       দেখেই খেয়ে ফেলতে ইচ্ছা হচ্ছে\n",
              "1036                      সবসময়ই অসাধারণ রান্না ভাই।😍😍🥰  ...                          সবসময়ই অসাধারণ রান্না ভাই\n",
              "1037  চিকেন  বিরিয়ানিটা অনেক   মজা  হবে  দেখে মনে হচ...  ...  চিকেন বিরিয়ানিটা অনেক মজা হবে দেখে মনে হচ্ছে এ...\n",
              "1038                     অসম্ভব সুন্দর বিরানি রেসিপি 👌👌  ...                        অসম্ভব সুন্দর বিরানি রেসিপি\n",
              "1039                       দুধ চা,রং চা,কফি দারুণ হয়েছে  ...                         দুধ চারং চাকফি দারুণ হয়েছে\n",
              "\n",
              "[1040 rows x 4 columns]"
            ]
          },
          "metadata": {},
          "execution_count": 101
        }
      ]
    },
    {
      "cell_type": "markdown",
      "metadata": {
        "id": "GQhbyDfbsdxd"
      },
      "source": [
        "**2.Bangla Tokenization and Bangla Stopword Removing**\n",
        "\n",
        "\n"
      ]
    },
    {
      "cell_type": "code",
      "metadata": {
        "colab": {
          "base_uri": "https://localhost:8080/"
        },
        "id": "GxHzWpXK2cMY",
        "outputId": "d97c5a26-c166-44d1-816d-8734e9ba2d3c"
      },
      "source": [
        "pip install bnlp_toolkit"
      ],
      "execution_count": 102,
      "outputs": [
        {
          "output_type": "stream",
          "name": "stdout",
          "text": [
            "Requirement already satisfied: bnlp_toolkit in /usr/local/lib/python3.7/dist-packages (3.1.2)\n",
            "Requirement already satisfied: scipy in /usr/local/lib/python3.7/dist-packages (from bnlp_toolkit) (1.4.1)\n",
            "Requirement already satisfied: nltk in /usr/local/lib/python3.7/dist-packages (from bnlp_toolkit) (3.2.5)\n",
            "Requirement already satisfied: numpy in /usr/local/lib/python3.7/dist-packages (from bnlp_toolkit) (1.19.5)\n",
            "Requirement already satisfied: wasabi in /usr/local/lib/python3.7/dist-packages (from bnlp_toolkit) (0.8.2)\n",
            "Requirement already satisfied: sklearn-crfsuite in /usr/local/lib/python3.7/dist-packages (from bnlp_toolkit) (0.3.6)\n",
            "Requirement already satisfied: gensim==4.0.1 in /usr/local/lib/python3.7/dist-packages (from bnlp_toolkit) (4.0.1)\n",
            "Requirement already satisfied: sentencepiece in /usr/local/lib/python3.7/dist-packages (from bnlp_toolkit) (0.1.96)\n",
            "Requirement already satisfied: smart-open>=1.8.1 in /usr/local/lib/python3.7/dist-packages (from gensim==4.0.1->bnlp_toolkit) (5.2.1)\n",
            "Requirement already satisfied: six in /usr/local/lib/python3.7/dist-packages (from nltk->bnlp_toolkit) (1.15.0)\n",
            "Requirement already satisfied: tqdm>=2.0 in /usr/local/lib/python3.7/dist-packages (from sklearn-crfsuite->bnlp_toolkit) (4.62.3)\n",
            "Requirement already satisfied: tabulate in /usr/local/lib/python3.7/dist-packages (from sklearn-crfsuite->bnlp_toolkit) (0.8.9)\n",
            "Requirement already satisfied: python-crfsuite>=0.8.3 in /usr/local/lib/python3.7/dist-packages (from sklearn-crfsuite->bnlp_toolkit) (0.9.7)\n"
          ]
        }
      ]
    },
    {
      "cell_type": "code",
      "metadata": {
        "colab": {
          "base_uri": "https://localhost:8080/",
          "height": 572
        },
        "id": "YXSZFasslWHm",
        "outputId": "77519f33-cef2-44dc-a9fe-4ae5fa0b823c"
      },
      "source": [
        "from bnlp.corpus import stopwords\n",
        "from bnlp.corpus.util import remove_stopwords\n",
        "\n",
        "df['Removed Stopped word'] = df['remove Eng'].apply(lambda x: remove_stopwords(x,stopwords))\n",
        "df "
      ],
      "execution_count": 103,
      "outputs": [
        {
          "output_type": "execute_result",
          "data": {
            "text/html": [
              "\n",
              "  <div id=\"df-b7c68f31-e9f4-47b7-9f0b-318894c83eb2\">\n",
              "    <div class=\"colab-df-container\">\n",
              "      <div>\n",
              "<style scoped>\n",
              "    .dataframe tbody tr th:only-of-type {\n",
              "        vertical-align: middle;\n",
              "    }\n",
              "\n",
              "    .dataframe tbody tr th {\n",
              "        vertical-align: top;\n",
              "    }\n",
              "\n",
              "    .dataframe thead th {\n",
              "        text-align: right;\n",
              "    }\n",
              "</style>\n",
              "<table border=\"1\" class=\"dataframe\">\n",
              "  <thead>\n",
              "    <tr style=\"text-align: right;\">\n",
              "      <th></th>\n",
              "      <th>Speech</th>\n",
              "      <th>Label</th>\n",
              "      <th>Removed Puncutation</th>\n",
              "      <th>remove Eng</th>\n",
              "      <th>Removed Stopped word</th>\n",
              "    </tr>\n",
              "  </thead>\n",
              "  <tbody>\n",
              "    <tr>\n",
              "      <th>0</th>\n",
              "      <td>ব্যাস্ততম  জীবনের  একটু মনরম পরিবেশে  সময় কাটা...</td>\n",
              "      <td>1</td>\n",
              "      <td>ব্যাস্ততম  জীবনের  একটু মনরম পরিবেশে  সময় কাটা...</td>\n",
              "      <td>ব্যাস্ততম জীবনের একটু মনরম পরিবেশে সময় কাটানোর...</td>\n",
              "      <td>[ব্যাস্ততম, জীবনের, একটু, মনরম, পরিবেশে, সময়, ...</td>\n",
              "    </tr>\n",
              "    <tr>\n",
              "      <th>1</th>\n",
              "      <td>অসাধারণ পরিবেশ! খুব সুন্দর মার্জিত এবং আন্তরিক...</td>\n",
              "      <td>1</td>\n",
              "      <td>অসাধারণ পরিবেশ খুব সুন্দর মার্জিত এবং আন্তরিক ...</td>\n",
              "      <td>অসাধারণ পরিবেশ খুব সুন্দর মার্জিত এবং আন্তরিক ...</td>\n",
              "      <td>[অসাধারণ, পরিবেশ, সুন্দর, মার্জিত, আন্তরিক]</td>\n",
              "    </tr>\n",
              "    <tr>\n",
              "      <th>2</th>\n",
              "      <td>খাবারের মান যথেষ্ট খারাপ। দামের তুলনায় পরিমান ...</td>\n",
              "      <td>0</td>\n",
              "      <td>খাবারের মান যথেষ্ট খারাপ দামের তুলনায় পরিমান অ...</td>\n",
              "      <td>খাবারের মান যথেষ্ট খারাপ দামের তুলনায় পরিমান অ...</td>\n",
              "      <td>[খাবারের, মান, খারাপ, দামের, তুলনায়, পরিমান, ক...</td>\n",
              "    </tr>\n",
              "    <tr>\n",
              "      <th>3</th>\n",
              "      <td>ভালো বহুত খেয়েছি আমার বাসা থেকে একটু দূরে</td>\n",
              "      <td>1</td>\n",
              "      <td>ভালো বহুত খেয়েছি আমার বাসা থেকে একটু দূরে</td>\n",
              "      <td>ভালো বহুত খেয়েছি আমার বাসা থেকে একটু দূরে</td>\n",
              "      <td>[ভালো, বহুত, খেয়েছি, বাসা, একটু, দূরে]</td>\n",
              "    </tr>\n",
              "    <tr>\n",
              "      <th>4</th>\n",
              "      <td>আমি খাইসি খুবই মজার</td>\n",
              "      <td>1</td>\n",
              "      <td>আমি খাইসি খুবই মজার</td>\n",
              "      <td>আমি খাইসি খুবই মজার</td>\n",
              "      <td>[খাইসি, খুবই, মজার]</td>\n",
              "    </tr>\n",
              "    <tr>\n",
              "      <th>...</th>\n",
              "      <td>...</td>\n",
              "      <td>...</td>\n",
              "      <td>...</td>\n",
              "      <td>...</td>\n",
              "      <td>...</td>\n",
              "    </tr>\n",
              "    <tr>\n",
              "      <th>1035</th>\n",
              "      <td>দেখেই খেয়ে ফেলতে ইচ্ছা হচ্ছে 😋😋</td>\n",
              "      <td>1</td>\n",
              "      <td>দেখেই খেয়ে ফেলতে ইচ্ছা হচ্ছে 😋😋</td>\n",
              "      <td>দেখেই খেয়ে ফেলতে ইচ্ছা হচ্ছে</td>\n",
              "      <td>[দেখেই, খেয়ে, ফেলতে, ইচ্ছা]</td>\n",
              "    </tr>\n",
              "    <tr>\n",
              "      <th>1036</th>\n",
              "      <td>সবসময়ই অসাধারণ রান্না ভাই।😍😍🥰</td>\n",
              "      <td>1</td>\n",
              "      <td>সবসময়ই অসাধারণ রান্না ভাই😍😍🥰</td>\n",
              "      <td>সবসময়ই অসাধারণ রান্না ভাই</td>\n",
              "      <td>[সবসময়ই, অসাধারণ, রান্না, ভাই]</td>\n",
              "    </tr>\n",
              "    <tr>\n",
              "      <th>1037</th>\n",
              "      <td>চিকেন  বিরিয়ানিটা অনেক   মজা  হবে  দেখে মনে হচ...</td>\n",
              "      <td>1</td>\n",
              "      <td>চিকেন  বিরিয়ানিটা অনেক   মজা  হবে  দেখে মনে হচ...</td>\n",
              "      <td>চিকেন বিরিয়ানিটা অনেক মজা হবে দেখে মনে হচ্ছে এ...</td>\n",
              "      <td>[চিকেন, বিরিয়ানিটা, মজা, একটু, খেয়ে, দেখি]</td>\n",
              "    </tr>\n",
              "    <tr>\n",
              "      <th>1038</th>\n",
              "      <td>অসম্ভব সুন্দর বিরানি রেসিপি 👌👌</td>\n",
              "      <td>1</td>\n",
              "      <td>অসম্ভব সুন্দর বিরানি রেসিপি 👌👌</td>\n",
              "      <td>অসম্ভব সুন্দর বিরানি রেসিপি</td>\n",
              "      <td>[অসম্ভব, সুন্দর, বিরানি, রেসিপি]</td>\n",
              "    </tr>\n",
              "    <tr>\n",
              "      <th>1039</th>\n",
              "      <td>দুধ চা,রং চা,কফি দারুণ হয়েছে</td>\n",
              "      <td>1</td>\n",
              "      <td>দুধ চারং চাকফি দারুণ হয়েছে</td>\n",
              "      <td>দুধ চারং চাকফি দারুণ হয়েছে</td>\n",
              "      <td>[দুধ, চারং, চাকফি, দারুণ, হয়েছে]</td>\n",
              "    </tr>\n",
              "  </tbody>\n",
              "</table>\n",
              "<p>1040 rows × 5 columns</p>\n",
              "</div>\n",
              "      <button class=\"colab-df-convert\" onclick=\"convertToInteractive('df-b7c68f31-e9f4-47b7-9f0b-318894c83eb2')\"\n",
              "              title=\"Convert this dataframe to an interactive table.\"\n",
              "              style=\"display:none;\">\n",
              "        \n",
              "  <svg xmlns=\"http://www.w3.org/2000/svg\" height=\"24px\"viewBox=\"0 0 24 24\"\n",
              "       width=\"24px\">\n",
              "    <path d=\"M0 0h24v24H0V0z\" fill=\"none\"/>\n",
              "    <path d=\"M18.56 5.44l.94 2.06.94-2.06 2.06-.94-2.06-.94-.94-2.06-.94 2.06-2.06.94zm-11 1L8.5 8.5l.94-2.06 2.06-.94-2.06-.94L8.5 2.5l-.94 2.06-2.06.94zm10 10l.94 2.06.94-2.06 2.06-.94-2.06-.94-.94-2.06-.94 2.06-2.06.94z\"/><path d=\"M17.41 7.96l-1.37-1.37c-.4-.4-.92-.59-1.43-.59-.52 0-1.04.2-1.43.59L10.3 9.45l-7.72 7.72c-.78.78-.78 2.05 0 2.83L4 21.41c.39.39.9.59 1.41.59.51 0 1.02-.2 1.41-.59l7.78-7.78 2.81-2.81c.8-.78.8-2.07 0-2.86zM5.41 20L4 18.59l7.72-7.72 1.47 1.35L5.41 20z\"/>\n",
              "  </svg>\n",
              "      </button>\n",
              "      \n",
              "  <style>\n",
              "    .colab-df-container {\n",
              "      display:flex;\n",
              "      flex-wrap:wrap;\n",
              "      gap: 12px;\n",
              "    }\n",
              "\n",
              "    .colab-df-convert {\n",
              "      background-color: #E8F0FE;\n",
              "      border: none;\n",
              "      border-radius: 50%;\n",
              "      cursor: pointer;\n",
              "      display: none;\n",
              "      fill: #1967D2;\n",
              "      height: 32px;\n",
              "      padding: 0 0 0 0;\n",
              "      width: 32px;\n",
              "    }\n",
              "\n",
              "    .colab-df-convert:hover {\n",
              "      background-color: #E2EBFA;\n",
              "      box-shadow: 0px 1px 2px rgba(60, 64, 67, 0.3), 0px 1px 3px 1px rgba(60, 64, 67, 0.15);\n",
              "      fill: #174EA6;\n",
              "    }\n",
              "\n",
              "    [theme=dark] .colab-df-convert {\n",
              "      background-color: #3B4455;\n",
              "      fill: #D2E3FC;\n",
              "    }\n",
              "\n",
              "    [theme=dark] .colab-df-convert:hover {\n",
              "      background-color: #434B5C;\n",
              "      box-shadow: 0px 1px 3px 1px rgba(0, 0, 0, 0.15);\n",
              "      filter: drop-shadow(0px 1px 2px rgba(0, 0, 0, 0.3));\n",
              "      fill: #FFFFFF;\n",
              "    }\n",
              "  </style>\n",
              "\n",
              "      <script>\n",
              "        const buttonEl =\n",
              "          document.querySelector('#df-b7c68f31-e9f4-47b7-9f0b-318894c83eb2 button.colab-df-convert');\n",
              "        buttonEl.style.display =\n",
              "          google.colab.kernel.accessAllowed ? 'block' : 'none';\n",
              "\n",
              "        async function convertToInteractive(key) {\n",
              "          const element = document.querySelector('#df-b7c68f31-e9f4-47b7-9f0b-318894c83eb2');\n",
              "          const dataTable =\n",
              "            await google.colab.kernel.invokeFunction('convertToInteractive',\n",
              "                                                     [key], {});\n",
              "          if (!dataTable) return;\n",
              "\n",
              "          const docLinkHtml = 'Like what you see? Visit the ' +\n",
              "            '<a target=\"_blank\" href=https://colab.research.google.com/notebooks/data_table.ipynb>data table notebook</a>'\n",
              "            + ' to learn more about interactive tables.';\n",
              "          element.innerHTML = '';\n",
              "          dataTable['output_type'] = 'display_data';\n",
              "          await google.colab.output.renderOutput(dataTable, element);\n",
              "          const docLink = document.createElement('div');\n",
              "          docLink.innerHTML = docLinkHtml;\n",
              "          element.appendChild(docLink);\n",
              "        }\n",
              "      </script>\n",
              "    </div>\n",
              "  </div>\n",
              "  "
            ],
            "text/plain": [
              "                                                 Speech  ...                               Removed Stopped word\n",
              "0     ব্যাস্ততম  জীবনের  একটু মনরম পরিবেশে  সময় কাটা...  ...  [ব্যাস্ততম, জীবনের, একটু, মনরম, পরিবেশে, সময়, ...\n",
              "1     অসাধারণ পরিবেশ! খুব সুন্দর মার্জিত এবং আন্তরিক...  ...        [অসাধারণ, পরিবেশ, সুন্দর, মার্জিত, আন্তরিক]\n",
              "2     খাবারের মান যথেষ্ট খারাপ। দামের তুলনায় পরিমান ...  ...  [খাবারের, মান, খারাপ, দামের, তুলনায়, পরিমান, ক...\n",
              "3             ভালো বহুত খেয়েছি আমার বাসা থেকে একটু দূরে  ...             [ভালো, বহুত, খেয়েছি, বাসা, একটু, দূরে]\n",
              "4                                   আমি খাইসি খুবই মজার  ...                                [খাইসি, খুবই, মজার]\n",
              "...                                                 ...  ...                                                ...\n",
              "1035                    দেখেই খেয়ে ফেলতে ইচ্ছা হচ্ছে 😋😋  ...                        [দেখেই, খেয়ে, ফেলতে, ইচ্ছা]\n",
              "1036                      সবসময়ই অসাধারণ রান্না ভাই।😍😍🥰  ...                     [সবসময়ই, অসাধারণ, রান্না, ভাই]\n",
              "1037  চিকেন  বিরিয়ানিটা অনেক   মজা  হবে  দেখে মনে হচ...  ...         [চিকেন, বিরিয়ানিটা, মজা, একটু, খেয়ে, দেখি]\n",
              "1038                     অসম্ভব সুন্দর বিরানি রেসিপি 👌👌  ...                   [অসম্ভব, সুন্দর, বিরানি, রেসিপি]\n",
              "1039                       দুধ চা,রং চা,কফি দারুণ হয়েছে  ...                   [দুধ, চারং, চাকফি, দারুণ, হয়েছে]\n",
              "\n",
              "[1040 rows x 5 columns]"
            ]
          },
          "metadata": {},
          "execution_count": 103
        }
      ]
    },
    {
      "cell_type": "markdown",
      "metadata": {
        "id": "i7WzCiqyKboW"
      },
      "source": [
        "**3. Stemming**"
      ]
    },
    {
      "cell_type": "code",
      "metadata": {
        "colab": {
          "base_uri": "https://localhost:8080/"
        },
        "id": "R8CSkYAd-Jia",
        "outputId": "20ef76a3-af91-4d7a-e230-cdc18b43792d"
      },
      "source": [
        "pip install bangla-stemmer"
      ],
      "execution_count": 104,
      "outputs": [
        {
          "output_type": "stream",
          "name": "stdout",
          "text": [
            "Requirement already satisfied: bangla-stemmer in /usr/local/lib/python3.7/dist-packages (1.0)\n"
          ]
        }
      ]
    },
    {
      "cell_type": "code",
      "metadata": {
        "colab": {
          "base_uri": "https://localhost:8080/"
        },
        "id": "pK2buVn1IwRF",
        "outputId": "825a7101-f9f5-4478-a5b9-a4a9eab924a0"
      },
      "source": [
        "from bangla_stemmer.stemmer import stemmer\n",
        "wordlist = ['কবিরগুলিকে', 'আমাকে', 'নামাবার']\n",
        "stmr = stemmer.BanglaStemmer()\n",
        "stm = stmr.stem(wordlist)\n",
        "print(stm)"
      ],
      "execution_count": 105,
      "outputs": [
        {
          "output_type": "stream",
          "name": "stdout",
          "text": [
            "applied first rules..\n",
            "applied third rules..\n",
            "applied first rules..\n",
            "applied fourth rules..\n",
            "['কবির', 'আমা', 'নামা']\n"
          ]
        }
      ]
    },
    {
      "cell_type": "code",
      "metadata": {
        "id": "0mdPZ8ff-aGw"
      },
      "source": [
        "from bangla_stemmer.stemmer import stemmer\n",
        "stmr = stemmer.BanglaStemmer()"
      ],
      "execution_count": 106,
      "outputs": []
    },
    {
      "cell_type": "code",
      "metadata": {
        "id": "bjTh8OYB-uPK"
      },
      "source": [
        "df['stemmed'] = df['Removed Stopped word'].apply(lambda x:stmr.stem(x))"
      ],
      "execution_count": null,
      "outputs": []
    },
    {
      "cell_type": "code",
      "metadata": {
        "colab": {
          "base_uri": "https://localhost:8080/",
          "height": 319
        },
        "id": "C8gQH0qDJShI",
        "outputId": "8c4e4e7a-d485-4ce1-996d-c77dac450736"
      },
      "source": [
        "df.head()"
      ],
      "execution_count": 108,
      "outputs": [
        {
          "output_type": "execute_result",
          "data": {
            "text/html": [
              "\n",
              "  <div id=\"df-e1ed7a8a-4949-425b-bf47-ae73cb938810\">\n",
              "    <div class=\"colab-df-container\">\n",
              "      <div>\n",
              "<style scoped>\n",
              "    .dataframe tbody tr th:only-of-type {\n",
              "        vertical-align: middle;\n",
              "    }\n",
              "\n",
              "    .dataframe tbody tr th {\n",
              "        vertical-align: top;\n",
              "    }\n",
              "\n",
              "    .dataframe thead th {\n",
              "        text-align: right;\n",
              "    }\n",
              "</style>\n",
              "<table border=\"1\" class=\"dataframe\">\n",
              "  <thead>\n",
              "    <tr style=\"text-align: right;\">\n",
              "      <th></th>\n",
              "      <th>Speech</th>\n",
              "      <th>Label</th>\n",
              "      <th>Removed Puncutation</th>\n",
              "      <th>remove Eng</th>\n",
              "      <th>Removed Stopped word</th>\n",
              "      <th>stemmed</th>\n",
              "    </tr>\n",
              "  </thead>\n",
              "  <tbody>\n",
              "    <tr>\n",
              "      <th>0</th>\n",
              "      <td>ব্যাস্ততম  জীবনের  একটু মনরম পরিবেশে  সময় কাটা...</td>\n",
              "      <td>1</td>\n",
              "      <td>ব্যাস্ততম  জীবনের  একটু মনরম পরিবেশে  সময় কাটা...</td>\n",
              "      <td>ব্যাস্ততম জীবনের একটু মনরম পরিবেশে সময় কাটানোর...</td>\n",
              "      <td>[ব্যাস্ততম, জীবনের, একটু, মনরম, পরিবেশে, সময়, ...</td>\n",
              "      <td>[ব্যাস্ততম, জীবন, একটু, মনরম, পরিবেশ, সময়, কাট...</td>\n",
              "    </tr>\n",
              "    <tr>\n",
              "      <th>1</th>\n",
              "      <td>অসাধারণ পরিবেশ! খুব সুন্দর মার্জিত এবং আন্তরিক...</td>\n",
              "      <td>1</td>\n",
              "      <td>অসাধারণ পরিবেশ খুব সুন্দর মার্জিত এবং আন্তরিক ...</td>\n",
              "      <td>অসাধারণ পরিবেশ খুব সুন্দর মার্জিত এবং আন্তরিক ...</td>\n",
              "      <td>[অসাধারণ, পরিবেশ, সুন্দর, মার্জিত, আন্তরিক]</td>\n",
              "      <td>[অসাধারণ, পরিবেশ, সুন্দর, মার্জিত, আন্তরিক]</td>\n",
              "    </tr>\n",
              "    <tr>\n",
              "      <th>2</th>\n",
              "      <td>খাবারের মান যথেষ্ট খারাপ। দামের তুলনায় পরিমান ...</td>\n",
              "      <td>0</td>\n",
              "      <td>খাবারের মান যথেষ্ট খারাপ দামের তুলনায় পরিমান অ...</td>\n",
              "      <td>খাবারের মান যথেষ্ট খারাপ দামের তুলনায় পরিমান অ...</td>\n",
              "      <td>[খাবারের, মান, খারাপ, দামের, তুলনায়, পরিমান, ক...</td>\n",
              "      <td>[খাবারের, মান, খারাপ, দাম, তুলনায়, পরিমান, কম,...</td>\n",
              "    </tr>\n",
              "    <tr>\n",
              "      <th>3</th>\n",
              "      <td>ভালো বহুত খেয়েছি আমার বাসা থেকে একটু দূরে</td>\n",
              "      <td>1</td>\n",
              "      <td>ভালো বহুত খেয়েছি আমার বাসা থেকে একটু দূরে</td>\n",
              "      <td>ভালো বহুত খেয়েছি আমার বাসা থেকে একটু দূরে</td>\n",
              "      <td>[ভালো, বহুত, খেয়েছি, বাসা, একটু, দূরে]</td>\n",
              "      <td>[ভালো, বহুত, খেয়েছি, বাসা, একটু, দূরে]</td>\n",
              "    </tr>\n",
              "    <tr>\n",
              "      <th>4</th>\n",
              "      <td>আমি খাইসি খুবই মজার</td>\n",
              "      <td>1</td>\n",
              "      <td>আমি খাইসি খুবই মজার</td>\n",
              "      <td>আমি খাইসি খুবই মজার</td>\n",
              "      <td>[খাইসি, খুবই, মজার]</td>\n",
              "      <td>[খাইসি, খুব, মজ]</td>\n",
              "    </tr>\n",
              "  </tbody>\n",
              "</table>\n",
              "</div>\n",
              "      <button class=\"colab-df-convert\" onclick=\"convertToInteractive('df-e1ed7a8a-4949-425b-bf47-ae73cb938810')\"\n",
              "              title=\"Convert this dataframe to an interactive table.\"\n",
              "              style=\"display:none;\">\n",
              "        \n",
              "  <svg xmlns=\"http://www.w3.org/2000/svg\" height=\"24px\"viewBox=\"0 0 24 24\"\n",
              "       width=\"24px\">\n",
              "    <path d=\"M0 0h24v24H0V0z\" fill=\"none\"/>\n",
              "    <path d=\"M18.56 5.44l.94 2.06.94-2.06 2.06-.94-2.06-.94-.94-2.06-.94 2.06-2.06.94zm-11 1L8.5 8.5l.94-2.06 2.06-.94-2.06-.94L8.5 2.5l-.94 2.06-2.06.94zm10 10l.94 2.06.94-2.06 2.06-.94-2.06-.94-.94-2.06-.94 2.06-2.06.94z\"/><path d=\"M17.41 7.96l-1.37-1.37c-.4-.4-.92-.59-1.43-.59-.52 0-1.04.2-1.43.59L10.3 9.45l-7.72 7.72c-.78.78-.78 2.05 0 2.83L4 21.41c.39.39.9.59 1.41.59.51 0 1.02-.2 1.41-.59l7.78-7.78 2.81-2.81c.8-.78.8-2.07 0-2.86zM5.41 20L4 18.59l7.72-7.72 1.47 1.35L5.41 20z\"/>\n",
              "  </svg>\n",
              "      </button>\n",
              "      \n",
              "  <style>\n",
              "    .colab-df-container {\n",
              "      display:flex;\n",
              "      flex-wrap:wrap;\n",
              "      gap: 12px;\n",
              "    }\n",
              "\n",
              "    .colab-df-convert {\n",
              "      background-color: #E8F0FE;\n",
              "      border: none;\n",
              "      border-radius: 50%;\n",
              "      cursor: pointer;\n",
              "      display: none;\n",
              "      fill: #1967D2;\n",
              "      height: 32px;\n",
              "      padding: 0 0 0 0;\n",
              "      width: 32px;\n",
              "    }\n",
              "\n",
              "    .colab-df-convert:hover {\n",
              "      background-color: #E2EBFA;\n",
              "      box-shadow: 0px 1px 2px rgba(60, 64, 67, 0.3), 0px 1px 3px 1px rgba(60, 64, 67, 0.15);\n",
              "      fill: #174EA6;\n",
              "    }\n",
              "\n",
              "    [theme=dark] .colab-df-convert {\n",
              "      background-color: #3B4455;\n",
              "      fill: #D2E3FC;\n",
              "    }\n",
              "\n",
              "    [theme=dark] .colab-df-convert:hover {\n",
              "      background-color: #434B5C;\n",
              "      box-shadow: 0px 1px 3px 1px rgba(0, 0, 0, 0.15);\n",
              "      filter: drop-shadow(0px 1px 2px rgba(0, 0, 0, 0.3));\n",
              "      fill: #FFFFFF;\n",
              "    }\n",
              "  </style>\n",
              "\n",
              "      <script>\n",
              "        const buttonEl =\n",
              "          document.querySelector('#df-e1ed7a8a-4949-425b-bf47-ae73cb938810 button.colab-df-convert');\n",
              "        buttonEl.style.display =\n",
              "          google.colab.kernel.accessAllowed ? 'block' : 'none';\n",
              "\n",
              "        async function convertToInteractive(key) {\n",
              "          const element = document.querySelector('#df-e1ed7a8a-4949-425b-bf47-ae73cb938810');\n",
              "          const dataTable =\n",
              "            await google.colab.kernel.invokeFunction('convertToInteractive',\n",
              "                                                     [key], {});\n",
              "          if (!dataTable) return;\n",
              "\n",
              "          const docLinkHtml = 'Like what you see? Visit the ' +\n",
              "            '<a target=\"_blank\" href=https://colab.research.google.com/notebooks/data_table.ipynb>data table notebook</a>'\n",
              "            + ' to learn more about interactive tables.';\n",
              "          element.innerHTML = '';\n",
              "          dataTable['output_type'] = 'display_data';\n",
              "          await google.colab.output.renderOutput(dataTable, element);\n",
              "          const docLink = document.createElement('div');\n",
              "          docLink.innerHTML = docLinkHtml;\n",
              "          element.appendChild(docLink);\n",
              "        }\n",
              "      </script>\n",
              "    </div>\n",
              "  </div>\n",
              "  "
            ],
            "text/plain": [
              "                                              Speech  ...                                            stemmed\n",
              "0  ব্যাস্ততম  জীবনের  একটু মনরম পরিবেশে  সময় কাটা...  ...  [ব্যাস্ততম, জীবন, একটু, মনরম, পরিবেশ, সময়, কাট...\n",
              "1  অসাধারণ পরিবেশ! খুব সুন্দর মার্জিত এবং আন্তরিক...  ...        [অসাধারণ, পরিবেশ, সুন্দর, মার্জিত, আন্তরিক]\n",
              "2  খাবারের মান যথেষ্ট খারাপ। দামের তুলনায় পরিমান ...  ...  [খাবারের, মান, খারাপ, দাম, তুলনায়, পরিমান, কম,...\n",
              "3          ভালো বহুত খেয়েছি আমার বাসা থেকে একটু দূরে  ...             [ভালো, বহুত, খেয়েছি, বাসা, একটু, দূরে]\n",
              "4                                আমি খাইসি খুবই মজার  ...                                   [খাইসি, খুব, মজ]\n",
              "\n",
              "[5 rows x 6 columns]"
            ]
          },
          "metadata": {},
          "execution_count": 108
        }
      ]
    },
    {
      "cell_type": "markdown",
      "metadata": {
        "id": "cZ4NW6WJKti4"
      },
      "source": [
        "**4.Join**"
      ]
    },
    {
      "cell_type": "code",
      "metadata": {
        "colab": {
          "base_uri": "https://localhost:8080/",
          "height": 406
        },
        "id": "YfTHV3UhJ8If",
        "outputId": "a244e568-4af9-4629-8d41-cd565debad14"
      },
      "source": [
        "df['sentence']=df['stemmed'].apply(' '.join)\n",
        "df.head()"
      ],
      "execution_count": 109,
      "outputs": [
        {
          "output_type": "execute_result",
          "data": {
            "text/html": [
              "\n",
              "  <div id=\"df-3aaff58a-d70b-48c4-88fd-43a332c6f808\">\n",
              "    <div class=\"colab-df-container\">\n",
              "      <div>\n",
              "<style scoped>\n",
              "    .dataframe tbody tr th:only-of-type {\n",
              "        vertical-align: middle;\n",
              "    }\n",
              "\n",
              "    .dataframe tbody tr th {\n",
              "        vertical-align: top;\n",
              "    }\n",
              "\n",
              "    .dataframe thead th {\n",
              "        text-align: right;\n",
              "    }\n",
              "</style>\n",
              "<table border=\"1\" class=\"dataframe\">\n",
              "  <thead>\n",
              "    <tr style=\"text-align: right;\">\n",
              "      <th></th>\n",
              "      <th>Speech</th>\n",
              "      <th>Label</th>\n",
              "      <th>Removed Puncutation</th>\n",
              "      <th>remove Eng</th>\n",
              "      <th>Removed Stopped word</th>\n",
              "      <th>stemmed</th>\n",
              "      <th>sentence</th>\n",
              "    </tr>\n",
              "  </thead>\n",
              "  <tbody>\n",
              "    <tr>\n",
              "      <th>0</th>\n",
              "      <td>ব্যাস্ততম  জীবনের  একটু মনরম পরিবেশে  সময় কাটা...</td>\n",
              "      <td>1</td>\n",
              "      <td>ব্যাস্ততম  জীবনের  একটু মনরম পরিবেশে  সময় কাটা...</td>\n",
              "      <td>ব্যাস্ততম জীবনের একটু মনরম পরিবেশে সময় কাটানোর...</td>\n",
              "      <td>[ব্যাস্ততম, জীবনের, একটু, মনরম, পরিবেশে, সময়, ...</td>\n",
              "      <td>[ব্যাস্ততম, জীবন, একটু, মনরম, পরিবেশ, সময়, কাট...</td>\n",
              "      <td>ব্যাস্ততম জীবন একটু মনরম পরিবেশ সময় কাটানোর ঘু...</td>\n",
              "    </tr>\n",
              "    <tr>\n",
              "      <th>1</th>\n",
              "      <td>অসাধারণ পরিবেশ! খুব সুন্দর মার্জিত এবং আন্তরিক...</td>\n",
              "      <td>1</td>\n",
              "      <td>অসাধারণ পরিবেশ খুব সুন্দর মার্জিত এবং আন্তরিক ...</td>\n",
              "      <td>অসাধারণ পরিবেশ খুব সুন্দর মার্জিত এবং আন্তরিক ...</td>\n",
              "      <td>[অসাধারণ, পরিবেশ, সুন্দর, মার্জিত, আন্তরিক]</td>\n",
              "      <td>[অসাধারণ, পরিবেশ, সুন্দর, মার্জিত, আন্তরিক]</td>\n",
              "      <td>অসাধারণ পরিবেশ সুন্দর মার্জিত আন্তরিক</td>\n",
              "    </tr>\n",
              "    <tr>\n",
              "      <th>2</th>\n",
              "      <td>খাবারের মান যথেষ্ট খারাপ। দামের তুলনায় পরিমান ...</td>\n",
              "      <td>0</td>\n",
              "      <td>খাবারের মান যথেষ্ট খারাপ দামের তুলনায় পরিমান অ...</td>\n",
              "      <td>খাবারের মান যথেষ্ট খারাপ দামের তুলনায় পরিমান অ...</td>\n",
              "      <td>[খাবারের, মান, খারাপ, দামের, তুলনায়, পরিমান, ক...</td>\n",
              "      <td>[খাবারের, মান, খারাপ, দাম, তুলনায়, পরিমান, কম,...</td>\n",
              "      <td>খাবারের মান খারাপ দাম তুলনায় পরিমান কম ইফত প্ল...</td>\n",
              "    </tr>\n",
              "    <tr>\n",
              "      <th>3</th>\n",
              "      <td>ভালো বহুত খেয়েছি আমার বাসা থেকে একটু দূরে</td>\n",
              "      <td>1</td>\n",
              "      <td>ভালো বহুত খেয়েছি আমার বাসা থেকে একটু দূরে</td>\n",
              "      <td>ভালো বহুত খেয়েছি আমার বাসা থেকে একটু দূরে</td>\n",
              "      <td>[ভালো, বহুত, খেয়েছি, বাসা, একটু, দূরে]</td>\n",
              "      <td>[ভালো, বহুত, খেয়েছি, বাসা, একটু, দূরে]</td>\n",
              "      <td>ভালো বহুত খেয়েছি বাসা একটু দূরে</td>\n",
              "    </tr>\n",
              "    <tr>\n",
              "      <th>4</th>\n",
              "      <td>আমি খাইসি খুবই মজার</td>\n",
              "      <td>1</td>\n",
              "      <td>আমি খাইসি খুবই মজার</td>\n",
              "      <td>আমি খাইসি খুবই মজার</td>\n",
              "      <td>[খাইসি, খুবই, মজার]</td>\n",
              "      <td>[খাইসি, খুব, মজ]</td>\n",
              "      <td>খাইসি খুব মজ</td>\n",
              "    </tr>\n",
              "  </tbody>\n",
              "</table>\n",
              "</div>\n",
              "      <button class=\"colab-df-convert\" onclick=\"convertToInteractive('df-3aaff58a-d70b-48c4-88fd-43a332c6f808')\"\n",
              "              title=\"Convert this dataframe to an interactive table.\"\n",
              "              style=\"display:none;\">\n",
              "        \n",
              "  <svg xmlns=\"http://www.w3.org/2000/svg\" height=\"24px\"viewBox=\"0 0 24 24\"\n",
              "       width=\"24px\">\n",
              "    <path d=\"M0 0h24v24H0V0z\" fill=\"none\"/>\n",
              "    <path d=\"M18.56 5.44l.94 2.06.94-2.06 2.06-.94-2.06-.94-.94-2.06-.94 2.06-2.06.94zm-11 1L8.5 8.5l.94-2.06 2.06-.94-2.06-.94L8.5 2.5l-.94 2.06-2.06.94zm10 10l.94 2.06.94-2.06 2.06-.94-2.06-.94-.94-2.06-.94 2.06-2.06.94z\"/><path d=\"M17.41 7.96l-1.37-1.37c-.4-.4-.92-.59-1.43-.59-.52 0-1.04.2-1.43.59L10.3 9.45l-7.72 7.72c-.78.78-.78 2.05 0 2.83L4 21.41c.39.39.9.59 1.41.59.51 0 1.02-.2 1.41-.59l7.78-7.78 2.81-2.81c.8-.78.8-2.07 0-2.86zM5.41 20L4 18.59l7.72-7.72 1.47 1.35L5.41 20z\"/>\n",
              "  </svg>\n",
              "      </button>\n",
              "      \n",
              "  <style>\n",
              "    .colab-df-container {\n",
              "      display:flex;\n",
              "      flex-wrap:wrap;\n",
              "      gap: 12px;\n",
              "    }\n",
              "\n",
              "    .colab-df-convert {\n",
              "      background-color: #E8F0FE;\n",
              "      border: none;\n",
              "      border-radius: 50%;\n",
              "      cursor: pointer;\n",
              "      display: none;\n",
              "      fill: #1967D2;\n",
              "      height: 32px;\n",
              "      padding: 0 0 0 0;\n",
              "      width: 32px;\n",
              "    }\n",
              "\n",
              "    .colab-df-convert:hover {\n",
              "      background-color: #E2EBFA;\n",
              "      box-shadow: 0px 1px 2px rgba(60, 64, 67, 0.3), 0px 1px 3px 1px rgba(60, 64, 67, 0.15);\n",
              "      fill: #174EA6;\n",
              "    }\n",
              "\n",
              "    [theme=dark] .colab-df-convert {\n",
              "      background-color: #3B4455;\n",
              "      fill: #D2E3FC;\n",
              "    }\n",
              "\n",
              "    [theme=dark] .colab-df-convert:hover {\n",
              "      background-color: #434B5C;\n",
              "      box-shadow: 0px 1px 3px 1px rgba(0, 0, 0, 0.15);\n",
              "      filter: drop-shadow(0px 1px 2px rgba(0, 0, 0, 0.3));\n",
              "      fill: #FFFFFF;\n",
              "    }\n",
              "  </style>\n",
              "\n",
              "      <script>\n",
              "        const buttonEl =\n",
              "          document.querySelector('#df-3aaff58a-d70b-48c4-88fd-43a332c6f808 button.colab-df-convert');\n",
              "        buttonEl.style.display =\n",
              "          google.colab.kernel.accessAllowed ? 'block' : 'none';\n",
              "\n",
              "        async function convertToInteractive(key) {\n",
              "          const element = document.querySelector('#df-3aaff58a-d70b-48c4-88fd-43a332c6f808');\n",
              "          const dataTable =\n",
              "            await google.colab.kernel.invokeFunction('convertToInteractive',\n",
              "                                                     [key], {});\n",
              "          if (!dataTable) return;\n",
              "\n",
              "          const docLinkHtml = 'Like what you see? Visit the ' +\n",
              "            '<a target=\"_blank\" href=https://colab.research.google.com/notebooks/data_table.ipynb>data table notebook</a>'\n",
              "            + ' to learn more about interactive tables.';\n",
              "          element.innerHTML = '';\n",
              "          dataTable['output_type'] = 'display_data';\n",
              "          await google.colab.output.renderOutput(dataTable, element);\n",
              "          const docLink = document.createElement('div');\n",
              "          docLink.innerHTML = docLinkHtml;\n",
              "          element.appendChild(docLink);\n",
              "        }\n",
              "      </script>\n",
              "    </div>\n",
              "  </div>\n",
              "  "
            ],
            "text/plain": [
              "                                              Speech  ...                                           sentence\n",
              "0  ব্যাস্ততম  জীবনের  একটু মনরম পরিবেশে  সময় কাটা...  ...  ব্যাস্ততম জীবন একটু মনরম পরিবেশ সময় কাটানোর ঘু...\n",
              "1  অসাধারণ পরিবেশ! খুব সুন্দর মার্জিত এবং আন্তরিক...  ...              অসাধারণ পরিবেশ সুন্দর মার্জিত আন্তরিক\n",
              "2  খাবারের মান যথেষ্ট খারাপ। দামের তুলনায় পরিমান ...  ...  খাবারের মান খারাপ দাম তুলনায় পরিমান কম ইফত প্ল...\n",
              "3          ভালো বহুত খেয়েছি আমার বাসা থেকে একটু দূরে  ...                    ভালো বহুত খেয়েছি বাসা একটু দূরে\n",
              "4                                আমি খাইসি খুবই মজার  ...                                       খাইসি খুব মজ\n",
              "\n",
              "[5 rows x 7 columns]"
            ]
          },
          "metadata": {},
          "execution_count": 109
        }
      ]
    },
    {
      "cell_type": "markdown",
      "source": [
        "# Deep Learning\n"
      ],
      "metadata": {
        "id": "8AHEq4wcyOTy"
      }
    },
    {
      "cell_type": "code",
      "source": [
        "from sklearn.model_selection import train_test_split\n",
        "y=df[\"Label\"]\n",
        "x_train,x_test,y_train,y_test=train_test_split(df['sentence'].values,df['Label'].values,test_size=0.30,stratify=y)"
      ],
      "metadata": {
        "id": "Z_Ao19Cfb_4D"
      },
      "execution_count": 110,
      "outputs": []
    },
    {
      "cell_type": "code",
      "source": [
        "from tensorflow.keras.preprocessing.text import Tokenizer\n",
        "from tensorflow.keras.preprocessing.sequence import pad_sequences\n",
        "\n",
        "max_vocab=20000\n",
        "tokenizer=Tokenizer(num_words=max_vocab)\n",
        "tokenizer.fit_on_texts(x_train)"
      ],
      "metadata": {
        "id": "wln4JfAqc1a7"
      },
      "execution_count": 111,
      "outputs": []
    },
    {
      "cell_type": "code",
      "source": [
        "wordinx=tokenizer.word_index\n",
        "v=len(wordinx)\n",
        "print('The size of dataset vocab is:',v)"
      ],
      "metadata": {
        "colab": {
          "base_uri": "https://localhost:8080/"
        },
        "id": "2R-j9Pg5c4kM",
        "outputId": "77661c9c-e469-4a1e-f9c4-c6314e7f4ef9"
      },
      "execution_count": 112,
      "outputs": [
        {
          "output_type": "stream",
          "name": "stdout",
          "text": [
            "The size of dataset vocab is: 1817\n"
          ]
        }
      ]
    },
    {
      "cell_type": "code",
      "source": [
        "train_seq =tokenizer.texts_to_sequences(x_train)\n",
        "test_seq=tokenizer.texts_to_sequences(x_test)\n",
        "print('training sequence:',train_seq[0])\n",
        "print('testing sequence:',test_seq[0])"
      ],
      "metadata": {
        "colab": {
          "base_uri": "https://localhost:8080/"
        },
        "id": "Al2BPNCRc7gB",
        "outputId": "3cca664e-b0dd-475f-a7b5-e4a8e4eba74a"
      },
      "execution_count": 113,
      "outputs": [
        {
          "output_type": "stream",
          "name": "stdout",
          "text": [
            "training sequence: [23, 10, 119, 686, 174, 687, 381, 81, 382, 688, 17, 1, 3]\n",
            "testing sequence: [107, 10, 565, 164]\n"
          ]
        }
      ]
    },
    {
      "cell_type": "code",
      "source": [
        "pad_train =pad_sequences(train_seq)\n",
        "T=pad_train.shape[1]\n",
        "print(\"The length of the trainging sequence is :\",pad_train.shape[1])"
      ],
      "metadata": {
        "colab": {
          "base_uri": "https://localhost:8080/"
        },
        "id": "DxJATw8wc9y7",
        "outputId": "f4627855-25c1-4bf7-8575-13eeeb8d9ae7"
      },
      "execution_count": 114,
      "outputs": [
        {
          "output_type": "stream",
          "name": "stdout",
          "text": [
            "The length of the trainging sequence is : 63\n"
          ]
        }
      ]
    },
    {
      "cell_type": "code",
      "source": [
        "pad_test =pad_sequences(test_seq,maxlen=T)\n",
        "print(\"The length of testing sequence is \",pad_test.shape[1])"
      ],
      "metadata": {
        "colab": {
          "base_uri": "https://localhost:8080/"
        },
        "id": "KzJU3pjfc_73",
        "outputId": "7c8667b6-0a19-4a47-d369-a490dde19996"
      },
      "execution_count": 115,
      "outputs": [
        {
          "output_type": "stream",
          "name": "stdout",
          "text": [
            "The length of testing sequence is  63\n"
          ]
        }
      ]
    },
    {
      "cell_type": "markdown",
      "source": [
        "**Deep Learning techniques ( Pretrained Model(LSTM, GRU,RNN))**"
      ],
      "metadata": {
        "id": "VLBdnU9bdDXE"
      }
    },
    {
      "cell_type": "code",
      "source": [
        "from tensorflow.keras.layers import Input,Dense,Embedding,LSTM,GlobalMaxPool1D\n",
        "from tensorflow.keras.models import Model\n",
        "\n",
        "D=20\n",
        "M=15\n",
        "#D=20\n",
        "#M=15\n",
        "#this is giving 82.4%\n",
        "\n",
        "i= Input(shape=(T, ))\n",
        "x=Embedding(v+1,D)(i)\n",
        "x=LSTM(M,return_sequences=True)(x)\n",
        "x=GlobalMaxPool1D()(x)\n",
        "x=Dense(32,activation='relu')(x)\n",
        "x=Dense(1,activation='sigmoid')(x)\n",
        "model=Model(i,x)"
      ],
      "metadata": {
        "id": "vciYAmxfdNBs"
      },
      "execution_count": 116,
      "outputs": []
    },
    {
      "cell_type": "code",
      "source": [
        "model.compile(optimizer=tf.optimizers.Adam (learning_rate = 0.0001),loss='binary_crossentropy',metrics='accuracy')\n",
        "model.summary()"
      ],
      "metadata": {
        "colab": {
          "base_uri": "https://localhost:8080/"
        },
        "id": "4o8XJAkUdRm1",
        "outputId": "7b91b023-2ad3-48d6-d7ec-0e1d44ea44fa"
      },
      "execution_count": 117,
      "outputs": [
        {
          "output_type": "stream",
          "name": "stdout",
          "text": [
            "Model: \"model_6\"\n",
            "_________________________________________________________________\n",
            " Layer (type)                Output Shape              Param #   \n",
            "=================================================================\n",
            " input_7 (InputLayer)        [(None, 63)]              0         \n",
            "                                                                 \n",
            " embedding_6 (Embedding)     (None, 63, 20)            36360     \n",
            "                                                                 \n",
            " lstm_2 (LSTM)               (None, 63, 15)            2160      \n",
            "                                                                 \n",
            " global_max_pooling1d_6 (Glo  (None, 15)               0         \n",
            " balMaxPooling1D)                                                \n",
            "                                                                 \n",
            " dense_12 (Dense)            (None, 32)                512       \n",
            "                                                                 \n",
            " dense_13 (Dense)            (None, 1)                 33        \n",
            "                                                                 \n",
            "=================================================================\n",
            "Total params: 39,065\n",
            "Trainable params: 39,065\n",
            "Non-trainable params: 0\n",
            "_________________________________________________________________\n"
          ]
        }
      ]
    },
    {
      "cell_type": "code",
      "source": [
        "r=model.fit(pad_train,y_train,validation_data=(pad_test,y_test), epochs=50)"
      ],
      "metadata": {
        "colab": {
          "base_uri": "https://localhost:8080/"
        },
        "id": "MHyWQ37rdUUk",
        "outputId": "0ec1982c-2357-49f4-d7ea-01f2dfc59ef3"
      },
      "execution_count": 118,
      "outputs": [
        {
          "output_type": "stream",
          "name": "stdout",
          "text": [
            "Epoch 1/50\n",
            "23/23 [==============================] - 3s 51ms/step - loss: 0.6931 - accuracy: 0.5179 - val_loss: 0.6929 - val_accuracy: 0.5801\n",
            "Epoch 2/50\n",
            "23/23 [==============================] - 1s 27ms/step - loss: 0.6928 - accuracy: 0.6058 - val_loss: 0.6928 - val_accuracy: 0.6218\n",
            "Epoch 3/50\n",
            "23/23 [==============================] - 1s 28ms/step - loss: 0.6926 - accuracy: 0.6484 - val_loss: 0.6926 - val_accuracy: 0.6635\n",
            "Epoch 4/50\n",
            "23/23 [==============================] - 1s 28ms/step - loss: 0.6923 - accuracy: 0.6662 - val_loss: 0.6924 - val_accuracy: 0.6859\n",
            "Epoch 5/50\n",
            "23/23 [==============================] - 1s 41ms/step - loss: 0.6920 - accuracy: 0.6044 - val_loss: 0.6922 - val_accuracy: 0.6026\n",
            "Epoch 6/50\n",
            "23/23 [==============================] - 1s 52ms/step - loss: 0.6916 - accuracy: 0.6360 - val_loss: 0.6919 - val_accuracy: 0.6314\n",
            "Epoch 7/50\n",
            "23/23 [==============================] - 1s 64ms/step - loss: 0.6911 - accuracy: 0.6593 - val_loss: 0.6916 - val_accuracy: 0.6378\n",
            "Epoch 8/50\n",
            "23/23 [==============================] - 1s 57ms/step - loss: 0.6905 - accuracy: 0.6607 - val_loss: 0.6911 - val_accuracy: 0.6026\n",
            "Epoch 9/50\n",
            "23/23 [==============================] - 1s 47ms/step - loss: 0.6899 - accuracy: 0.6538 - val_loss: 0.6906 - val_accuracy: 0.6122\n",
            "Epoch 10/50\n",
            "23/23 [==============================] - 1s 51ms/step - loss: 0.6891 - accuracy: 0.6511 - val_loss: 0.6900 - val_accuracy: 0.6250\n",
            "Epoch 11/50\n",
            "23/23 [==============================] - 1s 51ms/step - loss: 0.6881 - accuracy: 0.6648 - val_loss: 0.6892 - val_accuracy: 0.6186\n",
            "Epoch 12/50\n",
            "23/23 [==============================] - 1s 65ms/step - loss: 0.6869 - accuracy: 0.7610 - val_loss: 0.6884 - val_accuracy: 0.6827\n",
            "Epoch 13/50\n",
            "23/23 [==============================] - 1s 50ms/step - loss: 0.6856 - accuracy: 0.7184 - val_loss: 0.6873 - val_accuracy: 0.6795\n",
            "Epoch 14/50\n",
            "23/23 [==============================] - 1s 44ms/step - loss: 0.6839 - accuracy: 0.7500 - val_loss: 0.6860 - val_accuracy: 0.6763\n",
            "Epoch 15/50\n",
            "23/23 [==============================] - 1s 55ms/step - loss: 0.6819 - accuracy: 0.7857 - val_loss: 0.6845 - val_accuracy: 0.6571\n",
            "Epoch 16/50\n",
            "23/23 [==============================] - 1s 63ms/step - loss: 0.6795 - accuracy: 0.7500 - val_loss: 0.6826 - val_accuracy: 0.6859\n",
            "Epoch 17/50\n",
            "23/23 [==============================] - 1s 45ms/step - loss: 0.6766 - accuracy: 0.8104 - val_loss: 0.6804 - val_accuracy: 0.6987\n",
            "Epoch 18/50\n",
            "23/23 [==============================] - 2s 65ms/step - loss: 0.6731 - accuracy: 0.7843 - val_loss: 0.6775 - val_accuracy: 0.7212\n",
            "Epoch 19/50\n",
            "23/23 [==============================] - 1s 58ms/step - loss: 0.6685 - accuracy: 0.8132 - val_loss: 0.6741 - val_accuracy: 0.7179\n",
            "Epoch 20/50\n",
            "23/23 [==============================] - 1s 65ms/step - loss: 0.6627 - accuracy: 0.8173 - val_loss: 0.6696 - val_accuracy: 0.7115\n",
            "Epoch 21/50\n",
            "23/23 [==============================] - 2s 66ms/step - loss: 0.6547 - accuracy: 0.8008 - val_loss: 0.6635 - val_accuracy: 0.7212\n",
            "Epoch 22/50\n",
            "23/23 [==============================] - 1s 55ms/step - loss: 0.6432 - accuracy: 0.8091 - val_loss: 0.6559 - val_accuracy: 0.6090\n",
            "Epoch 23/50\n",
            "23/23 [==============================] - 1s 45ms/step - loss: 0.6275 - accuracy: 0.7720 - val_loss: 0.6456 - val_accuracy: 0.7885\n",
            "Epoch 24/50\n",
            "23/23 [==============================] - 2s 69ms/step - loss: 0.6084 - accuracy: 0.8008 - val_loss: 0.6340 - val_accuracy: 0.7244\n",
            "Epoch 25/50\n",
            "23/23 [==============================] - 2s 67ms/step - loss: 0.5921 - accuracy: 0.7898 - val_loss: 0.6246 - val_accuracy: 0.7917\n",
            "Epoch 26/50\n",
            "23/23 [==============================] - 1s 49ms/step - loss: 0.5748 - accuracy: 0.8008 - val_loss: 0.6163 - val_accuracy: 0.8173\n",
            "Epoch 27/50\n",
            "23/23 [==============================] - 1s 42ms/step - loss: 0.5593 - accuracy: 0.8214 - val_loss: 0.6029 - val_accuracy: 0.7372\n",
            "Epoch 28/50\n",
            "23/23 [==============================] - 1s 52ms/step - loss: 0.5437 - accuracy: 0.8585 - val_loss: 0.5930 - val_accuracy: 0.7404\n",
            "Epoch 29/50\n",
            "23/23 [==============================] - 1s 45ms/step - loss: 0.5290 - accuracy: 0.8640 - val_loss: 0.5841 - val_accuracy: 0.7564\n",
            "Epoch 30/50\n",
            "23/23 [==============================] - 1s 46ms/step - loss: 0.5154 - accuracy: 0.8599 - val_loss: 0.5824 - val_accuracy: 0.8590\n",
            "Epoch 31/50\n",
            "23/23 [==============================] - 1s 56ms/step - loss: 0.5080 - accuracy: 0.8668 - val_loss: 0.5689 - val_accuracy: 0.8269\n",
            "Epoch 32/50\n",
            "23/23 [==============================] - 1s 55ms/step - loss: 0.4932 - accuracy: 0.8764 - val_loss: 0.5623 - val_accuracy: 0.7596\n",
            "Epoch 33/50\n",
            "23/23 [==============================] - 1s 49ms/step - loss: 0.4805 - accuracy: 0.9025 - val_loss: 0.5568 - val_accuracy: 0.7436\n",
            "Epoch 34/50\n",
            "23/23 [==============================] - 1s 42ms/step - loss: 0.4713 - accuracy: 0.8846 - val_loss: 0.5532 - val_accuracy: 0.7340\n",
            "Epoch 35/50\n",
            "23/23 [==============================] - 1s 45ms/step - loss: 0.4618 - accuracy: 0.9217 - val_loss: 0.5624 - val_accuracy: 0.6378\n",
            "Epoch 36/50\n",
            "23/23 [==============================] - 1s 45ms/step - loss: 0.4527 - accuracy: 0.8846 - val_loss: 0.5386 - val_accuracy: 0.8558\n",
            "Epoch 37/50\n",
            "23/23 [==============================] - 2s 67ms/step - loss: 0.4460 - accuracy: 0.9245 - val_loss: 0.5339 - val_accuracy: 0.8045\n",
            "Epoch 38/50\n",
            "23/23 [==============================] - 1s 50ms/step - loss: 0.4372 - accuracy: 0.9245 - val_loss: 0.5278 - val_accuracy: 0.8462\n",
            "Epoch 39/50\n",
            "23/23 [==============================] - 1s 54ms/step - loss: 0.4246 - accuracy: 0.9272 - val_loss: 0.5223 - val_accuracy: 0.8558\n",
            "Epoch 40/50\n",
            "23/23 [==============================] - 1s 52ms/step - loss: 0.4147 - accuracy: 0.9258 - val_loss: 0.5314 - val_accuracy: 0.7500\n",
            "Epoch 41/50\n",
            "23/23 [==============================] - 1s 51ms/step - loss: 0.4075 - accuracy: 0.9286 - val_loss: 0.5133 - val_accuracy: 0.8558\n",
            "Epoch 42/50\n",
            "23/23 [==============================] - 1s 51ms/step - loss: 0.3973 - accuracy: 0.9396 - val_loss: 0.5137 - val_accuracy: 0.8141\n",
            "Epoch 43/50\n",
            "23/23 [==============================] - 1s 36ms/step - loss: 0.3909 - accuracy: 0.9368 - val_loss: 0.5036 - val_accuracy: 0.8558\n",
            "Epoch 44/50\n",
            "23/23 [==============================] - 1s 29ms/step - loss: 0.3806 - accuracy: 0.9368 - val_loss: 0.5000 - val_accuracy: 0.8526\n",
            "Epoch 45/50\n",
            "23/23 [==============================] - 1s 28ms/step - loss: 0.3717 - accuracy: 0.9505 - val_loss: 0.5022 - val_accuracy: 0.8269\n",
            "Epoch 46/50\n",
            "23/23 [==============================] - 1s 27ms/step - loss: 0.3639 - accuracy: 0.9547 - val_loss: 0.4921 - val_accuracy: 0.8558\n",
            "Epoch 47/50\n",
            "23/23 [==============================] - 1s 29ms/step - loss: 0.3589 - accuracy: 0.9492 - val_loss: 0.4897 - val_accuracy: 0.8558\n",
            "Epoch 48/50\n",
            "23/23 [==============================] - 1s 27ms/step - loss: 0.3464 - accuracy: 0.9505 - val_loss: 0.4880 - val_accuracy: 0.8590\n",
            "Epoch 49/50\n",
            "23/23 [==============================] - 1s 26ms/step - loss: 0.3386 - accuracy: 0.9574 - val_loss: 0.5027 - val_accuracy: 0.7917\n",
            "Epoch 50/50\n",
            "23/23 [==============================] - 1s 28ms/step - loss: 0.3307 - accuracy: 0.9519 - val_loss: 0.4823 - val_accuracy: 0.8558\n"
          ]
        }
      ]
    },
    {
      "cell_type": "code",
      "source": [
        "loss,accuracy = model.evaluate(pad_test,y_test)\n",
        "print(\"loss:\",loss)\n",
        "print(\"Accuracy:\",accuracy)"
      ],
      "metadata": {
        "colab": {
          "base_uri": "https://localhost:8080/"
        },
        "id": "RIBLKxPAdXPU",
        "outputId": "3d8c505f-f11d-416f-ee88-a2439de0925f"
      },
      "execution_count": 119,
      "outputs": [
        {
          "output_type": "stream",
          "name": "stdout",
          "text": [
            "10/10 [==============================] - 0s 5ms/step - loss: 0.4823 - accuracy: 0.8558\n",
            "loss: 0.48232269287109375\n",
            "Accuracy: 0.8557692170143127\n"
          ]
        }
      ]
    },
    {
      "cell_type": "code",
      "source": [
        "from matplotlib import pyplot as plt\n",
        "plt.plot(r.history['loss'],label='loss')\n",
        "plt.plot(r.history['val_loss'],label='val_loss')\n",
        "plt.legend"
      ],
      "metadata": {
        "colab": {
          "base_uri": "https://localhost:8080/",
          "height": 282
        },
        "id": "HuX0B6rRdYm2",
        "outputId": "a26943d0-38ab-45db-e25a-2370f1c2f06f"
      },
      "execution_count": 120,
      "outputs": [
        {
          "output_type": "execute_result",
          "data": {
            "text/plain": [
              "<function matplotlib.pyplot.legend>"
            ]
          },
          "metadata": {},
          "execution_count": 120
        },
        {
          "output_type": "display_data",
          "data": {
            "image/png": "[encoded data removed]",
            "text/plain": [
              "<Figure size 432x288 with 1 Axes>"
            ]
          },
          "metadata": {
            "needs_background": "light"
          }
        }
      ]
    },
    {
      "cell_type": "code",
      "source": [
        "    predictions = model.predict(pad_test).ravel()\n",
        "    fpr_keras, tpr_keras, thresholds_keras = metrics.roc_curve(y_test, predictions)\n",
        "    auc_keras = metrics.auc(fpr_keras, tpr_keras)\n",
        "    \n",
        "    plt.figure(1)\n",
        "    plt.plot(fpr_keras, tpr_keras, 'b', label = 'AUC = %0.2f' % auc_keras)\n",
        "    plt.legend(loc = 'lower right')\n",
        "    plt.plot([0, 1], [0, 1], 'r--')\n",
        "    plt.xlim([0, 1])\n",
        "    plt.ylim([0, 1])\n",
        "    plt.xlabel('False positive rate')\n",
        "    plt.ylabel('True positive rate')\n",
        "    plt.title('ROC Curve for GRU ')\n",
        "    plt.show()"
      ],
      "metadata": {
        "colab": {
          "base_uri": "https://localhost:8080/",
          "height": 295
        },
        "id": "zc1eUFArhCig",
        "outputId": "f34ee699-1ba8-4739-af26-7c3414455f3f"
      },
      "execution_count": 121,
      "outputs": [
        {
          "output_type": "display_data",
          "data": {
            "image/png": "[encoded data removed]",
            "text/plain": [
              "<Figure size 432x288 with 1 Axes>"
            ]
          },
          "metadata": {
            "needs_background": "light"
          }
        }
      ]
    },
    {
      "cell_type": "markdown",
      "source": [
        "**GRU**"
      ],
      "metadata": {
        "id": "EBWvHnCfgTDG"
      }
    },
    {
      "cell_type": "code",
      "source": [
        "from tensorflow.keras.layers import Input,Dense,Embedding,GRU,GlobalMaxPool1D\n",
        "from tensorflow.keras.models import Model\n",
        "\n",
        "D=20\n",
        "M=15\n",
        "\n",
        "\n",
        "i= Input(shape=(T, ))\n",
        "x=Embedding(v+1,D)(i)\n",
        "x=GRU(M,return_sequences=True)(x)\n",
        "x=GlobalMaxPool1D()(x)\n",
        "x=Dense(32,activation='relu')(x)\n",
        "x=Dense(1,activation='sigmoid')(x)\n",
        "gru_model=Model(i,x)\n",
        "gru_model.summary()"
      ],
      "metadata": {
        "colab": {
          "base_uri": "https://localhost:8080/"
        },
        "id": "-B5w0XBdeGgu",
        "outputId": "55da6545-bd41-4c8b-c219-6f061dc4c7f7"
      },
      "execution_count": 122,
      "outputs": [
        {
          "output_type": "stream",
          "name": "stdout",
          "text": [
            "Model: \"model_7\"\n",
            "_________________________________________________________________\n",
            " Layer (type)                Output Shape              Param #   \n",
            "=================================================================\n",
            " input_8 (InputLayer)        [(None, 63)]              0         \n",
            "                                                                 \n",
            " embedding_7 (Embedding)     (None, 63, 20)            36360     \n",
            "                                                                 \n",
            " gru_2 (GRU)                 (None, 63, 15)            1665      \n",
            "                                                                 \n",
            " global_max_pooling1d_7 (Glo  (None, 15)               0         \n",
            " balMaxPooling1D)                                                \n",
            "                                                                 \n",
            " dense_14 (Dense)            (None, 32)                512       \n",
            "                                                                 \n",
            " dense_15 (Dense)            (None, 1)                 33        \n",
            "                                                                 \n",
            "=================================================================\n",
            "Total params: 38,570\n",
            "Trainable params: 38,570\n",
            "Non-trainable params: 0\n",
            "_________________________________________________________________\n"
          ]
        }
      ]
    },
    {
      "cell_type": "code",
      "source": [
        "gru_model.compile(optimizer=tf.optimizers.Adam(learning_rate = 0.0001),loss='binary_crossentropy',metrics='accuracy')\n",
        "\n",
        "r=gru_model.fit(pad_train,y_train,validation_data=(pad_test,y_test),epochs=50)"
      ],
      "metadata": {
        "id": "eOjblzFgeS8R",
        "colab": {
          "base_uri": "https://localhost:8080/"
        },
        "outputId": "19b70afe-bd71-48c1-b177-182b50e8b193"
      },
      "execution_count": 123,
      "outputs": [
        {
          "output_type": "stream",
          "name": "stdout",
          "text": [
            "Epoch 1/50\n",
            "23/23 [==============================] - 3s 52ms/step - loss: 0.6927 - accuracy: 0.5000 - val_loss: 0.6924 - val_accuracy: 0.5000\n",
            "Epoch 2/50\n",
            "23/23 [==============================] - 1s 32ms/step - loss: 0.6919 - accuracy: 0.5000 - val_loss: 0.6920 - val_accuracy: 0.5000\n",
            "Epoch 3/50\n",
            "23/23 [==============================] - 1s 31ms/step - loss: 0.6911 - accuracy: 0.5000 - val_loss: 0.6915 - val_accuracy: 0.5032\n",
            "Epoch 4/50\n",
            "23/23 [==============================] - 1s 31ms/step - loss: 0.6903 - accuracy: 0.5027 - val_loss: 0.6910 - val_accuracy: 0.5096\n",
            "Epoch 5/50\n",
            "23/23 [==============================] - 1s 32ms/step - loss: 0.6892 - accuracy: 0.5082 - val_loss: 0.6903 - val_accuracy: 0.5192\n",
            "Epoch 6/50\n",
            "23/23 [==============================] - 1s 32ms/step - loss: 0.6879 - accuracy: 0.5467 - val_loss: 0.6894 - val_accuracy: 0.5545\n",
            "Epoch 7/50\n",
            "23/23 [==============================] - 1s 30ms/step - loss: 0.6863 - accuracy: 0.6168 - val_loss: 0.6883 - val_accuracy: 0.5994\n",
            "Epoch 8/50\n",
            "23/23 [==============================] - 1s 31ms/step - loss: 0.6844 - accuracy: 0.6745 - val_loss: 0.6870 - val_accuracy: 0.6282\n",
            "Epoch 9/50\n",
            "23/23 [==============================] - 1s 31ms/step - loss: 0.6824 - accuracy: 0.7143 - val_loss: 0.6855 - val_accuracy: 0.6795\n",
            "Epoch 10/50\n",
            "23/23 [==============================] - 1s 31ms/step - loss: 0.6800 - accuracy: 0.7555 - val_loss: 0.6838 - val_accuracy: 0.7115\n",
            "Epoch 11/50\n",
            "23/23 [==============================] - 1s 32ms/step - loss: 0.6773 - accuracy: 0.7830 - val_loss: 0.6817 - val_accuracy: 0.7244\n",
            "Epoch 12/50\n",
            "23/23 [==============================] - 1s 33ms/step - loss: 0.6741 - accuracy: 0.8407 - val_loss: 0.6793 - val_accuracy: 0.7500\n",
            "Epoch 13/50\n",
            "23/23 [==============================] - 1s 31ms/step - loss: 0.6704 - accuracy: 0.8530 - val_loss: 0.6766 - val_accuracy: 0.7724\n",
            "Epoch 14/50\n",
            "23/23 [==============================] - 1s 34ms/step - loss: 0.6661 - accuracy: 0.8709 - val_loss: 0.6733 - val_accuracy: 0.7788\n",
            "Epoch 15/50\n",
            "23/23 [==============================] - 1s 32ms/step - loss: 0.6611 - accuracy: 0.8819 - val_loss: 0.6696 - val_accuracy: 0.8173\n",
            "Epoch 16/50\n",
            "23/23 [==============================] - 1s 34ms/step - loss: 0.6554 - accuracy: 0.8929 - val_loss: 0.6651 - val_accuracy: 0.8077\n",
            "Epoch 17/50\n",
            "23/23 [==============================] - 1s 31ms/step - loss: 0.6489 - accuracy: 0.8970 - val_loss: 0.6601 - val_accuracy: 0.8269\n",
            "Epoch 18/50\n",
            "23/23 [==============================] - 1s 33ms/step - loss: 0.6415 - accuracy: 0.9093 - val_loss: 0.6544 - val_accuracy: 0.8205\n",
            "Epoch 19/50\n",
            "23/23 [==============================] - 1s 36ms/step - loss: 0.6331 - accuracy: 0.9148 - val_loss: 0.6481 - val_accuracy: 0.8397\n",
            "Epoch 20/50\n",
            "23/23 [==============================] - 1s 33ms/step - loss: 0.6238 - accuracy: 0.9162 - val_loss: 0.6409 - val_accuracy: 0.8365\n",
            "Epoch 21/50\n",
            "23/23 [==============================] - 1s 32ms/step - loss: 0.6132 - accuracy: 0.9176 - val_loss: 0.6329 - val_accuracy: 0.8365\n",
            "Epoch 22/50\n",
            "23/23 [==============================] - 1s 32ms/step - loss: 0.6016 - accuracy: 0.9245 - val_loss: 0.6239 - val_accuracy: 0.8397\n",
            "Epoch 23/50\n",
            "23/23 [==============================] - 1s 32ms/step - loss: 0.5887 - accuracy: 0.9217 - val_loss: 0.6143 - val_accuracy: 0.8429\n",
            "Epoch 24/50\n",
            "23/23 [==============================] - 1s 33ms/step - loss: 0.5746 - accuracy: 0.9231 - val_loss: 0.6034 - val_accuracy: 0.8397\n",
            "Epoch 25/50\n",
            "23/23 [==============================] - 1s 31ms/step - loss: 0.5589 - accuracy: 0.9231 - val_loss: 0.5916 - val_accuracy: 0.8365\n",
            "Epoch 26/50\n",
            "23/23 [==============================] - 1s 33ms/step - loss: 0.5419 - accuracy: 0.9245 - val_loss: 0.5787 - val_accuracy: 0.8462\n",
            "Epoch 27/50\n",
            "23/23 [==============================] - 1s 32ms/step - loss: 0.5238 - accuracy: 0.9258 - val_loss: 0.5650 - val_accuracy: 0.8462\n",
            "Epoch 28/50\n",
            "23/23 [==============================] - 1s 32ms/step - loss: 0.5040 - accuracy: 0.9286 - val_loss: 0.5504 - val_accuracy: 0.8462\n",
            "Epoch 29/50\n",
            "23/23 [==============================] - 1s 31ms/step - loss: 0.4833 - accuracy: 0.9299 - val_loss: 0.5353 - val_accuracy: 0.8494\n",
            "Epoch 30/50\n",
            "23/23 [==============================] - 1s 34ms/step - loss: 0.4616 - accuracy: 0.9299 - val_loss: 0.5196 - val_accuracy: 0.8526\n",
            "Epoch 31/50\n",
            "23/23 [==============================] - 1s 31ms/step - loss: 0.4395 - accuracy: 0.9286 - val_loss: 0.5038 - val_accuracy: 0.8526\n",
            "Epoch 32/50\n",
            "23/23 [==============================] - 1s 31ms/step - loss: 0.4165 - accuracy: 0.9341 - val_loss: 0.4879 - val_accuracy: 0.8558\n",
            "Epoch 33/50\n",
            "23/23 [==============================] - 1s 32ms/step - loss: 0.3936 - accuracy: 0.9299 - val_loss: 0.4724 - val_accuracy: 0.8590\n",
            "Epoch 34/50\n",
            "23/23 [==============================] - 1s 31ms/step - loss: 0.3709 - accuracy: 0.9368 - val_loss: 0.4578 - val_accuracy: 0.8590\n",
            "Epoch 35/50\n",
            "23/23 [==============================] - 1s 31ms/step - loss: 0.3485 - accuracy: 0.9327 - val_loss: 0.4434 - val_accuracy: 0.8590\n",
            "Epoch 36/50\n",
            "23/23 [==============================] - 1s 32ms/step - loss: 0.3274 - accuracy: 0.9396 - val_loss: 0.4293 - val_accuracy: 0.8590\n",
            "Epoch 37/50\n",
            "23/23 [==============================] - 1s 32ms/step - loss: 0.3066 - accuracy: 0.9382 - val_loss: 0.4167 - val_accuracy: 0.8590\n",
            "Epoch 38/50\n",
            "23/23 [==============================] - 1s 33ms/step - loss: 0.2870 - accuracy: 0.9382 - val_loss: 0.4053 - val_accuracy: 0.8590\n",
            "Epoch 39/50\n",
            "23/23 [==============================] - 1s 32ms/step - loss: 0.2690 - accuracy: 0.9423 - val_loss: 0.3947 - val_accuracy: 0.8558\n",
            "Epoch 40/50\n",
            "23/23 [==============================] - 1s 31ms/step - loss: 0.2522 - accuracy: 0.9437 - val_loss: 0.3857 - val_accuracy: 0.8590\n",
            "Epoch 41/50\n",
            "23/23 [==============================] - 1s 33ms/step - loss: 0.2364 - accuracy: 0.9533 - val_loss: 0.3775 - val_accuracy: 0.8558\n",
            "Epoch 42/50\n",
            "23/23 [==============================] - 1s 32ms/step - loss: 0.2211 - accuracy: 0.9588 - val_loss: 0.3703 - val_accuracy: 0.8558\n",
            "Epoch 43/50\n",
            "23/23 [==============================] - 1s 32ms/step - loss: 0.2075 - accuracy: 0.9643 - val_loss: 0.3642 - val_accuracy: 0.8462\n",
            "Epoch 44/50\n",
            "23/23 [==============================] - 1s 31ms/step - loss: 0.1951 - accuracy: 0.9643 - val_loss: 0.3592 - val_accuracy: 0.8397\n",
            "Epoch 45/50\n",
            "23/23 [==============================] - 1s 32ms/step - loss: 0.1831 - accuracy: 0.9643 - val_loss: 0.3549 - val_accuracy: 0.8397\n",
            "Epoch 46/50\n",
            "23/23 [==============================] - 1s 34ms/step - loss: 0.1727 - accuracy: 0.9643 - val_loss: 0.3514 - val_accuracy: 0.8429\n",
            "Epoch 47/50\n",
            "23/23 [==============================] - 1s 31ms/step - loss: 0.1633 - accuracy: 0.9657 - val_loss: 0.3491 - val_accuracy: 0.8429\n",
            "Epoch 48/50\n",
            "23/23 [==============================] - 1s 32ms/step - loss: 0.1538 - accuracy: 0.9670 - val_loss: 0.3471 - val_accuracy: 0.8429\n",
            "Epoch 49/50\n",
            "23/23 [==============================] - 1s 32ms/step - loss: 0.1453 - accuracy: 0.9670 - val_loss: 0.3461 - val_accuracy: 0.8462\n",
            "Epoch 50/50\n",
            "23/23 [==============================] - 1s 31ms/step - loss: 0.1380 - accuracy: 0.9657 - val_loss: 0.3451 - val_accuracy: 0.8494\n"
          ]
        }
      ]
    },
    {
      "cell_type": "code",
      "source": [
        "loss,accuracy = gru_model.evaluate(pad_test,y_test)\n",
        "print(\"loss:\",loss)\n",
        "print(\"Accuracy:\",accuracy)"
      ],
      "metadata": {
        "id": "1u1Zc_weelpH",
        "colab": {
          "base_uri": "https://localhost:8080/"
        },
        "outputId": "e28243ed-a6ab-46b5-9d69-6f46b2233c8d"
      },
      "execution_count": 124,
      "outputs": [
        {
          "output_type": "stream",
          "name": "stdout",
          "text": [
            "10/10 [==============================] - 0s 5ms/step - loss: 0.3451 - accuracy: 0.8494\n",
            "loss: 0.3451188802719116\n",
            "Accuracy: 0.8493589758872986\n"
          ]
        }
      ]
    },
    {
      "cell_type": "code",
      "source": [
        "from matplotlib import pyplot as plt\n",
        "plt.plot(r.history['accuracy'],label='loss')\n",
        "plt.plot(r.history['val_accuracy'],label='val_loss')\n",
        "plt.legend"
      ],
      "metadata": {
        "id": "ABjX0qBsfwrr",
        "colab": {
          "base_uri": "https://localhost:8080/",
          "height": 282
        },
        "outputId": "39a8408d-ef23-4c8a-85e1-52d2075e37df"
      },
      "execution_count": 125,
      "outputs": [
        {
          "output_type": "execute_result",
          "data": {
            "text/plain": [
              "<function matplotlib.pyplot.legend>"
            ]
          },
          "metadata": {},
          "execution_count": 125
        },
        {
          "output_type": "display_data",
          "data": {
            "image/png": "[encoded data removed]",
            "text/plain": [
              "<Figure size 432x288 with 1 Axes>"
            ]
          },
          "metadata": {
            "needs_background": "light"
          }
        }
      ]
    },
    {
      "cell_type": "markdown",
      "source": [
        "\n",
        "**RNN**\n"
      ],
      "metadata": {
        "id": "9L8vLIUgAOiG"
      }
    },
    {
      "cell_type": "code",
      "source": [
        "from tensorflow.python.keras.layers.recurrent import SimpleRNN\n",
        "from tensorflow.keras.layers import Input,Dense,Embedding,RNN,GlobalMaxPool1D\n",
        "from tensorflow.keras.models import Model\n",
        "\n",
        "D=20\n",
        "M=15\n",
        "#D=32\n",
        "#M=5\n",
        "##M=10 GIVIBG ACCURACY 84.545%\n",
        "i= Input(shape=(T, ))\n",
        "x=Embedding(v+1,D)(i)\n",
        "x=SimpleRNN(M,return_sequences=True)(x)\n",
        "x=GlobalMaxPool1D()(x)\n",
        "x=Dense(32,activation='relu')(x)\n",
        "x=Dense(1,activation='sigmoid')(x)\n",
        "RNN=Model(i,x)\n",
        "RNN.summary()"
      ],
      "metadata": {
        "id": "yjnLVt-bRW_b",
        "colab": {
          "base_uri": "https://localhost:8080/"
        },
        "outputId": "a1a46fdb-100f-4a68-8724-7a464aa5c0d6"
      },
      "execution_count": 126,
      "outputs": [
        {
          "output_type": "stream",
          "name": "stdout",
          "text": [
            "WARNING:tensorflow:The following Variables were used in a Lambda layer's call (tf.keras.backend.rnn_2), but are not present in its tracked objects:   <tf.Variable 'simple_rnn_2/simple_rnn_cell_2/kernel:0' shape=(20, 15) dtype=float32>\n",
            "  <tf.Variable 'simple_rnn_2/simple_rnn_cell_2/recurrent_kernel:0' shape=(15, 15) dtype=float32>\n",
            "  <tf.Variable 'simple_rnn_2/simple_rnn_cell_2/bias:0' shape=(15,) dtype=float32>. This is a strong indication that the Lambda layer should be rewritten as a subclassed Layer.\n",
            "Model: \"model_8\"\n",
            "__________________________________________________________________________________________________\n",
            " Layer (type)                   Output Shape         Param #     Connected to                     \n",
            "==================================================================================================\n",
            " input_9 (InputLayer)           [(None, 63)]         0           []                               \n",
            "                                                                                                  \n",
            " embedding_8 (Embedding)        (None, 63, 20)       36360       ['input_9[0][0]']                \n",
            "                                                                                                  \n",
            " tf.compat.v1.shape_4 (TFOpLamb  (3,)                0           ['embedding_8[0][0]']            \n",
            " da)                                                                                              \n",
            "                                                                                                  \n",
            " tf.__operators__.getitem_4 (Sl  ()                  0           ['tf.compat.v1.shape_4[0][0]']   \n",
            " icingOpLambda)                                                                                   \n",
            "                                                                                                  \n",
            " tf.zeros_2 (TFOpLambda)        (None, 15)           0           ['tf.__operators__.getitem_4[0][0\n",
            "                                                                 ]']                              \n",
            "                                                                                                  \n",
            " tf.keras.backend.rnn_2 (TFOpLa  ((None, 15),        0           ['embedding_8[0][0]',            \n",
            " mbda)                           (None, 63, 15),                  'tf.zeros_2[0][0]']             \n",
            "                                 ((None, 15),                                                     \n",
            "                                ))                                                                \n",
            "                                                                                                  \n",
            " global_max_pooling1d_8 (Global  (None, 15)          0           ['tf.keras.backend.rnn_2[0][1]'] \n",
            " MaxPooling1D)                                                                                    \n",
            "                                                                                                  \n",
            " dense_16 (Dense)               (None, 32)           512         ['global_max_pooling1d_8[0][0]'] \n",
            "                                                                                                  \n",
            " dense_17 (Dense)               (None, 1)            33          ['dense_16[0][0]']               \n",
            "                                                                                                  \n",
            "==================================================================================================\n",
            "Total params: 36,905\n",
            "Trainable params: 36,905\n",
            "Non-trainable params: 0\n",
            "__________________________________________________________________________________________________\n"
          ]
        }
      ]
    },
    {
      "cell_type": "code",
      "source": [
        "RNN.compile(optimizer=\"Adam\",loss='binary_crossentropy',metrics='accuracy')\n",
        "\n",
        "r=RNN.fit(pad_train,y_train,validation_data=(pad_test,y_test),epochs=50)"
      ],
      "metadata": {
        "id": "M4XEU9_AS_P6",
        "colab": {
          "base_uri": "https://localhost:8080/"
        },
        "outputId": "bfc1c8a8-a708-4151-c62d-4897ccf4e4e3"
      },
      "execution_count": 127,
      "outputs": [
        {
          "output_type": "stream",
          "name": "stdout",
          "text": [
            "Epoch 1/50\n",
            "23/23 [==============================] - 2s 26ms/step - loss: 0.6935 - accuracy: 0.4918 - val_loss: 0.6901 - val_accuracy: 0.6058\n",
            "Epoch 2/50\n",
            "23/23 [==============================] - 0s 18ms/step - loss: 0.6785 - accuracy: 0.7212 - val_loss: 0.6842 - val_accuracy: 0.5609\n",
            "Epoch 3/50\n",
            "23/23 [==============================] - 0s 14ms/step - loss: 0.6544 - accuracy: 0.8269 - val_loss: 0.6734 - val_accuracy: 0.6827\n",
            "Epoch 4/50\n",
            "23/23 [==============================] - 0s 15ms/step - loss: 0.6136 - accuracy: 0.8832 - val_loss: 0.6533 - val_accuracy: 0.6859\n",
            "Epoch 5/50\n",
            "23/23 [==============================] - 0s 17ms/step - loss: 0.5499 - accuracy: 0.8997 - val_loss: 0.6205 - val_accuracy: 0.7051\n",
            "Epoch 6/50\n",
            "23/23 [==============================] - 0s 15ms/step - loss: 0.4630 - accuracy: 0.9203 - val_loss: 0.5831 - val_accuracy: 0.7083\n",
            "Epoch 7/50\n",
            "23/23 [==============================] - 0s 16ms/step - loss: 0.3742 - accuracy: 0.9245 - val_loss: 0.5556 - val_accuracy: 0.7308\n",
            "Epoch 8/50\n",
            "23/23 [==============================] - 0s 15ms/step - loss: 0.2896 - accuracy: 0.9341 - val_loss: 0.5128 - val_accuracy: 0.7564\n",
            "Epoch 9/50\n",
            "23/23 [==============================] - 0s 15ms/step - loss: 0.2240 - accuracy: 0.9533 - val_loss: 0.4857 - val_accuracy: 0.7981\n",
            "Epoch 10/50\n",
            "23/23 [==============================] - 0s 16ms/step - loss: 0.1786 - accuracy: 0.9560 - val_loss: 0.4615 - val_accuracy: 0.8077\n",
            "Epoch 11/50\n",
            "23/23 [==============================] - 0s 15ms/step - loss: 0.1457 - accuracy: 0.9629 - val_loss: 0.4455 - val_accuracy: 0.8077\n",
            "Epoch 12/50\n",
            "23/23 [==============================] - 0s 16ms/step - loss: 0.1119 - accuracy: 0.9753 - val_loss: 0.4327 - val_accuracy: 0.8205\n",
            "Epoch 13/50\n",
            "23/23 [==============================] - 0s 16ms/step - loss: 0.0984 - accuracy: 0.9794 - val_loss: 0.4240 - val_accuracy: 0.8269\n",
            "Epoch 14/50\n",
            "23/23 [==============================] - 0s 15ms/step - loss: 0.0791 - accuracy: 0.9821 - val_loss: 0.4214 - val_accuracy: 0.8205\n",
            "Epoch 15/50\n",
            "23/23 [==============================] - 0s 16ms/step - loss: 0.0651 - accuracy: 0.9876 - val_loss: 0.4171 - val_accuracy: 0.8205\n",
            "Epoch 16/50\n",
            "23/23 [==============================] - 0s 16ms/step - loss: 0.0584 - accuracy: 0.9863 - val_loss: 0.4135 - val_accuracy: 0.8301\n",
            "Epoch 17/50\n",
            "23/23 [==============================] - 0s 15ms/step - loss: 0.0481 - accuracy: 0.9904 - val_loss: 0.4143 - val_accuracy: 0.8237\n",
            "Epoch 18/50\n",
            "23/23 [==============================] - 0s 16ms/step - loss: 0.0428 - accuracy: 0.9918 - val_loss: 0.4340 - val_accuracy: 0.7981\n",
            "Epoch 19/50\n",
            "23/23 [==============================] - 0s 16ms/step - loss: 0.0390 - accuracy: 0.9945 - val_loss: 0.4154 - val_accuracy: 0.8333\n",
            "Epoch 20/50\n",
            "23/23 [==============================] - 0s 16ms/step - loss: 0.0384 - accuracy: 0.9876 - val_loss: 0.4275 - val_accuracy: 0.7949\n",
            "Epoch 21/50\n",
            "23/23 [==============================] - 0s 17ms/step - loss: 0.0356 - accuracy: 0.9918 - val_loss: 0.4165 - val_accuracy: 0.8365\n",
            "Epoch 22/50\n",
            "23/23 [==============================] - 0s 16ms/step - loss: 0.0287 - accuracy: 0.9945 - val_loss: 0.4267 - val_accuracy: 0.8141\n",
            "Epoch 23/50\n",
            "23/23 [==============================] - 0s 16ms/step - loss: 0.0284 - accuracy: 0.9918 - val_loss: 0.4298 - val_accuracy: 0.8301\n",
            "Epoch 24/50\n",
            "23/23 [==============================] - 0s 16ms/step - loss: 0.0252 - accuracy: 0.9945 - val_loss: 0.4248 - val_accuracy: 0.8365\n",
            "Epoch 25/50\n",
            "23/23 [==============================] - 0s 16ms/step - loss: 0.0232 - accuracy: 0.9945 - val_loss: 0.4315 - val_accuracy: 0.8173\n",
            "Epoch 26/50\n",
            "23/23 [==============================] - 0s 16ms/step - loss: 0.0231 - accuracy: 0.9931 - val_loss: 0.4365 - val_accuracy: 0.8141\n",
            "Epoch 27/50\n",
            "23/23 [==============================] - 0s 16ms/step - loss: 0.0210 - accuracy: 0.9945 - val_loss: 0.4348 - val_accuracy: 0.8173\n",
            "Epoch 28/50\n",
            "23/23 [==============================] - 0s 16ms/step - loss: 0.0211 - accuracy: 0.9945 - val_loss: 0.4373 - val_accuracy: 0.8141\n",
            "Epoch 29/50\n",
            "23/23 [==============================] - 0s 16ms/step - loss: 0.0196 - accuracy: 0.9945 - val_loss: 0.4673 - val_accuracy: 0.7949\n",
            "Epoch 30/50\n",
            "23/23 [==============================] - 0s 16ms/step - loss: 0.0213 - accuracy: 0.9945 - val_loss: 0.4418 - val_accuracy: 0.8109\n",
            "Epoch 31/50\n",
            "23/23 [==============================] - 0s 16ms/step - loss: 0.0190 - accuracy: 0.9945 - val_loss: 0.4455 - val_accuracy: 0.8109\n",
            "Epoch 32/50\n",
            "23/23 [==============================] - 0s 16ms/step - loss: 0.0178 - accuracy: 0.9945 - val_loss: 0.4603 - val_accuracy: 0.8045\n",
            "Epoch 33/50\n",
            "23/23 [==============================] - 0s 16ms/step - loss: 0.0170 - accuracy: 0.9931 - val_loss: 0.4600 - val_accuracy: 0.8013\n",
            "Epoch 34/50\n",
            "23/23 [==============================] - 0s 16ms/step - loss: 0.0168 - accuracy: 0.9931 - val_loss: 0.4529 - val_accuracy: 0.8141\n",
            "Epoch 35/50\n",
            "23/23 [==============================] - 0s 16ms/step - loss: 0.0156 - accuracy: 0.9959 - val_loss: 0.4824 - val_accuracy: 0.7949\n",
            "Epoch 36/50\n",
            "23/23 [==============================] - 0s 15ms/step - loss: 0.0155 - accuracy: 0.9945 - val_loss: 0.4640 - val_accuracy: 0.8013\n",
            "Epoch 37/50\n",
            "23/23 [==============================] - 0s 16ms/step - loss: 0.0152 - accuracy: 0.9945 - val_loss: 0.4766 - val_accuracy: 0.8077\n",
            "Epoch 38/50\n",
            "23/23 [==============================] - 0s 20ms/step - loss: 0.0150 - accuracy: 0.9959 - val_loss: 0.4660 - val_accuracy: 0.8109\n",
            "Epoch 39/50\n",
            "23/23 [==============================] - 0s 16ms/step - loss: 0.0163 - accuracy: 0.9945 - val_loss: 0.5211 - val_accuracy: 0.7821\n",
            "Epoch 40/50\n",
            "23/23 [==============================] - 0s 16ms/step - loss: 0.0157 - accuracy: 0.9959 - val_loss: 0.4845 - val_accuracy: 0.8045\n",
            "Epoch 41/50\n",
            "23/23 [==============================] - 0s 15ms/step - loss: 0.0142 - accuracy: 0.9945 - val_loss: 0.4820 - val_accuracy: 0.8109\n",
            "Epoch 42/50\n",
            "23/23 [==============================] - 0s 16ms/step - loss: 0.0137 - accuracy: 0.9945 - val_loss: 0.4856 - val_accuracy: 0.8109\n",
            "Epoch 43/50\n",
            "23/23 [==============================] - 0s 17ms/step - loss: 0.0133 - accuracy: 0.9945 - val_loss: 0.4893 - val_accuracy: 0.8109\n",
            "Epoch 44/50\n",
            "23/23 [==============================] - 0s 16ms/step - loss: 0.0131 - accuracy: 0.9945 - val_loss: 0.4927 - val_accuracy: 0.8045\n",
            "Epoch 45/50\n",
            "23/23 [==============================] - 0s 16ms/step - loss: 0.0134 - accuracy: 0.9945 - val_loss: 0.4909 - val_accuracy: 0.8045\n",
            "Epoch 46/50\n",
            "23/23 [==============================] - 0s 16ms/step - loss: 0.0147 - accuracy: 0.9931 - val_loss: 0.5045 - val_accuracy: 0.8013\n",
            "Epoch 47/50\n",
            "23/23 [==============================] - 0s 16ms/step - loss: 0.0132 - accuracy: 0.9959 - val_loss: 0.4966 - val_accuracy: 0.8045\n",
            "Epoch 48/50\n",
            "23/23 [==============================] - 0s 17ms/step - loss: 0.0124 - accuracy: 0.9959 - val_loss: 0.5046 - val_accuracy: 0.8013\n",
            "Epoch 49/50\n",
            "23/23 [==============================] - 0s 16ms/step - loss: 0.0126 - accuracy: 0.9945 - val_loss: 0.5046 - val_accuracy: 0.8013\n",
            "Epoch 50/50\n",
            "23/23 [==============================] - 0s 16ms/step - loss: 0.0131 - accuracy: 0.9959 - val_loss: 0.5154 - val_accuracy: 0.8013\n"
          ]
        }
      ]
    },
    {
      "cell_type": "code",
      "source": [
        "loss,accuracy = RNN.evaluate(pad_test,y_test)\n",
        "print(\"loss:\",loss)\n",
        "print(\"Accuracy:\",accuracy)"
      ],
      "metadata": {
        "id": "m0bxW0JsSub0",
        "colab": {
          "base_uri": "https://localhost:8080/"
        },
        "outputId": "a408f8d9-57e9-4315-8b35-149f82bddb35"
      },
      "execution_count": 128,
      "outputs": [
        {
          "output_type": "stream",
          "name": "stdout",
          "text": [
            "10/10 [==============================] - 0s 4ms/step - loss: 0.5154 - accuracy: 0.8013\n",
            "loss: 0.5153571963310242\n",
            "Accuracy: 0.8012820482254028\n"
          ]
        }
      ]
    },
    {
      "cell_type": "code",
      "source": [
        "from matplotlib import pyplot as plt\n",
        "plt.title('RNN')\n",
        "plt.plot(r.history['loss'],label='loss')\n",
        "plt.plot(r.history['val_loss'],label='val_loss')\n",
        "plt.xlabel('Epoch')\n",
        "plt.legend()"
      ],
      "metadata": {
        "id": "2rlDraYSRghU",
        "colab": {
          "base_uri": "https://localhost:8080/",
          "height": 312
        },
        "outputId": "5124c3ca-4b7d-41e4-faa6-5e585207074b"
      },
      "execution_count": 129,
      "outputs": [
        {
          "output_type": "execute_result",
          "data": {
            "text/plain": [
              "<matplotlib.legend.Legend at 0x7f877602e2d0>"
            ]
          },
          "metadata": {},
          "execution_count": 129
        },
        {
          "output_type": "display_data",
          "data": {
            "image/png": "[encoded data removed]",
            "text/plain": [
              "<Figure size 432x288 with 1 Axes>"
            ]
          },
          "metadata": {
            "needs_background": "light"
          }
        }
      ]
    }
  ]
}