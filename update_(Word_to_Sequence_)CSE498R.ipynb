{
  "nbformat": 4,
  "nbformat_minor": 0,
  "metadata": {
    "colab": {
      "name": "update (Word to Sequence )CSE498R.ipynb",
      "provenance": [],
      "collapsed_sections": [],
      "include_colab_link": true
    },
    "kernelspec": {
      "name": "python3",
      "display_name": "Python 3"
    },
    "language_info": {
      "name": "python"
    },
    "accelerator": "GPU"
  },
  "cells": [
    {
      "cell_type": "markdown",
      "metadata": {
        "id": "view-in-github",
        "colab_type": "text"
      },
      "source": [
        "<a href=\"https://colab.research.google.com/github/MohdIstiaqHossainJunaid/Bangla-Food-Review-Sentimental-Analysis-using-Machine-Learning/blob/main/update_(Word_to_Sequence_)CSE498R.ipynb\" target=\"_parent\"><img src=\"https://colab.research.google.com/assets/colab-badge.svg\" alt=\"Open In Colab\"/></a>"
      ]
    },
    {
      "cell_type": "markdown",
      "metadata": {
        "id": "J69WX2fmwvm3"
      },
      "source": [
        "**A Sentiment Analysis Model of Food Reviews in Bengali Texts Based on Deep Learning techniques.**\n",
        "\n",
        "Supervisor- **Afn1**\n",
        "\n"
      ]
    },
    {
      "cell_type": "markdown",
      "metadata": {
        "id": "jlflorw21K8X"
      },
      "source": [
        "**Memebers:**\n",
        "\n",
        "1.   Mohd. Istiaq Hossain Junaid,1821577642\n",
        "2.   Faisal Hossain\n",
        "3.   Udayan shah Upal\n",
        "4.   Anjana tameem(Unofficial)\n",
        "\n",
        "\n",
        "\n"
      ]
    },
    {
      "cell_type": "markdown",
      "source": [
        "#**Preprocessing**\n"
      ],
      "metadata": {
        "id": "MqMoFUWzyfK7"
      }
    },
    {
      "cell_type": "markdown",
      "source": [
        "**Step 01 - Punctuation Removal**\n",
        "**Step 02 -**"
      ],
      "metadata": {
        "id": "Bu2WfOYKyp-a"
      }
    },
    {
      "cell_type": "code",
      "metadata": {
        "id": "ZmZHWveSzFEg",
        "colab": {
          "base_uri": "https://localhost:8080/",
          "height": 90
        },
        "outputId": "aff4ada8-d02d-43ca-91ca-4ac27e0c1898"
      },
      "source": [
        "import tensorflow as tf\n",
        "import pandas as pd\n",
        "import matplotlib.pyplot as plt\n",
        "import random\n",
        "\n",
        "import string \n",
        "import cufflinks as cf\n",
        "import seaborn as sns\n",
        "from plotly.offline import download_plotlyjs,init_notebook_mode,plot,iplot\n",
        "%matplotlib inline\n",
        "init_notebook_mode(connected=True)\n",
        "cf.go_offline()\n",
        "import numpy as np\n",
        "import pandas as pd\n",
        "import matplotlib.pyplot as plt\n",
        "%matplotlib inline\n",
        "import re\n",
        "import nltk\n",
        "from nltk.stem import PorterStemmer\n",
        "from nltk.sentiment.vader import SentimentIntensityAnalyzer\n",
        "from sklearn.metrics import accuracy_score,classification_report,confusion_matrix\n",
        "from sklearn.feature_extraction.text import CountVectorizer\n",
        "from sklearn.feature_extraction.text import TfidfTransformer\n",
        "from sklearn.pipeline import Pipeline\n",
        "from sklearn.model_selection import train_test_split\n",
        "from sklearn.feature_extraction.text import TfidfVectorizer\n",
        "from sklearn.svm import LinearSVC\n",
        "from sklearn import metrics\n",
        "from sklearn.naive_bayes import MultinomialNB\n",
        "from sklearn.svm import SVC\n",
        "from sklearn import tree\n",
        "import warnings\n",
        "warnings.filterwarnings(\"ignore\")\n",
        "from os import path\n",
        "from PIL import Image\n",
        "from wordcloud import WordCloud, STOPWORDS, ImageColorGenerator\n",
        "\n",
        "from numpy.random import seed\n",
        "seed(1)\n",
        "\n",
        "import tensorflow\n",
        "tensorflow.random.set_seed(1)"
      ],
      "execution_count": 1,
      "outputs": [
        {
          "output_type": "display_data",
          "data": {
            "text/html": [
              "        <script type=\"text/javascript\">\n",
              "        window.PlotlyConfig = {MathJaxConfig: 'local'};\n",
              "        if (window.MathJax) {MathJax.Hub.Config({SVG: {font: \"STIX-Web\"}});}\n",
              "        if (typeof require !== 'undefined') {\n",
              "        require.undef(\"plotly\");\n",
              "        requirejs.config({\n",
              "            paths: {\n",
              "                'plotly': ['https://cdn.plot.ly/plotly-latest.min']\n",
              "            }\n",
              "        });\n",
              "        require(['plotly'], function(Plotly) {\n",
              "            window._Plotly = Plotly;\n",
              "        });\n",
              "        }\n",
              "        </script>\n",
              "        "
            ]
          },
          "metadata": {}
        },
        {
          "output_type": "display_data",
          "data": {
            "text/html": [
              "        <script type=\"text/javascript\">\n",
              "        window.PlotlyConfig = {MathJaxConfig: 'local'};\n",
              "        if (window.MathJax) {MathJax.Hub.Config({SVG: {font: \"STIX-Web\"}});}\n",
              "        if (typeof require !== 'undefined') {\n",
              "        require.undef(\"plotly\");\n",
              "        requirejs.config({\n",
              "            paths: {\n",
              "                'plotly': ['https://cdn.plot.ly/plotly-latest.min']\n",
              "            }\n",
              "        });\n",
              "        require(['plotly'], function(Plotly) {\n",
              "            window._Plotly = Plotly;\n",
              "        });\n",
              "        }\n",
              "        </script>\n",
              "        "
            ]
          },
          "metadata": {}
        },
        {
          "output_type": "stream",
          "name": "stderr",
          "text": [
            "/usr/local/lib/python3.7/dist-packages/nltk/twitter/__init__.py:20: UserWarning:\n",
            "\n",
            "The twython library has not been installed. Some functionality from the twitter package will not be available.\n",
            "\n"
          ]
        }
      ]
    },
    {
      "cell_type": "code",
      "metadata": {
        "id": "4Rcs0u9g520C",
        "colab": {
          "base_uri": "https://localhost:8080/",
          "height": 206
        },
        "outputId": "762156e1-aee9-4d23-c8ec-64c0fe484b38"
      },
      "source": [
        "import pandas as pd\n",
        "import io\n",
        "df = pd.read_csv(\"https://raw.githubusercontent.com/Faisal-NSU/cse498R/main/Food%20Reviews.csv\")\n",
        "df.head()"
      ],
      "execution_count": 2,
      "outputs": [
        {
          "output_type": "execute_result",
          "data": {
            "text/html": [
              "\n",
              "  <div id=\"df-71868ed6-2c49-4d21-aeaa-762f3f1770bf\">\n",
              "    <div class=\"colab-df-container\">\n",
              "      <div>\n",
              "<style scoped>\n",
              "    .dataframe tbody tr th:only-of-type {\n",
              "        vertical-align: middle;\n",
              "    }\n",
              "\n",
              "    .dataframe tbody tr th {\n",
              "        vertical-align: top;\n",
              "    }\n",
              "\n",
              "    .dataframe thead th {\n",
              "        text-align: right;\n",
              "    }\n",
              "</style>\n",
              "<table border=\"1\" class=\"dataframe\">\n",
              "  <thead>\n",
              "    <tr style=\"text-align: right;\">\n",
              "      <th></th>\n",
              "      <th>Speech</th>\n",
              "      <th>Label</th>\n",
              "    </tr>\n",
              "  </thead>\n",
              "  <tbody>\n",
              "    <tr>\n",
              "      <th>0</th>\n",
              "      <td>ব্যাস্ততম  জীবনের  একটু মনরম পরিবেশে  সময় কাটা...</td>\n",
              "      <td>1</td>\n",
              "    </tr>\n",
              "    <tr>\n",
              "      <th>1</th>\n",
              "      <td>অসাধারণ পরিবেশ! খুব সুন্দর মার্জিত এবং আন্তরিক...</td>\n",
              "      <td>1</td>\n",
              "    </tr>\n",
              "    <tr>\n",
              "      <th>2</th>\n",
              "      <td>খাবারের মান যথেষ্ট খারাপ। দামের তুলনায় পরিমান ...</td>\n",
              "      <td>0</td>\n",
              "    </tr>\n",
              "    <tr>\n",
              "      <th>3</th>\n",
              "      <td>ভালো বহুত খেয়েছি আমার বাসা থেকে একটু দূরে</td>\n",
              "      <td>1</td>\n",
              "    </tr>\n",
              "    <tr>\n",
              "      <th>4</th>\n",
              "      <td>আমি খাইসি খুবই মজার</td>\n",
              "      <td>1</td>\n",
              "    </tr>\n",
              "  </tbody>\n",
              "</table>\n",
              "</div>\n",
              "      <button class=\"colab-df-convert\" onclick=\"convertToInteractive('df-71868ed6-2c49-4d21-aeaa-762f3f1770bf')\"\n",
              "              title=\"Convert this dataframe to an interactive table.\"\n",
              "              style=\"display:none;\">\n",
              "        \n",
              "  <svg xmlns=\"http://www.w3.org/2000/svg\" height=\"24px\"viewBox=\"0 0 24 24\"\n",
              "       width=\"24px\">\n",
              "    <path d=\"M0 0h24v24H0V0z\" fill=\"none\"/>\n",
              "    <path d=\"M18.56 5.44l.94 2.06.94-2.06 2.06-.94-2.06-.94-.94-2.06-.94 2.06-2.06.94zm-11 1L8.5 8.5l.94-2.06 2.06-.94-2.06-.94L8.5 2.5l-.94 2.06-2.06.94zm10 10l.94 2.06.94-2.06 2.06-.94-2.06-.94-.94-2.06-.94 2.06-2.06.94z\"/><path d=\"M17.41 7.96l-1.37-1.37c-.4-.4-.92-.59-1.43-.59-.52 0-1.04.2-1.43.59L10.3 9.45l-7.72 7.72c-.78.78-.78 2.05 0 2.83L4 21.41c.39.39.9.59 1.41.59.51 0 1.02-.2 1.41-.59l7.78-7.78 2.81-2.81c.8-.78.8-2.07 0-2.86zM5.41 20L4 18.59l7.72-7.72 1.47 1.35L5.41 20z\"/>\n",
              "  </svg>\n",
              "      </button>\n",
              "      \n",
              "  <style>\n",
              "    .colab-df-container {\n",
              "      display:flex;\n",
              "      flex-wrap:wrap;\n",
              "      gap: 12px;\n",
              "    }\n",
              "\n",
              "    .colab-df-convert {\n",
              "      background-color: #E8F0FE;\n",
              "      border: none;\n",
              "      border-radius: 50%;\n",
              "      cursor: pointer;\n",
              "      display: none;\n",
              "      fill: #1967D2;\n",
              "      height: 32px;\n",
              "      padding: 0 0 0 0;\n",
              "      width: 32px;\n",
              "    }\n",
              "\n",
              "    .colab-df-convert:hover {\n",
              "      background-color: #E2EBFA;\n",
              "      box-shadow: 0px 1px 2px rgba(60, 64, 67, 0.3), 0px 1px 3px 1px rgba(60, 64, 67, 0.15);\n",
              "      fill: #174EA6;\n",
              "    }\n",
              "\n",
              "    [theme=dark] .colab-df-convert {\n",
              "      background-color: #3B4455;\n",
              "      fill: #D2E3FC;\n",
              "    }\n",
              "\n",
              "    [theme=dark] .colab-df-convert:hover {\n",
              "      background-color: #434B5C;\n",
              "      box-shadow: 0px 1px 3px 1px rgba(0, 0, 0, 0.15);\n",
              "      filter: drop-shadow(0px 1px 2px rgba(0, 0, 0, 0.3));\n",
              "      fill: #FFFFFF;\n",
              "    }\n",
              "  </style>\n",
              "\n",
              "      <script>\n",
              "        const buttonEl =\n",
              "          document.querySelector('#df-71868ed6-2c49-4d21-aeaa-762f3f1770bf button.colab-df-convert');\n",
              "        buttonEl.style.display =\n",
              "          google.colab.kernel.accessAllowed ? 'block' : 'none';\n",
              "\n",
              "        async function convertToInteractive(key) {\n",
              "          const element = document.querySelector('#df-71868ed6-2c49-4d21-aeaa-762f3f1770bf');\n",
              "          const dataTable =\n",
              "            await google.colab.kernel.invokeFunction('convertToInteractive',\n",
              "                                                     [key], {});\n",
              "          if (!dataTable) return;\n",
              "\n",
              "          const docLinkHtml = 'Like what you see? Visit the ' +\n",
              "            '<a target=\"_blank\" href=https://colab.research.google.com/notebooks/data_table.ipynb>data table notebook</a>'\n",
              "            + ' to learn more about interactive tables.';\n",
              "          element.innerHTML = '';\n",
              "          dataTable['output_type'] = 'display_data';\n",
              "          await google.colab.output.renderOutput(dataTable, element);\n",
              "          const docLink = document.createElement('div');\n",
              "          docLink.innerHTML = docLinkHtml;\n",
              "          element.appendChild(docLink);\n",
              "        }\n",
              "      </script>\n",
              "    </div>\n",
              "  </div>\n",
              "  "
            ],
            "text/plain": [
              "                                              Speech  Label\n",
              "0  ব্যাস্ততম  জীবনের  একটু মনরম পরিবেশে  সময় কাটা...      1\n",
              "1  অসাধারণ পরিবেশ! খুব সুন্দর মার্জিত এবং আন্তরিক...      1\n",
              "2  খাবারের মান যথেষ্ট খারাপ। দামের তুলনায় পরিমান ...      0\n",
              "3          ভালো বহুত খেয়েছি আমার বাসা থেকে একটু দূরে      1\n",
              "4                                আমি খাইসি খুবই মজার      1"
            ]
          },
          "metadata": {},
          "execution_count": 2
        }
      ]
    },
    {
      "cell_type": "code",
      "metadata": {
        "id": "cwRxlSzfX2wk",
        "colab": {
          "base_uri": "https://localhost:8080/"
        },
        "outputId": "89da683e-4481-4a77-bcab-f74cded21844"
      },
      "source": [
        "df['Label'].value_counts()"
      ],
      "execution_count": 3,
      "outputs": [
        {
          "output_type": "execute_result",
          "data": {
            "text/plain": [
              "1    520\n",
              "0    520\n",
              "Name: Label, dtype: int64"
            ]
          },
          "metadata": {},
          "execution_count": 3
        }
      ]
    },
    {
      "cell_type": "code",
      "metadata": {
        "id": "OuF3qTr8Y8Fz",
        "colab": {
          "base_uri": "https://localhost:8080/"
        },
        "outputId": "d86edf40-6233-46e5-edc7-e0685bba58bb"
      },
      "source": [
        "df.duplicated().sum()"
      ],
      "execution_count": 4,
      "outputs": [
        {
          "output_type": "execute_result",
          "data": {
            "text/plain": [
              "0"
            ]
          },
          "metadata": {},
          "execution_count": 4
        }
      ]
    },
    {
      "cell_type": "markdown",
      "metadata": {
        "id": "cicXS5nBzPES"
      },
      "source": [
        "# Data Pre-Processing"
      ]
    },
    {
      "cell_type": "markdown",
      "metadata": {
        "id": "Coe9Po-gzVbT"
      },
      "source": [
        "\n",
        "\n",
        "*   Punctuation Removal\n",
        "*   Tokenization\n",
        "*   Stopword Removal\n",
        "*   Stemming\n",
        "*   Join\n",
        "\n",
        "\n"
      ]
    },
    {
      "cell_type": "code",
      "metadata": {
        "id": "OLQlSxeJzM_q",
        "colab": {
          "base_uri": "https://localhost:8080/",
          "height": 36
        },
        "outputId": "86e0dfbf-bdf5-44fe-cd1e-d77461822a17"
      },
      "source": [
        "string.punctuation"
      ],
      "execution_count": 5,
      "outputs": [
        {
          "output_type": "execute_result",
          "data": {
            "application/vnd.google.colaboratory.intrinsic+json": {
              "type": "string"
            },
            "text/plain": [
              "'!\"#$%&\\'()*+,-./:;<=>?@[\\\\]^_`{|}~'"
            ]
          },
          "metadata": {},
          "execution_count": 5
        }
      ]
    },
    {
      "cell_type": "code",
      "metadata": {
        "id": "X7KJzE3G0P0p"
      },
      "source": [
        "def remove_punctuation(txt):\n",
        "    punctuation_list = str(string.punctuation) + \"।\"\n",
        "    txt_nopunct = \"\".join([c for c in txt if c not in punctuation_list])\n",
        "    return txt_nopunct"
      ],
      "execution_count": 6,
      "outputs": []
    },
    {
      "cell_type": "code",
      "source": [
        "def remove_garbage(a):\n",
        "  a= \"\".join(i for i in a if i in [\"।\"] or 2432 <= ord(i) <= 2559 or ord(i)== 32)\n",
        "  removed=\" \".join(a.split())\n",
        "  return removed"
      ],
      "metadata": {
        "id": "dwKCmr-39JpI"
      },
      "execution_count": 7,
      "outputs": []
    },
    {
      "cell_type": "code",
      "metadata": {
        "id": "iT3kGomq0S2C",
        "colab": {
          "base_uri": "https://localhost:8080/",
          "height": 206
        },
        "outputId": "1978a862-3323-47c1-f18b-e0c231d37516"
      },
      "source": [
        "df['Removed Puncutation'] = df['Speech'].apply(lambda x:remove_punctuation(x))\n",
        "df.head()"
      ],
      "execution_count": 8,
      "outputs": [
        {
          "output_type": "execute_result",
          "data": {
            "text/html": [
              "\n",
              "  <div id=\"df-cc35a9d3-1911-4af9-be9f-87cbc018c4bb\">\n",
              "    <div class=\"colab-df-container\">\n",
              "      <div>\n",
              "<style scoped>\n",
              "    .dataframe tbody tr th:only-of-type {\n",
              "        vertical-align: middle;\n",
              "    }\n",
              "\n",
              "    .dataframe tbody tr th {\n",
              "        vertical-align: top;\n",
              "    }\n",
              "\n",
              "    .dataframe thead th {\n",
              "        text-align: right;\n",
              "    }\n",
              "</style>\n",
              "<table border=\"1\" class=\"dataframe\">\n",
              "  <thead>\n",
              "    <tr style=\"text-align: right;\">\n",
              "      <th></th>\n",
              "      <th>Speech</th>\n",
              "      <th>Label</th>\n",
              "      <th>Removed Puncutation</th>\n",
              "    </tr>\n",
              "  </thead>\n",
              "  <tbody>\n",
              "    <tr>\n",
              "      <th>0</th>\n",
              "      <td>ব্যাস্ততম  জীবনের  একটু মনরম পরিবেশে  সময় কাটা...</td>\n",
              "      <td>1</td>\n",
              "      <td>ব্যাস্ততম  জীবনের  একটু মনরম পরিবেশে  সময় কাটা...</td>\n",
              "    </tr>\n",
              "    <tr>\n",
              "      <th>1</th>\n",
              "      <td>অসাধারণ পরিবেশ! খুব সুন্দর মার্জিত এবং আন্তরিক...</td>\n",
              "      <td>1</td>\n",
              "      <td>অসাধারণ পরিবেশ খুব সুন্দর মার্জিত এবং আন্তরিক ...</td>\n",
              "    </tr>\n",
              "    <tr>\n",
              "      <th>2</th>\n",
              "      <td>খাবারের মান যথেষ্ট খারাপ। দামের তুলনায় পরিমান ...</td>\n",
              "      <td>0</td>\n",
              "      <td>খাবারের মান যথেষ্ট খারাপ দামের তুলনায় পরিমান অ...</td>\n",
              "    </tr>\n",
              "    <tr>\n",
              "      <th>3</th>\n",
              "      <td>ভালো বহুত খেয়েছি আমার বাসা থেকে একটু দূরে</td>\n",
              "      <td>1</td>\n",
              "      <td>ভালো বহুত খেয়েছি আমার বাসা থেকে একটু দূরে</td>\n",
              "    </tr>\n",
              "    <tr>\n",
              "      <th>4</th>\n",
              "      <td>আমি খাইসি খুবই মজার</td>\n",
              "      <td>1</td>\n",
              "      <td>আমি খাইসি খুবই মজার</td>\n",
              "    </tr>\n",
              "  </tbody>\n",
              "</table>\n",
              "</div>\n",
              "      <button class=\"colab-df-convert\" onclick=\"convertToInteractive('df-cc35a9d3-1911-4af9-be9f-87cbc018c4bb')\"\n",
              "              title=\"Convert this dataframe to an interactive table.\"\n",
              "              style=\"display:none;\">\n",
              "        \n",
              "  <svg xmlns=\"http://www.w3.org/2000/svg\" height=\"24px\"viewBox=\"0 0 24 24\"\n",
              "       width=\"24px\">\n",
              "    <path d=\"M0 0h24v24H0V0z\" fill=\"none\"/>\n",
              "    <path d=\"M18.56 5.44l.94 2.06.94-2.06 2.06-.94-2.06-.94-.94-2.06-.94 2.06-2.06.94zm-11 1L8.5 8.5l.94-2.06 2.06-.94-2.06-.94L8.5 2.5l-.94 2.06-2.06.94zm10 10l.94 2.06.94-2.06 2.06-.94-2.06-.94-.94-2.06-.94 2.06-2.06.94z\"/><path d=\"M17.41 7.96l-1.37-1.37c-.4-.4-.92-.59-1.43-.59-.52 0-1.04.2-1.43.59L10.3 9.45l-7.72 7.72c-.78.78-.78 2.05 0 2.83L4 21.41c.39.39.9.59 1.41.59.51 0 1.02-.2 1.41-.59l7.78-7.78 2.81-2.81c.8-.78.8-2.07 0-2.86zM5.41 20L4 18.59l7.72-7.72 1.47 1.35L5.41 20z\"/>\n",
              "  </svg>\n",
              "      </button>\n",
              "      \n",
              "  <style>\n",
              "    .colab-df-container {\n",
              "      display:flex;\n",
              "      flex-wrap:wrap;\n",
              "      gap: 12px;\n",
              "    }\n",
              "\n",
              "    .colab-df-convert {\n",
              "      background-color: #E8F0FE;\n",
              "      border: none;\n",
              "      border-radius: 50%;\n",
              "      cursor: pointer;\n",
              "      display: none;\n",
              "      fill: #1967D2;\n",
              "      height: 32px;\n",
              "      padding: 0 0 0 0;\n",
              "      width: 32px;\n",
              "    }\n",
              "\n",
              "    .colab-df-convert:hover {\n",
              "      background-color: #E2EBFA;\n",
              "      box-shadow: 0px 1px 2px rgba(60, 64, 67, 0.3), 0px 1px 3px 1px rgba(60, 64, 67, 0.15);\n",
              "      fill: #174EA6;\n",
              "    }\n",
              "\n",
              "    [theme=dark] .colab-df-convert {\n",
              "      background-color: #3B4455;\n",
              "      fill: #D2E3FC;\n",
              "    }\n",
              "\n",
              "    [theme=dark] .colab-df-convert:hover {\n",
              "      background-color: #434B5C;\n",
              "      box-shadow: 0px 1px 3px 1px rgba(0, 0, 0, 0.15);\n",
              "      filter: drop-shadow(0px 1px 2px rgba(0, 0, 0, 0.3));\n",
              "      fill: #FFFFFF;\n",
              "    }\n",
              "  </style>\n",
              "\n",
              "      <script>\n",
              "        const buttonEl =\n",
              "          document.querySelector('#df-cc35a9d3-1911-4af9-be9f-87cbc018c4bb button.colab-df-convert');\n",
              "        buttonEl.style.display =\n",
              "          google.colab.kernel.accessAllowed ? 'block' : 'none';\n",
              "\n",
              "        async function convertToInteractive(key) {\n",
              "          const element = document.querySelector('#df-cc35a9d3-1911-4af9-be9f-87cbc018c4bb');\n",
              "          const dataTable =\n",
              "            await google.colab.kernel.invokeFunction('convertToInteractive',\n",
              "                                                     [key], {});\n",
              "          if (!dataTable) return;\n",
              "\n",
              "          const docLinkHtml = 'Like what you see? Visit the ' +\n",
              "            '<a target=\"_blank\" href=https://colab.research.google.com/notebooks/data_table.ipynb>data table notebook</a>'\n",
              "            + ' to learn more about interactive tables.';\n",
              "          element.innerHTML = '';\n",
              "          dataTable['output_type'] = 'display_data';\n",
              "          await google.colab.output.renderOutput(dataTable, element);\n",
              "          const docLink = document.createElement('div');\n",
              "          docLink.innerHTML = docLinkHtml;\n",
              "          element.appendChild(docLink);\n",
              "        }\n",
              "      </script>\n",
              "    </div>\n",
              "  </div>\n",
              "  "
            ],
            "text/plain": [
              "                                              Speech  ...                                Removed Puncutation\n",
              "0  ব্যাস্ততম  জীবনের  একটু মনরম পরিবেশে  সময় কাটা...  ...  ব্যাস্ততম  জীবনের  একটু মনরম পরিবেশে  সময় কাটা...\n",
              "1  অসাধারণ পরিবেশ! খুব সুন্দর মার্জিত এবং আন্তরিক...  ...  অসাধারণ পরিবেশ খুব সুন্দর মার্জিত এবং আন্তরিক ...\n",
              "2  খাবারের মান যথেষ্ট খারাপ। দামের তুলনায় পরিমান ...  ...  খাবারের মান যথেষ্ট খারাপ দামের তুলনায় পরিমান অ...\n",
              "3          ভালো বহুত খেয়েছি আমার বাসা থেকে একটু দূরে  ...          ভালো বহুত খেয়েছি আমার বাসা থেকে একটু দূরে\n",
              "4                                আমি খাইসি খুবই মজার  ...                                আমি খাইসি খুবই মজার\n",
              "\n",
              "[5 rows x 3 columns]"
            ]
          },
          "metadata": {},
          "execution_count": 8
        }
      ]
    },
    {
      "cell_type": "code",
      "source": [
        ""
      ],
      "metadata": {
        "id": "X6IMNi0fzaTt"
      },
      "execution_count": 8,
      "outputs": []
    },
    {
      "cell_type": "code",
      "source": [
        "df['remove Eng'] = df['Removed Puncutation'].apply(lambda x:remove_garbage(x))\n",
        "df"
      ],
      "metadata": {
        "id": "B0VTKn3y9O-v",
        "colab": {
          "base_uri": "https://localhost:8080/",
          "height": 423
        },
        "outputId": "11b0fc9b-f5ee-45fa-e1ea-008d8f7e28e7"
      },
      "execution_count": 9,
      "outputs": [
        {
          "output_type": "execute_result",
          "data": {
            "text/html": [
              "\n",
              "  <div id=\"df-9f9f6e84-bd54-4c8a-bbe0-c607183836bb\">\n",
              "    <div class=\"colab-df-container\">\n",
              "      <div>\n",
              "<style scoped>\n",
              "    .dataframe tbody tr th:only-of-type {\n",
              "        vertical-align: middle;\n",
              "    }\n",
              "\n",
              "    .dataframe tbody tr th {\n",
              "        vertical-align: top;\n",
              "    }\n",
              "\n",
              "    .dataframe thead th {\n",
              "        text-align: right;\n",
              "    }\n",
              "</style>\n",
              "<table border=\"1\" class=\"dataframe\">\n",
              "  <thead>\n",
              "    <tr style=\"text-align: right;\">\n",
              "      <th></th>\n",
              "      <th>Speech</th>\n",
              "      <th>Label</th>\n",
              "      <th>Removed Puncutation</th>\n",
              "      <th>remove Eng</th>\n",
              "    </tr>\n",
              "  </thead>\n",
              "  <tbody>\n",
              "    <tr>\n",
              "      <th>0</th>\n",
              "      <td>ব্যাস্ততম  জীবনের  একটু মনরম পরিবেশে  সময় কাটা...</td>\n",
              "      <td>1</td>\n",
              "      <td>ব্যাস্ততম  জীবনের  একটু মনরম পরিবেশে  সময় কাটা...</td>\n",
              "      <td>ব্যাস্ততম জীবনের একটু মনরম পরিবেশে সময় কাটানোর...</td>\n",
              "    </tr>\n",
              "    <tr>\n",
              "      <th>1</th>\n",
              "      <td>অসাধারণ পরিবেশ! খুব সুন্দর মার্জিত এবং আন্তরিক...</td>\n",
              "      <td>1</td>\n",
              "      <td>অসাধারণ পরিবেশ খুব সুন্দর মার্জিত এবং আন্তরিক ...</td>\n",
              "      <td>অসাধারণ পরিবেশ খুব সুন্দর মার্জিত এবং আন্তরিক ...</td>\n",
              "    </tr>\n",
              "    <tr>\n",
              "      <th>2</th>\n",
              "      <td>খাবারের মান যথেষ্ট খারাপ। দামের তুলনায় পরিমান ...</td>\n",
              "      <td>0</td>\n",
              "      <td>খাবারের মান যথেষ্ট খারাপ দামের তুলনায় পরিমান অ...</td>\n",
              "      <td>খাবারের মান যথেষ্ট খারাপ দামের তুলনায় পরিমান অ...</td>\n",
              "    </tr>\n",
              "    <tr>\n",
              "      <th>3</th>\n",
              "      <td>ভালো বহুত খেয়েছি আমার বাসা থেকে একটু দূরে</td>\n",
              "      <td>1</td>\n",
              "      <td>ভালো বহুত খেয়েছি আমার বাসা থেকে একটু দূরে</td>\n",
              "      <td>ভালো বহুত খেয়েছি আমার বাসা থেকে একটু দূরে</td>\n",
              "    </tr>\n",
              "    <tr>\n",
              "      <th>4</th>\n",
              "      <td>আমি খাইসি খুবই মজার</td>\n",
              "      <td>1</td>\n",
              "      <td>আমি খাইসি খুবই মজার</td>\n",
              "      <td>আমি খাইসি খুবই মজার</td>\n",
              "    </tr>\n",
              "    <tr>\n",
              "      <th>...</th>\n",
              "      <td>...</td>\n",
              "      <td>...</td>\n",
              "      <td>...</td>\n",
              "      <td>...</td>\n",
              "    </tr>\n",
              "    <tr>\n",
              "      <th>1035</th>\n",
              "      <td>দেখেই খেয়ে ফেলতে ইচ্ছা হচ্ছে 😋😋</td>\n",
              "      <td>1</td>\n",
              "      <td>দেখেই খেয়ে ফেলতে ইচ্ছা হচ্ছে 😋😋</td>\n",
              "      <td>দেখেই খেয়ে ফেলতে ইচ্ছা হচ্ছে</td>\n",
              "    </tr>\n",
              "    <tr>\n",
              "      <th>1036</th>\n",
              "      <td>সবসময়ই অসাধারণ রান্না ভাই।😍😍🥰</td>\n",
              "      <td>1</td>\n",
              "      <td>সবসময়ই অসাধারণ রান্না ভাই😍😍🥰</td>\n",
              "      <td>সবসময়ই অসাধারণ রান্না ভাই</td>\n",
              "    </tr>\n",
              "    <tr>\n",
              "      <th>1037</th>\n",
              "      <td>চিকেন  বিরিয়ানিটা অনেক   মজা  হবে  দেখে মনে হচ...</td>\n",
              "      <td>1</td>\n",
              "      <td>চিকেন  বিরিয়ানিটা অনেক   মজা  হবে  দেখে মনে হচ...</td>\n",
              "      <td>চিকেন বিরিয়ানিটা অনেক মজা হবে দেখে মনে হচ্ছে এ...</td>\n",
              "    </tr>\n",
              "    <tr>\n",
              "      <th>1038</th>\n",
              "      <td>অসম্ভব সুন্দর বিরানি রেসিপি 👌👌</td>\n",
              "      <td>1</td>\n",
              "      <td>অসম্ভব সুন্দর বিরানি রেসিপি 👌👌</td>\n",
              "      <td>অসম্ভব সুন্দর বিরানি রেসিপি</td>\n",
              "    </tr>\n",
              "    <tr>\n",
              "      <th>1039</th>\n",
              "      <td>দুধ চা,রং চা,কফি দারুণ হয়েছে</td>\n",
              "      <td>1</td>\n",
              "      <td>দুধ চারং চাকফি দারুণ হয়েছে</td>\n",
              "      <td>দুধ চারং চাকফি দারুণ হয়েছে</td>\n",
              "    </tr>\n",
              "  </tbody>\n",
              "</table>\n",
              "<p>1040 rows × 4 columns</p>\n",
              "</div>\n",
              "      <button class=\"colab-df-convert\" onclick=\"convertToInteractive('df-9f9f6e84-bd54-4c8a-bbe0-c607183836bb')\"\n",
              "              title=\"Convert this dataframe to an interactive table.\"\n",
              "              style=\"display:none;\">\n",
              "        \n",
              "  <svg xmlns=\"http://www.w3.org/2000/svg\" height=\"24px\"viewBox=\"0 0 24 24\"\n",
              "       width=\"24px\">\n",
              "    <path d=\"M0 0h24v24H0V0z\" fill=\"none\"/>\n",
              "    <path d=\"M18.56 5.44l.94 2.06.94-2.06 2.06-.94-2.06-.94-.94-2.06-.94 2.06-2.06.94zm-11 1L8.5 8.5l.94-2.06 2.06-.94-2.06-.94L8.5 2.5l-.94 2.06-2.06.94zm10 10l.94 2.06.94-2.06 2.06-.94-2.06-.94-.94-2.06-.94 2.06-2.06.94z\"/><path d=\"M17.41 7.96l-1.37-1.37c-.4-.4-.92-.59-1.43-.59-.52 0-1.04.2-1.43.59L10.3 9.45l-7.72 7.72c-.78.78-.78 2.05 0 2.83L4 21.41c.39.39.9.59 1.41.59.51 0 1.02-.2 1.41-.59l7.78-7.78 2.81-2.81c.8-.78.8-2.07 0-2.86zM5.41 20L4 18.59l7.72-7.72 1.47 1.35L5.41 20z\"/>\n",
              "  </svg>\n",
              "      </button>\n",
              "      \n",
              "  <style>\n",
              "    .colab-df-container {\n",
              "      display:flex;\n",
              "      flex-wrap:wrap;\n",
              "      gap: 12px;\n",
              "    }\n",
              "\n",
              "    .colab-df-convert {\n",
              "      background-color: #E8F0FE;\n",
              "      border: none;\n",
              "      border-radius: 50%;\n",
              "      cursor: pointer;\n",
              "      display: none;\n",
              "      fill: #1967D2;\n",
              "      height: 32px;\n",
              "      padding: 0 0 0 0;\n",
              "      width: 32px;\n",
              "    }\n",
              "\n",
              "    .colab-df-convert:hover {\n",
              "      background-color: #E2EBFA;\n",
              "      box-shadow: 0px 1px 2px rgba(60, 64, 67, 0.3), 0px 1px 3px 1px rgba(60, 64, 67, 0.15);\n",
              "      fill: #174EA6;\n",
              "    }\n",
              "\n",
              "    [theme=dark] .colab-df-convert {\n",
              "      background-color: #3B4455;\n",
              "      fill: #D2E3FC;\n",
              "    }\n",
              "\n",
              "    [theme=dark] .colab-df-convert:hover {\n",
              "      background-color: #434B5C;\n",
              "      box-shadow: 0px 1px 3px 1px rgba(0, 0, 0, 0.15);\n",
              "      filter: drop-shadow(0px 1px 2px rgba(0, 0, 0, 0.3));\n",
              "      fill: #FFFFFF;\n",
              "    }\n",
              "  </style>\n",
              "\n",
              "      <script>\n",
              "        const buttonEl =\n",
              "          document.querySelector('#df-9f9f6e84-bd54-4c8a-bbe0-c607183836bb button.colab-df-convert');\n",
              "        buttonEl.style.display =\n",
              "          google.colab.kernel.accessAllowed ? 'block' : 'none';\n",
              "\n",
              "        async function convertToInteractive(key) {\n",
              "          const element = document.querySelector('#df-9f9f6e84-bd54-4c8a-bbe0-c607183836bb');\n",
              "          const dataTable =\n",
              "            await google.colab.kernel.invokeFunction('convertToInteractive',\n",
              "                                                     [key], {});\n",
              "          if (!dataTable) return;\n",
              "\n",
              "          const docLinkHtml = 'Like what you see? Visit the ' +\n",
              "            '<a target=\"_blank\" href=https://colab.research.google.com/notebooks/data_table.ipynb>data table notebook</a>'\n",
              "            + ' to learn more about interactive tables.';\n",
              "          element.innerHTML = '';\n",
              "          dataTable['output_type'] = 'display_data';\n",
              "          await google.colab.output.renderOutput(dataTable, element);\n",
              "          const docLink = document.createElement('div');\n",
              "          docLink.innerHTML = docLinkHtml;\n",
              "          element.appendChild(docLink);\n",
              "        }\n",
              "      </script>\n",
              "    </div>\n",
              "  </div>\n",
              "  "
            ],
            "text/plain": [
              "                                                 Speech  ...                                         remove Eng\n",
              "0     ব্যাস্ততম  জীবনের  একটু মনরম পরিবেশে  সময় কাটা...  ...  ব্যাস্ততম জীবনের একটু মনরম পরিবেশে সময় কাটানোর...\n",
              "1     অসাধারণ পরিবেশ! খুব সুন্দর মার্জিত এবং আন্তরিক...  ...  অসাধারণ পরিবেশ খুব সুন্দর মার্জিত এবং আন্তরিক ...\n",
              "2     খাবারের মান যথেষ্ট খারাপ। দামের তুলনায় পরিমান ...  ...  খাবারের মান যথেষ্ট খারাপ দামের তুলনায় পরিমান অ...\n",
              "3             ভালো বহুত খেয়েছি আমার বাসা থেকে একটু দূরে  ...          ভালো বহুত খেয়েছি আমার বাসা থেকে একটু দূরে\n",
              "4                                   আমি খাইসি খুবই মজার  ...                                আমি খাইসি খুবই মজার\n",
              "...                                                 ...  ...                                                ...\n",
              "1035                    দেখেই খেয়ে ফেলতে ইচ্ছা হচ্ছে 😋😋  ...                       দেখেই খেয়ে ফেলতে ইচ্ছা হচ্ছে\n",
              "1036                      সবসময়ই অসাধারণ রান্না ভাই।😍😍🥰  ...                          সবসময়ই অসাধারণ রান্না ভাই\n",
              "1037  চিকেন  বিরিয়ানিটা অনেক   মজা  হবে  দেখে মনে হচ...  ...  চিকেন বিরিয়ানিটা অনেক মজা হবে দেখে মনে হচ্ছে এ...\n",
              "1038                     অসম্ভব সুন্দর বিরানি রেসিপি 👌👌  ...                        অসম্ভব সুন্দর বিরানি রেসিপি\n",
              "1039                       দুধ চা,রং চা,কফি দারুণ হয়েছে  ...                         দুধ চারং চাকফি দারুণ হয়েছে\n",
              "\n",
              "[1040 rows x 4 columns]"
            ]
          },
          "metadata": {},
          "execution_count": 9
        }
      ]
    },
    {
      "cell_type": "markdown",
      "metadata": {
        "id": "GQhbyDfbsdxd"
      },
      "source": [
        "**2.Bangla Tokenization and Bangla Stopword Removing**\n",
        "\n",
        "\n"
      ]
    },
    {
      "cell_type": "code",
      "metadata": {
        "id": "GxHzWpXK2cMY",
        "colab": {
          "base_uri": "https://localhost:8080/"
        },
        "outputId": "5bb558f0-fedc-4eca-cd67-f6ee6815e40a"
      },
      "source": [
        "pip install bnlp_toolkit"
      ],
      "execution_count": 10,
      "outputs": [
        {
          "output_type": "stream",
          "name": "stdout",
          "text": [
            "Collecting bnlp_toolkit\n",
            "  Downloading bnlp_toolkit-3.1.2-py3-none-any.whl (17 kB)\n",
            "Requirement already satisfied: nltk in /usr/local/lib/python3.7/dist-packages (from bnlp_toolkit) (3.2.5)\n",
            "Requirement already satisfied: wasabi in /usr/local/lib/python3.7/dist-packages (from bnlp_toolkit) (0.8.2)\n",
            "Requirement already satisfied: scipy in /usr/local/lib/python3.7/dist-packages (from bnlp_toolkit) (1.4.1)\n",
            "Collecting gensim==4.0.1\n",
            "  Downloading gensim-4.0.1-cp37-cp37m-manylinux1_x86_64.whl (23.9 MB)\n",
            "\u001b[K     |████████████████████████████████| 23.9 MB 1.3 MB/s \n",
            "\u001b[?25hCollecting sklearn-crfsuite\n",
            "  Downloading sklearn_crfsuite-0.3.6-py2.py3-none-any.whl (12 kB)\n",
            "Requirement already satisfied: numpy in /usr/local/lib/python3.7/dist-packages (from bnlp_toolkit) (1.19.5)\n",
            "Collecting sentencepiece\n",
            "  Downloading sentencepiece-0.1.96-cp37-cp37m-manylinux_2_17_x86_64.manylinux2014_x86_64.whl (1.2 MB)\n",
            "\u001b[K     |████████████████████████████████| 1.2 MB 46.2 MB/s \n",
            "\u001b[?25hRequirement already satisfied: smart-open>=1.8.1 in /usr/local/lib/python3.7/dist-packages (from gensim==4.0.1->bnlp_toolkit) (5.2.1)\n",
            "Requirement already satisfied: six in /usr/local/lib/python3.7/dist-packages (from nltk->bnlp_toolkit) (1.15.0)\n",
            "Collecting python-crfsuite>=0.8.3\n",
            "  Downloading python_crfsuite-0.9.7-cp37-cp37m-manylinux1_x86_64.whl (743 kB)\n",
            "\u001b[K     |████████████████████████████████| 743 kB 38.1 MB/s \n",
            "\u001b[?25hRequirement already satisfied: tqdm>=2.0 in /usr/local/lib/python3.7/dist-packages (from sklearn-crfsuite->bnlp_toolkit) (4.62.3)\n",
            "Requirement already satisfied: tabulate in /usr/local/lib/python3.7/dist-packages (from sklearn-crfsuite->bnlp_toolkit) (0.8.9)\n",
            "Installing collected packages: python-crfsuite, sklearn-crfsuite, sentencepiece, gensim, bnlp-toolkit\n",
            "  Attempting uninstall: gensim\n",
            "    Found existing installation: gensim 3.6.0\n",
            "    Uninstalling gensim-3.6.0:\n",
            "      Successfully uninstalled gensim-3.6.0\n",
            "Successfully installed bnlp-toolkit-3.1.2 gensim-4.0.1 python-crfsuite-0.9.7 sentencepiece-0.1.96 sklearn-crfsuite-0.3.6\n"
          ]
        }
      ]
    },
    {
      "cell_type": "code",
      "metadata": {
        "id": "YXSZFasslWHm",
        "colab": {
          "base_uri": "https://localhost:8080/",
          "height": 478
        },
        "outputId": "01280ddc-91c9-4ebe-94ef-fca0087a8297"
      },
      "source": [
        "from bnlp.corpus import stopwords\n",
        "from bnlp.corpus.util import remove_stopwords\n",
        "\n",
        "df['Removed Stopped word'] = df['remove Eng'].apply(lambda x: remove_stopwords(x,stopwords))\n",
        "df "
      ],
      "execution_count": 11,
      "outputs": [
        {
          "output_type": "stream",
          "name": "stdout",
          "text": [
            "punkt not found. downloading...\n",
            "[nltk_data] Downloading package punkt to /root/nltk_data...\n",
            "[nltk_data]   Unzipping tokenizers/punkt.zip.\n"
          ]
        },
        {
          "output_type": "execute_result",
          "data": {
            "text/html": [
              "\n",
              "  <div id=\"df-59767fa9-7f6d-45c4-af29-e9d1439a9fe2\">\n",
              "    <div class=\"colab-df-container\">\n",
              "      <div>\n",
              "<style scoped>\n",
              "    .dataframe tbody tr th:only-of-type {\n",
              "        vertical-align: middle;\n",
              "    }\n",
              "\n",
              "    .dataframe tbody tr th {\n",
              "        vertical-align: top;\n",
              "    }\n",
              "\n",
              "    .dataframe thead th {\n",
              "        text-align: right;\n",
              "    }\n",
              "</style>\n",
              "<table border=\"1\" class=\"dataframe\">\n",
              "  <thead>\n",
              "    <tr style=\"text-align: right;\">\n",
              "      <th></th>\n",
              "      <th>Speech</th>\n",
              "      <th>Label</th>\n",
              "      <th>Removed Puncutation</th>\n",
              "      <th>remove Eng</th>\n",
              "      <th>Removed Stopped word</th>\n",
              "    </tr>\n",
              "  </thead>\n",
              "  <tbody>\n",
              "    <tr>\n",
              "      <th>0</th>\n",
              "      <td>ব্যাস্ততম  জীবনের  একটু মনরম পরিবেশে  সময় কাটা...</td>\n",
              "      <td>1</td>\n",
              "      <td>ব্যাস্ততম  জীবনের  একটু মনরম পরিবেশে  সময় কাটা...</td>\n",
              "      <td>ব্যাস্ততম জীবনের একটু মনরম পরিবেশে সময় কাটানোর...</td>\n",
              "      <td>[ব্যাস্ততম, জীবনের, একটু, মনরম, পরিবেশে, সময়, ...</td>\n",
              "    </tr>\n",
              "    <tr>\n",
              "      <th>1</th>\n",
              "      <td>অসাধারণ পরিবেশ! খুব সুন্দর মার্জিত এবং আন্তরিক...</td>\n",
              "      <td>1</td>\n",
              "      <td>অসাধারণ পরিবেশ খুব সুন্দর মার্জিত এবং আন্তরিক ...</td>\n",
              "      <td>অসাধারণ পরিবেশ খুব সুন্দর মার্জিত এবং আন্তরিক ...</td>\n",
              "      <td>[অসাধারণ, পরিবেশ, সুন্দর, মার্জিত, আন্তরিক]</td>\n",
              "    </tr>\n",
              "    <tr>\n",
              "      <th>2</th>\n",
              "      <td>খাবারের মান যথেষ্ট খারাপ। দামের তুলনায় পরিমান ...</td>\n",
              "      <td>0</td>\n",
              "      <td>খাবারের মান যথেষ্ট খারাপ দামের তুলনায় পরিমান অ...</td>\n",
              "      <td>খাবারের মান যথেষ্ট খারাপ দামের তুলনায় পরিমান অ...</td>\n",
              "      <td>[খাবারের, মান, খারাপ, দামের, তুলনায়, পরিমান, ক...</td>\n",
              "    </tr>\n",
              "    <tr>\n",
              "      <th>3</th>\n",
              "      <td>ভালো বহুত খেয়েছি আমার বাসা থেকে একটু দূরে</td>\n",
              "      <td>1</td>\n",
              "      <td>ভালো বহুত খেয়েছি আমার বাসা থেকে একটু দূরে</td>\n",
              "      <td>ভালো বহুত খেয়েছি আমার বাসা থেকে একটু দূরে</td>\n",
              "      <td>[ভালো, বহুত, খেয়েছি, বাসা, একটু, দূরে]</td>\n",
              "    </tr>\n",
              "    <tr>\n",
              "      <th>4</th>\n",
              "      <td>আমি খাইসি খুবই মজার</td>\n",
              "      <td>1</td>\n",
              "      <td>আমি খাইসি খুবই মজার</td>\n",
              "      <td>আমি খাইসি খুবই মজার</td>\n",
              "      <td>[খাইসি, খুবই, মজার]</td>\n",
              "    </tr>\n",
              "    <tr>\n",
              "      <th>...</th>\n",
              "      <td>...</td>\n",
              "      <td>...</td>\n",
              "      <td>...</td>\n",
              "      <td>...</td>\n",
              "      <td>...</td>\n",
              "    </tr>\n",
              "    <tr>\n",
              "      <th>1035</th>\n",
              "      <td>দেখেই খেয়ে ফেলতে ইচ্ছা হচ্ছে 😋😋</td>\n",
              "      <td>1</td>\n",
              "      <td>দেখেই খেয়ে ফেলতে ইচ্ছা হচ্ছে 😋😋</td>\n",
              "      <td>দেখেই খেয়ে ফেলতে ইচ্ছা হচ্ছে</td>\n",
              "      <td>[দেখেই, খেয়ে, ফেলতে, ইচ্ছা]</td>\n",
              "    </tr>\n",
              "    <tr>\n",
              "      <th>1036</th>\n",
              "      <td>সবসময়ই অসাধারণ রান্না ভাই।😍😍🥰</td>\n",
              "      <td>1</td>\n",
              "      <td>সবসময়ই অসাধারণ রান্না ভাই😍😍🥰</td>\n",
              "      <td>সবসময়ই অসাধারণ রান্না ভাই</td>\n",
              "      <td>[সবসময়ই, অসাধারণ, রান্না, ভাই]</td>\n",
              "    </tr>\n",
              "    <tr>\n",
              "      <th>1037</th>\n",
              "      <td>চিকেন  বিরিয়ানিটা অনেক   মজা  হবে  দেখে মনে হচ...</td>\n",
              "      <td>1</td>\n",
              "      <td>চিকেন  বিরিয়ানিটা অনেক   মজা  হবে  দেখে মনে হচ...</td>\n",
              "      <td>চিকেন বিরিয়ানিটা অনেক মজা হবে দেখে মনে হচ্ছে এ...</td>\n",
              "      <td>[চিকেন, বিরিয়ানিটা, মজা, একটু, খেয়ে, দেখি]</td>\n",
              "    </tr>\n",
              "    <tr>\n",
              "      <th>1038</th>\n",
              "      <td>অসম্ভব সুন্দর বিরানি রেসিপি 👌👌</td>\n",
              "      <td>1</td>\n",
              "      <td>অসম্ভব সুন্দর বিরানি রেসিপি 👌👌</td>\n",
              "      <td>অসম্ভব সুন্দর বিরানি রেসিপি</td>\n",
              "      <td>[অসম্ভব, সুন্দর, বিরানি, রেসিপি]</td>\n",
              "    </tr>\n",
              "    <tr>\n",
              "      <th>1039</th>\n",
              "      <td>দুধ চা,রং চা,কফি দারুণ হয়েছে</td>\n",
              "      <td>1</td>\n",
              "      <td>দুধ চারং চাকফি দারুণ হয়েছে</td>\n",
              "      <td>দুধ চারং চাকফি দারুণ হয়েছে</td>\n",
              "      <td>[দুধ, চারং, চাকফি, দারুণ, হয়েছে]</td>\n",
              "    </tr>\n",
              "  </tbody>\n",
              "</table>\n",
              "<p>1040 rows × 5 columns</p>\n",
              "</div>\n",
              "      <button class=\"colab-df-convert\" onclick=\"convertToInteractive('df-59767fa9-7f6d-45c4-af29-e9d1439a9fe2')\"\n",
              "              title=\"Convert this dataframe to an interactive table.\"\n",
              "              style=\"display:none;\">\n",
              "        \n",
              "  <svg xmlns=\"http://www.w3.org/2000/svg\" height=\"24px\"viewBox=\"0 0 24 24\"\n",
              "       width=\"24px\">\n",
              "    <path d=\"M0 0h24v24H0V0z\" fill=\"none\"/>\n",
              "    <path d=\"M18.56 5.44l.94 2.06.94-2.06 2.06-.94-2.06-.94-.94-2.06-.94 2.06-2.06.94zm-11 1L8.5 8.5l.94-2.06 2.06-.94-2.06-.94L8.5 2.5l-.94 2.06-2.06.94zm10 10l.94 2.06.94-2.06 2.06-.94-2.06-.94-.94-2.06-.94 2.06-2.06.94z\"/><path d=\"M17.41 7.96l-1.37-1.37c-.4-.4-.92-.59-1.43-.59-.52 0-1.04.2-1.43.59L10.3 9.45l-7.72 7.72c-.78.78-.78 2.05 0 2.83L4 21.41c.39.39.9.59 1.41.59.51 0 1.02-.2 1.41-.59l7.78-7.78 2.81-2.81c.8-.78.8-2.07 0-2.86zM5.41 20L4 18.59l7.72-7.72 1.47 1.35L5.41 20z\"/>\n",
              "  </svg>\n",
              "      </button>\n",
              "      \n",
              "  <style>\n",
              "    .colab-df-container {\n",
              "      display:flex;\n",
              "      flex-wrap:wrap;\n",
              "      gap: 12px;\n",
              "    }\n",
              "\n",
              "    .colab-df-convert {\n",
              "      background-color: #E8F0FE;\n",
              "      border: none;\n",
              "      border-radius: 50%;\n",
              "      cursor: pointer;\n",
              "      display: none;\n",
              "      fill: #1967D2;\n",
              "      height: 32px;\n",
              "      padding: 0 0 0 0;\n",
              "      width: 32px;\n",
              "    }\n",
              "\n",
              "    .colab-df-convert:hover {\n",
              "      background-color: #E2EBFA;\n",
              "      box-shadow: 0px 1px 2px rgba(60, 64, 67, 0.3), 0px 1px 3px 1px rgba(60, 64, 67, 0.15);\n",
              "      fill: #174EA6;\n",
              "    }\n",
              "\n",
              "    [theme=dark] .colab-df-convert {\n",
              "      background-color: #3B4455;\n",
              "      fill: #D2E3FC;\n",
              "    }\n",
              "\n",
              "    [theme=dark] .colab-df-convert:hover {\n",
              "      background-color: #434B5C;\n",
              "      box-shadow: 0px 1px 3px 1px rgba(0, 0, 0, 0.15);\n",
              "      filter: drop-shadow(0px 1px 2px rgba(0, 0, 0, 0.3));\n",
              "      fill: #FFFFFF;\n",
              "    }\n",
              "  </style>\n",
              "\n",
              "      <script>\n",
              "        const buttonEl =\n",
              "          document.querySelector('#df-59767fa9-7f6d-45c4-af29-e9d1439a9fe2 button.colab-df-convert');\n",
              "        buttonEl.style.display =\n",
              "          google.colab.kernel.accessAllowed ? 'block' : 'none';\n",
              "\n",
              "        async function convertToInteractive(key) {\n",
              "          const element = document.querySelector('#df-59767fa9-7f6d-45c4-af29-e9d1439a9fe2');\n",
              "          const dataTable =\n",
              "            await google.colab.kernel.invokeFunction('convertToInteractive',\n",
              "                                                     [key], {});\n",
              "          if (!dataTable) return;\n",
              "\n",
              "          const docLinkHtml = 'Like what you see? Visit the ' +\n",
              "            '<a target=\"_blank\" href=https://colab.research.google.com/notebooks/data_table.ipynb>data table notebook</a>'\n",
              "            + ' to learn more about interactive tables.';\n",
              "          element.innerHTML = '';\n",
              "          dataTable['output_type'] = 'display_data';\n",
              "          await google.colab.output.renderOutput(dataTable, element);\n",
              "          const docLink = document.createElement('div');\n",
              "          docLink.innerHTML = docLinkHtml;\n",
              "          element.appendChild(docLink);\n",
              "        }\n",
              "      </script>\n",
              "    </div>\n",
              "  </div>\n",
              "  "
            ],
            "text/plain": [
              "                                                 Speech  ...                               Removed Stopped word\n",
              "0     ব্যাস্ততম  জীবনের  একটু মনরম পরিবেশে  সময় কাটা...  ...  [ব্যাস্ততম, জীবনের, একটু, মনরম, পরিবেশে, সময়, ...\n",
              "1     অসাধারণ পরিবেশ! খুব সুন্দর মার্জিত এবং আন্তরিক...  ...        [অসাধারণ, পরিবেশ, সুন্দর, মার্জিত, আন্তরিক]\n",
              "2     খাবারের মান যথেষ্ট খারাপ। দামের তুলনায় পরিমান ...  ...  [খাবারের, মান, খারাপ, দামের, তুলনায়, পরিমান, ক...\n",
              "3             ভালো বহুত খেয়েছি আমার বাসা থেকে একটু দূরে  ...             [ভালো, বহুত, খেয়েছি, বাসা, একটু, দূরে]\n",
              "4                                   আমি খাইসি খুবই মজার  ...                                [খাইসি, খুবই, মজার]\n",
              "...                                                 ...  ...                                                ...\n",
              "1035                    দেখেই খেয়ে ফেলতে ইচ্ছা হচ্ছে 😋😋  ...                        [দেখেই, খেয়ে, ফেলতে, ইচ্ছা]\n",
              "1036                      সবসময়ই অসাধারণ রান্না ভাই।😍😍🥰  ...                     [সবসময়ই, অসাধারণ, রান্না, ভাই]\n",
              "1037  চিকেন  বিরিয়ানিটা অনেক   মজা  হবে  দেখে মনে হচ...  ...         [চিকেন, বিরিয়ানিটা, মজা, একটু, খেয়ে, দেখি]\n",
              "1038                     অসম্ভব সুন্দর বিরানি রেসিপি 👌👌  ...                   [অসম্ভব, সুন্দর, বিরানি, রেসিপি]\n",
              "1039                       দুধ চা,রং চা,কফি দারুণ হয়েছে  ...                   [দুধ, চারং, চাকফি, দারুণ, হয়েছে]\n",
              "\n",
              "[1040 rows x 5 columns]"
            ]
          },
          "metadata": {},
          "execution_count": 11
        }
      ]
    },
    {
      "cell_type": "markdown",
      "metadata": {
        "id": "i7WzCiqyKboW"
      },
      "source": [
        "**3. Stemming**"
      ]
    },
    {
      "cell_type": "code",
      "metadata": {
        "id": "R8CSkYAd-Jia",
        "colab": {
          "base_uri": "https://localhost:8080/"
        },
        "outputId": "4aade73e-e86a-4458-f9bd-407250c0ba45"
      },
      "source": [
        "pip install bangla-stemmer"
      ],
      "execution_count": 12,
      "outputs": [
        {
          "output_type": "stream",
          "name": "stdout",
          "text": [
            "Collecting bangla-stemmer\n",
            "  Downloading bangla_stemmer-1.0-py3-none-any.whl (9.1 kB)\n",
            "Installing collected packages: bangla-stemmer\n",
            "Successfully installed bangla-stemmer-1.0\n"
          ]
        }
      ]
    },
    {
      "cell_type": "code",
      "metadata": {
        "id": "pK2buVn1IwRF",
        "colab": {
          "base_uri": "https://localhost:8080/"
        },
        "outputId": "570b1f1d-d850-40bd-a26d-a476d401942c"
      },
      "source": [
        "from bangla_stemmer.stemmer import stemmer\n",
        "wordlist = ['কবিরগুলিকে', 'আমাকে', 'নামাবার']\n",
        "stmr = stemmer.BanglaStemmer()\n",
        "stm = stmr.stem(wordlist)\n",
        "print(stm)"
      ],
      "execution_count": 13,
      "outputs": [
        {
          "output_type": "stream",
          "name": "stdout",
          "text": [
            "applied first rules..\n",
            "applied third rules..\n",
            "applied first rules..\n",
            "applied fourth rules..\n",
            "['কবির', 'আমা', 'নামা']\n"
          ]
        }
      ]
    },
    {
      "cell_type": "code",
      "metadata": {
        "id": "0mdPZ8ff-aGw"
      },
      "source": [
        "from bangla_stemmer.stemmer import stemmer\n",
        "stmr = stemmer.BanglaStemmer()"
      ],
      "execution_count": 14,
      "outputs": []
    },
    {
      "cell_type": "code",
      "metadata": {
        "id": "bjTh8OYB-uPK"
      },
      "source": [
        "df['stemmed'] = df['Removed Stopped word'].apply(lambda x:stmr.stem(x))\n",
        "df.head()"
      ],
      "execution_count": null,
      "outputs": []
    },
    {
      "cell_type": "markdown",
      "metadata": {
        "id": "cZ4NW6WJKti4"
      },
      "source": [
        "**4.Join**"
      ]
    },
    {
      "cell_type": "code",
      "metadata": {
        "id": "YfTHV3UhJ8If",
        "colab": {
          "base_uri": "https://localhost:8080/",
          "height": 319
        },
        "outputId": "0dc01ae4-9e75-484d-8127-5fb9caea9d93"
      },
      "source": [
        "df['sentence']=df['stemmed'].apply(' '.join)\n",
        "df.head()"
      ],
      "execution_count": 16,
      "outputs": [
        {
          "output_type": "execute_result",
          "data": {
            "text/html": [
              "\n",
              "  <div id=\"df-f2a16b97-d317-44f8-822d-13115e1a50cf\">\n",
              "    <div class=\"colab-df-container\">\n",
              "      <div>\n",
              "<style scoped>\n",
              "    .dataframe tbody tr th:only-of-type {\n",
              "        vertical-align: middle;\n",
              "    }\n",
              "\n",
              "    .dataframe tbody tr th {\n",
              "        vertical-align: top;\n",
              "    }\n",
              "\n",
              "    .dataframe thead th {\n",
              "        text-align: right;\n",
              "    }\n",
              "</style>\n",
              "<table border=\"1\" class=\"dataframe\">\n",
              "  <thead>\n",
              "    <tr style=\"text-align: right;\">\n",
              "      <th></th>\n",
              "      <th>Speech</th>\n",
              "      <th>Label</th>\n",
              "      <th>Removed Puncutation</th>\n",
              "      <th>remove Eng</th>\n",
              "      <th>Removed Stopped word</th>\n",
              "      <th>stemmed</th>\n",
              "      <th>sentence</th>\n",
              "    </tr>\n",
              "  </thead>\n",
              "  <tbody>\n",
              "    <tr>\n",
              "      <th>0</th>\n",
              "      <td>ব্যাস্ততম  জীবনের  একটু মনরম পরিবেশে  সময় কাটা...</td>\n",
              "      <td>1</td>\n",
              "      <td>ব্যাস্ততম  জীবনের  একটু মনরম পরিবেশে  সময় কাটা...</td>\n",
              "      <td>ব্যাস্ততম জীবনের একটু মনরম পরিবেশে সময় কাটানোর...</td>\n",
              "      <td>[ব্যাস্ততম, জীবনের, একটু, মনরম, পরিবেশে, সময়, ...</td>\n",
              "      <td>[ব্যাস্ততম, জীবন, একটু, মনরম, পরিবেশ, সময়, কাট...</td>\n",
              "      <td>ব্যাস্ততম জীবন একটু মনরম পরিবেশ সময় কাটানোর ঘু...</td>\n",
              "    </tr>\n",
              "    <tr>\n",
              "      <th>1</th>\n",
              "      <td>অসাধারণ পরিবেশ! খুব সুন্দর মার্জিত এবং আন্তরিক...</td>\n",
              "      <td>1</td>\n",
              "      <td>অসাধারণ পরিবেশ খুব সুন্দর মার্জিত এবং আন্তরিক ...</td>\n",
              "      <td>অসাধারণ পরিবেশ খুব সুন্দর মার্জিত এবং আন্তরিক ...</td>\n",
              "      <td>[অসাধারণ, পরিবেশ, সুন্দর, মার্জিত, আন্তরিক]</td>\n",
              "      <td>[অসাধারণ, পরিবেশ, সুন্দর, মার্জিত, আন্তরিক]</td>\n",
              "      <td>অসাধারণ পরিবেশ সুন্দর মার্জিত আন্তরিক</td>\n",
              "    </tr>\n",
              "    <tr>\n",
              "      <th>2</th>\n",
              "      <td>খাবারের মান যথেষ্ট খারাপ। দামের তুলনায় পরিমান ...</td>\n",
              "      <td>0</td>\n",
              "      <td>খাবারের মান যথেষ্ট খারাপ দামের তুলনায় পরিমান অ...</td>\n",
              "      <td>খাবারের মান যথেষ্ট খারাপ দামের তুলনায় পরিমান অ...</td>\n",
              "      <td>[খাবারের, মান, খারাপ, দামের, তুলনায়, পরিমান, ক...</td>\n",
              "      <td>[খাবারের, মান, খারাপ, দাম, তুলনায়, পরিমান, কম,...</td>\n",
              "      <td>খাবারের মান খারাপ দাম তুলনায় পরিমান কম ইফত প্ল...</td>\n",
              "    </tr>\n",
              "    <tr>\n",
              "      <th>3</th>\n",
              "      <td>ভালো বহুত খেয়েছি আমার বাসা থেকে একটু দূরে</td>\n",
              "      <td>1</td>\n",
              "      <td>ভালো বহুত খেয়েছি আমার বাসা থেকে একটু দূরে</td>\n",
              "      <td>ভালো বহুত খেয়েছি আমার বাসা থেকে একটু দূরে</td>\n",
              "      <td>[ভালো, বহুত, খেয়েছি, বাসা, একটু, দূরে]</td>\n",
              "      <td>[ভালো, বহুত, খেয়েছি, বাসা, একটু, দূরে]</td>\n",
              "      <td>ভালো বহুত খেয়েছি বাসা একটু দূরে</td>\n",
              "    </tr>\n",
              "    <tr>\n",
              "      <th>4</th>\n",
              "      <td>আমি খাইসি খুবই মজার</td>\n",
              "      <td>1</td>\n",
              "      <td>আমি খাইসি খুবই মজার</td>\n",
              "      <td>আমি খাইসি খুবই মজার</td>\n",
              "      <td>[খাইসি, খুবই, মজার]</td>\n",
              "      <td>[খাইসি, খুব, মজ]</td>\n",
              "      <td>খাইসি খুব মজ</td>\n",
              "    </tr>\n",
              "  </tbody>\n",
              "</table>\n",
              "</div>\n",
              "      <button class=\"colab-df-convert\" onclick=\"convertToInteractive('df-f2a16b97-d317-44f8-822d-13115e1a50cf')\"\n",
              "              title=\"Convert this dataframe to an interactive table.\"\n",
              "              style=\"display:none;\">\n",
              "        \n",
              "  <svg xmlns=\"http://www.w3.org/2000/svg\" height=\"24px\"viewBox=\"0 0 24 24\"\n",
              "       width=\"24px\">\n",
              "    <path d=\"M0 0h24v24H0V0z\" fill=\"none\"/>\n",
              "    <path d=\"M18.56 5.44l.94 2.06.94-2.06 2.06-.94-2.06-.94-.94-2.06-.94 2.06-2.06.94zm-11 1L8.5 8.5l.94-2.06 2.06-.94-2.06-.94L8.5 2.5l-.94 2.06-2.06.94zm10 10l.94 2.06.94-2.06 2.06-.94-2.06-.94-.94-2.06-.94 2.06-2.06.94z\"/><path d=\"M17.41 7.96l-1.37-1.37c-.4-.4-.92-.59-1.43-.59-.52 0-1.04.2-1.43.59L10.3 9.45l-7.72 7.72c-.78.78-.78 2.05 0 2.83L4 21.41c.39.39.9.59 1.41.59.51 0 1.02-.2 1.41-.59l7.78-7.78 2.81-2.81c.8-.78.8-2.07 0-2.86zM5.41 20L4 18.59l7.72-7.72 1.47 1.35L5.41 20z\"/>\n",
              "  </svg>\n",
              "      </button>\n",
              "      \n",
              "  <style>\n",
              "    .colab-df-container {\n",
              "      display:flex;\n",
              "      flex-wrap:wrap;\n",
              "      gap: 12px;\n",
              "    }\n",
              "\n",
              "    .colab-df-convert {\n",
              "      background-color: #E8F0FE;\n",
              "      border: none;\n",
              "      border-radius: 50%;\n",
              "      cursor: pointer;\n",
              "      display: none;\n",
              "      fill: #1967D2;\n",
              "      height: 32px;\n",
              "      padding: 0 0 0 0;\n",
              "      width: 32px;\n",
              "    }\n",
              "\n",
              "    .colab-df-convert:hover {\n",
              "      background-color: #E2EBFA;\n",
              "      box-shadow: 0px 1px 2px rgba(60, 64, 67, 0.3), 0px 1px 3px 1px rgba(60, 64, 67, 0.15);\n",
              "      fill: #174EA6;\n",
              "    }\n",
              "\n",
              "    [theme=dark] .colab-df-convert {\n",
              "      background-color: #3B4455;\n",
              "      fill: #D2E3FC;\n",
              "    }\n",
              "\n",
              "    [theme=dark] .colab-df-convert:hover {\n",
              "      background-color: #434B5C;\n",
              "      box-shadow: 0px 1px 3px 1px rgba(0, 0, 0, 0.15);\n",
              "      filter: drop-shadow(0px 1px 2px rgba(0, 0, 0, 0.3));\n",
              "      fill: #FFFFFF;\n",
              "    }\n",
              "  </style>\n",
              "\n",
              "      <script>\n",
              "        const buttonEl =\n",
              "          document.querySelector('#df-f2a16b97-d317-44f8-822d-13115e1a50cf button.colab-df-convert');\n",
              "        buttonEl.style.display =\n",
              "          google.colab.kernel.accessAllowed ? 'block' : 'none';\n",
              "\n",
              "        async function convertToInteractive(key) {\n",
              "          const element = document.querySelector('#df-f2a16b97-d317-44f8-822d-13115e1a50cf');\n",
              "          const dataTable =\n",
              "            await google.colab.kernel.invokeFunction('convertToInteractive',\n",
              "                                                     [key], {});\n",
              "          if (!dataTable) return;\n",
              "\n",
              "          const docLinkHtml = 'Like what you see? Visit the ' +\n",
              "            '<a target=\"_blank\" href=https://colab.research.google.com/notebooks/data_table.ipynb>data table notebook</a>'\n",
              "            + ' to learn more about interactive tables.';\n",
              "          element.innerHTML = '';\n",
              "          dataTable['output_type'] = 'display_data';\n",
              "          await google.colab.output.renderOutput(dataTable, element);\n",
              "          const docLink = document.createElement('div');\n",
              "          docLink.innerHTML = docLinkHtml;\n",
              "          element.appendChild(docLink);\n",
              "        }\n",
              "      </script>\n",
              "    </div>\n",
              "  </div>\n",
              "  "
            ],
            "text/plain": [
              "                                              Speech  ...                                           sentence\n",
              "0  ব্যাস্ততম  জীবনের  একটু মনরম পরিবেশে  সময় কাটা...  ...  ব্যাস্ততম জীবন একটু মনরম পরিবেশ সময় কাটানোর ঘু...\n",
              "1  অসাধারণ পরিবেশ! খুব সুন্দর মার্জিত এবং আন্তরিক...  ...              অসাধারণ পরিবেশ সুন্দর মার্জিত আন্তরিক\n",
              "2  খাবারের মান যথেষ্ট খারাপ। দামের তুলনায় পরিমান ...  ...  খাবারের মান খারাপ দাম তুলনায় পরিমান কম ইফত প্ল...\n",
              "3          ভালো বহুত খেয়েছি আমার বাসা থেকে একটু দূরে  ...                    ভালো বহুত খেয়েছি বাসা একটু দূরে\n",
              "4                                আমি খাইসি খুবই মজার  ...                                       খাইসি খুব মজ\n",
              "\n",
              "[5 rows x 7 columns]"
            ]
          },
          "metadata": {},
          "execution_count": 16
        }
      ]
    },
    {
      "cell_type": "markdown",
      "source": [
        "# Deep Learning\n"
      ],
      "metadata": {
        "id": "8AHEq4wcyOTy"
      }
    },
    {
      "cell_type": "code",
      "source": [
        "EPOCHS = 100\n",
        "BATCH_SIZE = 16"
      ],
      "metadata": {
        "id": "XuEmoby68gFE"
      },
      "execution_count": 17,
      "outputs": []
    },
    {
      "cell_type": "code",
      "source": [
        "from sklearn.model_selection import train_test_split\n",
        "y=df[\"Label\"]\n",
        "x_train,x_test,y_train,y_test=train_test_split(df['sentence'].values,df['Label'].values,test_size=0.20,stratify=y)\n"
      ],
      "metadata": {
        "id": "Z_Ao19Cfb_4D"
      },
      "execution_count": 18,
      "outputs": []
    },
    {
      "cell_type": "code",
      "source": [
        "from tensorflow.keras.preprocessing.text import Tokenizer\n",
        "from tensorflow.keras.preprocessing.sequence import pad_sequences\n",
        "\n",
        "max_vocab=20000\n",
        "tokenizer=Tokenizer(num_words=max_vocab)\n",
        "tokenizer.fit_on_texts(x_train)"
      ],
      "metadata": {
        "id": "wln4JfAqc1a7"
      },
      "execution_count": 19,
      "outputs": []
    },
    {
      "cell_type": "code",
      "source": [
        "wordinx=tokenizer.word_index\n",
        "v=len(wordinx)+1\n",
        "print('The size of dataset vocab is:',v)"
      ],
      "metadata": {
        "id": "2R-j9Pg5c4kM",
        "colab": {
          "base_uri": "https://localhost:8080/"
        },
        "outputId": "2ac597d0-8429-4fe6-ee64-fb84b8d23b0f"
      },
      "execution_count": 20,
      "outputs": [
        {
          "output_type": "stream",
          "name": "stdout",
          "text": [
            "The size of dataset vocab is: 1989\n"
          ]
        }
      ]
    },
    {
      "cell_type": "code",
      "source": [
        "train_seq =tokenizer.texts_to_sequences(x_train)\n",
        "test_seq=tokenizer.texts_to_sequences(x_test)\n",
        "print('training sequence:',train_seq[0])\n",
        "print('testing sequence:',test_seq[0])"
      ],
      "metadata": {
        "id": "Al2BPNCRc7gB",
        "colab": {
          "base_uri": "https://localhost:8080/"
        },
        "outputId": "7938bb1e-3853-4b64-e2aa-19d6b18f8726"
      },
      "execution_count": 21,
      "outputs": [
        {
          "output_type": "stream",
          "name": "stdout",
          "text": [
            "training sequence: [3]\n",
            "testing sequence: [556, 1554, 446, 556, 197, 100, 2, 10, 1603, 556, 1, 665, 1793, 556, 111, 731]\n"
          ]
        }
      ]
    },
    {
      "cell_type": "code",
      "source": [
        "pad_train =pad_sequences(train_seq)\n",
        "T=pad_train.shape[1]\n",
        "print(\"The length of the trainging sequence is :\",pad_train.shape[1])"
      ],
      "metadata": {
        "id": "DxJATw8wc9y7",
        "colab": {
          "base_uri": "https://localhost:8080/"
        },
        "outputId": "15c78f3d-6242-4e9a-965c-c1c633b36d0a"
      },
      "execution_count": 22,
      "outputs": [
        {
          "output_type": "stream",
          "name": "stdout",
          "text": [
            "The length of the trainging sequence is : 63\n"
          ]
        }
      ]
    },
    {
      "cell_type": "code",
      "source": [
        "pad_test =pad_sequences(test_seq,maxlen=T)\n",
        "print(\"The length of testing sequence is \",pad_test.shape[1])"
      ],
      "metadata": {
        "id": "KzJU3pjfc_73",
        "colab": {
          "base_uri": "https://localhost:8080/"
        },
        "outputId": "0f815ecc-02cc-41a1-b660-b7353395b928"
      },
      "execution_count": 23,
      "outputs": [
        {
          "output_type": "stream",
          "name": "stdout",
          "text": [
            "The length of testing sequence is  63\n"
          ]
        }
      ]
    },
    {
      "cell_type": "markdown",
      "source": [
        "**Deep Learning techniques ( Pretrained Model(LSTM, GRU,RNN))**"
      ],
      "metadata": {
        "id": "VLBdnU9bdDXE"
      }
    },
    {
      "cell_type": "code",
      "source": [
        "from tensorflow.keras.layers import Input,Dense,Embedding,LSTM,GlobalMaxPool1D\n",
        "from tensorflow.keras.models import Model\n",
        "\n",
        "D=20\n",
        "M=15\n",
        "#D=20\n",
        "#M=15\n",
        "#this is giving 82.4%\n",
        "\n",
        "i= Input(shape=(T, ))\n",
        "x=Embedding(v+1,D)(i)\n",
        "x=LSTM(M,return_sequences=True)(x)\n",
        "x=GlobalMaxPool1D()(x)\n",
        "x=Dense(32,activation='relu')(x)\n",
        "x=Dense(1,activation='sigmoid')(x)\n",
        "model=Model(i,x)"
      ],
      "metadata": {
        "id": "vciYAmxfdNBs"
      },
      "execution_count": 24,
      "outputs": []
    },
    {
      "cell_type": "code",
      "source": [
        "model.compile(optimizer=tf.optimizers.Adam (learning_rate = 0.0001),loss='binary_crossentropy',metrics='accuracy')\n",
        "model.summary()"
      ],
      "metadata": {
        "id": "4o8XJAkUdRm1",
        "colab": {
          "base_uri": "https://localhost:8080/"
        },
        "outputId": "d11c4010-a448-4e41-cd58-a73e51f03476"
      },
      "execution_count": 25,
      "outputs": [
        {
          "output_type": "stream",
          "name": "stdout",
          "text": [
            "Model: \"model\"\n",
            "_________________________________________________________________\n",
            " Layer (type)                Output Shape              Param #   \n",
            "=================================================================\n",
            " input_1 (InputLayer)        [(None, 63)]              0         \n",
            "                                                                 \n",
            " embedding (Embedding)       (None, 63, 20)            39800     \n",
            "                                                                 \n",
            " lstm (LSTM)                 (None, 63, 15)            2160      \n",
            "                                                                 \n",
            " global_max_pooling1d (Globa  (None, 15)               0         \n",
            " lMaxPooling1D)                                                  \n",
            "                                                                 \n",
            " dense (Dense)               (None, 32)                512       \n",
            "                                                                 \n",
            " dense_1 (Dense)             (None, 1)                 33        \n",
            "                                                                 \n",
            "=================================================================\n",
            "Total params: 42,505\n",
            "Trainable params: 42,505\n",
            "Non-trainable params: 0\n",
            "_________________________________________________________________\n"
          ]
        }
      ]
    },
    {
      "cell_type": "code",
      "source": [
        "checkpoint_filepath = '/tmp/checkpoint'\n",
        "\n",
        "model_checkpoint_callback = tf.keras.callbacks.ModelCheckpoint(\n",
        "    filepath=checkpoint_filepath,\n",
        "    save_weights_only=True,\n",
        "    monitor='val_accuracy',\n",
        "    mode='max',\n",
        "    verbose=1,\n",
        "    save_best_only=True)\n"
      ],
      "metadata": {
        "id": "nyHcEgwQieKY"
      },
      "execution_count": 26,
      "outputs": []
    },
    {
      "cell_type": "code",
      "source": [
        "r=model.fit(pad_train,y_train,batch_size=BATCH_SIZE,epochs=EPOCHS,validation_data=(pad_test,y_test), callbacks=[model_checkpoint_callback],verbose=1)"
      ],
      "metadata": {
        "id": "MHyWQ37rdUUk"
      },
      "execution_count": null,
      "outputs": []
    },
    {
      "cell_type": "code",
      "source": [
        "model.load_weights(checkpoint_filepath)"
      ],
      "metadata": {
        "id": "o2k_9KVSjqbI",
        "colab": {
          "base_uri": "https://localhost:8080/"
        },
        "outputId": "ff0dbbdd-daa3-44b4-c9da-700a4696200c"
      },
      "execution_count": 28,
      "outputs": [
        {
          "output_type": "execute_result",
          "data": {
            "text/plain": [
              "<tensorflow.python.training.tracking.util.CheckpointLoadStatus at 0x7f30e8a71790>"
            ]
          },
          "metadata": {},
          "execution_count": 28
        }
      ]
    },
    {
      "cell_type": "code",
      "source": [
        "loss,accuracy = model.evaluate(pad_test,y_test)\n",
        "print(\"loss:\",loss)\n",
        "print(\"Accuracy:\",accuracy)"
      ],
      "metadata": {
        "id": "RIBLKxPAdXPU",
        "colab": {
          "base_uri": "https://localhost:8080/"
        },
        "outputId": "7d85f615-fbe9-4ed5-ae97-b2c5143f6e3f"
      },
      "execution_count": 29,
      "outputs": [
        {
          "output_type": "stream",
          "name": "stdout",
          "text": [
            "7/7 [==============================] - 1s 7ms/step - loss: 0.4075 - accuracy: 0.9087\n",
            "loss: 0.4074675738811493\n",
            "Accuracy: 0.9086538553237915\n"
          ]
        }
      ]
    },
    {
      "cell_type": "code",
      "source": [
        "from matplotlib import pyplot as plt\n",
        "plt.title(\"LSTM Loss Curve\")\n",
        "plt.plot(r.history['loss'],label='loss')\n",
        "plt.plot(r.history['val_loss'],label='val_loss')\n",
        "plt.xlabel('Epoch')\n",
        "plt.ylabel('Accuracy')\n",
        "plt.legend()"
      ],
      "metadata": {
        "id": "HuX0B6rRdYm2",
        "colab": {
          "base_uri": "https://localhost:8080/",
          "height": 313
        },
        "outputId": "1def45e7-e341-4122-e225-b80e3bfcb25b"
      },
      "execution_count": 30,
      "outputs": [
        {
          "output_type": "execute_result",
          "data": {
            "text/plain": [
              "<matplotlib.legend.Legend at 0x7f3112455dd0>"
            ]
          },
          "metadata": {},
          "execution_count": 30
        },
        {
          "output_type": "display_data",
          "data": {
            "image/png": "[encoded data removed]",
            "text/plain": [
              "<Figure size 432x288 with 1 Axes>"
            ]
          },
          "metadata": {
            "needs_background": "light"
          }
        }
      ]
    },
    {
      "cell_type": "code",
      "source": [
        "from matplotlib import pyplot as plt\n",
        "plt.title(\"LSTM Accuracy Curve\")\n",
        "plt.plot(r.history['accuracy'],label='loss')\n",
        "plt.plot(r.history['val_accuracy'],label='val_loss')\n",
        "plt.xlabel('Epoch')\n",
        "plt.ylabel('Accuracy')\n",
        "plt.legend()"
      ],
      "metadata": {
        "id": "AzygTQYSgRTf",
        "colab": {
          "base_uri": "https://localhost:8080/",
          "height": 313
        },
        "outputId": "b6ac7ada-b916-4803-850f-e00a123eac9c"
      },
      "execution_count": 31,
      "outputs": [
        {
          "output_type": "execute_result",
          "data": {
            "text/plain": [
              "<matplotlib.legend.Legend at 0x7f3111f4de90>"
            ]
          },
          "metadata": {},
          "execution_count": 31
        },
        {
          "output_type": "display_data",
          "data": {
            "image/png": "[encoded data removed]",
            "text/plain": [
              "<Figure size 432x288 with 1 Axes>"
            ]
          },
          "metadata": {
            "needs_background": "light"
          }
        }
      ]
    },
    {
      "cell_type": "code",
      "source": [
        "    predictions = model.predict(pad_test).ravel()\n",
        "    fpr_keras, tpr_keras, thresholds_keras = metrics.roc_curve(y_test, predictions)\n",
        "    auc_keras = metrics.auc(fpr_keras, tpr_keras)\n",
        "    \n",
        "    plt.figure(1)\n",
        "    plt.plot(fpr_keras, tpr_keras, 'b', label = 'AUC = %0.2f' % auc_keras)\n",
        "    plt.legend(loc = 'lower right')\n",
        "    plt.plot([0, 1], [0, 1], 'r--')\n",
        "    plt.xlim([0, 1])\n",
        "    plt.ylim([0, 1])\n",
        "    plt.xlabel('False positive rate')\n",
        "    plt.ylabel('True positive rate')\n",
        "    plt.title('ROC Curve for LSTM ')\n",
        "    plt.show()"
      ],
      "metadata": {
        "id": "zc1eUFArhCig",
        "colab": {
          "base_uri": "https://localhost:8080/",
          "height": 295
        },
        "outputId": "b4e9ccfd-9e44-41b0-cefd-bf5a49cdf0d9"
      },
      "execution_count": 32,
      "outputs": [
        {
          "output_type": "display_data",
          "data": {
            "image/png": "[encoded data removed]",
            "text/plain": [
              "<Figure size 432x288 with 1 Axes>"
            ]
          },
          "metadata": {
            "needs_background": "light"
          }
        }
      ]
    },
    {
      "cell_type": "markdown",
      "source": [
        "**GRU**"
      ],
      "metadata": {
        "id": "EBWvHnCfgTDG"
      }
    },
    {
      "cell_type": "code",
      "source": [
        "from tensorflow.keras.layers import Input,Dense,Embedding,GRU,GlobalMaxPool1D\n",
        "from tensorflow.keras.models import Model\n",
        "\n",
        "D=20\n",
        "M=15\n",
        "\n",
        "\n",
        "i= Input(shape=(T, ))\n",
        "x=Embedding(v+1,D)(i)\n",
        "x=GRU(M,return_sequences=True)(x)\n",
        "x=GlobalMaxPool1D()(x)\n",
        "x=Dense(32,activation='relu')(x)\n",
        "x=Dense(1,activation='sigmoid')(x)\n",
        "gru_model=Model(i,x)\n",
        "gru_model.summary()"
      ],
      "metadata": {
        "id": "-B5w0XBdeGgu",
        "colab": {
          "base_uri": "https://localhost:8080/"
        },
        "outputId": "67742bd5-2207-4211-d09a-3bc353f6fb79"
      },
      "execution_count": 33,
      "outputs": [
        {
          "output_type": "stream",
          "name": "stdout",
          "text": [
            "Model: \"model_1\"\n",
            "_________________________________________________________________\n",
            " Layer (type)                Output Shape              Param #   \n",
            "=================================================================\n",
            " input_2 (InputLayer)        [(None, 63)]              0         \n",
            "                                                                 \n",
            " embedding_1 (Embedding)     (None, 63, 20)            39800     \n",
            "                                                                 \n",
            " gru (GRU)                   (None, 63, 15)            1665      \n",
            "                                                                 \n",
            " global_max_pooling1d_1 (Glo  (None, 15)               0         \n",
            " balMaxPooling1D)                                                \n",
            "                                                                 \n",
            " dense_2 (Dense)             (None, 32)                512       \n",
            "                                                                 \n",
            " dense_3 (Dense)             (None, 1)                 33        \n",
            "                                                                 \n",
            "=================================================================\n",
            "Total params: 42,010\n",
            "Trainable params: 42,010\n",
            "Non-trainable params: 0\n",
            "_________________________________________________________________\n"
          ]
        }
      ]
    },
    {
      "cell_type": "code",
      "source": [
        "gru_model.compile(optimizer=tf.optimizers.Adam(learning_rate = 0.0001),loss='binary_crossentropy',metrics='accuracy')\n",
        "\n",
        "checkpoint_filepath = '/tmp/checkpoint'\n",
        "\n",
        "model_checkpoint_callback = tf.keras.callbacks.ModelCheckpoint(\n",
        "    filepath=checkpoint_filepath,\n",
        "    save_weights_only=True,\n",
        "    monitor='val_accuracy',\n",
        "    mode='max',\n",
        "    verbose=1,\n",
        "    save_best_only=True)\n",
        "\n",
        "r=gru_model.fit(pad_train,y_train,batch_size=BATCH_SIZE,validation_data=(pad_test,y_test),epochs=EPOCHS, callbacks=[model_checkpoint_callback])"
      ],
      "metadata": {
        "id": "eOjblzFgeS8R"
      },
      "execution_count": null,
      "outputs": []
    },
    {
      "cell_type": "code",
      "source": [
        "gru_model.load_weights(checkpoint_filepath)"
      ],
      "metadata": {
        "id": "0alzPzoXor3j",
        "colab": {
          "base_uri": "https://localhost:8080/"
        },
        "outputId": "ca9a9bc3-2dda-4420-f0de-bc559065388a"
      },
      "execution_count": 35,
      "outputs": [
        {
          "output_type": "execute_result",
          "data": {
            "text/plain": [
              "<tensorflow.python.training.tracking.util.CheckpointLoadStatus at 0x7f30e8db18d0>"
            ]
          },
          "metadata": {},
          "execution_count": 35
        }
      ]
    },
    {
      "cell_type": "code",
      "source": [
        "loss,accuracy = gru_model.evaluate(pad_test,y_test)\n",
        "print(\"loss:\",loss)\n",
        "print(\"Accuracy:\",accuracy)"
      ],
      "metadata": {
        "id": "1u1Zc_weelpH",
        "colab": {
          "base_uri": "https://localhost:8080/"
        },
        "outputId": "db8e39c3-2254-4907-aed1-0add73094179"
      },
      "execution_count": 36,
      "outputs": [
        {
          "output_type": "stream",
          "name": "stdout",
          "text": [
            "7/7 [==============================] - 1s 10ms/step - loss: 0.4931 - accuracy: 0.8942\n",
            "loss: 0.4930974841117859\n",
            "Accuracy: 0.8942307829856873\n"
          ]
        }
      ]
    },
    {
      "cell_type": "code",
      "source": [
        "from matplotlib import pyplot as plt\n",
        "plt.title(\"GRU Loss Curve\")\n",
        "plt.plot(r.history['loss'],label='loss')\n",
        "plt.plot(r.history['val_loss'],label='val_loss')\n",
        "plt.xlabel('Epoch')\n",
        "plt.ylabel('Loss')\n",
        "plt.legend"
      ],
      "metadata": {
        "id": "_vqzIkq2pCI9",
        "colab": {
          "base_uri": "https://localhost:8080/",
          "height": 313
        },
        "outputId": "2a4373b8-0b19-4ad6-bb00-4f275b37be86"
      },
      "execution_count": 37,
      "outputs": [
        {
          "output_type": "execute_result",
          "data": {
            "text/plain": [
              "<function matplotlib.pyplot.legend>"
            ]
          },
          "metadata": {},
          "execution_count": 37
        },
        {
          "output_type": "display_data",
          "data": {
            "image/png": "[encoded data removed]",
            "text/plain": [
              "<Figure size 432x288 with 1 Axes>"
            ]
          },
          "metadata": {
            "needs_background": "light"
          }
        }
      ]
    },
    {
      "cell_type": "code",
      "source": [
        "from matplotlib import pyplot as plt\n",
        "plt.title(\"GRU Accuracy Curve\")\n",
        "plt.plot(r.history['accuracy'],label='loss')\n",
        "plt.plot(r.history['val_accuracy'],label='val_loss')\n",
        "plt.xlabel('Epoch')\n",
        "plt.ylabel('Accuracy')\n",
        "plt.legend()\n"
      ],
      "metadata": {
        "id": "ABjX0qBsfwrr",
        "colab": {
          "base_uri": "https://localhost:8080/",
          "height": 313
        },
        "outputId": "f4ab3e01-024f-440c-a08c-12df47b83ba1"
      },
      "execution_count": 38,
      "outputs": [
        {
          "output_type": "execute_result",
          "data": {
            "text/plain": [
              "<matplotlib.legend.Legend at 0x7f30e8c3b490>"
            ]
          },
          "metadata": {},
          "execution_count": 38
        },
        {
          "output_type": "display_data",
          "data": {
            "image/png": "[encoded data removed]",
            "text/plain": [
              "<Figure size 432x288 with 1 Axes>"
            ]
          },
          "metadata": {
            "needs_background": "light"
          }
        }
      ]
    },
    {
      "cell_type": "code",
      "source": [
        "predictions = gru_model.predict(pad_test).ravel()\n",
        "fpr_keras, tpr_keras, thresholds_keras = metrics.roc_curve(y_test, predictions)\n",
        "auc_keras = metrics.auc(fpr_keras, tpr_keras)\n",
        "\n",
        "plt.figure(1)\n",
        "plt.plot(fpr_keras, tpr_keras, 'b', label = 'AUC = %0.2f' % auc_keras)\n",
        "plt.legend(loc = 'lower right')\n",
        "plt.plot([0, 1], [0, 1], 'r--')\n",
        "plt.xlim([0, 1])\n",
        "plt.ylim([0, 1])\n",
        "plt.xlabel('False positive rate')\n",
        "plt.ylabel('True positive rate')\n",
        "plt.title('ROC Curve for GRU ')\n",
        "plt.show()"
      ],
      "metadata": {
        "id": "K5BfcK-2pWBQ",
        "colab": {
          "base_uri": "https://localhost:8080/",
          "height": 295
        },
        "outputId": "3ac42b6d-df9f-4b62-8332-6d4e9c932027"
      },
      "execution_count": 39,
      "outputs": [
        {
          "output_type": "display_data",
          "data": {
            "image/png": "[encoded data removed]",
            "text/plain": [
              "<Figure size 432x288 with 1 Axes>"
            ]
          },
          "metadata": {
            "needs_background": "light"
          }
        }
      ]
    },
    {
      "cell_type": "markdown",
      "source": [
        "\n",
        "**RNN**\n"
      ],
      "metadata": {
        "id": "9L8vLIUgAOiG"
      }
    },
    {
      "cell_type": "code",
      "source": [
        "from tensorflow.python.keras.layers.recurrent import SimpleRNN\n",
        "from tensorflow.keras.layers import Input,Dense,Embedding,RNN,GlobalMaxPool1D\n",
        "from tensorflow.keras.models import Model\n",
        "\n",
        "D=20\n",
        "M=15\n",
        "#D=32\n",
        "#M=5\n",
        "##M=10 GIVIBG ACCURACY 84.545%\n",
        "i= Input(shape=(T, ))\n",
        "x=Embedding(v+1,D)(i)\n",
        "x=SimpleRNN(M,return_sequences=True)(x)\n",
        "x=GlobalMaxPool1D()(x)\n",
        "x=Dense(32,activation='relu')(x)\n",
        "x=Dense(1,activation='sigmoid')(x)\n",
        "RNN=Model(i,x)\n",
        "RNN.summary()"
      ],
      "metadata": {
        "id": "yjnLVt-bRW_b",
        "colab": {
          "base_uri": "https://localhost:8080/"
        },
        "outputId": "973dddd9-5ed1-4370-fc08-fa428e4feb0a"
      },
      "execution_count": 40,
      "outputs": [
        {
          "output_type": "stream",
          "name": "stdout",
          "text": [
            "WARNING:tensorflow:The following Variables were used in a Lambda layer's call (tf.keras.backend.rnn), but are not present in its tracked objects:   <tf.Variable 'simple_rnn/simple_rnn_cell/kernel:0' shape=(20, 15) dtype=float32>\n",
            "  <tf.Variable 'simple_rnn/simple_rnn_cell/recurrent_kernel:0' shape=(15, 15) dtype=float32>\n",
            "  <tf.Variable 'simple_rnn/simple_rnn_cell/bias:0' shape=(15,) dtype=float32>. This is a strong indication that the Lambda layer should be rewritten as a subclassed Layer.\n",
            "Model: \"model_2\"\n",
            "__________________________________________________________________________________________________\n",
            " Layer (type)                   Output Shape         Param #     Connected to                     \n",
            "==================================================================================================\n",
            " input_3 (InputLayer)           [(None, 63)]         0           []                               \n",
            "                                                                                                  \n",
            " embedding_2 (Embedding)        (None, 63, 20)       39800       ['input_3[0][0]']                \n",
            "                                                                                                  \n",
            " tf.compat.v1.shape (TFOpLambda  (3,)                0           ['embedding_2[0][0]']            \n",
            " )                                                                                                \n",
            "                                                                                                  \n",
            " tf.__operators__.getitem (Slic  ()                  0           ['tf.compat.v1.shape[0][0]']     \n",
            " ingOpLambda)                                                                                     \n",
            "                                                                                                  \n",
            " tf.zeros (TFOpLambda)          (None, 15)           0           ['tf.__operators__.getitem[0][0]'\n",
            "                                                                 ]                                \n",
            "                                                                                                  \n",
            " tf.keras.backend.rnn (TFOpLamb  ((None, 15),        0           ['embedding_2[0][0]',            \n",
            " da)                             (None, 63, 15),                  'tf.zeros[0][0]']               \n",
            "                                 ((None, 15),                                                     \n",
            "                                ))                                                                \n",
            "                                                                                                  \n",
            " global_max_pooling1d_2 (Global  (None, 15)          0           ['tf.keras.backend.rnn[0][1]']   \n",
            " MaxPooling1D)                                                                                    \n",
            "                                                                                                  \n",
            " dense_4 (Dense)                (None, 32)           512         ['global_max_pooling1d_2[0][0]'] \n",
            "                                                                                                  \n",
            " dense_5 (Dense)                (None, 1)            33          ['dense_4[0][0]']                \n",
            "                                                                                                  \n",
            "==================================================================================================\n",
            "Total params: 40,345\n",
            "Trainable params: 40,345\n",
            "Non-trainable params: 0\n",
            "__________________________________________________________________________________________________\n"
          ]
        }
      ]
    },
    {
      "cell_type": "code",
      "source": [
        "RNN.compile(optimizer=\"Adam\",loss='binary_crossentropy',metrics='accuracy')\n",
        "checkpoint_filepath = '/tmp/checkpoint'\n",
        "\n",
        "model_checkpoint_callback = tf.keras.callbacks.ModelCheckpoint(\n",
        "    filepath=checkpoint_filepath,\n",
        "    save_weights_only=True,\n",
        "    monitor='val_accuracy',\n",
        "    mode='max',\n",
        "    verbose=1,\n",
        "    save_best_only=True)\n",
        "r=RNN.fit(pad_train,y_train,batch_size=BATCH_SIZE,validation_data=(pad_test,y_test),epochs=EPOCHS, callbacks=[model_checkpoint_callback])"
      ],
      "metadata": {
        "id": "M4XEU9_AS_P6"
      },
      "execution_count": null,
      "outputs": []
    },
    {
      "cell_type": "code",
      "source": [
        "RNN.load_weights(checkpoint_filepath)"
      ],
      "metadata": {
        "id": "XR1qBT56p-im",
        "colab": {
          "base_uri": "https://localhost:8080/"
        },
        "outputId": "18a8803a-8cd2-4359-8e30-5b7343979f25"
      },
      "execution_count": 42,
      "outputs": [
        {
          "output_type": "execute_result",
          "data": {
            "text/plain": [
              "<tensorflow.python.training.tracking.util.CheckpointLoadStatus at 0x7f30e8bb7b10>"
            ]
          },
          "metadata": {},
          "execution_count": 42
        }
      ]
    },
    {
      "cell_type": "code",
      "source": [
        "loss,accuracy = RNN.evaluate(pad_test,y_test)\n",
        "print(\"loss:\",loss)\n",
        "print(\"Accuracy:\",accuracy)"
      ],
      "metadata": {
        "id": "m0bxW0JsSub0",
        "colab": {
          "base_uri": "https://localhost:8080/"
        },
        "outputId": "492ecdaf-ac86-469c-bea7-cc0a7be2cf96"
      },
      "execution_count": 43,
      "outputs": [
        {
          "output_type": "stream",
          "name": "stdout",
          "text": [
            "7/7 [==============================] - 0s 11ms/step - loss: 0.3712 - accuracy: 0.8702\n",
            "loss: 0.3711928725242615\n",
            "Accuracy: 0.870192289352417\n"
          ]
        }
      ]
    },
    {
      "cell_type": "code",
      "source": [
        "from matplotlib import pyplot as plt\n",
        "plt.title('RNN Loss Curve')\n",
        "plt.plot(r.history['loss'],label='loss')\n",
        "plt.plot(r.history['val_loss'],label='val_loss')\n",
        "plt.xlabel('Epoch')\n",
        "plt.ylabel('Loss')\n",
        "plt.legend()"
      ],
      "metadata": {
        "id": "2rlDraYSRghU",
        "colab": {
          "base_uri": "https://localhost:8080/",
          "height": 313
        },
        "outputId": "26240d4b-f0aa-490e-82a8-edd9081238f7"
      },
      "execution_count": 44,
      "outputs": [
        {
          "output_type": "execute_result",
          "data": {
            "text/plain": [
              "<matplotlib.legend.Legend at 0x7f30e635b2d0>"
            ]
          },
          "metadata": {},
          "execution_count": 44
        },
        {
          "output_type": "display_data",
          "data": {
            "image/png": "[encoded data removed]",
            "text/plain": [
              "<Figure size 432x288 with 1 Axes>"
            ]
          },
          "metadata": {
            "needs_background": "light"
          }
        }
      ]
    },
    {
      "cell_type": "code",
      "source": [
        "from matplotlib import pyplot as plt\n",
        "plt.title('RNN Accuracy Curve')\n",
        "plt.plot(r.history['accuracy'],label='loss')\n",
        "plt.plot(r.history['val_accuracy'],label='val_loss')\n",
        "plt.xlabel('Epoch')\n",
        "plt.ylabel('Accuracy')\n",
        "plt.legend()"
      ],
      "metadata": {
        "id": "pTQ6i5_nqCZr",
        "colab": {
          "base_uri": "https://localhost:8080/",
          "height": 313
        },
        "outputId": "34aa59d4-9128-449d-a7ff-7f420e558b8c"
      },
      "execution_count": 45,
      "outputs": [
        {
          "output_type": "execute_result",
          "data": {
            "text/plain": [
              "<matplotlib.legend.Legend at 0x7f30e5b38c50>"
            ]
          },
          "metadata": {},
          "execution_count": 45
        },
        {
          "output_type": "display_data",
          "data": {
            "image/png": "[encoded data removed]",
            "text/plain": [
              "<Figure size 432x288 with 1 Axes>"
            ]
          },
          "metadata": {
            "needs_background": "light"
          }
        }
      ]
    },
    {
      "cell_type": "code",
      "source": [
        "predictions = RNN.predict(pad_test).ravel()\n",
        "fpr_keras, tpr_keras, thresholds_keras = metrics.roc_curve(y_test, predictions)\n",
        "auc_keras = metrics.auc(fpr_keras, tpr_keras)\n",
        "\n",
        "plt.figure(1)\n",
        "plt.plot(fpr_keras, tpr_keras, 'b', label = 'AUC = %0.2f' % auc_keras)\n",
        "plt.legend(loc = 'lower right')\n",
        "plt.plot([0, 1], [0, 1], 'r--')\n",
        "plt.xlim([0, 1])\n",
        "plt.ylim([0, 1])\n",
        "plt.xlabel('False positive rate')\n",
        "plt.ylabel('True positive rate')\n",
        "plt.title('ROC Curve for RNN ')\n",
        "plt.show()"
      ],
      "metadata": {
        "id": "d2Q9qpZHqHnE",
        "colab": {
          "base_uri": "https://localhost:8080/",
          "height": 295
        },
        "outputId": "5b8b9543-b46c-4d5b-c25c-bbee8d62276a"
      },
      "execution_count": 46,
      "outputs": [
        {
          "output_type": "display_data",
          "data": {
            "image/png": "[encoded data removed]",
            "text/plain": [
              "<Figure size 432x288 with 1 Axes>"
            ]
          },
          "metadata": {
            "needs_background": "light"
          }
        }
      ]
    }
  ]
}