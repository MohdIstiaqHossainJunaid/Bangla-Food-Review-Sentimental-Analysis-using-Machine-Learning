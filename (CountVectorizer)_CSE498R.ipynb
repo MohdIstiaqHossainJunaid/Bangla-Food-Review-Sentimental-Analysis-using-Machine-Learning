{
  "nbformat": 4,
  "nbformat_minor": 0,
  "metadata": {
    "colab": {
      "name": "(Counter Vector) CSE498R.ipynb",
      "provenance": [],
      "authorship_tag": "ABX9TyNtxUcnyB9fpY+uQ6407eKY",
      "include_colab_link": true
    },
    "kernelspec": {
      "name": "python3",
      "display_name": "Python 3"
    },
    "language_info": {
      "name": "python"
    }
  },
  "cells": [
    {
      "cell_type": "markdown",
      "metadata": {
        "id": "view-in-github",
        "colab_type": "text"
      },
      "source": [
        "<a href=\"https://colab.research.google.com/github/MohdIstiaqHossainJunaid/Bangla-Food-Review-Sentimental-Analysis-using-Machine-Learning/blob/main/(CountVectorizer)_CSE498R.ipynb\" target=\"_parent\"><img src=\"https://colab.research.google.com/assets/colab-badge.svg\" alt=\"Open In Colab\"/></a>"
      ]
    },
    {
      "cell_type": "markdown",
      "metadata": {
        "id": "J69WX2fmwvm3"
      },
      "source": [
        "**A Sentiment Analysis Model of Food Reviews in Bengali Texts Based on Deep Learning techniques.**\n",
        "\n",
        "Supervisor- **Afn1**\n",
        "\n"
      ]
    },
    {
      "cell_type": "markdown",
      "metadata": {
        "id": "jlflorw21K8X"
      },
      "source": [
        "**Members:**\n",
        "\n",
        "1.   **Mohd. Istiaq Hossain Junaid,1821577642**\n",
        "2.   Faisal Hossain\n",
        "3.   Udayan shah Upal\n",
        "4.   Anjana tameem(Unofficial)\n",
        "\n",
        "\n",
        "\n"
      ]
    },
    {
      "cell_type": "markdown",
      "source": [
        "#**Preprocessing**\n"
      ],
      "metadata": {
        "id": "MqMoFUWzyfK7"
      }
    },
    {
      "cell_type": "markdown",
      "source": [
        "**Step 01 - Punctuation Removal**\n",
        "**Step 02 -**"
      ],
      "metadata": {
        "id": "Bu2WfOYKyp-a"
      }
    },
    {
      "cell_type": "code",
      "metadata": {
        "colab": {
          "base_uri": "https://localhost:8080/"
        },
        "id": "i9PM0tK85wUu",
        "outputId": "b8f20114-2bc0-4a22-bbfb-fadbbe123622"
      },
      "source": [
        "from google.colab import drive\n",
        "drive.mount('/content/drive')"
      ],
      "execution_count": 20,
      "outputs": [
        {
          "output_type": "stream",
          "name": "stdout",
          "text": [
            "Drive already mounted at /content/drive; to attempt to forcibly remount, call drive.mount(\"/content/drive\", force_remount=True).\n"
          ]
        }
      ]
    },
    {
      "cell_type": "code",
      "metadata": {
        "colab": {
          "base_uri": "https://localhost:8080/",
          "height": 17
        },
        "id": "ZmZHWveSzFEg",
        "outputId": "c534f803-604b-4802-9a24-8943c3bdb6b5"
      },
      "source": [
        "import tensorflow as tf\n",
        "import pandas as pd\n",
        "import matplotlib.pyplot as plt\n",
        "import random\n",
        "\n",
        "import string \n",
        "import cufflinks as cf\n",
        "import seaborn as sns\n",
        "from plotly.offline import download_plotlyjs,init_notebook_mode,plot,iplot\n",
        "%matplotlib inline\n",
        "init_notebook_mode(connected=True)\n",
        "cf.go_offline()\n",
        "import numpy as np\n",
        "import pandas as pd\n",
        "import matplotlib.pyplot as plt\n",
        "%matplotlib inline\n",
        "import re\n",
        "import nltk\n",
        "from nltk.stem import PorterStemmer\n",
        "from nltk.sentiment.vader import SentimentIntensityAnalyzer\n",
        "from sklearn.metrics import accuracy_score,classification_report,confusion_matrix\n",
        "from sklearn.feature_extraction.text import CountVectorizer\n",
        "from sklearn.feature_extraction.text import TfidfTransformer\n",
        "from sklearn.pipeline import Pipeline\n",
        "from sklearn.model_selection import train_test_split\n",
        "from sklearn.feature_extraction.text import TfidfVectorizer\n",
        "from sklearn.svm import LinearSVC\n",
        "from sklearn import metrics\n",
        "from sklearn.naive_bayes import MultinomialNB\n",
        "from sklearn.svm import SVC\n",
        "from sklearn import tree\n",
        "import warnings\n",
        "warnings.filterwarnings(\"ignore\")\n",
        "from os import path\n",
        "from PIL import Image\n",
        "from wordcloud import WordCloud, STOPWORDS, ImageColorGenerator\n",
        "\n",
        "from numpy.random import seed\n",
        "seed(1)\n",
        "\n",
        "import tensorflow\n",
        "tensorflow.random.set_seed(1)"
      ],
      "execution_count": 21,
      "outputs": [
        {
          "output_type": "display_data",
          "data": {
            "text/html": [
              "        <script type=\"text/javascript\">\n",
              "        window.PlotlyConfig = {MathJaxConfig: 'local'};\n",
              "        if (window.MathJax) {MathJax.Hub.Config({SVG: {font: \"STIX-Web\"}});}\n",
              "        if (typeof require !== 'undefined') {\n",
              "        require.undef(\"plotly\");\n",
              "        requirejs.config({\n",
              "            paths: {\n",
              "                'plotly': ['https://cdn.plot.ly/plotly-latest.min']\n",
              "            }\n",
              "        });\n",
              "        require(['plotly'], function(Plotly) {\n",
              "            window._Plotly = Plotly;\n",
              "        });\n",
              "        }\n",
              "        </script>\n",
              "        "
            ]
          },
          "metadata": {}
        },
        {
          "output_type": "display_data",
          "data": {
            "text/html": [
              "        <script type=\"text/javascript\">\n",
              "        window.PlotlyConfig = {MathJaxConfig: 'local'};\n",
              "        if (window.MathJax) {MathJax.Hub.Config({SVG: {font: \"STIX-Web\"}});}\n",
              "        if (typeof require !== 'undefined') {\n",
              "        require.undef(\"plotly\");\n",
              "        requirejs.config({\n",
              "            paths: {\n",
              "                'plotly': ['https://cdn.plot.ly/plotly-latest.min']\n",
              "            }\n",
              "        });\n",
              "        require(['plotly'], function(Plotly) {\n",
              "            window._Plotly = Plotly;\n",
              "        });\n",
              "        }\n",
              "        </script>\n",
              "        "
            ]
          },
          "metadata": {}
        }
      ]
    },
    {
      "cell_type": "code",
      "metadata": {
        "id": "4Rcs0u9g520C",
        "colab": {
          "base_uri": "https://localhost:8080/",
          "height": 206
        },
        "outputId": "8d816146-e510-4dae-bae3-e75e1a3e4b02"
      },
      "source": [
        "import pandas as pd\n",
        "import io\n",
        "df = pd.read_csv(\"/content/drive/MyDrive/Playing with Data/Food Review.csv\")\n",
        "df.head()"
      ],
      "execution_count": 22,
      "outputs": [
        {
          "output_type": "execute_result",
          "data": {
            "text/html": [
              "\n",
              "  <div id=\"df-27943e2a-d114-481d-a846-f48a05221d65\">\n",
              "    <div class=\"colab-df-container\">\n",
              "      <div>\n",
              "<style scoped>\n",
              "    .dataframe tbody tr th:only-of-type {\n",
              "        vertical-align: middle;\n",
              "    }\n",
              "\n",
              "    .dataframe tbody tr th {\n",
              "        vertical-align: top;\n",
              "    }\n",
              "\n",
              "    .dataframe thead th {\n",
              "        text-align: right;\n",
              "    }\n",
              "</style>\n",
              "<table border=\"1\" class=\"dataframe\">\n",
              "  <thead>\n",
              "    <tr style=\"text-align: right;\">\n",
              "      <th></th>\n",
              "      <th>Speech</th>\n",
              "      <th>Label</th>\n",
              "    </tr>\n",
              "  </thead>\n",
              "  <tbody>\n",
              "    <tr>\n",
              "      <th>0</th>\n",
              "      <td>ব্যাস্ততম  জীবনের  একটু মনরম পরিবেশে  সময় কাটা...</td>\n",
              "      <td>1</td>\n",
              "    </tr>\n",
              "    <tr>\n",
              "      <th>1</th>\n",
              "      <td>অসাধারণ পরিবেশ! খুব সুন্দর মার্জিত এবং আন্তরিক...</td>\n",
              "      <td>1</td>\n",
              "    </tr>\n",
              "    <tr>\n",
              "      <th>2</th>\n",
              "      <td>খাবারের মান যথেষ্ট খারাপ। দামের তুলনায় পরিমান ...</td>\n",
              "      <td>0</td>\n",
              "    </tr>\n",
              "    <tr>\n",
              "      <th>3</th>\n",
              "      <td>ভালো বহুত খেয়েছি আমার বাসা থেকে একটু দূরে</td>\n",
              "      <td>1</td>\n",
              "    </tr>\n",
              "    <tr>\n",
              "      <th>4</th>\n",
              "      <td>আমি খাইসি খুবই মজার</td>\n",
              "      <td>1</td>\n",
              "    </tr>\n",
              "  </tbody>\n",
              "</table>\n",
              "</div>\n",
              "      <button class=\"colab-df-convert\" onclick=\"convertToInteractive('df-27943e2a-d114-481d-a846-f48a05221d65')\"\n",
              "              title=\"Convert this dataframe to an interactive table.\"\n",
              "              style=\"display:none;\">\n",
              "        \n",
              "  <svg xmlns=\"http://www.w3.org/2000/svg\" height=\"24px\"viewBox=\"0 0 24 24\"\n",
              "       width=\"24px\">\n",
              "    <path d=\"M0 0h24v24H0V0z\" fill=\"none\"/>\n",
              "    <path d=\"M18.56 5.44l.94 2.06.94-2.06 2.06-.94-2.06-.94-.94-2.06-.94 2.06-2.06.94zm-11 1L8.5 8.5l.94-2.06 2.06-.94-2.06-.94L8.5 2.5l-.94 2.06-2.06.94zm10 10l.94 2.06.94-2.06 2.06-.94-2.06-.94-.94-2.06-.94 2.06-2.06.94z\"/><path d=\"M17.41 7.96l-1.37-1.37c-.4-.4-.92-.59-1.43-.59-.52 0-1.04.2-1.43.59L10.3 9.45l-7.72 7.72c-.78.78-.78 2.05 0 2.83L4 21.41c.39.39.9.59 1.41.59.51 0 1.02-.2 1.41-.59l7.78-7.78 2.81-2.81c.8-.78.8-2.07 0-2.86zM5.41 20L4 18.59l7.72-7.72 1.47 1.35L5.41 20z\"/>\n",
              "  </svg>\n",
              "      </button>\n",
              "      \n",
              "  <style>\n",
              "    .colab-df-container {\n",
              "      display:flex;\n",
              "      flex-wrap:wrap;\n",
              "      gap: 12px;\n",
              "    }\n",
              "\n",
              "    .colab-df-convert {\n",
              "      background-color: #E8F0FE;\n",
              "      border: none;\n",
              "      border-radius: 50%;\n",
              "      cursor: pointer;\n",
              "      display: none;\n",
              "      fill: #1967D2;\n",
              "      height: 32px;\n",
              "      padding: 0 0 0 0;\n",
              "      width: 32px;\n",
              "    }\n",
              "\n",
              "    .colab-df-convert:hover {\n",
              "      background-color: #E2EBFA;\n",
              "      box-shadow: 0px 1px 2px rgba(60, 64, 67, 0.3), 0px 1px 3px 1px rgba(60, 64, 67, 0.15);\n",
              "      fill: #174EA6;\n",
              "    }\n",
              "\n",
              "    [theme=dark] .colab-df-convert {\n",
              "      background-color: #3B4455;\n",
              "      fill: #D2E3FC;\n",
              "    }\n",
              "\n",
              "    [theme=dark] .colab-df-convert:hover {\n",
              "      background-color: #434B5C;\n",
              "      box-shadow: 0px 1px 3px 1px rgba(0, 0, 0, 0.15);\n",
              "      filter: drop-shadow(0px 1px 2px rgba(0, 0, 0, 0.3));\n",
              "      fill: #FFFFFF;\n",
              "    }\n",
              "  </style>\n",
              "\n",
              "      <script>\n",
              "        const buttonEl =\n",
              "          document.querySelector('#df-27943e2a-d114-481d-a846-f48a05221d65 button.colab-df-convert');\n",
              "        buttonEl.style.display =\n",
              "          google.colab.kernel.accessAllowed ? 'block' : 'none';\n",
              "\n",
              "        async function convertToInteractive(key) {\n",
              "          const element = document.querySelector('#df-27943e2a-d114-481d-a846-f48a05221d65');\n",
              "          const dataTable =\n",
              "            await google.colab.kernel.invokeFunction('convertToInteractive',\n",
              "                                                     [key], {});\n",
              "          if (!dataTable) return;\n",
              "\n",
              "          const docLinkHtml = 'Like what you see? Visit the ' +\n",
              "            '<a target=\"_blank\" href=https://colab.research.google.com/notebooks/data_table.ipynb>data table notebook</a>'\n",
              "            + ' to learn more about interactive tables.';\n",
              "          element.innerHTML = '';\n",
              "          dataTable['output_type'] = 'display_data';\n",
              "          await google.colab.output.renderOutput(dataTable, element);\n",
              "          const docLink = document.createElement('div');\n",
              "          docLink.innerHTML = docLinkHtml;\n",
              "          element.appendChild(docLink);\n",
              "        }\n",
              "      </script>\n",
              "    </div>\n",
              "  </div>\n",
              "  "
            ],
            "text/plain": [
              "                                             Speech   Label\n",
              "0  ব্যাস্ততম  জীবনের  একটু মনরম পরিবেশে  সময় কাটা...      1\n",
              "1  অসাধারণ পরিবেশ! খুব সুন্দর মার্জিত এবং আন্তরিক...      1\n",
              "2  খাবারের মান যথেষ্ট খারাপ। দামের তুলনায় পরিমান ...      0\n",
              "3          ভালো বহুত খেয়েছি আমার বাসা থেকে একটু দূরে      1\n",
              "4                                আমি খাইসি খুবই মজার      1"
            ]
          },
          "metadata": {},
          "execution_count": 22
        }
      ]
    },
    {
      "cell_type": "code",
      "metadata": {
        "colab": {
          "base_uri": "https://localhost:8080/"
        },
        "id": "cwRxlSzfX2wk",
        "outputId": "336702c1-9f83-48ee-f7bf-b7424d8ce892"
      },
      "source": [
        "df['Label'].value_counts()"
      ],
      "execution_count": 23,
      "outputs": [
        {
          "output_type": "execute_result",
          "data": {
            "text/plain": [
              "1    582\n",
              "0    521\n",
              "Name: Label, dtype: int64"
            ]
          },
          "metadata": {},
          "execution_count": 23
        }
      ]
    },
    {
      "cell_type": "code",
      "metadata": {
        "colab": {
          "base_uri": "https://localhost:8080/"
        },
        "id": "OuF3qTr8Y8Fz",
        "outputId": "31e6d6e5-6f3e-4fbc-b8b7-f6704f6536cf"
      },
      "source": [
        "df.duplicated().sum()"
      ],
      "execution_count": 24,
      "outputs": [
        {
          "output_type": "execute_result",
          "data": {
            "text/plain": [
              "0"
            ]
          },
          "metadata": {},
          "execution_count": 24
        }
      ]
    },
    {
      "cell_type": "markdown",
      "metadata": {
        "id": "cicXS5nBzPES"
      },
      "source": [
        "# Data Pre-Processing"
      ]
    },
    {
      "cell_type": "markdown",
      "metadata": {
        "id": "Coe9Po-gzVbT"
      },
      "source": [
        "\n",
        "\n",
        "*   Punctuation Removal\n",
        "*   Tokenization\n",
        "*   Stopword Removal\n",
        "*   Stemming\n",
        "*   Join\n",
        "\n",
        "\n"
      ]
    },
    {
      "cell_type": "code",
      "metadata": {
        "colab": {
          "base_uri": "https://localhost:8080/",
          "height": 35
        },
        "id": "OLQlSxeJzM_q",
        "outputId": "fd92c017-495c-4b5d-c40b-fca2a61a2d43"
      },
      "source": [
        "string.punctuation"
      ],
      "execution_count": 25,
      "outputs": [
        {
          "output_type": "execute_result",
          "data": {
            "application/vnd.google.colaboratory.intrinsic+json": {
              "type": "string"
            },
            "text/plain": [
              "'!\"#$%&\\'()*+,-./:;<=>?@[\\\\]^_`{|}~'"
            ]
          },
          "metadata": {},
          "execution_count": 25
        }
      ]
    },
    {
      "cell_type": "code",
      "metadata": {
        "id": "X7KJzE3G0P0p"
      },
      "source": [
        "def remove_punctuation(txt):\n",
        "    txt_nopunct = \"\".join([c for c in txt if c not in string.punctuation])\n",
        "    return txt_nopunct"
      ],
      "execution_count": 26,
      "outputs": []
    },
    {
      "cell_type": "code",
      "source": [
        "def remove_garbage(a):\n",
        "  a= \"\".join(i for i in a if i in [\"।\"] or 2432 <= ord(i) <= 2559 or ord(i)== 32)\n",
        "  removed=\" \".join(a.split())\n",
        "  return removed"
      ],
      "metadata": {
        "id": "xshIUh2-UETa"
      },
      "execution_count": 27,
      "outputs": []
    },
    {
      "cell_type": "code",
      "metadata": {
        "colab": {
          "base_uri": "https://localhost:8080/",
          "height": 206
        },
        "id": "iT3kGomq0S2C",
        "outputId": "75bf2a09-d053-47b9-aed6-41dce1673ab4"
      },
      "source": [
        "df['Removed Puncutation'] = df['Speech '].apply(lambda x:remove_punctuation(x))\n",
        "df.head()"
      ],
      "execution_count": 28,
      "outputs": [
        {
          "output_type": "execute_result",
          "data": {
            "text/html": [
              "\n",
              "  <div id=\"df-5590019d-9743-4e12-9feb-a30957142cf4\">\n",
              "    <div class=\"colab-df-container\">\n",
              "      <div>\n",
              "<style scoped>\n",
              "    .dataframe tbody tr th:only-of-type {\n",
              "        vertical-align: middle;\n",
              "    }\n",
              "\n",
              "    .dataframe tbody tr th {\n",
              "        vertical-align: top;\n",
              "    }\n",
              "\n",
              "    .dataframe thead th {\n",
              "        text-align: right;\n",
              "    }\n",
              "</style>\n",
              "<table border=\"1\" class=\"dataframe\">\n",
              "  <thead>\n",
              "    <tr style=\"text-align: right;\">\n",
              "      <th></th>\n",
              "      <th>Speech</th>\n",
              "      <th>Label</th>\n",
              "      <th>Removed Puncutation</th>\n",
              "    </tr>\n",
              "  </thead>\n",
              "  <tbody>\n",
              "    <tr>\n",
              "      <th>0</th>\n",
              "      <td>ব্যাস্ততম  জীবনের  একটু মনরম পরিবেশে  সময় কাটা...</td>\n",
              "      <td>1</td>\n",
              "      <td>ব্যাস্ততম  জীবনের  একটু মনরম পরিবেশে  সময় কাটা...</td>\n",
              "    </tr>\n",
              "    <tr>\n",
              "      <th>1</th>\n",
              "      <td>অসাধারণ পরিবেশ! খুব সুন্দর মার্জিত এবং আন্তরিক...</td>\n",
              "      <td>1</td>\n",
              "      <td>অসাধারণ পরিবেশ খুব সুন্দর মার্জিত এবং আন্তরিক ...</td>\n",
              "    </tr>\n",
              "    <tr>\n",
              "      <th>2</th>\n",
              "      <td>খাবারের মান যথেষ্ট খারাপ। দামের তুলনায় পরিমান ...</td>\n",
              "      <td>0</td>\n",
              "      <td>খাবারের মান যথেষ্ট খারাপ। দামের তুলনায় পরিমান ...</td>\n",
              "    </tr>\n",
              "    <tr>\n",
              "      <th>3</th>\n",
              "      <td>ভালো বহুত খেয়েছি আমার বাসা থেকে একটু দূরে</td>\n",
              "      <td>1</td>\n",
              "      <td>ভালো বহুত খেয়েছি আমার বাসা থেকে একটু দূরে</td>\n",
              "    </tr>\n",
              "    <tr>\n",
              "      <th>4</th>\n",
              "      <td>আমি খাইসি খুবই মজার</td>\n",
              "      <td>1</td>\n",
              "      <td>আমি খাইসি খুবই মজার</td>\n",
              "    </tr>\n",
              "  </tbody>\n",
              "</table>\n",
              "</div>\n",
              "      <button class=\"colab-df-convert\" onclick=\"convertToInteractive('df-5590019d-9743-4e12-9feb-a30957142cf4')\"\n",
              "              title=\"Convert this dataframe to an interactive table.\"\n",
              "              style=\"display:none;\">\n",
              "        \n",
              "  <svg xmlns=\"http://www.w3.org/2000/svg\" height=\"24px\"viewBox=\"0 0 24 24\"\n",
              "       width=\"24px\">\n",
              "    <path d=\"M0 0h24v24H0V0z\" fill=\"none\"/>\n",
              "    <path d=\"M18.56 5.44l.94 2.06.94-2.06 2.06-.94-2.06-.94-.94-2.06-.94 2.06-2.06.94zm-11 1L8.5 8.5l.94-2.06 2.06-.94-2.06-.94L8.5 2.5l-.94 2.06-2.06.94zm10 10l.94 2.06.94-2.06 2.06-.94-2.06-.94-.94-2.06-.94 2.06-2.06.94z\"/><path d=\"M17.41 7.96l-1.37-1.37c-.4-.4-.92-.59-1.43-.59-.52 0-1.04.2-1.43.59L10.3 9.45l-7.72 7.72c-.78.78-.78 2.05 0 2.83L4 21.41c.39.39.9.59 1.41.59.51 0 1.02-.2 1.41-.59l7.78-7.78 2.81-2.81c.8-.78.8-2.07 0-2.86zM5.41 20L4 18.59l7.72-7.72 1.47 1.35L5.41 20z\"/>\n",
              "  </svg>\n",
              "      </button>\n",
              "      \n",
              "  <style>\n",
              "    .colab-df-container {\n",
              "      display:flex;\n",
              "      flex-wrap:wrap;\n",
              "      gap: 12px;\n",
              "    }\n",
              "\n",
              "    .colab-df-convert {\n",
              "      background-color: #E8F0FE;\n",
              "      border: none;\n",
              "      border-radius: 50%;\n",
              "      cursor: pointer;\n",
              "      display: none;\n",
              "      fill: #1967D2;\n",
              "      height: 32px;\n",
              "      padding: 0 0 0 0;\n",
              "      width: 32px;\n",
              "    }\n",
              "\n",
              "    .colab-df-convert:hover {\n",
              "      background-color: #E2EBFA;\n",
              "      box-shadow: 0px 1px 2px rgba(60, 64, 67, 0.3), 0px 1px 3px 1px rgba(60, 64, 67, 0.15);\n",
              "      fill: #174EA6;\n",
              "    }\n",
              "\n",
              "    [theme=dark] .colab-df-convert {\n",
              "      background-color: #3B4455;\n",
              "      fill: #D2E3FC;\n",
              "    }\n",
              "\n",
              "    [theme=dark] .colab-df-convert:hover {\n",
              "      background-color: #434B5C;\n",
              "      box-shadow: 0px 1px 3px 1px rgba(0, 0, 0, 0.15);\n",
              "      filter: drop-shadow(0px 1px 2px rgba(0, 0, 0, 0.3));\n",
              "      fill: #FFFFFF;\n",
              "    }\n",
              "  </style>\n",
              "\n",
              "      <script>\n",
              "        const buttonEl =\n",
              "          document.querySelector('#df-5590019d-9743-4e12-9feb-a30957142cf4 button.colab-df-convert');\n",
              "        buttonEl.style.display =\n",
              "          google.colab.kernel.accessAllowed ? 'block' : 'none';\n",
              "\n",
              "        async function convertToInteractive(key) {\n",
              "          const element = document.querySelector('#df-5590019d-9743-4e12-9feb-a30957142cf4');\n",
              "          const dataTable =\n",
              "            await google.colab.kernel.invokeFunction('convertToInteractive',\n",
              "                                                     [key], {});\n",
              "          if (!dataTable) return;\n",
              "\n",
              "          const docLinkHtml = 'Like what you see? Visit the ' +\n",
              "            '<a target=\"_blank\" href=https://colab.research.google.com/notebooks/data_table.ipynb>data table notebook</a>'\n",
              "            + ' to learn more about interactive tables.';\n",
              "          element.innerHTML = '';\n",
              "          dataTable['output_type'] = 'display_data';\n",
              "          await google.colab.output.renderOutput(dataTable, element);\n",
              "          const docLink = document.createElement('div');\n",
              "          docLink.innerHTML = docLinkHtml;\n",
              "          element.appendChild(docLink);\n",
              "        }\n",
              "      </script>\n",
              "    </div>\n",
              "  </div>\n",
              "  "
            ],
            "text/plain": [
              "                                             Speech   ...                                Removed Puncutation\n",
              "0  ব্যাস্ততম  জীবনের  একটু মনরম পরিবেশে  সময় কাটা...  ...  ব্যাস্ততম  জীবনের  একটু মনরম পরিবেশে  সময় কাটা...\n",
              "1  অসাধারণ পরিবেশ! খুব সুন্দর মার্জিত এবং আন্তরিক...  ...  অসাধারণ পরিবেশ খুব সুন্দর মার্জিত এবং আন্তরিক ...\n",
              "2  খাবারের মান যথেষ্ট খারাপ। দামের তুলনায় পরিমান ...  ...  খাবারের মান যথেষ্ট খারাপ। দামের তুলনায় পরিমান ...\n",
              "3          ভালো বহুত খেয়েছি আমার বাসা থেকে একটু দূরে  ...          ভালো বহুত খেয়েছি আমার বাসা থেকে একটু দূরে\n",
              "4                                আমি খাইসি খুবই মজার  ...                                আমি খাইসি খুবই মজার\n",
              "\n",
              "[5 rows x 3 columns]"
            ]
          },
          "metadata": {},
          "execution_count": 28
        }
      ]
    },
    {
      "cell_type": "code",
      "source": [
        "df['remove Eng'] = df['Removed Puncutation'].apply(lambda x:remove_garbage(x))\n",
        "df"
      ],
      "metadata": {
        "colab": {
          "base_uri": "https://localhost:8080/",
          "height": 423
        },
        "id": "YpkeCG2AUIgH",
        "outputId": "c5a963a7-ff2d-4ff7-dd3e-3c8593751aa2"
      },
      "execution_count": 29,
      "outputs": [
        {
          "output_type": "execute_result",
          "data": {
            "text/html": [
              "\n",
              "  <div id=\"df-9adce874-7033-4ab2-9d30-3f85bfc00f37\">\n",
              "    <div class=\"colab-df-container\">\n",
              "      <div>\n",
              "<style scoped>\n",
              "    .dataframe tbody tr th:only-of-type {\n",
              "        vertical-align: middle;\n",
              "    }\n",
              "\n",
              "    .dataframe tbody tr th {\n",
              "        vertical-align: top;\n",
              "    }\n",
              "\n",
              "    .dataframe thead th {\n",
              "        text-align: right;\n",
              "    }\n",
              "</style>\n",
              "<table border=\"1\" class=\"dataframe\">\n",
              "  <thead>\n",
              "    <tr style=\"text-align: right;\">\n",
              "      <th></th>\n",
              "      <th>Speech</th>\n",
              "      <th>Label</th>\n",
              "      <th>Removed Puncutation</th>\n",
              "      <th>remove Eng</th>\n",
              "    </tr>\n",
              "  </thead>\n",
              "  <tbody>\n",
              "    <tr>\n",
              "      <th>0</th>\n",
              "      <td>ব্যাস্ততম  জীবনের  একটু মনরম পরিবেশে  সময় কাটা...</td>\n",
              "      <td>1</td>\n",
              "      <td>ব্যাস্ততম  জীবনের  একটু মনরম পরিবেশে  সময় কাটা...</td>\n",
              "      <td>ব্যাস্ততম জীবনের একটু মনরম পরিবেশে সময় কাটানোর...</td>\n",
              "    </tr>\n",
              "    <tr>\n",
              "      <th>1</th>\n",
              "      <td>অসাধারণ পরিবেশ! খুব সুন্দর মার্জিত এবং আন্তরিক...</td>\n",
              "      <td>1</td>\n",
              "      <td>অসাধারণ পরিবেশ খুব সুন্দর মার্জিত এবং আন্তরিক ...</td>\n",
              "      <td>অসাধারণ পরিবেশ খুব সুন্দর মার্জিত এবং আন্তরিক ...</td>\n",
              "    </tr>\n",
              "    <tr>\n",
              "      <th>2</th>\n",
              "      <td>খাবারের মান যথেষ্ট খারাপ। দামের তুলনায় পরিমান ...</td>\n",
              "      <td>0</td>\n",
              "      <td>খাবারের মান যথেষ্ট খারাপ। দামের তুলনায় পরিমান ...</td>\n",
              "      <td>খাবারের মান যথেষ্ট খারাপ। দামের তুলনায় পরিমান ...</td>\n",
              "    </tr>\n",
              "    <tr>\n",
              "      <th>3</th>\n",
              "      <td>ভালো বহুত খেয়েছি আমার বাসা থেকে একটু দূরে</td>\n",
              "      <td>1</td>\n",
              "      <td>ভালো বহুত খেয়েছি আমার বাসা থেকে একটু দূরে</td>\n",
              "      <td>ভালো বহুত খেয়েছি আমার বাসা থেকে একটু দূরে</td>\n",
              "    </tr>\n",
              "    <tr>\n",
              "      <th>4</th>\n",
              "      <td>আমি খাইসি খুবই মজার</td>\n",
              "      <td>1</td>\n",
              "      <td>আমি খাইসি খুবই মজার</td>\n",
              "      <td>আমি খাইসি খুবই মজার</td>\n",
              "    </tr>\n",
              "    <tr>\n",
              "      <th>...</th>\n",
              "      <td>...</td>\n",
              "      <td>...</td>\n",
              "      <td>...</td>\n",
              "      <td>...</td>\n",
              "    </tr>\n",
              "    <tr>\n",
              "      <th>1098</th>\n",
              "      <td>রেসিপি তো সুন্দর হয়েছেই তোমার ডেকোরেশনটা অসাধ...</td>\n",
              "      <td>1</td>\n",
              "      <td>রেসিপি তো সুন্দর হয়েছেই তোমার ডেকোরেশনটা অসাধ...</td>\n",
              "      <td>রেসিপি তো সুন্দর হয়েছেই তোমার ডেকোরেশনটা অসাধ...</td>\n",
              "    </tr>\n",
              "    <tr>\n",
              "      <th>1099</th>\n",
              "      <td>আমি বানিয়েছিলাম একটু ও পুড়ে নি খুব ভালো হয়েছিল</td>\n",
              "      <td>1</td>\n",
              "      <td>আমি বানিয়েছিলাম একটু ও পুড়ে নি খুব ভালো হয়েছিল</td>\n",
              "      <td>আমি বানিয়েছিলাম একটু ও পুড়ে নি খুব ভালো হয়েছিল</td>\n",
              "    </tr>\n",
              "    <tr>\n",
              "      <th>1100</th>\n",
              "      <td>মজাদার পাস্তা</td>\n",
              "      <td>1</td>\n",
              "      <td>মজাদার পাস্তা</td>\n",
              "      <td>মজাদার পাস্তা</td>\n",
              "    </tr>\n",
              "    <tr>\n",
              "      <th>1101</th>\n",
              "      <td>আমার বাচ্চারা খুব পছন্দ করে এই পাস্তা টা। খুব ...</td>\n",
              "      <td>1</td>\n",
              "      <td>আমার বাচ্চারা খুব পছন্দ করে এই পাস্তা টা। খুব ...</td>\n",
              "      <td>আমার বাচ্চারা খুব পছন্দ করে এই পাস্তা টা। খুব ...</td>\n",
              "    </tr>\n",
              "    <tr>\n",
              "      <th>1102</th>\n",
              "      <td>পাস্তা আমার খুব পছন্দের একটি খাবার। চিজ দিয়ে খ...</td>\n",
              "      <td>1</td>\n",
              "      <td>পাস্তা আমার খুব পছন্দের একটি খাবার। চিজ দিয়ে খ...</td>\n",
              "      <td>পাস্তা আমার খুব পছন্দের একটি খাবার। চিজ দিয়ে খ...</td>\n",
              "    </tr>\n",
              "  </tbody>\n",
              "</table>\n",
              "<p>1103 rows × 4 columns</p>\n",
              "</div>\n",
              "      <button class=\"colab-df-convert\" onclick=\"convertToInteractive('df-9adce874-7033-4ab2-9d30-3f85bfc00f37')\"\n",
              "              title=\"Convert this dataframe to an interactive table.\"\n",
              "              style=\"display:none;\">\n",
              "        \n",
              "  <svg xmlns=\"http://www.w3.org/2000/svg\" height=\"24px\"viewBox=\"0 0 24 24\"\n",
              "       width=\"24px\">\n",
              "    <path d=\"M0 0h24v24H0V0z\" fill=\"none\"/>\n",
              "    <path d=\"M18.56 5.44l.94 2.06.94-2.06 2.06-.94-2.06-.94-.94-2.06-.94 2.06-2.06.94zm-11 1L8.5 8.5l.94-2.06 2.06-.94-2.06-.94L8.5 2.5l-.94 2.06-2.06.94zm10 10l.94 2.06.94-2.06 2.06-.94-2.06-.94-.94-2.06-.94 2.06-2.06.94z\"/><path d=\"M17.41 7.96l-1.37-1.37c-.4-.4-.92-.59-1.43-.59-.52 0-1.04.2-1.43.59L10.3 9.45l-7.72 7.72c-.78.78-.78 2.05 0 2.83L4 21.41c.39.39.9.59 1.41.59.51 0 1.02-.2 1.41-.59l7.78-7.78 2.81-2.81c.8-.78.8-2.07 0-2.86zM5.41 20L4 18.59l7.72-7.72 1.47 1.35L5.41 20z\"/>\n",
              "  </svg>\n",
              "      </button>\n",
              "      \n",
              "  <style>\n",
              "    .colab-df-container {\n",
              "      display:flex;\n",
              "      flex-wrap:wrap;\n",
              "      gap: 12px;\n",
              "    }\n",
              "\n",
              "    .colab-df-convert {\n",
              "      background-color: #E8F0FE;\n",
              "      border: none;\n",
              "      border-radius: 50%;\n",
              "      cursor: pointer;\n",
              "      display: none;\n",
              "      fill: #1967D2;\n",
              "      height: 32px;\n",
              "      padding: 0 0 0 0;\n",
              "      width: 32px;\n",
              "    }\n",
              "\n",
              "    .colab-df-convert:hover {\n",
              "      background-color: #E2EBFA;\n",
              "      box-shadow: 0px 1px 2px rgba(60, 64, 67, 0.3), 0px 1px 3px 1px rgba(60, 64, 67, 0.15);\n",
              "      fill: #174EA6;\n",
              "    }\n",
              "\n",
              "    [theme=dark] .colab-df-convert {\n",
              "      background-color: #3B4455;\n",
              "      fill: #D2E3FC;\n",
              "    }\n",
              "\n",
              "    [theme=dark] .colab-df-convert:hover {\n",
              "      background-color: #434B5C;\n",
              "      box-shadow: 0px 1px 3px 1px rgba(0, 0, 0, 0.15);\n",
              "      filter: drop-shadow(0px 1px 2px rgba(0, 0, 0, 0.3));\n",
              "      fill: #FFFFFF;\n",
              "    }\n",
              "  </style>\n",
              "\n",
              "      <script>\n",
              "        const buttonEl =\n",
              "          document.querySelector('#df-9adce874-7033-4ab2-9d30-3f85bfc00f37 button.colab-df-convert');\n",
              "        buttonEl.style.display =\n",
              "          google.colab.kernel.accessAllowed ? 'block' : 'none';\n",
              "\n",
              "        async function convertToInteractive(key) {\n",
              "          const element = document.querySelector('#df-9adce874-7033-4ab2-9d30-3f85bfc00f37');\n",
              "          const dataTable =\n",
              "            await google.colab.kernel.invokeFunction('convertToInteractive',\n",
              "                                                     [key], {});\n",
              "          if (!dataTable) return;\n",
              "\n",
              "          const docLinkHtml = 'Like what you see? Visit the ' +\n",
              "            '<a target=\"_blank\" href=https://colab.research.google.com/notebooks/data_table.ipynb>data table notebook</a>'\n",
              "            + ' to learn more about interactive tables.';\n",
              "          element.innerHTML = '';\n",
              "          dataTable['output_type'] = 'display_data';\n",
              "          await google.colab.output.renderOutput(dataTable, element);\n",
              "          const docLink = document.createElement('div');\n",
              "          docLink.innerHTML = docLinkHtml;\n",
              "          element.appendChild(docLink);\n",
              "        }\n",
              "      </script>\n",
              "    </div>\n",
              "  </div>\n",
              "  "
            ],
            "text/plain": [
              "                                                Speech   ...                                         remove Eng\n",
              "0     ব্যাস্ততম  জীবনের  একটু মনরম পরিবেশে  সময় কাটা...  ...  ব্যাস্ততম জীবনের একটু মনরম পরিবেশে সময় কাটানোর...\n",
              "1     অসাধারণ পরিবেশ! খুব সুন্দর মার্জিত এবং আন্তরিক...  ...  অসাধারণ পরিবেশ খুব সুন্দর মার্জিত এবং আন্তরিক ...\n",
              "2     খাবারের মান যথেষ্ট খারাপ। দামের তুলনায় পরিমান ...  ...  খাবারের মান যথেষ্ট খারাপ। দামের তুলনায় পরিমান ...\n",
              "3             ভালো বহুত খেয়েছি আমার বাসা থেকে একটু দূরে  ...          ভালো বহুত খেয়েছি আমার বাসা থেকে একটু দূরে\n",
              "4                                   আমি খাইসি খুবই মজার  ...                                আমি খাইসি খুবই মজার\n",
              "...                                                 ...  ...                                                ...\n",
              "1098  রেসিপি তো সুন্দর হয়েছেই তোমার ডেকোরেশনটা অসাধ...  ...  রেসিপি তো সুন্দর হয়েছেই তোমার ডেকোরেশনটা অসাধ...\n",
              "1099  আমি বানিয়েছিলাম একটু ও পুড়ে নি খুব ভালো হয়েছিল  ...  আমি বানিয়েছিলাম একটু ও পুড়ে নি খুব ভালো হয়েছিল\n",
              "1100                                      মজাদার পাস্তা  ...                                      মজাদার পাস্তা\n",
              "1101  আমার বাচ্চারা খুব পছন্দ করে এই পাস্তা টা। খুব ...  ...  আমার বাচ্চারা খুব পছন্দ করে এই পাস্তা টা। খুব ...\n",
              "1102  পাস্তা আমার খুব পছন্দের একটি খাবার। চিজ দিয়ে খ...  ...  পাস্তা আমার খুব পছন্দের একটি খাবার। চিজ দিয়ে খ...\n",
              "\n",
              "[1103 rows x 4 columns]"
            ]
          },
          "metadata": {},
          "execution_count": 29
        }
      ]
    },
    {
      "cell_type": "markdown",
      "metadata": {
        "id": "GQhbyDfbsdxd"
      },
      "source": [
        "**2.Bangla Tokenization and Bangla Stopword Removing**\n",
        "\n",
        "\n"
      ]
    },
    {
      "cell_type": "code",
      "metadata": {
        "colab": {
          "base_uri": "https://localhost:8080/"
        },
        "id": "GxHzWpXK2cMY",
        "outputId": "f5ea4e20-4df3-4e44-b0cd-0367a990e37b"
      },
      "source": [
        "pip install bnlp_toolkit"
      ],
      "execution_count": 30,
      "outputs": [
        {
          "output_type": "stream",
          "name": "stdout",
          "text": [
            "Requirement already satisfied: bnlp_toolkit in /usr/local/lib/python3.7/dist-packages (3.1.2)\n",
            "Requirement already satisfied: scipy in /usr/local/lib/python3.7/dist-packages (from bnlp_toolkit) (1.4.1)\n",
            "Requirement already satisfied: wasabi in /usr/local/lib/python3.7/dist-packages (from bnlp_toolkit) (0.8.2)\n",
            "Requirement already satisfied: sklearn-crfsuite in /usr/local/lib/python3.7/dist-packages (from bnlp_toolkit) (0.3.6)\n",
            "Requirement already satisfied: numpy in /usr/local/lib/python3.7/dist-packages (from bnlp_toolkit) (1.19.5)\n",
            "Requirement already satisfied: nltk in /usr/local/lib/python3.7/dist-packages (from bnlp_toolkit) (3.2.5)\n",
            "Requirement already satisfied: gensim==4.0.1 in /usr/local/lib/python3.7/dist-packages (from bnlp_toolkit) (4.0.1)\n",
            "Requirement already satisfied: sentencepiece in /usr/local/lib/python3.7/dist-packages (from bnlp_toolkit) (0.1.96)\n",
            "Requirement already satisfied: smart-open>=1.8.1 in /usr/local/lib/python3.7/dist-packages (from gensim==4.0.1->bnlp_toolkit) (5.2.1)\n",
            "Requirement already satisfied: six in /usr/local/lib/python3.7/dist-packages (from nltk->bnlp_toolkit) (1.15.0)\n",
            "Requirement already satisfied: tqdm>=2.0 in /usr/local/lib/python3.7/dist-packages (from sklearn-crfsuite->bnlp_toolkit) (4.62.3)\n",
            "Requirement already satisfied: tabulate in /usr/local/lib/python3.7/dist-packages (from sklearn-crfsuite->bnlp_toolkit) (0.8.9)\n",
            "Requirement already satisfied: python-crfsuite>=0.8.3 in /usr/local/lib/python3.7/dist-packages (from sklearn-crfsuite->bnlp_toolkit) (0.9.7)\n"
          ]
        }
      ]
    },
    {
      "cell_type": "code",
      "metadata": {
        "colab": {
          "base_uri": "https://localhost:8080/",
          "height": 537
        },
        "id": "YXSZFasslWHm",
        "outputId": "403b0dfe-7551-4a4b-9d5f-902dc3b22406"
      },
      "source": [
        "from bnlp.corpus import stopwords\n",
        "from bnlp.corpus.util import remove_stopwords\n",
        "\n",
        "df['Removed Stopped word'] = df['Removed Puncutation'].apply(lambda x: remove_stopwords(x,stopwords))\n",
        "df "
      ],
      "execution_count": 31,
      "outputs": [
        {
          "output_type": "execute_result",
          "data": {
            "text/html": [
              "\n",
              "  <div id=\"df-d2d8ec86-961e-49f6-adbb-89956d398f50\">\n",
              "    <div class=\"colab-df-container\">\n",
              "      <div>\n",
              "<style scoped>\n",
              "    .dataframe tbody tr th:only-of-type {\n",
              "        vertical-align: middle;\n",
              "    }\n",
              "\n",
              "    .dataframe tbody tr th {\n",
              "        vertical-align: top;\n",
              "    }\n",
              "\n",
              "    .dataframe thead th {\n",
              "        text-align: right;\n",
              "    }\n",
              "</style>\n",
              "<table border=\"1\" class=\"dataframe\">\n",
              "  <thead>\n",
              "    <tr style=\"text-align: right;\">\n",
              "      <th></th>\n",
              "      <th>Speech</th>\n",
              "      <th>Label</th>\n",
              "      <th>Removed Puncutation</th>\n",
              "      <th>remove Eng</th>\n",
              "      <th>Removed Stopped word</th>\n",
              "    </tr>\n",
              "  </thead>\n",
              "  <tbody>\n",
              "    <tr>\n",
              "      <th>0</th>\n",
              "      <td>ব্যাস্ততম  জীবনের  একটু মনরম পরিবেশে  সময় কাটা...</td>\n",
              "      <td>1</td>\n",
              "      <td>ব্যাস্ততম  জীবনের  একটু মনরম পরিবেশে  সময় কাটা...</td>\n",
              "      <td>ব্যাস্ততম জীবনের একটু মনরম পরিবেশে সময় কাটানোর...</td>\n",
              "      <td>[ব্যাস্ততম, জীবনের, একটু, মনরম, পরিবেশে, সময়, ...</td>\n",
              "    </tr>\n",
              "    <tr>\n",
              "      <th>1</th>\n",
              "      <td>অসাধারণ পরিবেশ! খুব সুন্দর মার্জিত এবং আন্তরিক...</td>\n",
              "      <td>1</td>\n",
              "      <td>অসাধারণ পরিবেশ খুব সুন্দর মার্জিত এবং আন্তরিক ...</td>\n",
              "      <td>অসাধারণ পরিবেশ খুব সুন্দর মার্জিত এবং আন্তরিক ...</td>\n",
              "      <td>[অসাধারণ, পরিবেশ, সুন্দর, মার্জিত, আন্তরিক]</td>\n",
              "    </tr>\n",
              "    <tr>\n",
              "      <th>2</th>\n",
              "      <td>খাবারের মান যথেষ্ট খারাপ। দামের তুলনায় পরিমান ...</td>\n",
              "      <td>0</td>\n",
              "      <td>খাবারের মান যথেষ্ট খারাপ। দামের তুলনায় পরিমান ...</td>\n",
              "      <td>খাবারের মান যথেষ্ট খারাপ। দামের তুলনায় পরিমান ...</td>\n",
              "      <td>[খাবারের, মান, খারাপ, ।, দামের, তুলনায়, পরিমান...</td>\n",
              "    </tr>\n",
              "    <tr>\n",
              "      <th>3</th>\n",
              "      <td>ভালো বহুত খেয়েছি আমার বাসা থেকে একটু দূরে</td>\n",
              "      <td>1</td>\n",
              "      <td>ভালো বহুত খেয়েছি আমার বাসা থেকে একটু দূরে</td>\n",
              "      <td>ভালো বহুত খেয়েছি আমার বাসা থেকে একটু দূরে</td>\n",
              "      <td>[ভালো, বহুত, খেয়েছি, বাসা, একটু, দূরে]</td>\n",
              "    </tr>\n",
              "    <tr>\n",
              "      <th>4</th>\n",
              "      <td>আমি খাইসি খুবই মজার</td>\n",
              "      <td>1</td>\n",
              "      <td>আমি খাইসি খুবই মজার</td>\n",
              "      <td>আমি খাইসি খুবই মজার</td>\n",
              "      <td>[খাইসি, খুবই, মজার]</td>\n",
              "    </tr>\n",
              "    <tr>\n",
              "      <th>...</th>\n",
              "      <td>...</td>\n",
              "      <td>...</td>\n",
              "      <td>...</td>\n",
              "      <td>...</td>\n",
              "      <td>...</td>\n",
              "    </tr>\n",
              "    <tr>\n",
              "      <th>1098</th>\n",
              "      <td>রেসিপি তো সুন্দর হয়েছেই তোমার ডেকোরেশনটা অসাধ...</td>\n",
              "      <td>1</td>\n",
              "      <td>রেসিপি তো সুন্দর হয়েছেই তোমার ডেকোরেশনটা অসাধ...</td>\n",
              "      <td>রেসিপি তো সুন্দর হয়েছেই তোমার ডেকোরেশনটা অসাধ...</td>\n",
              "      <td>[রেসিপি, সুন্দর, হয়েছেই, ডেকোরেশনটা, অসাধারণ, ।]</td>\n",
              "    </tr>\n",
              "    <tr>\n",
              "      <th>1099</th>\n",
              "      <td>আমি বানিয়েছিলাম একটু ও পুড়ে নি খুব ভালো হয়েছিল</td>\n",
              "      <td>1</td>\n",
              "      <td>আমি বানিয়েছিলাম একটু ও পুড়ে নি খুব ভালো হয়েছিল</td>\n",
              "      <td>আমি বানিয়েছিলাম একটু ও পুড়ে নি খুব ভালো হয়েছিল</td>\n",
              "      <td>[বানিয়েছিলাম, একটু, পুড়ে, নি, ভালো]</td>\n",
              "    </tr>\n",
              "    <tr>\n",
              "      <th>1100</th>\n",
              "      <td>মজাদার পাস্তা</td>\n",
              "      <td>1</td>\n",
              "      <td>মজাদার পাস্তা</td>\n",
              "      <td>মজাদার পাস্তা</td>\n",
              "      <td>[মজাদার, পাস্তা]</td>\n",
              "    </tr>\n",
              "    <tr>\n",
              "      <th>1101</th>\n",
              "      <td>আমার বাচ্চারা খুব পছন্দ করে এই পাস্তা টা। খুব ...</td>\n",
              "      <td>1</td>\n",
              "      <td>আমার বাচ্চারা খুব পছন্দ করে এই পাস্তা টা। খুব ...</td>\n",
              "      <td>আমার বাচ্চারা খুব পছন্দ করে এই পাস্তা টা। খুব ...</td>\n",
              "      <td>[বাচ্চারা, পছন্দ, পাস্তা, টা, ।, ভাল, লাগে, ।,...</td>\n",
              "    </tr>\n",
              "    <tr>\n",
              "      <th>1102</th>\n",
              "      <td>পাস্তা আমার খুব পছন্দের একটি খাবার। চিজ দিয়ে খ...</td>\n",
              "      <td>1</td>\n",
              "      <td>পাস্তা আমার খুব পছন্দের একটি খাবার। চিজ দিয়ে খ...</td>\n",
              "      <td>পাস্তা আমার খুব পছন্দের একটি খাবার। চিজ দিয়ে খ...</td>\n",
              "      <td>[পাস্তা, পছন্দের, খাবার, ।, চিজ, দিয়ে, খেতে, দ...</td>\n",
              "    </tr>\n",
              "  </tbody>\n",
              "</table>\n",
              "<p>1103 rows × 5 columns</p>\n",
              "</div>\n",
              "      <button class=\"colab-df-convert\" onclick=\"convertToInteractive('df-d2d8ec86-961e-49f6-adbb-89956d398f50')\"\n",
              "              title=\"Convert this dataframe to an interactive table.\"\n",
              "              style=\"display:none;\">\n",
              "        \n",
              "  <svg xmlns=\"http://www.w3.org/2000/svg\" height=\"24px\"viewBox=\"0 0 24 24\"\n",
              "       width=\"24px\">\n",
              "    <path d=\"M0 0h24v24H0V0z\" fill=\"none\"/>\n",
              "    <path d=\"M18.56 5.44l.94 2.06.94-2.06 2.06-.94-2.06-.94-.94-2.06-.94 2.06-2.06.94zm-11 1L8.5 8.5l.94-2.06 2.06-.94-2.06-.94L8.5 2.5l-.94 2.06-2.06.94zm10 10l.94 2.06.94-2.06 2.06-.94-2.06-.94-.94-2.06-.94 2.06-2.06.94z\"/><path d=\"M17.41 7.96l-1.37-1.37c-.4-.4-.92-.59-1.43-.59-.52 0-1.04.2-1.43.59L10.3 9.45l-7.72 7.72c-.78.78-.78 2.05 0 2.83L4 21.41c.39.39.9.59 1.41.59.51 0 1.02-.2 1.41-.59l7.78-7.78 2.81-2.81c.8-.78.8-2.07 0-2.86zM5.41 20L4 18.59l7.72-7.72 1.47 1.35L5.41 20z\"/>\n",
              "  </svg>\n",
              "      </button>\n",
              "      \n",
              "  <style>\n",
              "    .colab-df-container {\n",
              "      display:flex;\n",
              "      flex-wrap:wrap;\n",
              "      gap: 12px;\n",
              "    }\n",
              "\n",
              "    .colab-df-convert {\n",
              "      background-color: #E8F0FE;\n",
              "      border: none;\n",
              "      border-radius: 50%;\n",
              "      cursor: pointer;\n",
              "      display: none;\n",
              "      fill: #1967D2;\n",
              "      height: 32px;\n",
              "      padding: 0 0 0 0;\n",
              "      width: 32px;\n",
              "    }\n",
              "\n",
              "    .colab-df-convert:hover {\n",
              "      background-color: #E2EBFA;\n",
              "      box-shadow: 0px 1px 2px rgba(60, 64, 67, 0.3), 0px 1px 3px 1px rgba(60, 64, 67, 0.15);\n",
              "      fill: #174EA6;\n",
              "    }\n",
              "\n",
              "    [theme=dark] .colab-df-convert {\n",
              "      background-color: #3B4455;\n",
              "      fill: #D2E3FC;\n",
              "    }\n",
              "\n",
              "    [theme=dark] .colab-df-convert:hover {\n",
              "      background-color: #434B5C;\n",
              "      box-shadow: 0px 1px 3px 1px rgba(0, 0, 0, 0.15);\n",
              "      filter: drop-shadow(0px 1px 2px rgba(0, 0, 0, 0.3));\n",
              "      fill: #FFFFFF;\n",
              "    }\n",
              "  </style>\n",
              "\n",
              "      <script>\n",
              "        const buttonEl =\n",
              "          document.querySelector('#df-d2d8ec86-961e-49f6-adbb-89956d398f50 button.colab-df-convert');\n",
              "        buttonEl.style.display =\n",
              "          google.colab.kernel.accessAllowed ? 'block' : 'none';\n",
              "\n",
              "        async function convertToInteractive(key) {\n",
              "          const element = document.querySelector('#df-d2d8ec86-961e-49f6-adbb-89956d398f50');\n",
              "          const dataTable =\n",
              "            await google.colab.kernel.invokeFunction('convertToInteractive',\n",
              "                                                     [key], {});\n",
              "          if (!dataTable) return;\n",
              "\n",
              "          const docLinkHtml = 'Like what you see? Visit the ' +\n",
              "            '<a target=\"_blank\" href=https://colab.research.google.com/notebooks/data_table.ipynb>data table notebook</a>'\n",
              "            + ' to learn more about interactive tables.';\n",
              "          element.innerHTML = '';\n",
              "          dataTable['output_type'] = 'display_data';\n",
              "          await google.colab.output.renderOutput(dataTable, element);\n",
              "          const docLink = document.createElement('div');\n",
              "          docLink.innerHTML = docLinkHtml;\n",
              "          element.appendChild(docLink);\n",
              "        }\n",
              "      </script>\n",
              "    </div>\n",
              "  </div>\n",
              "  "
            ],
            "text/plain": [
              "                                                Speech   ...                               Removed Stopped word\n",
              "0     ব্যাস্ততম  জীবনের  একটু মনরম পরিবেশে  সময় কাটা...  ...  [ব্যাস্ততম, জীবনের, একটু, মনরম, পরিবেশে, সময়, ...\n",
              "1     অসাধারণ পরিবেশ! খুব সুন্দর মার্জিত এবং আন্তরিক...  ...        [অসাধারণ, পরিবেশ, সুন্দর, মার্জিত, আন্তরিক]\n",
              "2     খাবারের মান যথেষ্ট খারাপ। দামের তুলনায় পরিমান ...  ...  [খাবারের, মান, খারাপ, ।, দামের, তুলনায়, পরিমান...\n",
              "3             ভালো বহুত খেয়েছি আমার বাসা থেকে একটু দূরে  ...             [ভালো, বহুত, খেয়েছি, বাসা, একটু, দূরে]\n",
              "4                                   আমি খাইসি খুবই মজার  ...                                [খাইসি, খুবই, মজার]\n",
              "...                                                 ...  ...                                                ...\n",
              "1098  রেসিপি তো সুন্দর হয়েছেই তোমার ডেকোরেশনটা অসাধ...  ...  [রেসিপি, সুন্দর, হয়েছেই, ডেকোরেশনটা, অসাধারণ, ।]\n",
              "1099  আমি বানিয়েছিলাম একটু ও পুড়ে নি খুব ভালো হয়েছিল  ...              [বানিয়েছিলাম, একটু, পুড়ে, নি, ভালো]\n",
              "1100                                      মজাদার পাস্তা  ...                                   [মজাদার, পাস্তা]\n",
              "1101  আমার বাচ্চারা খুব পছন্দ করে এই পাস্তা টা। খুব ...  ...  [বাচ্চারা, পছন্দ, পাস্তা, টা, ।, ভাল, লাগে, ।,...\n",
              "1102  পাস্তা আমার খুব পছন্দের একটি খাবার। চিজ দিয়ে খ...  ...  [পাস্তা, পছন্দের, খাবার, ।, চিজ, দিয়ে, খেতে, দ...\n",
              "\n",
              "[1103 rows x 5 columns]"
            ]
          },
          "metadata": {},
          "execution_count": 31
        }
      ]
    },
    {
      "cell_type": "markdown",
      "metadata": {
        "id": "i7WzCiqyKboW"
      },
      "source": [
        "**3. Stemming**"
      ]
    },
    {
      "cell_type": "code",
      "metadata": {
        "colab": {
          "base_uri": "https://localhost:8080/"
        },
        "id": "R8CSkYAd-Jia",
        "outputId": "ed9628d8-625f-417f-c600-f41b3f2c2f0d"
      },
      "source": [
        "pip install bangla-stemmer"
      ],
      "execution_count": 32,
      "outputs": [
        {
          "output_type": "stream",
          "name": "stdout",
          "text": [
            "Requirement already satisfied: bangla-stemmer in /usr/local/lib/python3.7/dist-packages (1.0)\n"
          ]
        }
      ]
    },
    {
      "cell_type": "code",
      "metadata": {
        "colab": {
          "base_uri": "https://localhost:8080/"
        },
        "id": "pK2buVn1IwRF",
        "outputId": "d341595d-0afe-43a4-8ebb-51e2f4b9c35f"
      },
      "source": [
        "from bangla_stemmer.stemmer import stemmer\n",
        "wordlist = ['কবিরগুলিকে', 'আমাকে', 'নামাবার']\n",
        "stmr = stemmer.BanglaStemmer()\n",
        "stm = stmr.stem(wordlist)\n",
        "print(stm)"
      ],
      "execution_count": 33,
      "outputs": [
        {
          "output_type": "stream",
          "name": "stdout",
          "text": [
            "applied first rules..\n",
            "applied third rules..\n",
            "applied first rules..\n",
            "applied fourth rules..\n",
            "['কবির', 'আমা', 'নামা']\n"
          ]
        }
      ]
    },
    {
      "cell_type": "code",
      "metadata": {
        "id": "0mdPZ8ff-aGw"
      },
      "source": [
        "from bangla_stemmer.stemmer import stemmer\n",
        "stmr = stemmer.BanglaStemmer()"
      ],
      "execution_count": 34,
      "outputs": []
    },
    {
      "cell_type": "code",
      "metadata": {
        "id": "bjTh8OYB-uPK"
      },
      "source": [
        "df['stemmed'] = df['Removed Stopped word'].apply(lambda x:stmr.stem(x))"
      ],
      "execution_count": null,
      "outputs": []
    },
    {
      "cell_type": "code",
      "metadata": {
        "colab": {
          "base_uri": "https://localhost:8080/",
          "height": 319
        },
        "id": "C8gQH0qDJShI",
        "outputId": "09493cdf-ebe0-4826-c40a-833ec8ab8432"
      },
      "source": [
        "df.head()"
      ],
      "execution_count": 36,
      "outputs": [
        {
          "output_type": "execute_result",
          "data": {
            "text/html": [
              "\n",
              "  <div id=\"df-b5a83fd0-edc2-4fac-aa1c-7bda21398f6b\">\n",
              "    <div class=\"colab-df-container\">\n",
              "      <div>\n",
              "<style scoped>\n",
              "    .dataframe tbody tr th:only-of-type {\n",
              "        vertical-align: middle;\n",
              "    }\n",
              "\n",
              "    .dataframe tbody tr th {\n",
              "        vertical-align: top;\n",
              "    }\n",
              "\n",
              "    .dataframe thead th {\n",
              "        text-align: right;\n",
              "    }\n",
              "</style>\n",
              "<table border=\"1\" class=\"dataframe\">\n",
              "  <thead>\n",
              "    <tr style=\"text-align: right;\">\n",
              "      <th></th>\n",
              "      <th>Speech</th>\n",
              "      <th>Label</th>\n",
              "      <th>Removed Puncutation</th>\n",
              "      <th>remove Eng</th>\n",
              "      <th>Removed Stopped word</th>\n",
              "      <th>stemmed</th>\n",
              "    </tr>\n",
              "  </thead>\n",
              "  <tbody>\n",
              "    <tr>\n",
              "      <th>0</th>\n",
              "      <td>ব্যাস্ততম  জীবনের  একটু মনরম পরিবেশে  সময় কাটা...</td>\n",
              "      <td>1</td>\n",
              "      <td>ব্যাস্ততম  জীবনের  একটু মনরম পরিবেশে  সময় কাটা...</td>\n",
              "      <td>ব্যাস্ততম জীবনের একটু মনরম পরিবেশে সময় কাটানোর...</td>\n",
              "      <td>[ব্যাস্ততম, জীবনের, একটু, মনরম, পরিবেশে, সময়, ...</td>\n",
              "      <td>[ব্যাস্ততম, জীবন, একটু, মনরম, পরিবেশ, সময়, কাট...</td>\n",
              "    </tr>\n",
              "    <tr>\n",
              "      <th>1</th>\n",
              "      <td>অসাধারণ পরিবেশ! খুব সুন্দর মার্জিত এবং আন্তরিক...</td>\n",
              "      <td>1</td>\n",
              "      <td>অসাধারণ পরিবেশ খুব সুন্দর মার্জিত এবং আন্তরিক ...</td>\n",
              "      <td>অসাধারণ পরিবেশ খুব সুন্দর মার্জিত এবং আন্তরিক ...</td>\n",
              "      <td>[অসাধারণ, পরিবেশ, সুন্দর, মার্জিত, আন্তরিক]</td>\n",
              "      <td>[অসাধারণ, পরিবেশ, সুন্দর, মার্জিত, আন্তরিক]</td>\n",
              "    </tr>\n",
              "    <tr>\n",
              "      <th>2</th>\n",
              "      <td>খাবারের মান যথেষ্ট খারাপ। দামের তুলনায় পরিমান ...</td>\n",
              "      <td>0</td>\n",
              "      <td>খাবারের মান যথেষ্ট খারাপ। দামের তুলনায় পরিমান ...</td>\n",
              "      <td>খাবারের মান যথেষ্ট খারাপ। দামের তুলনায় পরিমান ...</td>\n",
              "      <td>[খাবারের, মান, খারাপ, ।, দামের, তুলনায়, পরিমান...</td>\n",
              "      <td>[খাবারের, মান, খারাপ, ।, দাম, তুলনায়, পরিমান, ...</td>\n",
              "    </tr>\n",
              "    <tr>\n",
              "      <th>3</th>\n",
              "      <td>ভালো বহুত খেয়েছি আমার বাসা থেকে একটু দূরে</td>\n",
              "      <td>1</td>\n",
              "      <td>ভালো বহুত খেয়েছি আমার বাসা থেকে একটু দূরে</td>\n",
              "      <td>ভালো বহুত খেয়েছি আমার বাসা থেকে একটু দূরে</td>\n",
              "      <td>[ভালো, বহুত, খেয়েছি, বাসা, একটু, দূরে]</td>\n",
              "      <td>[ভালো, বহুত, খেয়েছি, বাসা, একটু, দূরে]</td>\n",
              "    </tr>\n",
              "    <tr>\n",
              "      <th>4</th>\n",
              "      <td>আমি খাইসি খুবই মজার</td>\n",
              "      <td>1</td>\n",
              "      <td>আমি খাইসি খুবই মজার</td>\n",
              "      <td>আমি খাইসি খুবই মজার</td>\n",
              "      <td>[খাইসি, খুবই, মজার]</td>\n",
              "      <td>[খাইসি, খুব, মজ]</td>\n",
              "    </tr>\n",
              "  </tbody>\n",
              "</table>\n",
              "</div>\n",
              "      <button class=\"colab-df-convert\" onclick=\"convertToInteractive('df-b5a83fd0-edc2-4fac-aa1c-7bda21398f6b')\"\n",
              "              title=\"Convert this dataframe to an interactive table.\"\n",
              "              style=\"display:none;\">\n",
              "        \n",
              "  <svg xmlns=\"http://www.w3.org/2000/svg\" height=\"24px\"viewBox=\"0 0 24 24\"\n",
              "       width=\"24px\">\n",
              "    <path d=\"M0 0h24v24H0V0z\" fill=\"none\"/>\n",
              "    <path d=\"M18.56 5.44l.94 2.06.94-2.06 2.06-.94-2.06-.94-.94-2.06-.94 2.06-2.06.94zm-11 1L8.5 8.5l.94-2.06 2.06-.94-2.06-.94L8.5 2.5l-.94 2.06-2.06.94zm10 10l.94 2.06.94-2.06 2.06-.94-2.06-.94-.94-2.06-.94 2.06-2.06.94z\"/><path d=\"M17.41 7.96l-1.37-1.37c-.4-.4-.92-.59-1.43-.59-.52 0-1.04.2-1.43.59L10.3 9.45l-7.72 7.72c-.78.78-.78 2.05 0 2.83L4 21.41c.39.39.9.59 1.41.59.51 0 1.02-.2 1.41-.59l7.78-7.78 2.81-2.81c.8-.78.8-2.07 0-2.86zM5.41 20L4 18.59l7.72-7.72 1.47 1.35L5.41 20z\"/>\n",
              "  </svg>\n",
              "      </button>\n",
              "      \n",
              "  <style>\n",
              "    .colab-df-container {\n",
              "      display:flex;\n",
              "      flex-wrap:wrap;\n",
              "      gap: 12px;\n",
              "    }\n",
              "\n",
              "    .colab-df-convert {\n",
              "      background-color: #E8F0FE;\n",
              "      border: none;\n",
              "      border-radius: 50%;\n",
              "      cursor: pointer;\n",
              "      display: none;\n",
              "      fill: #1967D2;\n",
              "      height: 32px;\n",
              "      padding: 0 0 0 0;\n",
              "      width: 32px;\n",
              "    }\n",
              "\n",
              "    .colab-df-convert:hover {\n",
              "      background-color: #E2EBFA;\n",
              "      box-shadow: 0px 1px 2px rgba(60, 64, 67, 0.3), 0px 1px 3px 1px rgba(60, 64, 67, 0.15);\n",
              "      fill: #174EA6;\n",
              "    }\n",
              "\n",
              "    [theme=dark] .colab-df-convert {\n",
              "      background-color: #3B4455;\n",
              "      fill: #D2E3FC;\n",
              "    }\n",
              "\n",
              "    [theme=dark] .colab-df-convert:hover {\n",
              "      background-color: #434B5C;\n",
              "      box-shadow: 0px 1px 3px 1px rgba(0, 0, 0, 0.15);\n",
              "      filter: drop-shadow(0px 1px 2px rgba(0, 0, 0, 0.3));\n",
              "      fill: #FFFFFF;\n",
              "    }\n",
              "  </style>\n",
              "\n",
              "      <script>\n",
              "        const buttonEl =\n",
              "          document.querySelector('#df-b5a83fd0-edc2-4fac-aa1c-7bda21398f6b button.colab-df-convert');\n",
              "        buttonEl.style.display =\n",
              "          google.colab.kernel.accessAllowed ? 'block' : 'none';\n",
              "\n",
              "        async function convertToInteractive(key) {\n",
              "          const element = document.querySelector('#df-b5a83fd0-edc2-4fac-aa1c-7bda21398f6b');\n",
              "          const dataTable =\n",
              "            await google.colab.kernel.invokeFunction('convertToInteractive',\n",
              "                                                     [key], {});\n",
              "          if (!dataTable) return;\n",
              "\n",
              "          const docLinkHtml = 'Like what you see? Visit the ' +\n",
              "            '<a target=\"_blank\" href=https://colab.research.google.com/notebooks/data_table.ipynb>data table notebook</a>'\n",
              "            + ' to learn more about interactive tables.';\n",
              "          element.innerHTML = '';\n",
              "          dataTable['output_type'] = 'display_data';\n",
              "          await google.colab.output.renderOutput(dataTable, element);\n",
              "          const docLink = document.createElement('div');\n",
              "          docLink.innerHTML = docLinkHtml;\n",
              "          element.appendChild(docLink);\n",
              "        }\n",
              "      </script>\n",
              "    </div>\n",
              "  </div>\n",
              "  "
            ],
            "text/plain": [
              "                                             Speech   ...                                            stemmed\n",
              "0  ব্যাস্ততম  জীবনের  একটু মনরম পরিবেশে  সময় কাটা...  ...  [ব্যাস্ততম, জীবন, একটু, মনরম, পরিবেশ, সময়, কাট...\n",
              "1  অসাধারণ পরিবেশ! খুব সুন্দর মার্জিত এবং আন্তরিক...  ...        [অসাধারণ, পরিবেশ, সুন্দর, মার্জিত, আন্তরিক]\n",
              "2  খাবারের মান যথেষ্ট খারাপ। দামের তুলনায় পরিমান ...  ...  [খাবারের, মান, খারাপ, ।, দাম, তুলনায়, পরিমান, ...\n",
              "3          ভালো বহুত খেয়েছি আমার বাসা থেকে একটু দূরে  ...             [ভালো, বহুত, খেয়েছি, বাসা, একটু, দূরে]\n",
              "4                                আমি খাইসি খুবই মজার  ...                                   [খাইসি, খুব, মজ]\n",
              "\n",
              "[5 rows x 6 columns]"
            ]
          },
          "metadata": {},
          "execution_count": 36
        }
      ]
    },
    {
      "cell_type": "markdown",
      "metadata": {
        "id": "cZ4NW6WJKti4"
      },
      "source": [
        "**4.Join**"
      ]
    },
    {
      "cell_type": "code",
      "metadata": {
        "colab": {
          "base_uri": "https://localhost:8080/",
          "height": 319
        },
        "id": "YfTHV3UhJ8If",
        "outputId": "f8747843-75fb-4bc9-fc00-53d44a1b4687"
      },
      "source": [
        "df['sentence']=df['stemmed'].apply(' '.join)\n",
        "df.head()"
      ],
      "execution_count": 37,
      "outputs": [
        {
          "output_type": "execute_result",
          "data": {
            "text/html": [
              "\n",
              "  <div id=\"df-97215550-76f4-4b82-9244-16af3e384dce\">\n",
              "    <div class=\"colab-df-container\">\n",
              "      <div>\n",
              "<style scoped>\n",
              "    .dataframe tbody tr th:only-of-type {\n",
              "        vertical-align: middle;\n",
              "    }\n",
              "\n",
              "    .dataframe tbody tr th {\n",
              "        vertical-align: top;\n",
              "    }\n",
              "\n",
              "    .dataframe thead th {\n",
              "        text-align: right;\n",
              "    }\n",
              "</style>\n",
              "<table border=\"1\" class=\"dataframe\">\n",
              "  <thead>\n",
              "    <tr style=\"text-align: right;\">\n",
              "      <th></th>\n",
              "      <th>Speech</th>\n",
              "      <th>Label</th>\n",
              "      <th>Removed Puncutation</th>\n",
              "      <th>remove Eng</th>\n",
              "      <th>Removed Stopped word</th>\n",
              "      <th>stemmed</th>\n",
              "      <th>sentence</th>\n",
              "    </tr>\n",
              "  </thead>\n",
              "  <tbody>\n",
              "    <tr>\n",
              "      <th>0</th>\n",
              "      <td>ব্যাস্ততম  জীবনের  একটু মনরম পরিবেশে  সময় কাটা...</td>\n",
              "      <td>1</td>\n",
              "      <td>ব্যাস্ততম  জীবনের  একটু মনরম পরিবেশে  সময় কাটা...</td>\n",
              "      <td>ব্যাস্ততম জীবনের একটু মনরম পরিবেশে সময় কাটানোর...</td>\n",
              "      <td>[ব্যাস্ততম, জীবনের, একটু, মনরম, পরিবেশে, সময়, ...</td>\n",
              "      <td>[ব্যাস্ততম, জীবন, একটু, মনরম, পরিবেশ, সময়, কাট...</td>\n",
              "      <td>ব্যাস্ততম জীবন একটু মনরম পরিবেশ সময় কাটানোর ঘু...</td>\n",
              "    </tr>\n",
              "    <tr>\n",
              "      <th>1</th>\n",
              "      <td>অসাধারণ পরিবেশ! খুব সুন্দর মার্জিত এবং আন্তরিক...</td>\n",
              "      <td>1</td>\n",
              "      <td>অসাধারণ পরিবেশ খুব সুন্দর মার্জিত এবং আন্তরিক ...</td>\n",
              "      <td>অসাধারণ পরিবেশ খুব সুন্দর মার্জিত এবং আন্তরিক ...</td>\n",
              "      <td>[অসাধারণ, পরিবেশ, সুন্দর, মার্জিত, আন্তরিক]</td>\n",
              "      <td>[অসাধারণ, পরিবেশ, সুন্দর, মার্জিত, আন্তরিক]</td>\n",
              "      <td>অসাধারণ পরিবেশ সুন্দর মার্জিত আন্তরিক</td>\n",
              "    </tr>\n",
              "    <tr>\n",
              "      <th>2</th>\n",
              "      <td>খাবারের মান যথেষ্ট খারাপ। দামের তুলনায় পরিমান ...</td>\n",
              "      <td>0</td>\n",
              "      <td>খাবারের মান যথেষ্ট খারাপ। দামের তুলনায় পরিমান ...</td>\n",
              "      <td>খাবারের মান যথেষ্ট খারাপ। দামের তুলনায় পরিমান ...</td>\n",
              "      <td>[খাবারের, মান, খারাপ, ।, দামের, তুলনায়, পরিমান...</td>\n",
              "      <td>[খাবারের, মান, খারাপ, ।, দাম, তুলনায়, পরিমান, ...</td>\n",
              "      <td>খাবারের মান খারাপ । দাম তুলনায় পরিমান কম । ইফত...</td>\n",
              "    </tr>\n",
              "    <tr>\n",
              "      <th>3</th>\n",
              "      <td>ভালো বহুত খেয়েছি আমার বাসা থেকে একটু দূরে</td>\n",
              "      <td>1</td>\n",
              "      <td>ভালো বহুত খেয়েছি আমার বাসা থেকে একটু দূরে</td>\n",
              "      <td>ভালো বহুত খেয়েছি আমার বাসা থেকে একটু দূরে</td>\n",
              "      <td>[ভালো, বহুত, খেয়েছি, বাসা, একটু, দূরে]</td>\n",
              "      <td>[ভালো, বহুত, খেয়েছি, বাসা, একটু, দূরে]</td>\n",
              "      <td>ভালো বহুত খেয়েছি বাসা একটু দূরে</td>\n",
              "    </tr>\n",
              "    <tr>\n",
              "      <th>4</th>\n",
              "      <td>আমি খাইসি খুবই মজার</td>\n",
              "      <td>1</td>\n",
              "      <td>আমি খাইসি খুবই মজার</td>\n",
              "      <td>আমি খাইসি খুবই মজার</td>\n",
              "      <td>[খাইসি, খুবই, মজার]</td>\n",
              "      <td>[খাইসি, খুব, মজ]</td>\n",
              "      <td>খাইসি খুব মজ</td>\n",
              "    </tr>\n",
              "  </tbody>\n",
              "</table>\n",
              "</div>\n",
              "      <button class=\"colab-df-convert\" onclick=\"convertToInteractive('df-97215550-76f4-4b82-9244-16af3e384dce')\"\n",
              "              title=\"Convert this dataframe to an interactive table.\"\n",
              "              style=\"display:none;\">\n",
              "        \n",
              "  <svg xmlns=\"http://www.w3.org/2000/svg\" height=\"24px\"viewBox=\"0 0 24 24\"\n",
              "       width=\"24px\">\n",
              "    <path d=\"M0 0h24v24H0V0z\" fill=\"none\"/>\n",
              "    <path d=\"M18.56 5.44l.94 2.06.94-2.06 2.06-.94-2.06-.94-.94-2.06-.94 2.06-2.06.94zm-11 1L8.5 8.5l.94-2.06 2.06-.94-2.06-.94L8.5 2.5l-.94 2.06-2.06.94zm10 10l.94 2.06.94-2.06 2.06-.94-2.06-.94-.94-2.06-.94 2.06-2.06.94z\"/><path d=\"M17.41 7.96l-1.37-1.37c-.4-.4-.92-.59-1.43-.59-.52 0-1.04.2-1.43.59L10.3 9.45l-7.72 7.72c-.78.78-.78 2.05 0 2.83L4 21.41c.39.39.9.59 1.41.59.51 0 1.02-.2 1.41-.59l7.78-7.78 2.81-2.81c.8-.78.8-2.07 0-2.86zM5.41 20L4 18.59l7.72-7.72 1.47 1.35L5.41 20z\"/>\n",
              "  </svg>\n",
              "      </button>\n",
              "      \n",
              "  <style>\n",
              "    .colab-df-container {\n",
              "      display:flex;\n",
              "      flex-wrap:wrap;\n",
              "      gap: 12px;\n",
              "    }\n",
              "\n",
              "    .colab-df-convert {\n",
              "      background-color: #E8F0FE;\n",
              "      border: none;\n",
              "      border-radius: 50%;\n",
              "      cursor: pointer;\n",
              "      display: none;\n",
              "      fill: #1967D2;\n",
              "      height: 32px;\n",
              "      padding: 0 0 0 0;\n",
              "      width: 32px;\n",
              "    }\n",
              "\n",
              "    .colab-df-convert:hover {\n",
              "      background-color: #E2EBFA;\n",
              "      box-shadow: 0px 1px 2px rgba(60, 64, 67, 0.3), 0px 1px 3px 1px rgba(60, 64, 67, 0.15);\n",
              "      fill: #174EA6;\n",
              "    }\n",
              "\n",
              "    [theme=dark] .colab-df-convert {\n",
              "      background-color: #3B4455;\n",
              "      fill: #D2E3FC;\n",
              "    }\n",
              "\n",
              "    [theme=dark] .colab-df-convert:hover {\n",
              "      background-color: #434B5C;\n",
              "      box-shadow: 0px 1px 3px 1px rgba(0, 0, 0, 0.15);\n",
              "      filter: drop-shadow(0px 1px 2px rgba(0, 0, 0, 0.3));\n",
              "      fill: #FFFFFF;\n",
              "    }\n",
              "  </style>\n",
              "\n",
              "      <script>\n",
              "        const buttonEl =\n",
              "          document.querySelector('#df-97215550-76f4-4b82-9244-16af3e384dce button.colab-df-convert');\n",
              "        buttonEl.style.display =\n",
              "          google.colab.kernel.accessAllowed ? 'block' : 'none';\n",
              "\n",
              "        async function convertToInteractive(key) {\n",
              "          const element = document.querySelector('#df-97215550-76f4-4b82-9244-16af3e384dce');\n",
              "          const dataTable =\n",
              "            await google.colab.kernel.invokeFunction('convertToInteractive',\n",
              "                                                     [key], {});\n",
              "          if (!dataTable) return;\n",
              "\n",
              "          const docLinkHtml = 'Like what you see? Visit the ' +\n",
              "            '<a target=\"_blank\" href=https://colab.research.google.com/notebooks/data_table.ipynb>data table notebook</a>'\n",
              "            + ' to learn more about interactive tables.';\n",
              "          element.innerHTML = '';\n",
              "          dataTable['output_type'] = 'display_data';\n",
              "          await google.colab.output.renderOutput(dataTable, element);\n",
              "          const docLink = document.createElement('div');\n",
              "          docLink.innerHTML = docLinkHtml;\n",
              "          element.appendChild(docLink);\n",
              "        }\n",
              "      </script>\n",
              "    </div>\n",
              "  </div>\n",
              "  "
            ],
            "text/plain": [
              "                                             Speech   ...                                           sentence\n",
              "0  ব্যাস্ততম  জীবনের  একটু মনরম পরিবেশে  সময় কাটা...  ...  ব্যাস্ততম জীবন একটু মনরম পরিবেশ সময় কাটানোর ঘু...\n",
              "1  অসাধারণ পরিবেশ! খুব সুন্দর মার্জিত এবং আন্তরিক...  ...              অসাধারণ পরিবেশ সুন্দর মার্জিত আন্তরিক\n",
              "2  খাবারের মান যথেষ্ট খারাপ। দামের তুলনায় পরিমান ...  ...  খাবারের মান খারাপ । দাম তুলনায় পরিমান কম । ইফত...\n",
              "3          ভালো বহুত খেয়েছি আমার বাসা থেকে একটু দূরে  ...                    ভালো বহুত খেয়েছি বাসা একটু দূরে\n",
              "4                                আমি খাইসি খুবই মজার  ...                                       খাইসি খুব মজ\n",
              "\n",
              "[5 rows x 7 columns]"
            ]
          },
          "metadata": {},
          "execution_count": 37
        }
      ]
    },
    {
      "cell_type": "markdown",
      "source": [
        "# **(Count Vectors,Count Vectors + TF-IDF, N-Gram Vectors)**"
      ],
      "metadata": {
        "id": "GvyqaQToxOPI"
      }
    },
    {
      "cell_type": "code",
      "source": [
        "import pandas as pd\n",
        "import numpy as np\n",
        "import tensorflow as tf\n",
        "from sklearn.feature_extraction.text import TfidfVectorizer\n",
        "from sklearn.feature_extraction.text import CountVectorizer\n",
        "from sklearn.feature_extraction.text import TfidfTransformer\n",
        "from sklearn.naive_bayes import MultinomialNB\n",
        "from sklearn.metrics import accuracy_score\n",
        "from sklearn.svm import LinearSVC\n",
        "from sklearn.svm import SVC\n",
        "from sklearn.ensemble import RandomForestClassifier\n",
        "from sklearn.model_selection import train_test_split\n",
        "from keras.models import Model\n",
        "from sklearn.metrics import classification_report\n",
        "from keras import layers, models, optimizers\n",
        "import sklearn.metrics as metrics"
      ],
      "metadata": {
        "id": "qxxFxbMd0V85"
      },
      "execution_count": 38,
      "outputs": []
    },
    {
      "cell_type": "code",
      "source": [
        "\n",
        "# split the dataset into training and testing datasets \n",
        "\n",
        "X=df['sentence']\n",
        "y=df['Label']\n",
        "x_train, x_test, y_train, y_test = train_test_split(X, y, test_size=0.2, random_state=42, stratify=y)\n",
        "#x_train, x_test, y_train, y_test = train_test_split(df['sentence'], df['Label'], test_size=0.3, random_state=42)\n",
        "\n",
        "\n",
        "# create a count vectorizer object \n",
        "cv = CountVectorizer(stop_words = stopwords)\n",
        "cv.fit(df['sentence'])\n",
        "\n",
        "# transform the training and testing data using count vectorizer object\n",
        "x_train_count =  cv.transform(x_train)\n",
        "x_test_count =  cv.transform(x_test)\n",
        "xtrain_count = x_train_count.toarray()\n",
        "xtest_count=x_test_count.toarray()\n",
        "\n",
        "tfidf_tr = TfidfTransformer()\n",
        "x_train_count_tfidf = tfidf_tr.fit_transform(x_train_count)\n",
        "x_test_count_tfidf = tfidf_tr.transform(x_test_count)\n",
        "xtrain_count_tfidf = x_train_count_tfidf.toarray()\n",
        "xtest_count_tfidf=x_test_count_tfidf.toarray()\n",
        "\n",
        "# ngram level tf-idf \n",
        "tv_ngram = TfidfVectorizer(ngram_range=(1,2))\n",
        "tv_ngram.fit(df['sentence'])\n",
        "x_train_tfidf_ngram =  tv_ngram.transform(x_train)\n",
        "x_test_tfidf_ngram =  tv_ngram.transform(x_test)\n",
        "xtrain_tfidf_ngram = x_train_tfidf_ngram.toarray()\n",
        "xtest_tfidf_ngram=x_test_tfidf_ngram.toarray()"
      ],
      "metadata": {
        "id": "JHKLA2mPxK6T"
      },
      "execution_count": 39,
      "outputs": []
    },
    {
      "cell_type": "code",
      "source": [
        "def classifierModel(classifier, Xtrain, Ytrain, Xtest):\n",
        "    classifier.fit(Xtrain, Ytrain)\n",
        "    predictions = classifier.predict(Xtest)\n",
        "    print(\"\\nAccuracy : \", accuracy_score(predictions, y_test))\n",
        "    \n",
        "    target_names = ['class 0', 'class 1']\n",
        "    print(classification_report(y_test, predictions, target_names=target_names))"
      ],
      "metadata": {
        "id": "ZRBfi7W-zKHu"
      },
      "execution_count": 40,
      "outputs": []
    },
    {
      "cell_type": "markdown",
      "source": [
        "**Random Forrest Classifier**"
      ],
      "metadata": {
        "id": "9OucG7NIC008"
      }
    },
    {
      "cell_type": "code",
      "source": [
        "print(\"\\nRandom Forrest Classifier with Count Vectors: \")\n",
        "classifierModel(RandomForestClassifier(random_state=40,n_estimators=1024), x_train_count, y_train, x_test_count)\n",
        "\n",
        "print(\"\\nRandom Forrest Classifier with Count Vectors + TF-IDF: \")\n",
        "classifierModel(RandomForestClassifier(random_state=40,n_estimators=1024), x_train_count_tfidf, y_train, x_test_count_tfidf)\n",
        "\n",
        "print(\"\\nRandom Forrest Classifier with N-Gram Vectors: \")\n",
        "classifierModel(RandomForestClassifier(random_state=40,n_estimators=1024), x_train_tfidf_ngram, y_train, x_test_tfidf_ngram)"
      ],
      "metadata": {
        "colab": {
          "base_uri": "https://localhost:8080/"
        },
        "id": "5QUh1-G0AC54",
        "outputId": "ad50ac3f-d62c-4a2c-d483-ef480e1d626c"
      },
      "execution_count": 41,
      "outputs": [
        {
          "output_type": "stream",
          "name": "stdout",
          "text": [
            "\n",
            "Random Forrest Classifier with Count Vectors: \n",
            "\n",
            "Accuracy :  0.6923076923076923\n",
            "              precision    recall  f1-score   support\n",
            "\n",
            "     class 0       0.70      0.60      0.65       104\n",
            "     class 1       0.68      0.78      0.73       117\n",
            "\n",
            "    accuracy                           0.69       221\n",
            "   macro avg       0.69      0.69      0.69       221\n",
            "weighted avg       0.69      0.69      0.69       221\n",
            "\n",
            "\n",
            "Random Forrest Classifier with Count Vectors + TF-IDF: \n",
            "\n",
            "Accuracy :  0.6923076923076923\n",
            "              precision    recall  f1-score   support\n",
            "\n",
            "     class 0       0.71      0.59      0.64       104\n",
            "     class 1       0.68      0.79      0.73       117\n",
            "\n",
            "    accuracy                           0.69       221\n",
            "   macro avg       0.70      0.69      0.69       221\n",
            "weighted avg       0.69      0.69      0.69       221\n",
            "\n",
            "\n",
            "Random Forrest Classifier with N-Gram Vectors: \n",
            "\n",
            "Accuracy :  0.7058823529411765\n",
            "              precision    recall  f1-score   support\n",
            "\n",
            "     class 0       0.76      0.55      0.64       104\n",
            "     class 1       0.68      0.85      0.75       117\n",
            "\n",
            "    accuracy                           0.71       221\n",
            "   macro avg       0.72      0.70      0.69       221\n",
            "weighted avg       0.72      0.71      0.70       221\n",
            "\n"
          ]
        }
      ]
    },
    {
      "cell_type": "markdown",
      "source": [
        "**LinearSVM**"
      ],
      "metadata": {
        "id": "7NZowxGDDBVd"
      }
    },
    {
      "cell_type": "code",
      "source": [
        "print(\"\\nLinearSVM with Count Vectors: \")\n",
        "classifierModel(SVC(kernel='linear'), x_train_count, y_train, x_test_count)\n",
        "\n",
        "print(\"\\nLinearSVM with Count Vectors + TF-IDF: \")\n",
        "classifierModel(SVC(kernel='linear'), x_train_count_tfidf, y_train, x_test_count_tfidf)\n",
        "\n",
        "print(\"\\nLinearSVM with N-Gram Vectors: \")\n",
        "classifierModel(SVC(kernel='linear'), x_train_tfidf_ngram, y_train, x_test_tfidf_ngram)"
      ],
      "metadata": {
        "colab": {
          "base_uri": "https://localhost:8080/"
        },
        "id": "P-rvWInxAxa3",
        "outputId": "dc6b9196-e20e-4148-a6c6-fc1022029728"
      },
      "execution_count": 42,
      "outputs": [
        {
          "output_type": "stream",
          "name": "stdout",
          "text": [
            "\n",
            "LinearSVM with Count Vectors: \n",
            "\n",
            "Accuracy :  0.6787330316742082\n",
            "              precision    recall  f1-score   support\n",
            "\n",
            "     class 0       0.74      0.49      0.59       104\n",
            "     class 1       0.65      0.85      0.74       117\n",
            "\n",
            "    accuracy                           0.68       221\n",
            "   macro avg       0.70      0.67      0.66       221\n",
            "weighted avg       0.69      0.68      0.67       221\n",
            "\n",
            "\n",
            "LinearSVM with Count Vectors + TF-IDF: \n",
            "\n",
            "Accuracy :  0.7149321266968326\n",
            "              precision    recall  f1-score   support\n",
            "\n",
            "     class 0       0.72      0.65      0.68       104\n",
            "     class 1       0.71      0.77      0.74       117\n",
            "\n",
            "    accuracy                           0.71       221\n",
            "   macro avg       0.72      0.71      0.71       221\n",
            "weighted avg       0.71      0.71      0.71       221\n",
            "\n",
            "\n",
            "LinearSVM with N-Gram Vectors: \n",
            "\n",
            "Accuracy :  0.7375565610859729\n",
            "              precision    recall  f1-score   support\n",
            "\n",
            "     class 0       0.74      0.68      0.71       104\n",
            "     class 1       0.74      0.79      0.76       117\n",
            "\n",
            "    accuracy                           0.74       221\n",
            "   macro avg       0.74      0.73      0.74       221\n",
            "weighted avg       0.74      0.74      0.74       221\n",
            "\n"
          ]
        }
      ]
    },
    {
      "cell_type": "markdown",
      "source": [
        "**Naive Bayes**"
      ],
      "metadata": {
        "id": "nuYS2n19Dw_9"
      }
    },
    {
      "cell_type": "code",
      "source": [
        "print(\"\\nNaive Bayes with Count Vectors: \")\n",
        "classifierModel(MultinomialNB(), x_train_count, y_train, x_test_count)\n",
        "\n",
        "print(\"\\nNaive Bayes with Count Vectors + TF-IDF: \")\n",
        "classifierModel(MultinomialNB(), x_train_count_tfidf, y_train, x_test_count_tfidf)\n",
        "\n",
        "print(\"\\nNaive Bayes with N-Gram Vectors: \")\n",
        "classifierModel(MultinomialNB(), x_train_tfidf_ngram, y_train, x_test_tfidf_ngram)"
      ],
      "metadata": {
        "colab": {
          "base_uri": "https://localhost:8080/"
        },
        "id": "TJIZD_3-DNU_",
        "outputId": "3fe3ac1a-a957-4c83-e555-19465944d971"
      },
      "execution_count": 43,
      "outputs": [
        {
          "output_type": "stream",
          "name": "stdout",
          "text": [
            "\n",
            "Naive Bayes with Count Vectors: \n",
            "\n",
            "Accuracy :  0.7194570135746606\n",
            "              precision    recall  f1-score   support\n",
            "\n",
            "     class 0       0.74      0.62      0.67       104\n",
            "     class 1       0.70      0.81      0.75       117\n",
            "\n",
            "    accuracy                           0.72       221\n",
            "   macro avg       0.72      0.71      0.71       221\n",
            "weighted avg       0.72      0.72      0.72       221\n",
            "\n",
            "\n",
            "Naive Bayes with Count Vectors + TF-IDF: \n",
            "\n",
            "Accuracy :  0.7013574660633484\n",
            "              precision    recall  f1-score   support\n",
            "\n",
            "     class 0       0.71      0.62      0.66       104\n",
            "     class 1       0.69      0.78      0.73       117\n",
            "\n",
            "    accuracy                           0.70       221\n",
            "   macro avg       0.70      0.70      0.70       221\n",
            "weighted avg       0.70      0.70      0.70       221\n",
            "\n",
            "\n",
            "Naive Bayes with N-Gram Vectors: \n",
            "\n",
            "Accuracy :  0.7285067873303167\n",
            "              precision    recall  f1-score   support\n",
            "\n",
            "     class 0       0.74      0.65      0.69       104\n",
            "     class 1       0.72      0.79      0.76       117\n",
            "\n",
            "    accuracy                           0.73       221\n",
            "   macro avg       0.73      0.72      0.72       221\n",
            "weighted avg       0.73      0.73      0.73       221\n",
            "\n"
          ]
        }
      ]
    },
    {
      "cell_type": "markdown",
      "source": [
        "**DecisionTreeClassifier**"
      ],
      "metadata": {
        "id": "0dgTnwCDHqlm"
      }
    },
    {
      "cell_type": "code",
      "source": [
        "from sklearn.tree import DecisionTreeClassifier\n",
        "print(\"\\nDecisionTreeClassifier with Count Vectors: \")\n",
        "classifierModel(DecisionTreeClassifier(), x_train_count, y_train, x_test_count)\n",
        "\n",
        "print(\"\\nDecisionTreeClassifier with Count Vectors + TF-IDF: \")\n",
        "classifierModel(DecisionTreeClassifier(), x_train_count_tfidf, y_train, x_test_count_tfidf)\n",
        "\n",
        "print(\"\\nDecisionTreeClassifier with N-Gram Vectors: \")\n",
        "classifierModel(DecisionTreeClassifier(), x_train_tfidf_ngram, y_train, x_test_tfidf_ngram)"
      ],
      "metadata": {
        "colab": {
          "base_uri": "https://localhost:8080/"
        },
        "id": "55L2wjuZEGfV",
        "outputId": "26ce3162-d803-42ed-bb1b-fdd8516af343"
      },
      "execution_count": 44,
      "outputs": [
        {
          "output_type": "stream",
          "name": "stdout",
          "text": [
            "\n",
            "DecisionTreeClassifier with Count Vectors: \n",
            "\n",
            "Accuracy :  0.6742081447963801\n",
            "              precision    recall  f1-score   support\n",
            "\n",
            "     class 0       0.68      0.59      0.63       104\n",
            "     class 1       0.67      0.75      0.71       117\n",
            "\n",
            "    accuracy                           0.67       221\n",
            "   macro avg       0.67      0.67      0.67       221\n",
            "weighted avg       0.67      0.67      0.67       221\n",
            "\n",
            "\n",
            "DecisionTreeClassifier with Count Vectors + TF-IDF: \n",
            "\n",
            "Accuracy :  0.6832579185520362\n",
            "              precision    recall  f1-score   support\n",
            "\n",
            "     class 0       0.69      0.59      0.64       104\n",
            "     class 1       0.68      0.77      0.72       117\n",
            "\n",
            "    accuracy                           0.68       221\n",
            "   macro avg       0.68      0.68      0.68       221\n",
            "weighted avg       0.68      0.68      0.68       221\n",
            "\n",
            "\n",
            "DecisionTreeClassifier with N-Gram Vectors: \n",
            "\n",
            "Accuracy :  0.7149321266968326\n",
            "              precision    recall  f1-score   support\n",
            "\n",
            "     class 0       0.73      0.62      0.67       104\n",
            "     class 1       0.70      0.79      0.75       117\n",
            "\n",
            "    accuracy                           0.71       221\n",
            "   macro avg       0.72      0.71      0.71       221\n",
            "weighted avg       0.72      0.71      0.71       221\n",
            "\n"
          ]
        }
      ]
    },
    {
      "cell_type": "markdown",
      "source": [
        "**Logestic Regression**"
      ],
      "metadata": {
        "id": "32ha2M1LHvtH"
      }
    },
    {
      "cell_type": "code",
      "source": [
        "from sklearn.linear_model import LogisticRegression\n",
        "print(\"\\nLogisticRegression with Count Vectors: \")\n",
        "classifierModel(LogisticRegression(), x_train_count, y_train, x_test_count)\n",
        "\n",
        "print(\"\\nLogisticRegression with Count Vectors + TF-IDF: \")\n",
        "classifierModel(LogisticRegression(), x_train_count_tfidf, y_train, x_test_count_tfidf)\n",
        "\n",
        "print(\"\\nLogisticRegression with N-Gram Vectors: \")\n",
        "classifierModel(LogisticRegression(), x_train_tfidf_ngram, y_train, x_test_tfidf_ngram)"
      ],
      "metadata": {
        "colab": {
          "base_uri": "https://localhost:8080/"
        },
        "id": "R8vBdvpVH31f",
        "outputId": "bfc71cca-8883-4513-901c-31085b4a249a"
      },
      "execution_count": 45,
      "outputs": [
        {
          "output_type": "stream",
          "name": "stdout",
          "text": [
            "\n",
            "LogisticRegression with Count Vectors: \n",
            "\n",
            "Accuracy :  0.7149321266968326\n",
            "              precision    recall  f1-score   support\n",
            "\n",
            "     class 0       0.75      0.60      0.66       104\n",
            "     class 1       0.70      0.82      0.75       117\n",
            "\n",
            "    accuracy                           0.71       221\n",
            "   macro avg       0.72      0.71      0.71       221\n",
            "weighted avg       0.72      0.71      0.71       221\n",
            "\n",
            "\n",
            "LogisticRegression with Count Vectors + TF-IDF: \n",
            "\n",
            "Accuracy :  0.7285067873303167\n",
            "              precision    recall  f1-score   support\n",
            "\n",
            "     class 0       0.74      0.64      0.69       104\n",
            "     class 1       0.72      0.80      0.76       117\n",
            "\n",
            "    accuracy                           0.73       221\n",
            "   macro avg       0.73      0.72      0.72       221\n",
            "weighted avg       0.73      0.73      0.73       221\n",
            "\n",
            "\n",
            "LogisticRegression with N-Gram Vectors: \n",
            "\n",
            "Accuracy :  0.7330316742081447\n",
            "              precision    recall  f1-score   support\n",
            "\n",
            "     class 0       0.76      0.63      0.69       104\n",
            "     class 1       0.72      0.82      0.76       117\n",
            "\n",
            "    accuracy                           0.73       221\n",
            "   macro avg       0.74      0.73      0.73       221\n",
            "weighted avg       0.74      0.73      0.73       221\n",
            "\n"
          ]
        }
      ]
    },
    {
      "cell_type": "markdown",
      "source": [
        "**Multinomial Naive Bayes**"
      ],
      "metadata": {
        "id": "qNhLNZelI4ap"
      }
    },
    {
      "cell_type": "code",
      "source": [
        "\n",
        "print(\"\\MultinomialNB with Count Vectors: \")\n",
        "classifierModel(MultinomialNB(), x_train_count, y_train, x_test_count)\n",
        "\n",
        "print(\"\\MultinomialNB with Count Vectors + TF-IDF: \")\n",
        "classifierModel(MultinomialNB(), x_train_count_tfidf, y_train, x_test_count_tfidf)\n",
        "\n",
        "print(\"\\MultinomialNB with N-Gram Vectors: \")\n",
        "classifierModel(MultinomialNB(), x_train_tfidf_ngram, y_train, x_test_tfidf_ngram)"
      ],
      "metadata": {
        "colab": {
          "base_uri": "https://localhost:8080/"
        },
        "id": "4ivdbivNI-ZY",
        "outputId": "80af2380-6970-43fd-8a34-d5cc6372ec48"
      },
      "execution_count": 46,
      "outputs": [
        {
          "output_type": "stream",
          "name": "stdout",
          "text": [
            "\\MultinomialNB with Count Vectors: \n",
            "\n",
            "Accuracy :  0.7194570135746606\n",
            "              precision    recall  f1-score   support\n",
            "\n",
            "     class 0       0.74      0.62      0.67       104\n",
            "     class 1       0.70      0.81      0.75       117\n",
            "\n",
            "    accuracy                           0.72       221\n",
            "   macro avg       0.72      0.71      0.71       221\n",
            "weighted avg       0.72      0.72      0.72       221\n",
            "\n",
            "\\MultinomialNB with Count Vectors + TF-IDF: \n",
            "\n",
            "Accuracy :  0.7013574660633484\n",
            "              precision    recall  f1-score   support\n",
            "\n",
            "     class 0       0.71      0.62      0.66       104\n",
            "     class 1       0.69      0.78      0.73       117\n",
            "\n",
            "    accuracy                           0.70       221\n",
            "   macro avg       0.70      0.70      0.70       221\n",
            "weighted avg       0.70      0.70      0.70       221\n",
            "\n",
            "\\MultinomialNB with N-Gram Vectors: \n",
            "\n",
            "Accuracy :  0.7285067873303167\n",
            "              precision    recall  f1-score   support\n",
            "\n",
            "     class 0       0.74      0.65      0.69       104\n",
            "     class 1       0.72      0.79      0.76       117\n",
            "\n",
            "    accuracy                           0.73       221\n",
            "   macro avg       0.73      0.72      0.72       221\n",
            "weighted avg       0.73      0.73      0.73       221\n",
            "\n"
          ]
        }
      ]
    }
  ]
}